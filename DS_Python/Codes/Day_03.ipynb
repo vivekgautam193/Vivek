{
 "cells": [
  {
   "cell_type": "markdown",
   "metadata": {},
   "source": [
    "# List & List Methods"
   ]
  },
  {
   "cell_type": "code",
   "execution_count": 1,
   "metadata": {},
   "outputs": [],
   "source": [
    "empty_list = list() # []\n",
    "basket_list = ['apple', 'milk','bread', 'eggs', 'curd', 'coconut', 'meat', 'milk', 'guava', 'banana','peach','oranges', 'apple', 'bread' ]\n",
    "alist = [1,'a',2,'b',3,'c', 4,'d',5, 'e', 6, 'e']"
   ]
  },
  {
   "cell_type": "code",
   "execution_count": 2,
   "metadata": {},
   "outputs": [
    {
     "name": "stdout",
     "output_type": "stream",
     "text": [
      "['__add__', '__class__', '__contains__', '__delattr__', '__delitem__', '__dir__', '__doc__', '__eq__', '__format__', '__ge__', '__getattribute__', '__getitem__', '__gt__', '__hash__', '__iadd__', '__imul__', '__init__', '__init_subclass__', '__iter__', '__le__', '__len__', '__lt__', '__mul__', '__ne__', '__new__', '__reduce__', '__reduce_ex__', '__repr__', '__reversed__', '__rmul__', '__setattr__', '__setitem__', '__sizeof__', '__str__', '__subclasshook__', 'append', 'clear', 'copy', 'count', 'extend', 'index', 'insert', 'pop', 'remove', 'reverse', 'sort']\n"
     ]
    }
   ],
   "source": [
    "print(dir(alist))"
   ]
  },
  {
   "cell_type": "markdown",
   "metadata": {},
   "source": [
    "# 1. Adding elements\n",
    "    - append : add one elemnt at the end of the list\n",
    "    - extend : add multiple elements at the end of the list\n",
    "    - insert : add a single element at a given position "
   ]
  },
  {
   "cell_type": "code",
   "execution_count": 3,
   "metadata": {},
   "outputs": [
    {
     "name": "stdout",
     "output_type": "stream",
     "text": [
      "[1, 'a', 2, 'b', 3, 'c', 4, 'd', 5, 'e', 6, 'e']\n"
     ]
    }
   ],
   "source": [
    "print(alist)"
   ]
  },
  {
   "cell_type": "code",
   "execution_count": 4,
   "metadata": {},
   "outputs": [
    {
     "name": "stdout",
     "output_type": "stream",
     "text": [
      "Before append :  [1, 'a', 2, 'b', 3, 'c', 4, 'd', 5, 'e', 6, 'e']\n",
      "After append  :  [1, 'a', 2, 'b', 3, 'c', 4, 'd', 5, 'e', 6, 'e', 'append']\n"
     ]
    }
   ],
   "source": [
    "print('Before append : ', alist)\n",
    "alist.append('append')\n",
    "print('After append  : ', alist)"
   ]
  },
  {
   "cell_type": "code",
   "execution_count": 5,
   "metadata": {},
   "outputs": [
    {
     "name": "stdout",
     "output_type": "stream",
     "text": [
      "Before append :  [1, 'a', 2, 'b', 3, 'c', 4, 'd', 5, 'e', 6, 'e', 'append']\n",
      "After append  :  [1, 'a', 2, 'b', 3, 'c', 4, 'd', 5, 'e', 6, 'e', 'append', ['append1', 'append2']]\n"
     ]
    }
   ],
   "source": [
    "print('Before append : ', alist)\n",
    "alist.append(['append1', 'append2'])\n",
    "print('After append  : ', alist)"
   ]
  },
  {
   "cell_type": "code",
   "execution_count": 6,
   "metadata": {},
   "outputs": [],
   "source": [
    "mix_list = [23, 45.8 , 'a', True, ['item 1', 'item2', 'item3'], {45, 67, 98.888, True}, (45, 772)]"
   ]
  },
  {
   "cell_type": "markdown",
   "metadata": {},
   "source": [
    "### append the contents of another list as individual elements"
   ]
  },
  {
   "cell_type": "code",
   "execution_count": 7,
   "metadata": {},
   "outputs": [],
   "source": [
    "list2 = ['item1', 'item2', 'item3']"
   ]
  },
  {
   "cell_type": "code",
   "execution_count": 8,
   "metadata": {},
   "outputs": [
    {
     "name": "stdout",
     "output_type": "stream",
     "text": [
      "Before append :  [1, 'a', 2, 'b', 3, 'c', 4, 'd', 5, 'e', 6, 'e', 'append', ['append1', 'append2']]\n",
      "After append  :  [1, 'a', 2, 'b', 3, 'c', 4, 'd', 5, 'e', 6, 'e', 'append', ['append1', 'append2'], ['item1', 'item2', 'item3']]\n"
     ]
    }
   ],
   "source": [
    "print('Before append : ', alist)\n",
    "alist.append(list2)\n",
    "print('After append  : ', alist)"
   ]
  },
  {
   "cell_type": "code",
   "execution_count": 11,
   "metadata": {},
   "outputs": [
    {
     "name": "stdout",
     "output_type": "stream",
     "text": [
      "[1, 'a', 2, 'b', 3, 'c', 4, 'd', 5, 'e', 6, 'e', 'append', ['append1', 'append2'], ['item1', 'item2', 'item3'], 'item1', 'item2', 'item3']\n",
      "After concat alist : [1, 'a', 2, 'b', 3, 'c', 4, 'd', 5, 'e', 6, 'e', 'append', ['append1', 'append2'], ['item1', 'item2', 'item3']]\n",
      "After concat list2 : ['item1', 'item2', 'item3']\n"
     ]
    }
   ],
   "source": [
    "# concatenation : +\n",
    "print(alist + list2) # ends up giving a new list \n",
    "print('After concat alist :', alist)\n",
    "print('After concat list2 :', list2)\n",
    "\n",
    "newlist = alist + list2\n",
    "#alist = alist + list2"
   ]
  },
  {
   "cell_type": "code",
   "execution_count": 12,
   "metadata": {},
   "outputs": [
    {
     "name": "stdout",
     "output_type": "stream",
     "text": [
      "Before extend :  [1, 'a', 2, 'b', 3, 'c', 4, 'd', 5, 'e', 6, 'e', 'append', ['append1', 'append2'], ['item1', 'item2', 'item3']]\n",
      "After extend  :  [1, 'a', 2, 'b', 3, 'c', 4, 'd', 5, 'e', 6, 'e', 'append', ['append1', 'append2'], ['item1', 'item2', 'item3'], 'item1', 'item2', 'item3']\n"
     ]
    }
   ],
   "source": [
    "print('Before extend : ', alist)\n",
    "alist.extend(list2)\n",
    "print('After extend  : ', alist)"
   ]
  },
  {
   "cell_type": "code",
   "execution_count": 13,
   "metadata": {},
   "outputs": [
    {
     "name": "stdout",
     "output_type": "stream",
     "text": [
      "Before insert :  [1, 'a', 2, 'b', 3, 'c', 4, 'd', 5, 'e', 6, 'e', 'append', ['append1', 'append2'], ['item1', 'item2', 'item3'], 'item1', 'item2', 'item3']\n",
      "After insert  :  [1, 'a', 2, 'insert', 'b', 3, 'c', 4, 'd', 5, 'e', 6, 'e', 'append', ['append1', 'append2'], ['item1', 'item2', 'item3'], 'item1', 'item2', 'item3']\n"
     ]
    }
   ],
   "source": [
    "print('Before insert : ', alist)\n",
    "alist.insert(3, 'insert')\n",
    "print('After insert  : ', alist)"
   ]
  },
  {
   "cell_type": "markdown",
   "metadata": {},
   "source": [
    "# 2. Removing elements\n",
    "    - remove : removes by element & the first occcurence of the element\n",
    "    - pop : removes by position "
   ]
  },
  {
   "cell_type": "code",
   "execution_count": 14,
   "metadata": {},
   "outputs": [
    {
     "name": "stdout",
     "output_type": "stream",
     "text": [
      "Before remove milk :  ['apple', 'milk', 'bread', 'eggs', 'curd', 'coconut', 'meat', 'milk', 'guava', 'banana', 'peach', 'oranges', 'apple', 'bread']\n",
      "After remove milk  :  ['apple', 'bread', 'eggs', 'curd', 'coconut', 'meat', 'milk', 'guava', 'banana', 'peach', 'oranges', 'apple', 'bread']\n"
     ]
    }
   ],
   "source": [
    "print('Before remove milk : ', basket_list)\n",
    "basket_list.remove('milk')\n",
    "print('After remove milk  : ', basket_list)"
   ]
  },
  {
   "cell_type": "code",
   "execution_count": 15,
   "metadata": {},
   "outputs": [
    {
     "name": "stdout",
     "output_type": "stream",
     "text": [
      "Before pop :  ['apple', 'bread', 'eggs', 'curd', 'coconut', 'meat', 'milk', 'guava', 'banana', 'peach', 'oranges', 'apple', 'bread']\n",
      "Popped element : coconut\n",
      "After pop  :  ['apple', 'bread', 'eggs', 'curd', 'meat', 'milk', 'guava', 'banana', 'peach', 'oranges', 'apple', 'bread']\n"
     ]
    }
   ],
   "source": [
    "print('Before pop : ', basket_list)\n",
    "print('Popped element :' ,basket_list.pop(4))\n",
    "print('After pop  : ', basket_list)"
   ]
  },
  {
   "cell_type": "code",
   "execution_count": 16,
   "metadata": {},
   "outputs": [
    {
     "data": {
      "text/plain": [
       "['bread', 'eggs', 'curd', 'meat', 'milk', 'guava', 'banana', 'peach']"
      ]
     },
     "execution_count": 16,
     "metadata": {},
     "output_type": "execute_result"
    }
   ],
   "source": [
    "basket_list[1:9]"
   ]
  },
  {
   "cell_type": "code",
   "execution_count": 19,
   "metadata": {},
   "outputs": [
    {
     "name": "stdout",
     "output_type": "stream",
     "text": [
      "[1, 'a', 2, 'b', 3, 'c', 4, 'd', 5, 'e', 6, 'e', 'append', ['append1', 'append2'], ['item1', 'item2', 'item3'], 'item1', 'item2', 'item3']\n"
     ]
    }
   ],
   "source": [
    "print(newlist)\n"
   ]
  },
  {
   "cell_type": "code",
   "execution_count": 22,
   "metadata": {},
   "outputs": [],
   "source": [
    "del(newlist[14:])"
   ]
  },
  {
   "cell_type": "code",
   "execution_count": 24,
   "metadata": {},
   "outputs": [
    {
     "name": "stdout",
     "output_type": "stream",
     "text": [
      "[1, 'a', 2, 'b', 3, 'c', 4, 'd', 5, 'e', 6, 'e', 'append', ['append1', 'append2']]\n"
     ]
    }
   ],
   "source": [
    "print(newlist)"
   ]
  },
  {
   "cell_type": "code",
   "execution_count": 26,
   "metadata": {},
   "outputs": [
    {
     "data": {
      "text/plain": [
       "['append1', 'append2']"
      ]
     },
     "execution_count": 26,
     "metadata": {},
     "output_type": "execute_result"
    }
   ],
   "source": [
    "newlist[13]"
   ]
  },
  {
   "cell_type": "markdown",
   "metadata": {},
   "source": [
    "## Counting no. of occurences of any element"
   ]
  },
  {
   "cell_type": "code",
   "execution_count": 27,
   "metadata": {},
   "outputs": [],
   "source": [
    "string = 'Nimisha Pandey'\n",
    "# a string object can be an list of characters"
   ]
  },
  {
   "cell_type": "code",
   "execution_count": 28,
   "metadata": {},
   "outputs": [
    {
     "name": "stdout",
     "output_type": "stream",
     "text": [
      "['N', 'i', 'm', 'i', 's', 'h', 'a', ' ', 'P', 'a', 'n', 'd', 'e', 'y']\n"
     ]
    }
   ],
   "source": [
    "print(list(string))"
   ]
  },
  {
   "cell_type": "code",
   "execution_count": 29,
   "metadata": {},
   "outputs": [
    {
     "data": {
      "text/plain": [
       "'N'"
      ]
     },
     "execution_count": 29,
     "metadata": {},
     "output_type": "execute_result"
    }
   ],
   "source": [
    "string[0]"
   ]
  },
  {
   "cell_type": "code",
   "execution_count": 30,
   "metadata": {},
   "outputs": [
    {
     "data": {
      "text/plain": [
       "'y'"
      ]
     },
     "execution_count": 30,
     "metadata": {},
     "output_type": "execute_result"
    }
   ],
   "source": [
    "string[-1]"
   ]
  },
  {
   "cell_type": "code",
   "execution_count": 31,
   "metadata": {},
   "outputs": [
    {
     "data": {
      "text/plain": [
       "'NmsaPne'"
      ]
     },
     "execution_count": 31,
     "metadata": {},
     "output_type": "execute_result"
    }
   ],
   "source": [
    "string[::2]"
   ]
  },
  {
   "cell_type": "code",
   "execution_count": 33,
   "metadata": {},
   "outputs": [
    {
     "data": {
      "text/plain": [
       "2"
      ]
     },
     "execution_count": 33,
     "metadata": {},
     "output_type": "execute_result"
    }
   ],
   "source": [
    "string.count('i')"
   ]
  },
  {
   "cell_type": "code",
   "execution_count": 38,
   "metadata": {},
   "outputs": [],
   "source": [
    "basket_list = ['apple', 'milk','bread', 'eggs', 'curd', 'coconut', 'meat', 'milk', 'guava', 'banana','peach','oranges', 'apple', 'bread', 'milk'\n",
    "              , 'milk']"
   ]
  },
  {
   "cell_type": "code",
   "execution_count": 39,
   "metadata": {},
   "outputs": [
    {
     "data": {
      "text/plain": [
       "4"
      ]
     },
     "execution_count": 39,
     "metadata": {},
     "output_type": "execute_result"
    }
   ],
   "source": [
    "basket_list.count('milk')"
   ]
  },
  {
   "cell_type": "code",
   "execution_count": 40,
   "metadata": {},
   "outputs": [],
   "source": [
    "alist2 = [11, 66, 98, 9, 10, 63, 66, 6, 66, 78]"
   ]
  },
  {
   "cell_type": "code",
   "execution_count": 42,
   "metadata": {},
   "outputs": [
    {
     "data": {
      "text/plain": [
       "3"
      ]
     },
     "execution_count": 42,
     "metadata": {},
     "output_type": "execute_result"
    }
   ],
   "source": [
    "alist2.count(66)"
   ]
  },
  {
   "cell_type": "code",
   "execution_count": 43,
   "metadata": {},
   "outputs": [],
   "source": [
    "# how has scored 66 --> first occcurence"
   ]
  },
  {
   "cell_type": "code",
   "execution_count": 45,
   "metadata": {},
   "outputs": [
    {
     "data": {
      "text/plain": [
       "1"
      ]
     },
     "execution_count": 45,
     "metadata": {},
     "output_type": "execute_result"
    }
   ],
   "source": [
    "first = alist2.index(66)  # pos of the first occurence\n",
    "first"
   ]
  },
  {
   "cell_type": "code",
   "execution_count": 48,
   "metadata": {},
   "outputs": [
    {
     "data": {
      "text/plain": [
       "6"
      ]
     },
     "execution_count": 48,
     "metadata": {},
     "output_type": "execute_result"
    }
   ],
   "source": [
    "second = alist2.index(66, first+1)  # pos of the second occurence # its start looking from the given piosition\n",
    "second"
   ]
  },
  {
   "cell_type": "code",
   "execution_count": 49,
   "metadata": {},
   "outputs": [
    {
     "data": {
      "text/plain": [
       "8"
      ]
     },
     "execution_count": 49,
     "metadata": {},
     "output_type": "execute_result"
    }
   ],
   "source": [
    "alist2.index(66, second+1)  # pos of the third occurence # its start looking from the given piosition"
   ]
  },
  {
   "cell_type": "code",
   "execution_count": 52,
   "metadata": {},
   "outputs": [
    {
     "name": "stdout",
     "output_type": "stream",
     "text": [
      "Before sort  [34, 65, 98, 91, 100, 1, 78.98, 44.34]\n",
      "After sort  [1, 34, 44.34, 65, 78.98, 91, 98, 100]\n"
     ]
    }
   ],
   "source": [
    "l = [34, 65, 98, 91, 100, 1, 78.98, 44.34]\n",
    "print('Before sort ', l)\n",
    "l.sort()\n",
    "print('After sort ', l)"
   ]
  },
  {
   "cell_type": "code",
   "execution_count": 53,
   "metadata": {},
   "outputs": [
    {
     "name": "stdout",
     "output_type": "stream",
     "text": [
      "Before sort  [34, 65, 98, 91, 100, 1, 78.98, 44.34, True, False]\n",
      "After sort  [False, 1, True, 34, 44.34, 65, 78.98, 91, 98, 100]\n"
     ]
    }
   ],
   "source": [
    "l = [34, 65, 98, 91, 100, 1, 78.98, 44.34, True, False]\n",
    "print('Before sort ', l)\n",
    "l.sort()\n",
    "print('After sort ', l)"
   ]
  },
  {
   "cell_type": "code",
   "execution_count": 54,
   "metadata": {},
   "outputs": [
    {
     "name": "stdout",
     "output_type": "stream",
     "text": [
      "Before sort  [34, 65, 98, 91, 100, 1, 78.98, 44.34, True, False]\n",
      "After sort  [100, 98, 91, 78.98, 65, 44.34, 34, 1, True, False]\n"
     ]
    }
   ],
   "source": [
    "l = [34, 65, 98, 91, 100, 1, 78.98, 44.34, True, False]\n",
    "print('Before sort ', l)\n",
    "l.sort(reverse = True) # sorts in descending order\n",
    "print('After sort ', l)"
   ]
  },
  {
   "cell_type": "raw",
   "metadata": {},
   "source": [
    "True : anything except for 0 & '' & None\n",
    "False = 0 | '' | None"
   ]
  },
  {
   "cell_type": "code",
   "execution_count": 57,
   "metadata": {},
   "outputs": [
    {
     "data": {
      "text/plain": [
       "(False, False, False)"
      ]
     },
     "execution_count": 57,
     "metadata": {},
     "output_type": "execute_result"
    }
   ],
   "source": [
    "bool(0), bool(''), bool(None)"
   ]
  },
  {
   "cell_type": "code",
   "execution_count": 58,
   "metadata": {},
   "outputs": [
    {
     "name": "stdout",
     "output_type": "stream",
     "text": [
      "Before sort  ['A', 'z', 'ca', 'c', 'cz', 'Cz', 'CZ']\n",
      "After sort  ['A', 'CZ', 'Cz', 'c', 'ca', 'cz', 'z']\n"
     ]
    }
   ],
   "source": [
    "n = ['A', 'z', 'ca', 'c', 'cz', 'Cz', 'CZ']\n",
    "print('Before sort ', n)\n",
    "n.sort() \n",
    "print('After sort ', n)"
   ]
  },
  {
   "cell_type": "code",
   "execution_count": 63,
   "metadata": {},
   "outputs": [
    {
     "data": {
      "text/plain": [
       "90"
      ]
     },
     "execution_count": 63,
     "metadata": {},
     "output_type": "execute_result"
    }
   ],
   "source": [
    "ord('Z')"
   ]
  },
  {
   "cell_type": "code",
   "execution_count": 64,
   "metadata": {},
   "outputs": [
    {
     "data": {
      "text/plain": [
       "97"
      ]
     },
     "execution_count": 64,
     "metadata": {},
     "output_type": "execute_result"
    }
   ],
   "source": [
    "ord('a')"
   ]
  },
  {
   "cell_type": "code",
   "execution_count": 65,
   "metadata": {},
   "outputs": [
    {
     "name": "stdout",
     "output_type": "stream",
     "text": [
      "Before sort  ['A', 'z', 'ca', 'c', 'cz', 'Cz', 'CZ', True, False]\n"
     ]
    },
    {
     "ename": "TypeError",
     "evalue": "'<' not supported between instances of 'bool' and 'str'",
     "output_type": "error",
     "traceback": [
      "\u001b[0;31m---------------------------------------------------------------------------\u001b[0m",
      "\u001b[0;31mTypeError\u001b[0m                                 Traceback (most recent call last)",
      "\u001b[0;32m<ipython-input-65-9ccc7598373e>\u001b[0m in \u001b[0;36m<module>\u001b[0;34m\u001b[0m\n\u001b[1;32m      1\u001b[0m \u001b[0mn\u001b[0m \u001b[0;34m=\u001b[0m \u001b[0;34m[\u001b[0m\u001b[0;34m'A'\u001b[0m\u001b[0;34m,\u001b[0m \u001b[0;34m'z'\u001b[0m\u001b[0;34m,\u001b[0m \u001b[0;34m'ca'\u001b[0m\u001b[0;34m,\u001b[0m \u001b[0;34m'c'\u001b[0m\u001b[0;34m,\u001b[0m \u001b[0;34m'cz'\u001b[0m\u001b[0;34m,\u001b[0m \u001b[0;34m'Cz'\u001b[0m\u001b[0;34m,\u001b[0m \u001b[0;34m'CZ'\u001b[0m\u001b[0;34m,\u001b[0m \u001b[0;32mTrue\u001b[0m\u001b[0;34m,\u001b[0m \u001b[0;32mFalse\u001b[0m\u001b[0;34m]\u001b[0m\u001b[0;34m\u001b[0m\u001b[0;34m\u001b[0m\u001b[0m\n\u001b[1;32m      2\u001b[0m \u001b[0mprint\u001b[0m\u001b[0;34m(\u001b[0m\u001b[0;34m'Before sort '\u001b[0m\u001b[0;34m,\u001b[0m \u001b[0mn\u001b[0m\u001b[0;34m)\u001b[0m\u001b[0;34m\u001b[0m\u001b[0;34m\u001b[0m\u001b[0m\n\u001b[0;32m----> 3\u001b[0;31m \u001b[0mn\u001b[0m\u001b[0;34m.\u001b[0m\u001b[0msort\u001b[0m\u001b[0;34m(\u001b[0m\u001b[0;34m)\u001b[0m\u001b[0;34m\u001b[0m\u001b[0;34m\u001b[0m\u001b[0m\n\u001b[0m\u001b[1;32m      4\u001b[0m \u001b[0mprint\u001b[0m\u001b[0;34m(\u001b[0m\u001b[0;34m'After sort '\u001b[0m\u001b[0;34m,\u001b[0m \u001b[0mn\u001b[0m\u001b[0;34m)\u001b[0m\u001b[0;34m\u001b[0m\u001b[0;34m\u001b[0m\u001b[0m\n",
      "\u001b[0;31mTypeError\u001b[0m: '<' not supported between instances of 'bool' and 'str'"
     ]
    }
   ],
   "source": [
    "n = ['A', 'z', 'ca', 'c', 'cz', 'Cz', 'CZ', True, False]\n",
    "print('Before sort ', n)\n",
    "n.sort() \n",
    "print('After sort ', n)"
   ]
  },
  {
   "cell_type": "code",
   "execution_count": 66,
   "metadata": {},
   "outputs": [
    {
     "data": {
      "text/plain": [
       "65"
      ]
     },
     "execution_count": 66,
     "metadata": {},
     "output_type": "execute_result"
    }
   ],
   "source": [
    "# every character is represented by a number code \n",
    "ord('A')"
   ]
  },
  {
   "cell_type": "code",
   "execution_count": 68,
   "metadata": {},
   "outputs": [
    {
     "data": {
      "text/plain": [
       "'A'"
      ]
     },
     "execution_count": 68,
     "metadata": {},
     "output_type": "execute_result"
    }
   ],
   "source": [
    "chr(65)"
   ]
  },
  {
   "cell_type": "code",
   "execution_count": 69,
   "metadata": {},
   "outputs": [
    {
     "data": {
      "text/plain": [
       "110"
      ]
     },
     "execution_count": 69,
     "metadata": {},
     "output_type": "execute_result"
    }
   ],
   "source": [
    "23 + 87"
   ]
  },
  {
   "cell_type": "code",
   "execution_count": 70,
   "metadata": {},
   "outputs": [
    {
     "ename": "TypeError",
     "evalue": "unsupported operand type(s) for +: 'int' and 'str'",
     "output_type": "error",
     "traceback": [
      "\u001b[0;31m---------------------------------------------------------------------------\u001b[0m",
      "\u001b[0;31mTypeError\u001b[0m                                 Traceback (most recent call last)",
      "\u001b[0;32m<ipython-input-70-19c5853fad2e>\u001b[0m in \u001b[0;36m<module>\u001b[0;34m\u001b[0m\n\u001b[0;32m----> 1\u001b[0;31m \u001b[0;36m23\u001b[0m \u001b[0;34m+\u001b[0m \u001b[0;34m's'\u001b[0m\u001b[0;34m\u001b[0m\u001b[0;34m\u001b[0m\u001b[0m\n\u001b[0m",
      "\u001b[0;31mTypeError\u001b[0m: unsupported operand type(s) for +: 'int' and 'str'"
     ]
    }
   ],
   "source": [
    "23 + 's'"
   ]
  },
  {
   "cell_type": "code",
   "execution_count": 71,
   "metadata": {},
   "outputs": [
    {
     "data": {
      "text/plain": [
       "'sa'"
      ]
     },
     "execution_count": 71,
     "metadata": {},
     "output_type": "execute_result"
    }
   ],
   "source": [
    "'s' + 'a'"
   ]
  },
  {
   "cell_type": "code",
   "execution_count": 72,
   "metadata": {},
   "outputs": [
    {
     "ename": "TypeError",
     "evalue": "ord() expected string of length 1, but int found",
     "output_type": "error",
     "traceback": [
      "\u001b[0;31m---------------------------------------------------------------------------\u001b[0m",
      "\u001b[0;31mTypeError\u001b[0m                                 Traceback (most recent call last)",
      "\u001b[0;32m<ipython-input-72-77e5aeef42fb>\u001b[0m in \u001b[0;36m<module>\u001b[0;34m\u001b[0m\n\u001b[0;32m----> 1\u001b[0;31m \u001b[0mord\u001b[0m\u001b[0;34m(\u001b[0m\u001b[0;36m1\u001b[0m\u001b[0;34m)\u001b[0m\u001b[0;34m\u001b[0m\u001b[0;34m\u001b[0m\u001b[0m\n\u001b[0m",
      "\u001b[0;31mTypeError\u001b[0m: ord() expected string of length 1, but int found"
     ]
    }
   ],
   "source": [
    "ord(1)"
   ]
  },
  {
   "cell_type": "code",
   "execution_count": 73,
   "metadata": {},
   "outputs": [
    {
     "data": {
      "text/plain": [
       "49"
      ]
     },
     "execution_count": 73,
     "metadata": {},
     "output_type": "execute_result"
    }
   ],
   "source": [
    "ord('1')"
   ]
  },
  {
   "cell_type": "code",
   "execution_count": 74,
   "metadata": {},
   "outputs": [],
   "source": [
    "name = 'Nimisha'\n",
    "name_list = list(name)"
   ]
  },
  {
   "cell_type": "code",
   "execution_count": 76,
   "metadata": {},
   "outputs": [
    {
     "name": "stdout",
     "output_type": "stream",
     "text": [
      "Before Reverse ['N', 'i', 'm', 'i', 's', 'h', 'a']\n",
      "After Reverse ['a', 'h', 's', 'i', 'm', 'i', 'N']\n"
     ]
    }
   ],
   "source": [
    "print('Before Reverse', name_list)\n",
    "name_list.reverse()\n",
    "print('After Reverse', name_list)"
   ]
  },
  {
   "cell_type": "code",
   "execution_count": null,
   "metadata": {},
   "outputs": [],
   "source": []
  },
  {
   "cell_type": "code",
   "execution_count": 77,
   "metadata": {},
   "outputs": [
    {
     "data": {
      "text/plain": [
       "['N', 'i', 'm', 'i', 's', 'h', 'a']"
      ]
     },
     "execution_count": 77,
     "metadata": {},
     "output_type": "execute_result"
    }
   ],
   "source": [
    "name_list[ : :-1]"
   ]
  },
  {
   "cell_type": "markdown",
   "metadata": {},
   "source": [
    "# copy function "
   ]
  },
  {
   "cell_type": "code",
   "execution_count": 85,
   "metadata": {},
   "outputs": [],
   "source": [
    "basket_list = ['apples', 'oranges', 'grapes', 'pear', 'peaches']"
   ]
  },
  {
   "cell_type": "code",
   "execution_count": 86,
   "metadata": {},
   "outputs": [],
   "source": [
    "basket_list2 = basket_list"
   ]
  },
  {
   "cell_type": "code",
   "execution_count": 87,
   "metadata": {},
   "outputs": [
    {
     "name": "stdout",
     "output_type": "stream",
     "text": [
      "Original\n",
      " ['apples', 'oranges', 'grapes', 'pear', 'peaches']\n",
      "Copy\n",
      "  ['apples', 'oranges', 'grapes', 'pear', 'peaches']\n"
     ]
    }
   ],
   "source": [
    "print('Original\\n', basket_list)\n",
    "print('Copy\\n ', basket_list2)"
   ]
  },
  {
   "cell_type": "code",
   "execution_count": 88,
   "metadata": {},
   "outputs": [],
   "source": [
    "basket_list.extend(['bread', 'meat'])"
   ]
  },
  {
   "cell_type": "code",
   "execution_count": 89,
   "metadata": {},
   "outputs": [
    {
     "name": "stdout",
     "output_type": "stream",
     "text": [
      "Orginal\n",
      "  ['apples', 'oranges', 'grapes', 'pear', 'peaches', 'bread', 'meat']\n"
     ]
    }
   ],
   "source": [
    "print('Orginal\\n ', basket_list)"
   ]
  },
  {
   "cell_type": "code",
   "execution_count": 90,
   "metadata": {},
   "outputs": [
    {
     "name": "stdout",
     "output_type": "stream",
     "text": [
      "Copy list\n",
      " ['apples', 'oranges', 'grapes', 'pear', 'peaches', 'bread', 'meat']\n"
     ]
    }
   ],
   "source": [
    "print('Copy list\\n', basket_list2)"
   ]
  },
  {
   "cell_type": "code",
   "execution_count": 91,
   "metadata": {},
   "outputs": [
    {
     "data": {
      "text/plain": [
       "140696747961312"
      ]
     },
     "execution_count": 91,
     "metadata": {},
     "output_type": "execute_result"
    }
   ],
   "source": [
    "id(basket_list)"
   ]
  },
  {
   "cell_type": "code",
   "execution_count": 92,
   "metadata": {},
   "outputs": [
    {
     "data": {
      "text/plain": [
       "140696747961312"
      ]
     },
     "execution_count": 92,
     "metadata": {},
     "output_type": "execute_result"
    }
   ],
   "source": [
    "id(basket_list2)"
   ]
  },
  {
   "cell_type": "code",
   "execution_count": 93,
   "metadata": {},
   "outputs": [],
   "source": [
    "# explicit copy function to make keep a copy "
   ]
  },
  {
   "cell_type": "code",
   "execution_count": 98,
   "metadata": {},
   "outputs": [],
   "source": [
    "basket_list = ['apples', 'oranges', 'grapes', 'pear', 'peaches']"
   ]
  },
  {
   "cell_type": "code",
   "execution_count": 99,
   "metadata": {},
   "outputs": [],
   "source": [
    "basket_list2 = basket_list # shallow copy creates a copy by doing minimum"
   ]
  },
  {
   "cell_type": "code",
   "execution_count": 100,
   "metadata": {},
   "outputs": [],
   "source": [
    "basket_list3 = basket_list.copy() # creates a new list # deep copy "
   ]
  },
  {
   "cell_type": "code",
   "execution_count": 101,
   "metadata": {},
   "outputs": [
    {
     "data": {
      "text/plain": [
       "140696746853952"
      ]
     },
     "execution_count": 101,
     "metadata": {},
     "output_type": "execute_result"
    }
   ],
   "source": [
    "id(basket_list)"
   ]
  },
  {
   "cell_type": "code",
   "execution_count": 102,
   "metadata": {},
   "outputs": [
    {
     "data": {
      "text/plain": [
       "140696746853952"
      ]
     },
     "execution_count": 102,
     "metadata": {},
     "output_type": "execute_result"
    }
   ],
   "source": [
    "id(basket_list2)"
   ]
  },
  {
   "cell_type": "code",
   "execution_count": 103,
   "metadata": {},
   "outputs": [
    {
     "data": {
      "text/plain": [
       "140696745676304"
      ]
     },
     "execution_count": 103,
     "metadata": {},
     "output_type": "execute_result"
    }
   ],
   "source": [
    "id(basket_list3)"
   ]
  },
  {
   "cell_type": "code",
   "execution_count": 104,
   "metadata": {},
   "outputs": [],
   "source": [
    "basket_list.append('changee')"
   ]
  },
  {
   "cell_type": "code",
   "execution_count": 106,
   "metadata": {},
   "outputs": [
    {
     "data": {
      "text/plain": [
       "['apples', 'oranges', 'grapes', 'pear', 'peaches', 'changee']"
      ]
     },
     "execution_count": 106,
     "metadata": {},
     "output_type": "execute_result"
    }
   ],
   "source": [
    "basket_list"
   ]
  },
  {
   "cell_type": "code",
   "execution_count": 108,
   "metadata": {},
   "outputs": [
    {
     "data": {
      "text/plain": [
       "['apples', 'oranges', 'grapes', 'pear', 'peaches', 'changee']"
      ]
     },
     "execution_count": 108,
     "metadata": {},
     "output_type": "execute_result"
    }
   ],
   "source": [
    "basket_list2 # shallow ccopy"
   ]
  },
  {
   "cell_type": "code",
   "execution_count": 109,
   "metadata": {},
   "outputs": [
    {
     "data": {
      "text/plain": [
       "['apples', 'oranges', 'grapes', 'pear', 'peaches']"
      ]
     },
     "execution_count": 109,
     "metadata": {},
     "output_type": "execute_result"
    }
   ],
   "source": [
    "basket_list3 # deep copy"
   ]
  },
  {
   "cell_type": "code",
   "execution_count": 111,
   "metadata": {},
   "outputs": [],
   "source": [
    "alist.clear()"
   ]
  },
  {
   "cell_type": "code",
   "execution_count": 112,
   "metadata": {},
   "outputs": [
    {
     "data": {
      "text/plain": [
       "[]"
      ]
     },
     "execution_count": 112,
     "metadata": {},
     "output_type": "execute_result"
    }
   ],
   "source": [
    "alist"
   ]
  },
  {
   "cell_type": "markdown",
   "metadata": {},
   "source": [
    "# 3. Tuples : immutable list like data collections"
   ]
  },
  {
   "cell_type": "code",
   "execution_count": 113,
   "metadata": {},
   "outputs": [],
   "source": [
    "empty_tuple = () # tuple()\n",
    "tup_1 = (23)\n",
    "tup_11 = (23,)\n",
    "tup_2 = (23,54.76,'string', True)"
   ]
  },
  {
   "cell_type": "code",
   "execution_count": 114,
   "metadata": {},
   "outputs": [
    {
     "name": "stdout",
     "output_type": "stream",
     "text": [
      "Empty Tuple ()   Type : <class 'tuple'>\n",
      "Tup_1 Tuple 23   Type : <class 'int'>\n",
      "Tup_11 Tuple (23,)   Type : <class 'tuple'>\n",
      "Tup_2 Tuple (23, 54.76, 'string', True)   Type : <class 'tuple'>\n"
     ]
    }
   ],
   "source": [
    "print('Empty Tuple', empty_tuple, '  Type :', type(empty_tuple))\n",
    "print('Tup_1 Tuple', tup_1, '  Type :', type(tup_1))\n",
    "print('Tup_11 Tuple', tup_11, '  Type :', type(tup_11))\n",
    "print('Tup_2 Tuple', tup_2, '  Type :', type(tup_2))"
   ]
  },
  {
   "cell_type": "code",
   "execution_count": 116,
   "metadata": {},
   "outputs": [],
   "source": [
    "basket_list[-1] = 'blueberries'"
   ]
  },
  {
   "cell_type": "code",
   "execution_count": 117,
   "metadata": {},
   "outputs": [
    {
     "data": {
      "text/plain": [
       "['apples', 'oranges', 'grapes', 'pear', 'peaches', 'blueberries']"
      ]
     },
     "execution_count": 117,
     "metadata": {},
     "output_type": "execute_result"
    }
   ],
   "source": [
    "basket_list"
   ]
  },
  {
   "cell_type": "code",
   "execution_count": 120,
   "metadata": {},
   "outputs": [],
   "source": [
    "basket_tup = tuple(['apples', 'oranges', 'grapes', 'pear', 'peaches', 'changee'])\n",
    "# basket_tup = ('apples', 'oranges', 'grapes', 'pear', 'peaches', 'changee')"
   ]
  },
  {
   "cell_type": "code",
   "execution_count": 121,
   "metadata": {},
   "outputs": [
    {
     "data": {
      "text/plain": [
       "'apples'"
      ]
     },
     "execution_count": 121,
     "metadata": {},
     "output_type": "execute_result"
    }
   ],
   "source": [
    "basket_tup[0]"
   ]
  },
  {
   "cell_type": "code",
   "execution_count": 122,
   "metadata": {},
   "outputs": [
    {
     "data": {
      "text/plain": [
       "('oranges', 'grapes', 'pear', 'peaches', 'changee')"
      ]
     },
     "execution_count": 122,
     "metadata": {},
     "output_type": "execute_result"
    }
   ],
   "source": [
    "basket_tup[1:9]"
   ]
  },
  {
   "cell_type": "code",
   "execution_count": 123,
   "metadata": {},
   "outputs": [
    {
     "ename": "TypeError",
     "evalue": "'tuple' object does not support item assignment",
     "output_type": "error",
     "traceback": [
      "\u001b[0;31m---------------------------------------------------------------------------\u001b[0m",
      "\u001b[0;31mTypeError\u001b[0m                                 Traceback (most recent call last)",
      "\u001b[0;32m<ipython-input-123-0bf57e41e6c1>\u001b[0m in \u001b[0;36m<module>\u001b[0;34m\u001b[0m\n\u001b[0;32m----> 1\u001b[0;31m \u001b[0mbasket_tup\u001b[0m\u001b[0;34m[\u001b[0m\u001b[0;34m-\u001b[0m\u001b[0;36m1\u001b[0m\u001b[0;34m]\u001b[0m \u001b[0;34m=\u001b[0m \u001b[0;34m'blueberries'\u001b[0m\u001b[0;34m\u001b[0m\u001b[0;34m\u001b[0m\u001b[0m\n\u001b[0m",
      "\u001b[0;31mTypeError\u001b[0m: 'tuple' object does not support item assignment"
     ]
    }
   ],
   "source": [
    "basket_tup[-1] = 'blueberries'"
   ]
  },
  {
   "cell_type": "code",
   "execution_count": 124,
   "metadata": {},
   "outputs": [],
   "source": [
    "# interconversion of tuples <==> list <==> sets "
   ]
  },
  {
   "cell_type": "code",
   "execution_count": null,
   "metadata": {},
   "outputs": [],
   "source": [
    "list()\n",
    "tuple()\n",
    "set()"
   ]
  },
  {
   "cell_type": "markdown",
   "metadata": {},
   "source": [
    "# Access elements in a multidimensional list"
   ]
  },
  {
   "cell_type": "code",
   "execution_count": 125,
   "metadata": {},
   "outputs": [],
   "source": [
    "alist = [[1,2,3,4,5], ['a', 'b', 'c','d'], ['A', 'B', 'C', 'D'], True]"
   ]
  },
  {
   "cell_type": "code",
   "execution_count": 129,
   "metadata": {},
   "outputs": [],
   "source": [
    "# 'C'\n",
    "alist[2][2] = 'NEW'"
   ]
  },
  {
   "cell_type": "code",
   "execution_count": 130,
   "metadata": {},
   "outputs": [
    {
     "data": {
      "text/plain": [
       "[[1, 2, 3, 4, 5], ['a', 'b', 'c', 'd'], ['A', 'B', 'NEW', 'D'], True]"
      ]
     },
     "execution_count": 130,
     "metadata": {},
     "output_type": "execute_result"
    }
   ],
   "source": [
    "alist"
   ]
  },
  {
   "cell_type": "code",
   "execution_count": 131,
   "metadata": {},
   "outputs": [
    {
     "data": {
      "text/plain": [
       "([1, 2, 3, 4, 5], ['a', 'b', 'c', 'd'], ['A', 'B', 'NEW', 'D'], True)"
      ]
     },
     "execution_count": 131,
     "metadata": {},
     "output_type": "execute_result"
    }
   ],
   "source": [
    "atup = tuple(alist)\n",
    "atup"
   ]
  },
  {
   "cell_type": "code",
   "execution_count": 133,
   "metadata": {},
   "outputs": [],
   "source": [
    "atup[2][2] = 'C'"
   ]
  },
  {
   "cell_type": "code",
   "execution_count": 134,
   "metadata": {},
   "outputs": [
    {
     "data": {
      "text/plain": [
       "([1, 2, 3, 4, 5], ['a', 'b', 'c', 'd'], ['A', 'B', 'C', 'D'], True)"
      ]
     },
     "execution_count": 134,
     "metadata": {},
     "output_type": "execute_result"
    }
   ],
   "source": [
    "atup"
   ]
  },
  {
   "cell_type": "code",
   "execution_count": 135,
   "metadata": {},
   "outputs": [
    {
     "data": {
      "text/plain": [
       "['A', 'B', 'C', 'D']"
      ]
     },
     "execution_count": 135,
     "metadata": {},
     "output_type": "execute_result"
    }
   ],
   "source": [
    "atup[2]"
   ]
  },
  {
   "cell_type": "markdown",
   "metadata": {},
   "source": [
    "# 4. Dictionaries : unordered collection of key value pairs \n",
    "    - where keys are separated fromm values using ':'\n",
    "    - each key value pair is separated using a comma (,)\n",
    "    - keys are supposed to be immuttable and unique in a dictionary : numbers or strings\n",
    "    - values : any arbritrary python data object : numbers stt\n",
    "    "
   ]
  },
  {
   "cell_type": "code",
   "execution_count": 4,
   "metadata": {},
   "outputs": [],
   "source": [
    "empty_dict = {} # dict()\n",
    "dict1 = {1 : 'a' , 2 : 'b' , 3 : 'c' , 'd' :4, 'e' : 5 , 'f' : 6, 'g' : 'great', 8 : 8}"
   ]
  },
  {
   "cell_type": "code",
   "execution_count": 5,
   "metadata": {},
   "outputs": [
    {
     "name": "stdout",
     "output_type": "stream",
     "text": [
      "Empty Dictionary  {}\n",
      "Sample Dictionary {1: 'a', 2: 'b', 3: 'c', 'd': 4, 'e': 5, 'f': 6, 'g': 'great', 8: 8}\n"
     ]
    }
   ],
   "source": [
    "print('Empty Dictionary ',empty_dict)\n",
    "print('Sample Dictionary', dict1)"
   ]
  },
  {
   "cell_type": "code",
   "execution_count": 6,
   "metadata": {},
   "outputs": [
    {
     "name": "stdout",
     "output_type": "stream",
     "text": [
      "Employee dict  {'Name': 'Nimisha Pandey', 'Age': 33, 'Exp': 7, 'Desig': 'LT'}\n"
     ]
    }
   ],
   "source": [
    "employee = {'Name' : 'Nimisha Pandey',\n",
    "            'Age' : 33,\n",
    "           'Exp' : 7,\n",
    "           \"Desig\" : 'LT' }\n",
    "print('Employee dict ', employee)"
   ]
  },
  {
   "cell_type": "code",
   "execution_count": 7,
   "metadata": {},
   "outputs": [
    {
     "name": "stdout",
     "output_type": "stream",
     "text": [
      "Employee dict {'Name': 'Mrs Nimisha Pandey', 'Age': 33, 'Exp': 6.5, 'Designation': 'Lead Trainer'}\n"
     ]
    }
   ],
   "source": [
    "employee = { 'Name' : 'Nimisha Pandey',\n",
    "             'Age' : 33,\n",
    "             'Exp' : 6.5,\n",
    "             'Designation' : 'Lead Trainer',\n",
    "            'Name' : 'Mrs Nimisha Pandey'\n",
    "           }\n",
    "print('Employee dict', employee)"
   ]
  },
  {
   "cell_type": "code",
   "execution_count": 8,
   "metadata": {},
   "outputs": [
    {
     "name": "stdout",
     "output_type": "stream",
     "text": [
      "{'brand': ['Honda', 'Hyundai', 'Merc', 'BMW'], 'Type': ('Sedan', 'SUV'), 'Year': 2020}\n"
     ]
    }
   ],
   "source": [
    "car = {'brand' : ['Honda','Hyundai', 'Merc', 'BMW'],\n",
    "      'Type'   : ('Sedan','SUV'),\n",
    "      'Year'   : 2020}\n",
    "print(car)"
   ]
  },
  {
   "cell_type": "code",
   "execution_count": 9,
   "metadata": {},
   "outputs": [],
   "source": [
    "# access elements in a dictionary"
   ]
  },
  {
   "cell_type": "code",
   "execution_count": 10,
   "metadata": {},
   "outputs": [
    {
     "data": {
      "text/plain": [
       "dict_keys(['Name', 'Age', 'Exp', 'Designation'])"
      ]
     },
     "execution_count": 10,
     "metadata": {},
     "output_type": "execute_result"
    }
   ],
   "source": [
    "employee.keys()"
   ]
  },
  {
   "cell_type": "code",
   "execution_count": 11,
   "metadata": {},
   "outputs": [
    {
     "data": {
      "text/plain": [
       "dict_keys(['brand', 'Type', 'Year'])"
      ]
     },
     "execution_count": 11,
     "metadata": {},
     "output_type": "execute_result"
    }
   ],
   "source": [
    "car.keys()"
   ]
  },
  {
   "cell_type": "code",
   "execution_count": 12,
   "metadata": {},
   "outputs": [
    {
     "data": {
      "text/plain": [
       "dict_keys([1, 2, 3, 'd', 'e', 'f', 'g', 8])"
      ]
     },
     "execution_count": 12,
     "metadata": {},
     "output_type": "execute_result"
    }
   ],
   "source": [
    "dict1.keys()"
   ]
  },
  {
   "cell_type": "code",
   "execution_count": 13,
   "metadata": {},
   "outputs": [
    {
     "data": {
      "text/plain": [
       "True"
      ]
     },
     "execution_count": 13,
     "metadata": {},
     "output_type": "execute_result"
    }
   ],
   "source": [
    "1 in dict1 # in the keys "
   ]
  },
  {
   "cell_type": "code",
   "execution_count": 14,
   "metadata": {},
   "outputs": [
    {
     "data": {
      "text/plain": [
       "{1: 'a', 2: 'b', 3: 'c', 'd': 4, 'e': 5, 'f': 6, 'g': 'great', 8: 8}"
      ]
     },
     "execution_count": 14,
     "metadata": {},
     "output_type": "execute_result"
    }
   ],
   "source": [
    "dict1"
   ]
  },
  {
   "cell_type": "code",
   "execution_count": 15,
   "metadata": {},
   "outputs": [
    {
     "data": {
      "text/plain": [
       "False"
      ]
     },
     "execution_count": 15,
     "metadata": {},
     "output_type": "execute_result"
    }
   ],
   "source": [
    "'a' in dict1"
   ]
  },
  {
   "cell_type": "code",
   "execution_count": 19,
   "metadata": {},
   "outputs": [],
   "source": [
    "car['brand'].append('Audi')"
   ]
  },
  {
   "cell_type": "code",
   "execution_count": 20,
   "metadata": {},
   "outputs": [
    {
     "data": {
      "text/plain": [
       "{'brand': ['Honda', 'Hyundai', 'Merc', 'BMW', 'Audi'],\n",
       " 'Type': ('Sedan', 'SUV'),\n",
       " 'Year': 2020}"
      ]
     },
     "execution_count": 20,
     "metadata": {},
     "output_type": "execute_result"
    }
   ],
   "source": [
    "car"
   ]
  },
  {
   "cell_type": "code",
   "execution_count": 21,
   "metadata": {},
   "outputs": [
    {
     "name": "stdout",
     "output_type": "stream",
     "text": [
      "Keys in the dictionary  dict_keys(['brand', 'Type', 'Year'])\n",
      "Values in the dictionary  dict_values([['Honda', 'Hyundai', 'Merc', 'BMW', 'Audi'], ('Sedan', 'SUV'), 2020])\n",
      "Items in the dictionary  dict_items([('brand', ['Honda', 'Hyundai', 'Merc', 'BMW', 'Audi']), ('Type', ('Sedan', 'SUV')), ('Year', 2020)])\n"
     ]
    }
   ],
   "source": [
    "print('Keys in the dictionary ', car.keys())\n",
    "print('Values in the dictionary ', car.values())\n",
    "print('Items in the dictionary ', car.items())"
   ]
  },
  {
   "cell_type": "code",
   "execution_count": null,
   "metadata": {},
   "outputs": [],
   "source": [
    "# items : a list of tuples where in each tuple 1st elemnt is key & 2nd element is the corresponding value"
   ]
  },
  {
   "cell_type": "markdown",
   "metadata": {},
   "source": [
    "## make changes or update a dicctionary"
   ]
  },
  {
   "cell_type": "code",
   "execution_count": 22,
   "metadata": {},
   "outputs": [
    {
     "name": "stdout",
     "output_type": "stream",
     "text": [
      "Before Update  {'Name': 'Mrs Nimisha Pandey', 'Age': 33, 'Exp': 6.5, 'Designation': 'Lead Trainer'}\n",
      "After Update  {'Name': 'Mrs Nimisha Pandey', 'Age': 33, 'Exp': 6.5, 'Designation': 'Lead Trainer', 'Organization': 'Simplilearn'}\n"
     ]
    }
   ],
   "source": [
    "print('Before Update ', employee)\n",
    "employee['Organization'] = 'Simplilearn'\n",
    "print('After Update ', employee)"
   ]
  },
  {
   "cell_type": "code",
   "execution_count": 23,
   "metadata": {},
   "outputs": [
    {
     "name": "stdout",
     "output_type": "stream",
     "text": [
      "Before Update  {'Name': 'Mrs Nimisha Pandey', 'Age': 33, 'Exp': 6.5, 'Designation': 'Lead Trainer', 'Organization': 'Simplilearn'}\n",
      "After Update  {'Name': 'Mrs Nimisha Pandey', 'Age': 33, 'Exp': 7.5, 'Designation': 'Lead Trainer', 'Organization': 'Simplilearn'}\n"
     ]
    }
   ],
   "source": [
    "print('Before Update ', employee)\n",
    "employee['Exp'] = 7.5\n",
    "print('After Update ', employee)"
   ]
  },
  {
   "cell_type": "code",
   "execution_count": 24,
   "metadata": {},
   "outputs": [
    {
     "name": "stdout",
     "output_type": "stream",
     "text": [
      "Before Update  {'Name': 'Mrs Nimisha Pandey', 'Age': 33, 'Exp': 7.5, 'Designation': 'Lead Trainer', 'Organization': 'Simplilearn'}\n",
      "After Update  {'Name': 'Mrs Nimisha Pandey', 'Age': 33, 'Exp': 7.5, 'Designation': 'SME', 'Organization': 'Simplilearn', 'Clients': ['XXYZ', 'ABC', 'LMN']}\n"
     ]
    }
   ],
   "source": [
    "print('Before Update ', employee)\n",
    "employee.update({'Clients' : ['XXYZ', 'ABC','LMN'], 'Designation':'SME'})\n",
    "print('After Update ', employee)"
   ]
  },
  {
   "cell_type": "code",
   "execution_count": 25,
   "metadata": {},
   "outputs": [
    {
     "name": "stdout",
     "output_type": "stream",
     "text": [
      "Before Remove {'Name': 'Mrs Nimisha Pandey', 'Age': 33, 'Exp': 7.5, 'Designation': 'SME', 'Organization': 'Simplilearn', 'Clients': ['XXYZ', 'ABC', 'LMN']}\n",
      "Popped element ['XXYZ', 'ABC', 'LMN']\n",
      "After Remove {'Name': 'Mrs Nimisha Pandey', 'Age': 33, 'Exp': 7.5, 'Designation': 'SME', 'Organization': 'Simplilearn'}\n"
     ]
    }
   ],
   "source": [
    "print('Before Remove', employee)\n",
    "print('Popped element', employee.pop('Clients'))\n",
    "print('After Remove', employee)"
   ]
  },
  {
   "cell_type": "code",
   "execution_count": 26,
   "metadata": {},
   "outputs": [
    {
     "name": "stdout",
     "output_type": "stream",
     "text": [
      "Before Remove {'Name': 'Mrs Nimisha Pandey', 'Age': 33, 'Exp': 7.5, 'Designation': 'SME', 'Organization': 'Simplilearn'}\n"
     ]
    },
    {
     "ename": "KeyError",
     "evalue": "'Clients'",
     "output_type": "error",
     "traceback": [
      "\u001b[0;31m---------------------------------------------------------------------------\u001b[0m",
      "\u001b[0;31mKeyError\u001b[0m                                  Traceback (most recent call last)",
      "\u001b[0;32m<ipython-input-26-6bd2aa78d24d>\u001b[0m in \u001b[0;36m<module>\u001b[0;34m\u001b[0m\n\u001b[1;32m      1\u001b[0m \u001b[0mprint\u001b[0m\u001b[0;34m(\u001b[0m\u001b[0;34m'Before Remove'\u001b[0m\u001b[0;34m,\u001b[0m \u001b[0memployee\u001b[0m\u001b[0;34m)\u001b[0m\u001b[0;34m\u001b[0m\u001b[0;34m\u001b[0m\u001b[0m\n\u001b[0;32m----> 2\u001b[0;31m \u001b[0mprint\u001b[0m\u001b[0;34m(\u001b[0m\u001b[0;34m'Popped element'\u001b[0m\u001b[0;34m,\u001b[0m \u001b[0memployee\u001b[0m\u001b[0;34m.\u001b[0m\u001b[0mpop\u001b[0m\u001b[0;34m(\u001b[0m\u001b[0;34m'Clients'\u001b[0m\u001b[0;34m)\u001b[0m\u001b[0;34m)\u001b[0m\u001b[0;34m\u001b[0m\u001b[0;34m\u001b[0m\u001b[0m\n\u001b[0m\u001b[1;32m      3\u001b[0m \u001b[0mprint\u001b[0m\u001b[0;34m(\u001b[0m\u001b[0;34m'After Remove'\u001b[0m\u001b[0;34m,\u001b[0m \u001b[0memployee\u001b[0m\u001b[0;34m)\u001b[0m\u001b[0;34m\u001b[0m\u001b[0;34m\u001b[0m\u001b[0m\n",
      "\u001b[0;31mKeyError\u001b[0m: 'Clients'"
     ]
    }
   ],
   "source": [
    "print('Before Remove', employee)\n",
    "print('Popped element', employee.pop('Clients'))\n",
    "print('After Remove', employee)"
   ]
  },
  {
   "cell_type": "code",
   "execution_count": 27,
   "metadata": {},
   "outputs": [
    {
     "name": "stdout",
     "output_type": "stream",
     "text": [
      "Before Remove {'Name': 'Mrs Nimisha Pandey', 'Age': 33, 'Exp': 7.5, 'Designation': 'SME', 'Organization': 'Simplilearn'}\n",
      "Popped element absent\n",
      "After Remove {'Name': 'Mrs Nimisha Pandey', 'Age': 33, 'Exp': 7.5, 'Designation': 'SME', 'Organization': 'Simplilearn'}\n"
     ]
    }
   ],
   "source": [
    "print('Before Remove', employee)\n",
    "print('Popped element', employee.pop('Clients', 'absent'))\n",
    "print('After Remove', employee)"
   ]
  },
  {
   "cell_type": "code",
   "execution_count": 28,
   "metadata": {},
   "outputs": [
    {
     "name": "stdout",
     "output_type": "stream",
     "text": [
      "After Update  {'Name': 'Mrs Nimisha Pandey', 'Age': 33, 'Exp': 7.5, 'Designation': 'SME', 'Organization': 'Simplilearn', 'Clients': ['XXYZ', 'ABC', 'LMN']}\n"
     ]
    }
   ],
   "source": [
    "employee.update({'Clients' : ['XXYZ', 'ABC','LMN'], 'Designation':'SME'})\n",
    "print('After Update ', employee)"
   ]
  },
  {
   "cell_type": "code",
   "execution_count": 29,
   "metadata": {},
   "outputs": [
    {
     "data": {
      "text/plain": [
       "['XXYZ', 'ABC', 'LMN']"
      ]
     },
     "execution_count": 29,
     "metadata": {},
     "output_type": "execute_result"
    }
   ],
   "source": [
    "employee['Clients']"
   ]
  },
  {
   "cell_type": "markdown",
   "metadata": {},
   "source": [
    "# Brackets : \n",
    "    1. ( ) - Parenthesis \n",
    "        a. create tuples\n",
    "        b. to pass arguments / with functions / classes\n",
    "    2. [ ] - Square brackets \n",
    "        a. create list\n",
    "        b. passing index\n",
    "    3. { } - Curly brackets\n",
    "        a. create sets\n",
    "        b. create dictionaries"
   ]
  },
  {
   "cell_type": "code",
   "execution_count": 30,
   "metadata": {},
   "outputs": [],
   "source": [
    "# multiple assignment"
   ]
  },
  {
   "cell_type": "code",
   "execution_count": 31,
   "metadata": {},
   "outputs": [],
   "source": [
    "a, b, c , d = 23, 'two', 'new', 45.888"
   ]
  },
  {
   "cell_type": "code",
   "execution_count": null,
   "metadata": {},
   "outputs": [],
   "source": [
    "a, b, c , d = (23, 'two', 'new', 45.888) "
   ]
  },
  {
   "cell_type": "markdown",
   "metadata": {},
   "source": [
    "## if no. of variables on left = no. of data on right\n",
    "## one on assignment"
   ]
  },
  {
   "cell_type": "code",
   "execution_count": 32,
   "metadata": {},
   "outputs": [],
   "source": [
    "tup1 = (23)"
   ]
  },
  {
   "cell_type": "code",
   "execution_count": 33,
   "metadata": {},
   "outputs": [
    {
     "data": {
      "text/plain": [
       "23"
      ]
     },
     "execution_count": 33,
     "metadata": {},
     "output_type": "execute_result"
    }
   ],
   "source": [
    "tup1"
   ]
  },
  {
   "cell_type": "code",
   "execution_count": 34,
   "metadata": {},
   "outputs": [],
   "source": [
    "tup2 = (23,)"
   ]
  },
  {
   "cell_type": "code",
   "execution_count": 35,
   "metadata": {},
   "outputs": [
    {
     "data": {
      "text/plain": [
       "(23,)"
      ]
     },
     "execution_count": 35,
     "metadata": {},
     "output_type": "execute_result"
    }
   ],
   "source": [
    "tup2"
   ]
  },
  {
   "cell_type": "code",
   "execution_count": null,
   "metadata": {},
   "outputs": [],
   "source": []
  }
 ],
 "metadata": {
  "kernelspec": {
   "display_name": "Python 3",
   "language": "python",
   "name": "python3"
  },
  "language_info": {
   "codemirror_mode": {
    "name": "ipython",
    "version": 3
   },
   "file_extension": ".py",
   "mimetype": "text/x-python",
   "name": "python",
   "nbconvert_exporter": "python",
   "pygments_lexer": "ipython3",
   "version": "3.8.3"
  }
 },
 "nbformat": 4,
 "nbformat_minor": 4
}
