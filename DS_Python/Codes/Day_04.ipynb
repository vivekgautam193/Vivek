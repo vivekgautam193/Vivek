{
 "cells": [
  {
   "cell_type": "markdown",
   "metadata": {},
   "source": [
    "### + * with list or tuples ---> repeats"
   ]
  },
  {
   "cell_type": "code",
   "execution_count": 1,
   "metadata": {},
   "outputs": [
    {
     "data": {
      "text/plain": [
       "[4, 5, 6, 4, 5, 6, 4, 5, 6]"
      ]
     },
     "execution_count": 1,
     "metadata": {},
     "output_type": "execute_result"
    }
   ],
   "source": [
    "[4,5,6]*3"
   ]
  },
  {
   "cell_type": "code",
   "execution_count": 5,
   "metadata": {},
   "outputs": [
    {
     "data": {
      "text/plain": [
       "(4, 5, 6, 4, 5, 6, 4, 5, 6, 4, 5, 6)"
      ]
     },
     "execution_count": 5,
     "metadata": {},
     "output_type": "execute_result"
    }
   ],
   "source": [
    "(4,5,6) * 4"
   ]
  },
  {
   "cell_type": "code",
   "execution_count": 9,
   "metadata": {},
   "outputs": [
    {
     "data": {
      "text/plain": [
       "(4, 5, 6, 4, 5, 6)"
      ]
     },
     "execution_count": 9,
     "metadata": {},
     "output_type": "execute_result"
    }
   ],
   "source": [
    "(4,5,6) *"
   ]
  },
  {
   "cell_type": "markdown",
   "metadata": {},
   "source": [
    "# Conditional Statements "
   ]
  },
  {
   "cell_type": "raw",
   "metadata": {},
   "source": [
    "if conditional expression :\n",
    "    statement1\n",
    "    statement2\n",
    "    statement3\n",
    "else : #(optional)\n",
    "    statements if false"
   ]
  },
  {
   "cell_type": "code",
   "execution_count": 4,
   "metadata": {},
   "outputs": [],
   "source": [
    "# lets an input of a number & print even ?"
   ]
  },
  {
   "cell_type": "code",
   "execution_count": 5,
   "metadata": {},
   "outputs": [
    {
     "name": "stdin",
     "output_type": "stream",
     "text": [
      "Please enter a number 34\n"
     ]
    }
   ],
   "source": [
    "# input a nummber from a user\n",
    "num = input('Please enter a number')"
   ]
  },
  {
   "cell_type": "code",
   "execution_count": 7,
   "metadata": {},
   "outputs": [
    {
     "data": {
      "text/plain": [
       "('34', str)"
      ]
     },
     "execution_count": 7,
     "metadata": {},
     "output_type": "execute_result"
    }
   ],
   "source": [
    "num, type(num)"
   ]
  },
  {
   "cell_type": "code",
   "execution_count": 11,
   "metadata": {},
   "outputs": [
    {
     "name": "stdin",
     "output_type": "stream",
     "text": [
      "Please enter a number 43\n"
     ]
    }
   ],
   "source": [
    "num = int(input('Please enter a number'))"
   ]
  },
  {
   "cell_type": "code",
   "execution_count": 13,
   "metadata": {},
   "outputs": [
    {
     "name": "stdout",
     "output_type": "stream",
     "text": [
      "43 is Odd\n"
     ]
    }
   ],
   "source": [
    "if num % 2 == 0 :\n",
    "    print(num, 'is Even')\n",
    "else :\n",
    "    print(num, 'is Odd')"
   ]
  },
  {
   "cell_type": "markdown",
   "metadata": {},
   "source": [
    "# Single Suite Statements"
   ]
  },
  {
   "cell_type": "code",
   "execution_count": 15,
   "metadata": {},
   "outputs": [
    {
     "name": "stdout",
     "output_type": "stream",
     "text": [
      "43 is Odd\n"
     ]
    }
   ],
   "source": [
    "if num % 2 == 0 :print(num, 'is Even')\n",
    "else :print(num, 'is Odd')"
   ]
  },
  {
   "cell_type": "code",
   "execution_count": 16,
   "metadata": {},
   "outputs": [],
   "source": [
    "# if the number is even then find squares & ccubes as re1 res2\n",
    "# if the number is odd then ccompute 6 timmes the number & 10 times thenumber as res1 & res2"
   ]
  },
  {
   "cell_type": "code",
   "execution_count": 17,
   "metadata": {},
   "outputs": [
    {
     "name": "stdin",
     "output_type": "stream",
     "text": [
      "Please enter a number 55\n"
     ]
    }
   ],
   "source": [
    "num = int(input('Please enter a number'))\n",
    "if num % 2 == 0:\n",
    "    res1 = num**2\n",
    "    res2 = num**3\n",
    "else :\n",
    "    res1 = 6*num\n",
    "    res2 = 10*num"
   ]
  },
  {
   "cell_type": "code",
   "execution_count": 18,
   "metadata": {},
   "outputs": [],
   "source": [
    "# grade : \n",
    "# 90 & above ---> A\n",
    "#  75  -  90 ---> B\n",
    "#  55  -  75 ---> C\n",
    "#  35  -  55 ---> D\n",
    "#  below  35 ---> F"
   ]
  },
  {
   "cell_type": "code",
   "execution_count": 12,
   "metadata": {},
   "outputs": [
    {
     "data": {
      "text/plain": [
       "10"
      ]
     },
     "execution_count": 12,
     "metadata": {},
     "output_type": "execute_result"
    }
   ],
   "source": [
    "8^2"
   ]
  },
  {
   "cell_type": "code",
   "execution_count": 11,
   "metadata": {},
   "outputs": [
    {
     "data": {
      "text/plain": [
       "'D'"
      ]
     },
     "execution_count": 11,
     "metadata": {},
     "output_type": "execute_result"
    }
   ],
   "source": [
    "marks = 45\n",
    "if marks >= 90: grade = 'A'\n",
    "else :\n",
    "    if marks >= 75 : grade = 'B'\n",
    "    else :\n",
    "        if marks >= 55 : grade = 'C'\n",
    "        else :\n",
    "            if marks >= 35 : grade = 'D'\n",
    "            else : grade = 'F'\n",
    "grade "
   ]
  },
  {
   "cell_type": "code",
   "execution_count": 13,
   "metadata": {},
   "outputs": [
    {
     "data": {
      "text/plain": [
       "'D'"
      ]
     },
     "execution_count": 13,
     "metadata": {},
     "output_type": "execute_result"
    }
   ],
   "source": [
    "marks = 45\n",
    "if marks >= 90: grade = 'A'\n",
    "elif marks >= 75 : grade = 'B'\n",
    "elif marks >= 55 : grade = 'C'\n",
    "elif marks >= 35 : grade = 'D'\n",
    "else : grade = 'F'\n",
    "grade "
   ]
  },
  {
   "cell_type": "raw",
   "metadata": {},
   "source": [
    "discount to its members as 15% if purchase is 500 & above\n",
    "discounts to non members as 10% if purchase is 1000 & above"
   ]
  },
  {
   "cell_type": "code",
   "execution_count": 14,
   "metadata": {},
   "outputs": [],
   "source": [
    "membership = 'Y'\n",
    "amount = 2300\n",
    "if (membership == \"Y\") and (amount >= 500):\n",
    "    disc = 0.15\n",
    "elif (membership == 'N') and(amount >= 1000):\n",
    "    disc = 0.10\n",
    "else:\n",
    "    disc = 0 "
   ]
  },
  {
   "cell_type": "raw",
   "metadata": {},
   "source": [
    "and : logical and\n",
    "or  : logical or"
   ]
  },
  {
   "cell_type": "code",
   "execution_count": 15,
   "metadata": {},
   "outputs": [
    {
     "data": {
      "text/plain": [
       "True"
      ]
     },
     "execution_count": 15,
     "metadata": {},
     "output_type": "execute_result"
    }
   ],
   "source": [
    "True or False"
   ]
  },
  {
   "cell_type": "code",
   "execution_count": 16,
   "metadata": {},
   "outputs": [
    {
     "data": {
      "text/plain": [
       "True"
      ]
     },
     "execution_count": 16,
     "metadata": {},
     "output_type": "execute_result"
    }
   ],
   "source": [
    "True | False"
   ]
  },
  {
   "cell_type": "code",
   "execution_count": 10,
   "metadata": {},
   "outputs": [
    {
     "data": {
      "text/plain": [
       "True"
      ]
     },
     "execution_count": 10,
     "metadata": {},
     "output_type": "execute_result"
    }
   ],
   "source": [
    "True & True == True\n",
    "True & False == False\n",
    "False & True == False\n",
    "False & False == False\n",
    "\n",
    "True | True == True\n",
    "True | False == True\n",
    "False | True == True\n",
    "False | False == False"
   ]
  },
  {
   "cell_type": "code",
   "execution_count": 17,
   "metadata": {},
   "outputs": [
    {
     "name": "stdout",
     "output_type": "stream",
     "text": [
      "Which country ? India\n",
      "Visa Required\n"
     ]
    }
   ],
   "source": [
    "countries = ['Malaysia', 'Bhutan', 'Indonesia', 'Nepal', 'Mauritius',  'Cook Islands','Fiji',  'Barbados',\n",
    "            'British Virgin Islands', 'Dominica','Grenada','Haiti','Jamaica','Montserrat','St. Kitts and Nevis',\n",
    "            'St. Vincent and the Grenadines','Trinidad and Tobago',\n",
    "            'El Salvador', 'Qatar']\n",
    "country = input('Which country ? ')\n",
    "if country in countries :\n",
    "    print('Visa not required')\n",
    "else : print('Visa Required')"
   ]
  },
  {
   "cell_type": "code",
   "execution_count": 32,
   "metadata": {},
   "outputs": [
    {
     "ename": "SyntaxError",
     "evalue": "invalid syntax (<ipython-input-32-9cb5d20b8a44>, line 3)",
     "output_type": "error",
     "traceback": [
      "\u001b[1;36m  File \u001b[1;32m\"<ipython-input-32-9cb5d20b8a44>\"\u001b[1;36m, line \u001b[1;32m3\u001b[0m\n\u001b[1;33m    if .lower() in name.lower():print('True')\u001b[0m\n\u001b[1;37m       ^\u001b[0m\n\u001b[1;31mSyntaxError\u001b[0m\u001b[1;31m:\u001b[0m invalid syntax\n"
     ]
    }
   ],
   "source": [
    "name = 'Vivek'\n",
    "n = 'A'\n",
    "if .lower() in name.lower():print('True')"
   ]
  },
  {
   "cell_type": "code",
   "execution_count": 22,
   "metadata": {},
   "outputs": [
    {
     "data": {
      "text/plain": [
       "False"
      ]
     },
     "execution_count": 22,
     "metadata": {},
     "output_type": "execute_result"
    }
   ],
   "source": [
    "'A' == 'a'"
   ]
  },
  {
   "cell_type": "code",
   "execution_count": 44,
   "metadata": {},
   "outputs": [],
   "source": [
    "names = ['Nimisha', 'Jason', 'Wells', 'ria', 'KAREN']"
   ]
  },
  {
   "cell_type": "code",
   "execution_count": 43,
   "metadata": {},
   "outputs": [
    {
     "name": "stdin",
     "output_type": "stream",
     "text": [
      "Enter a name  NIMISHA\n"
     ]
    }
   ],
   "source": [
    "name = input('Enter a name ')"
   ]
  },
  {
   "cell_type": "code",
   "execution_count": 48,
   "metadata": {},
   "outputs": [],
   "source": [
    "names[0]= names[0].upper()"
   ]
  },
  {
   "cell_type": "markdown",
   "metadata": {},
   "source": [
    "# Loops : iterations "
   ]
  },
  {
   "cell_type": "code",
   "execution_count": 1,
   "metadata": {},
   "outputs": [
    {
     "name": "stdout",
     "output_type": "stream",
     "text": [
      "Nimisha\n",
      "Nimisha\n",
      "Nimisha\n",
      "Nimisha\n",
      "Nimisha\n",
      "Nimisha\n",
      "Nimisha\n",
      "Nimisha\n",
      "Nimisha\n",
      "Nimisha\n"
     ]
    }
   ],
   "source": [
    "print('Nimisha')\n",
    "print('Nimisha')\n",
    "print('Nimisha')\n",
    "print('Nimisha')\n",
    "print('Nimisha')\n",
    "print('Nimisha')\n",
    "print('Nimisha')\n",
    "print('Nimisha')\n",
    "print('Nimisha')\n",
    "print('Nimisha')\n"
   ]
  },
  {
   "cell_type": "raw",
   "metadata": {},
   "source": [
    "1. for loop : we are certain about the number of iterations\n",
    "2. while loop : iterations depend on a condition"
   ]
  },
  {
   "cell_type": "raw",
   "metadata": {},
   "source": [
    "for loop_variables in iteration_object :\n",
    "    statement 1\n",
    "    statement 2"
   ]
  },
  {
   "cell_type": "code",
   "execution_count": 2,
   "metadata": {},
   "outputs": [
    {
     "name": "stdout",
     "output_type": "stream",
     "text": [
      "Nimisha\n",
      "Nimisha\n",
      "Nimisha\n",
      "Nimisha\n",
      "Nimisha\n",
      "Nimisha\n",
      "Nimisha\n",
      "Nimisha\n",
      "Nimisha\n",
      "Nimisha\n"
     ]
    }
   ],
   "source": [
    "for count in (1,2,3,4,5,6,7,8,9,10):\n",
    "    print('Nimisha')"
   ]
  },
  {
   "cell_type": "markdown",
   "metadata": {},
   "source": [
    "## to create a range of numbers in python using a builtin we use range function\n",
    "## - range(stop)\n",
    "## - range(start , stop [ ,step])"
   ]
  },
  {
   "cell_type": "code",
   "execution_count": 3,
   "metadata": {},
   "outputs": [
    {
     "data": {
      "text/plain": [
       "range(0, 10)"
      ]
     },
     "execution_count": 3,
     "metadata": {},
     "output_type": "execute_result"
    }
   ],
   "source": [
    "range(10) # range object "
   ]
  },
  {
   "cell_type": "code",
   "execution_count": 4,
   "metadata": {},
   "outputs": [
    {
     "data": {
      "text/plain": [
       "[0, 1, 2, 3, 4, 5, 6, 7, 8, 9]"
      ]
     },
     "execution_count": 4,
     "metadata": {},
     "output_type": "execute_result"
    }
   ],
   "source": [
    "list(range(10))"
   ]
  },
  {
   "cell_type": "code",
   "execution_count": 6,
   "metadata": {},
   "outputs": [
    {
     "data": {
      "text/plain": [
       "[1, 2, 3, 4, 5, 6, 7, 8, 9, 10]"
      ]
     },
     "execution_count": 6,
     "metadata": {},
     "output_type": "execute_result"
    }
   ],
   "source": [
    "list(range(1, 11))"
   ]
  },
  {
   "cell_type": "code",
   "execution_count": 34,
   "metadata": {},
   "outputs": [
    {
     "name": "stdout",
     "output_type": "stream",
     "text": [
      "Vivek Gautam\n",
      "Vivek Gautam\n",
      "Vivek Gautam\n",
      "Vivek Gautam\n",
      "Vivek Gautam\n",
      "Vivek Gautam\n",
      "Vivek Gautam\n",
      "Vivek Gautam\n",
      "Vivek Gautam\n",
      "Vivek Gautam\n"
     ]
    }
   ],
   "source": [
    "for count in range(10):\n",
    "    print('Vivek Gautam')"
   ]
  },
  {
   "cell_type": "markdown",
   "metadata": {},
   "source": [
    "### 2. while loop : operates till a condition is true "
   ]
  },
  {
   "cell_type": "code",
   "execution_count": 8,
   "metadata": {},
   "outputs": [
    {
     "name": "stdout",
     "output_type": "stream",
     "text": [
      "Nimisha\n",
      "Nimisha\n",
      "Nimisha\n",
      "Nimisha\n",
      "Nimisha\n",
      "Nimisha\n",
      "Nimisha\n",
      "Nimisha\n",
      "Nimisha\n",
      "Nimisha\n"
     ]
    }
   ],
   "source": [
    "code = True\n",
    "count = 0\n",
    "while code:\n",
    "    print('Nimisha')\n",
    "    count += 1 # equivalent count = count + 1\n",
    "    if count == 10: code = False"
   ]
  },
  {
   "cell_type": "code",
   "execution_count": 9,
   "metadata": {},
   "outputs": [
    {
     "name": "stdout",
     "output_type": "stream",
     "text": [
      "Nimisha\n",
      "Nimisha\n",
      "Nimisha\n",
      "Nimisha\n",
      "Nimisha\n",
      "Nimisha\n",
      "Nimisha\n",
      "Nimisha\n",
      "Nimisha\n",
      "Nimisha\n"
     ]
    }
   ],
   "source": [
    "count = 0\n",
    "while count != 10:\n",
    "    print('Nimisha')\n",
    "    count += 1 # equivalent count = count + 1"
   ]
  },
  {
   "cell_type": "markdown",
   "metadata": {},
   "source": [
    "# convert all the country names to lower case"
   ]
  },
  {
   "cell_type": "code",
   "execution_count": 22,
   "metadata": {},
   "outputs": [],
   "source": []
  },
  {
   "cell_type": "code",
   "execution_count": 23,
   "metadata": {},
   "outputs": [
    {
     "name": "stdout",
     "output_type": "stream",
     "text": [
      "['malaysia', 'bhutan', 'indonesia', 'nepal', 'mauritius', 'cook islands', 'fiji', 'barbados', 'british virgin islands', 'dominica', 'grenada', 'haiti', 'jamaica', 'montserrat', 'st. kitts and nevis', 'st. vincent and the grenadines', 'trinidad and tobago', 'el salvador', 'qatar']\n"
     ]
    }
   ],
   "source": [
    "print(countries)"
   ]
  },
  {
   "cell_type": "code",
   "execution_count": 25,
   "metadata": {},
   "outputs": [],
   "source": [
    "countries = ['Malaysia', 'Bhutan', 'Indonesia', 'Nepal', 'Mauritius',  'Cook Islands','Fiji',  'Barbados',\n",
    "            'British Virgin Islands', 'Dominica','Grenada','Haiti','Jamaica','Montserrat','St. Kitts and Nevis',\n",
    "            'St. Vincent and the Grenadines','Trinidad and Tobago',\n",
    "            'El Salvador', 'Qatar']"
   ]
  },
  {
   "cell_type": "code",
   "execution_count": 25,
   "metadata": {},
   "outputs": [],
   "source": [
    "for index in range(len(countries)):\n",
    "    print(countries[index])\n",
    "    countries[index] = countries[index].lower()"
   ]
  },
  {
   "cell_type": "code",
   "execution_count": 25,
   "metadata": {},
   "outputs": [
    {
     "name": "stdin",
     "output_type": "stream",
     "text": [
      " enter country BHUTAN\n"
     ]
    },
    {
     "name": "stdout",
     "output_type": "stream",
     "text": [
      "Visa not required\n"
     ]
    }
   ],
   "source": [
    "country = input(' enter country')\n",
    "if country.lower() in countries :\n",
    "    print('Visa not required')\n",
    "else : print('Visa Required')"
   ]
  },
  {
   "cell_type": "code",
   "execution_count": 26,
   "metadata": {},
   "outputs": [
    {
     "name": "stdout",
     "output_type": "stream",
     "text": [
      "N\n",
      "i\n",
      "m\n",
      "i\n",
      "s\n",
      "h\n",
      "a\n"
     ]
    }
   ],
   "source": [
    "for char in 'Nimisha':\n",
    "    print(char)"
   ]
  },
  {
   "cell_type": "code",
   "execution_count": 27,
   "metadata": {},
   "outputs": [],
   "source": [
    "# factorial of a number using a for loop ?"
   ]
  },
  {
   "cell_type": "markdown",
   "metadata": {},
   "source": [
    "    - 5! = 5 * 4 * 3 * 2 *1\n",
    "    - n! = (n-0) * (n-1) * (n-2) * (n-3).... * (n - (n- 1))"
   ]
  },
  {
   "cell_type": "code",
   "execution_count": null,
   "metadata": {},
   "outputs": [],
   "source": [
    "fac = 1\n",
    "fac = fac * (n-0)\n",
    "fac = fac * (n-1)\n",
    "fac = fac * (n-2)\n"
   ]
  },
  {
   "cell_type": "code",
   "execution_count": 29,
   "metadata": {},
   "outputs": [
    {
     "name": "stdout",
     "output_type": "stream",
     "text": [
      "120\n"
     ]
    }
   ],
   "source": [
    "fac = 1\n",
    "n = 5\n",
    "for i in range(0, n):\n",
    "    fac *= (n-i)\n",
    "print(fac)"
   ]
  },
  {
   "cell_type": "code",
   "execution_count": 30,
   "metadata": {},
   "outputs": [
    {
     "name": "stdout",
     "output_type": "stream",
     "text": [
      "Factorial of  8 is 40320\n"
     ]
    }
   ],
   "source": [
    "num  = 8\n",
    "num_copy = num\n",
    "fac = 1\n",
    "while num > 1:\n",
    "    fac *= num # fac = fac * num\n",
    "    num -= 1   # num = num - 1\n",
    "print('Factorial of ', num_copy , 'is', fac)"
   ]
  },
  {
   "cell_type": "code",
   "execution_count": 31,
   "metadata": {},
   "outputs": [],
   "source": [
    "# prime numbers \n",
    "# check whether a number is prime or not ??\n",
    "# a number which is divisible by only 1 & itself i.e it should notr be divisible by any other number between 2 & number - 1"
   ]
  },
  {
   "cell_type": "code",
   "execution_count": 34,
   "metadata": {},
   "outputs": [
    {
     "name": "stdout",
     "output_type": "stream",
     "text": [
      "32  is  Non Prime\n",
      "31\n"
     ]
    }
   ],
   "source": [
    "number = 32\n",
    "res = 'Prime'\n",
    "for i in range(2, number):\n",
    "    if number % i == 0:\n",
    "        res = 'Non Prime'\n",
    "print(number ,  ' is ', res)\n",
    "print(i)"
   ]
  },
  {
   "cell_type": "markdown",
   "metadata": {},
   "source": [
    "# 32 is divisible by 2\n",
    "# FLow Control Statements\n",
    "- break : terminates the immediate loop as encountered the \n",
    "- continue : skips the remaining statements for that execution & mmoves on to the next iteration of that loop"
   ]
  },
  {
   "cell_type": "code",
   "execution_count": 36,
   "metadata": {},
   "outputs": [
    {
     "name": "stdout",
     "output_type": "stream",
     "text": [
      "33  is  Non Prime\n",
      "3\n"
     ]
    }
   ],
   "source": [
    "number = 33\n",
    "res = 'Prime'\n",
    "for i in range(2, number):\n",
    "    if number % i == 0:\n",
    "        res = 'Non Prime'\n",
    "        break\n",
    "print(number ,  ' is ', res)\n",
    "print(i)"
   ]
  },
  {
   "cell_type": "code",
   "execution_count": null,
   "metadata": {},
   "outputs": [],
   "source": [
    "# print a table of 2 3 and 4 \n",
    "# 2 --> 2+2 = 4\n",
    "# 3 --> 3+2 = 5\n",
    "# 4 --> 4+2"
   ]
  },
  {
   "cell_type": "code",
   "execution_count": null,
   "metadata": {},
   "outputs": [],
   "source": [
    "2 X 1 = 2\n",
    "2 X 2 = 4\n",
    "2 X 3 = 6\n",
    "2 X 4 = 8\n",
    "3 X 1 = 3\n",
    "3 X 2 = 6\n",
    "3 X 3 = 9\n",
    "3 X 4 = 12\n"
   ]
  },
  {
   "cell_type": "code",
   "execution_count": 39,
   "metadata": {},
   "outputs": [
    {
     "name": "stdout",
     "output_type": "stream",
     "text": [
      "\n",
      "Table of  2\n",
      "----------------\n",
      "2 X 1 = 2\n",
      "2 X 2 = 4\n",
      "2 X 3 = 6\n",
      "2 X 4 = 8\n",
      "End of Table\n",
      "\n",
      "Table of  3\n",
      "----------------\n",
      "3 X 1 = 3\n",
      "3 X 2 = 6\n",
      "3 X 3 = 9\n",
      "3 X 4 = 12\n",
      "3 X 5 = 15\n",
      "End of Table\n",
      "\n",
      "Table of  4\n",
      "----------------\n",
      "4 X 1 = 4\n",
      "4 X 2 = 8\n",
      "4 X 3 = 12\n",
      "4 X 4 = 16\n",
      "4 X 5 = 20\n",
      "4 X 6 = 24\n",
      "End of Table\n",
      "\n",
      "Table of  5\n",
      "----------------\n",
      "5 X 1 = 5\n",
      "5 X 2 = 10\n",
      "5 X 3 = 15\n",
      "5 X 4 = 20\n",
      "5 X 5 = 25\n",
      "5 X 6 = 30\n",
      "5 X 7 = 35\n",
      "End of Table\n"
     ]
    }
   ],
   "source": [
    "for i in range(2, 6):\n",
    "    print('\\nTable of ', i )\n",
    "    print('----------------')\n",
    "    for j in range(1,11):\n",
    "        if j > i+2:\n",
    "            break\n",
    "        print(i ,'X', j,'=', i*j)\n",
    "    print('End of Table')"
   ]
  },
  {
   "cell_type": "code",
   "execution_count": 41,
   "metadata": {},
   "outputs": [
    {
     "name": "stdout",
     "output_type": "stream",
     "text": [
      "\n",
      "Table of  2\n",
      "----------------\n",
      "2 X 1 = 2\n",
      "2 X 2 = 4\n",
      "2 X 3 = 6\n",
      "2 X 5 = 10\n",
      "2 X 6 = 12\n",
      "2 X 7 = 14\n",
      "2 X 8 = 16\n",
      "2 X 9 = 18\n",
      "2 X 10 = 20\n",
      "End of Table\n",
      "\n",
      "Table of  3\n",
      "----------------\n",
      "3 X 1 = 3\n",
      "3 X 2 = 6\n",
      "3 X 3 = 9\n",
      "3 X 4 = 12\n",
      "3 X 6 = 18\n",
      "3 X 7 = 21\n",
      "3 X 8 = 24\n",
      "3 X 9 = 27\n",
      "3 X 10 = 30\n",
      "End of Table\n",
      "\n",
      "Table of  4\n",
      "----------------\n",
      "4 X 1 = 4\n",
      "4 X 2 = 8\n",
      "4 X 3 = 12\n",
      "4 X 4 = 16\n",
      "4 X 5 = 20\n",
      "4 X 7 = 28\n",
      "4 X 8 = 32\n",
      "4 X 9 = 36\n",
      "4 X 10 = 40\n",
      "End of Table\n",
      "\n",
      "Table of  5\n",
      "----------------\n",
      "5 X 1 = 5\n",
      "5 X 2 = 10\n",
      "5 X 3 = 15\n",
      "5 X 4 = 20\n",
      "5 X 5 = 25\n",
      "5 X 6 = 30\n",
      "5 X 8 = 40\n",
      "5 X 9 = 45\n",
      "5 X 10 = 50\n",
      "End of Table\n"
     ]
    }
   ],
   "source": [
    "for i in range(2, 6):\n",
    "    print('\\nTable of ', i )\n",
    "    print('----------------')\n",
    "    for j in range(1,11):\n",
    "        if j == i+2:\n",
    "            continue\n",
    "        print(i ,'X', j,'=', i*j)\n",
    "    print('End of Table')"
   ]
  },
  {
   "cell_type": "code",
   "execution_count": 47,
   "metadata": {},
   "outputs": [
    {
     "name": "stdout",
     "output_type": "stream",
     "text": [
      "25 Number is prime\n",
      "25 Number is prime\n",
      "25 Number is prime\n",
      "25 Number is Non prime\n"
     ]
    }
   ],
   "source": [
    "n = 25\n",
    "for i in range(2,n): \n",
    "    if(n%i)== 0 : \n",
    "        print(n,'Number is Non prime')\n",
    "        break\n",
    "    else:         \n",
    "        print(n,'Number is prime')"
   ]
  },
  {
   "cell_type": "markdown",
   "metadata": {},
   "source": [
    "### For Else Statement\n",
    "### Else block it is execcuted if the loop terminates naturally / on completion "
   ]
  },
  {
   "cell_type": "code",
   "execution_count": 49,
   "metadata": {},
   "outputs": [
    {
     "name": "stdout",
     "output_type": "stream",
     "text": [
      "7 Number is prime\n"
     ]
    }
   ],
   "source": [
    "n = 7\n",
    "for i in range(2,n): \n",
    "    if(n%i)== 0 : \n",
    "        print(n,'Number is Non prime')\n",
    "        break\n",
    "else:         \n",
    "    print(n,'Number is prime')"
   ]
  },
  {
   "cell_type": "code",
   "execution_count": 50,
   "metadata": {},
   "outputs": [
    {
     "name": "stdout",
     "output_type": "stream",
     "text": [
      "Non Prime\n"
     ]
    }
   ],
   "source": [
    "number  = 35\n",
    "for i in range(2, number):\n",
    "    if number % i == 0:\n",
    "        print('Non Prime')\n",
    "        break\n",
    "else : print('Prime')"
   ]
  },
  {
   "cell_type": "code",
   "execution_count": 52,
   "metadata": {},
   "outputs": [
    {
     "name": "stdout",
     "output_type": "stream",
     "text": [
      "Prime\n"
     ]
    }
   ],
   "source": [
    "number  = 3\n",
    "for i in range(2, number):\n",
    "    if number % i == 0:\n",
    "        print('Non Prime')\n",
    "        print('break encountered')\n",
    "        break\n",
    "else : print('Prime')"
   ]
  },
  {
   "cell_type": "code",
   "execution_count": 53,
   "metadata": {},
   "outputs": [
    {
     "name": "stdout",
     "output_type": "stream",
     "text": [
      "0\n",
      "1\n",
      "2\n",
      "3\n",
      "4\n",
      "5\n",
      "Finally Finished\n"
     ]
    }
   ],
   "source": [
    "for i in range(6):\n",
    "    print(i)\n",
    "else :\n",
    "    print('Finally Finished')"
   ]
  },
  {
   "cell_type": "code",
   "execution_count": null,
   "metadata": {},
   "outputs": [],
   "source": []
  }
 ],
 "metadata": {
  "kernelspec": {
   "display_name": "Python 3",
   "language": "python",
   "name": "python3"
  },
  "language_info": {
   "codemirror_mode": {
    "name": "ipython",
    "version": 3
   },
   "file_extension": ".py",
   "mimetype": "text/x-python",
   "name": "python",
   "nbconvert_exporter": "python",
   "pygments_lexer": "ipython3",
   "version": "3.8.3"
  }
 },
 "nbformat": 4,
 "nbformat_minor": 4
}
