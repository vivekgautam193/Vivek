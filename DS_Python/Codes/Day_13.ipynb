{
 "cells": [
  {
   "cell_type": "code",
   "execution_count": 1,
   "metadata": {},
   "outputs": [],
   "source": [
    "import numpy as np"
   ]
  },
  {
   "cell_type": "code",
   "execution_count": 2,
   "metadata": {},
   "outputs": [],
   "source": [
    "import pandas as pd"
   ]
  },
  {
   "cell_type": "code",
   "execution_count": 4,
   "metadata": {},
   "outputs": [],
   "source": [
    "playstore = pd.read_csv('/Users/nimisha/Desktop/Purdue/Python/googleplaystore.csv')"
   ]
  },
  {
   "cell_type": "code",
   "execution_count": 8,
   "metadata": {},
   "outputs": [
    {
     "data": {
      "text/plain": [
       "0           Photo Editor & Candy Camera & Grid & ScrapBook\n",
       "1                                      Coloring book moana\n",
       "2        U Launcher Lite – FREE Live Cool Themes, Hide ...\n",
       "3                                    Sketch - Draw & Paint\n",
       "4                    Pixel Draw - Number Art Coloring Book\n",
       "                               ...                        \n",
       "10836                                     Sya9a Maroc - FR\n",
       "10837                     Fr. Mike Schmitz Audio Teachings\n",
       "10838                               Parkinson Exercices FR\n",
       "10839                        The SCP Foundation DB fr nn5n\n",
       "10840        iHoroscope - 2018 Daily Horoscope & Astrology\n",
       "Name: App, Length: 10841, dtype: object"
      ]
     },
     "execution_count": 8,
     "metadata": {},
     "output_type": "execute_result"
    }
   ],
   "source": [
    "playstore['App']"
   ]
  },
  {
   "cell_type": "code",
   "execution_count": 17,
   "metadata": {},
   "outputs": [
    {
     "data": {
      "text/plain": [
       "array([6603, 9050, 9701,   97, 6685, 2310, 3568, 6389,  298,  628])"
      ]
     },
     "execution_count": 17,
     "metadata": {},
     "output_type": "execute_result"
    }
   ],
   "source": [
    "np.random.seed(123)\n",
    "nrows = playstore.shape[0]\n",
    "rand_ind = np.random.choice(range(nrows), 10, replace = False)\n",
    "rand_ind "
   ]
  },
  {
   "cell_type": "code",
   "execution_count": null,
   "metadata": {},
   "outputs": [],
   "source": []
  },
  {
   "cell_type": "markdown",
   "metadata": {},
   "source": [
    "# Confidene Interval"
   ]
  },
  {
   "cell_type": "markdown",
   "metadata": {},
   "source": [
    "* Compute z1 & z2 for:\n",
    "        - area on left  of z1 is 2.5%\n",
    "        - area on right of z2 is 2.5%"
   ]
  },
  {
   "cell_type": "code",
   "execution_count": 18,
   "metadata": {},
   "outputs": [],
   "source": [
    "import scipy.stats as stats\n",
    "from math import sqrt"
   ]
  },
  {
   "cell_type": "code",
   "execution_count": 21,
   "metadata": {},
   "outputs": [],
   "source": [
    "z1 = stats.norm.ppf(0.025, loc = 0, scale = 1)\n",
    "z2 = stats.norm.ppf(1 - 0.025, loc = 0, scale = 1)"
   ]
  },
  {
   "cell_type": "code",
   "execution_count": 22,
   "metadata": {},
   "outputs": [
    {
     "data": {
      "text/plain": [
       "(-1.9599639845400545, 1.959963984540054)"
      ]
     },
     "execution_count": 22,
     "metadata": {},
     "output_type": "execute_result"
    }
   ],
   "source": [
    "z1, z2"
   ]
  },
  {
   "cell_type": "markdown",
   "metadata": {},
   "source": [
    "        - The Wall Street Journal reported that automobile crashes cost the United States $162 billion annually (TheWall Street Journal, March 5, 2008). The average cost per person for crashes in the Tampa, Florida, area was reported to be $1599. Suppose this average cost was based on a sample of 50 persons who had been involved in car crashes and that the population standard deviation is σ = $600. What is the margin of error for a 95% confidence interval? What would you recommend if the study required a margin of error of $150 or less?"
   ]
  },
  {
   "cell_type": "markdown",
   "metadata": {},
   "source": [
    "### margin of error = z (alpha/2) * sigma/sqrt(n)"
   ]
  },
  {
   "cell_type": "code",
   "execution_count": 25,
   "metadata": {},
   "outputs": [],
   "source": [
    "xbar = 1599\n",
    "sigma = 600\n",
    "n = 50\n",
    "c = 0.95\n",
    "alpha = 1 - c\n",
    "z = stats.norm.ppf(alpha/2)\n",
    "z * sigma/ sqrt(n)\n",
    "moe = z * sigma/ sqrt(n)"
   ]
  },
  {
   "cell_type": "code",
   "execution_count": 26,
   "metadata": {},
   "outputs": [],
   "source": [
    "mu1 = xbar + moe\n",
    "mu2 = xbar - moe"
   ]
  },
  {
   "cell_type": "code",
   "execution_count": 28,
   "metadata": {},
   "outputs": [
    {
     "name": "stdout",
     "output_type": "stream",
     "text": [
      "95% CI = 1433 - 1765\n"
     ]
    }
   ],
   "source": [
    "print('95% CI = {:.0f} - {:.0f}'.format(mu1,mu2))"
   ]
  },
  {
   "cell_type": "code",
   "execution_count": 29,
   "metadata": {},
   "outputs": [
    {
     "data": {
      "text/plain": [
       "'i have 100 books and have read 10 of them in 2 days'"
      ]
     },
     "execution_count": 29,
     "metadata": {},
     "output_type": "execute_result"
    }
   ],
   "source": [
    "'i have {} books and have read {} of them in {} days'.format(100, 10,2)"
   ]
  },
  {
   "cell_type": "code",
   "execution_count": 31,
   "metadata": {},
   "outputs": [
    {
     "data": {
      "text/plain": [
       "'the price of winning is 59653.91. i want to win badly! '"
      ]
     },
     "execution_count": 31,
     "metadata": {},
     "output_type": "execute_result"
    }
   ],
   "source": [
    "'the price of winning is {:.2f}. i want to win badly! '.format(3400273/57)"
   ]
  },
  {
   "cell_type": "code",
   "execution_count": 33,
   "metadata": {},
   "outputs": [
    {
     "name": "stdout",
     "output_type": "stream",
     "text": [
      "For sample size 45 moe = 175.30\n",
      "For sample size 50 moe = 166.31\n",
      "For sample size 75 moe = 135.79\n"
     ]
    }
   ],
   "source": [
    "xbar = 1599\n",
    "sigma = 600\n",
    "n = [45, 50, 75]\n",
    "c = 0.95\n",
    "alpha = 1 - c\n",
    "z = stats.norm.ppf(alpha/2)\n",
    "for size in n: \n",
    "    moe = z * sigma/ sqrt(size)\n",
    "    print('For sample size {} moe = {:.2f}'.format(size, abs(moe)))\n",
    "    "
   ]
  },
  {
   "cell_type": "markdown",
   "metadata": {},
   "source": [
    "    - Nielsen Media Research conducted a study of household television viewing times during the 8 p.m. to 11 p.m. time period. The data contained in the file named Nielsen are consistent with the findings reported (The World Almanac, 2003). Based upon past studies the population standard deviation is assumed known with σ = 3.5 hours. Develop a 95% confidence interval estimate of the mean television viewing time per week during the 8 p.m. to 11 p.m. time period.\n"
   ]
  },
  {
   "cell_type": "code",
   "execution_count": 34,
   "metadata": {},
   "outputs": [],
   "source": [
    "nielsen = pd.read_csv('~/Downloads/Nielsen.CSV')"
   ]
  },
  {
   "cell_type": "markdown",
   "metadata": {},
   "source": [
    "## mu = xbar +/- z * sigma/sqrt(n)"
   ]
  },
  {
   "cell_type": "code",
   "execution_count": 41,
   "metadata": {},
   "outputs": [
    {
     "name": "stdout",
     "output_type": "stream",
     "text": [
      "95% CI = 8.1 - 8.9\n"
     ]
    }
   ],
   "source": [
    "# sample_mean \n",
    "xbar = nielsen.Hours.mean()\n",
    "sigma = 3.5\n",
    "n = nielsen.Hours.size\n",
    "c = 0.95\n",
    "alpha = 1 - c\n",
    "z = stats.norm.ppf(alpha/2)\n",
    "moe = z * sigma/ sqrt(n)\n",
    "mu1 = xbar + moe\n",
    "mu2 = xbar - moe\n",
    "print('95% CI = {:.1f} - {:.1f}'.format(mu1,mu2))"
   ]
  },
  {
   "cell_type": "markdown",
   "metadata": {},
   "source": [
    "## t distribution :"
   ]
  },
  {
   "cell_type": "code",
   "execution_count": 42,
   "metadata": {},
   "outputs": [
    {
     "name": "stdout",
     "output_type": "stream",
     "text": [
      "95% CI = 8.1 - 8.9\n"
     ]
    }
   ],
   "source": [
    "# assume sigma was unknown \n",
    "xbar = nielsen.Hours.mean()\n",
    "s = nielsen.Hours.std()\n",
    "n = nielsen.Hours.size\n",
    "df = n-1\n",
    "c = 0.95\n",
    "alpha = 1 - c\n",
    "t = stats.t.ppf(alpha/2, df)\n",
    "moe = t * s/ sqrt(n)\n",
    "mu1 = xbar + moe\n",
    "mu2 = xbar - moe\n",
    "print('95% CI = {:.1f} - {:.1f}'.format(mu1, mu2))"
   ]
  },
  {
   "cell_type": "markdown",
   "metadata": {},
   "source": [
    "## direct function for confidenncce Interval"
   ]
  },
  {
   "cell_type": "code",
   "execution_count": 47,
   "metadata": {},
   "outputs": [
    {
     "data": {
      "text/plain": [
       "array([8.1, 8.9])"
      ]
     },
     "execution_count": 47,
     "metadata": {},
     "output_type": "execute_result"
    }
   ],
   "source": [
    "np.array(stats.norm.interval(0.95, loc = nielsen.Hours.mean(), scale  = 3.5/sqrt(nielsen.Hours.size))).round(1)"
   ]
  },
  {
   "cell_type": "code",
   "execution_count": 46,
   "metadata": {},
   "outputs": [
    {
     "data": {
      "text/plain": [
       "array([8.1, 8.9])"
      ]
     },
     "execution_count": 46,
     "metadata": {},
     "output_type": "execute_result"
    }
   ],
   "source": [
    "np.array(stats.t.interval(0.95,df = nielsen.Hours.size -1, \n",
    "                          loc = nielsen.Hours.mean(), \n",
    "                          scale  =nielsen.Hours.std()/sqrt(nielsen.Hours.size))).round(1)"
   ]
  },
  {
   "cell_type": "code",
   "execution_count": null,
   "metadata": {},
   "outputs": [],
   "source": []
  }
 ],
 "metadata": {
  "kernelspec": {
   "display_name": "Python 3",
   "language": "python",
   "name": "python3"
  },
  "language_info": {
   "codemirror_mode": {
    "name": "ipython",
    "version": 3
   },
   "file_extension": ".py",
   "mimetype": "text/x-python",
   "name": "python",
   "nbconvert_exporter": "python",
   "pygments_lexer": "ipython3",
   "version": "3.7.6"
  }
 },
 "nbformat": 4,
 "nbformat_minor": 4
}
