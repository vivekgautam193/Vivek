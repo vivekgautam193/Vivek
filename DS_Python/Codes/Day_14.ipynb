{
 "cells": [
  {
   "cell_type": "raw",
   "metadata": {},
   "source": [
    "An automatic bottling machine fills cola into 1 lt (1000 cm3) bottles. A consumer advocate wants to test the null hypothesis that the average amount filed by the machine into the bottle is at least 1000 cm3. A random sample of 40 bottles coming out of the machine was selected and the exact content of the selected bottles are recorded. The sample mean was 999.6 cm3. The population standard deviation is known from the past experience to be 1.30 cm3.r\n",
    "test Hypothesis @ alpha = 5%"
   ]
  },
  {
   "cell_type": "code",
   "execution_count": 1,
   "metadata": {},
   "outputs": [],
   "source": [
    "import scipy.stats as stats\n",
    "from math import sqrt"
   ]
  },
  {
   "cell_type": "raw",
   "metadata": {},
   "source": [
    "H0 : mu >= mu0 | mu >= 1000\n",
    "Ha : mu < mu0  | mu <  1000"
   ]
  },
  {
   "cell_type": "code",
   "execution_count": 6,
   "metadata": {},
   "outputs": [
    {
     "data": {
      "text/plain": [
       "0.02582634748790911"
      ]
     },
     "execution_count": 6,
     "metadata": {},
     "output_type": "execute_result"
    }
   ],
   "source": [
    "# sample mean or evidence\n",
    "xbar = 999.6\n",
    "\n",
    "# sample size | n\n",
    "n = 40\n",
    "\n",
    "# Assumed pop mean : \n",
    "mu0 = 1000\n",
    "\n",
    "# givenb pop standard deviation \n",
    "sigma = 1.3\n",
    "\n",
    "\n",
    "z = (xbar - mu0 )/ (sigma/sqrt(n))\n",
    "\n",
    "p_value = stats.norm.cdf(z)\n",
    "\n",
    "p_value"
   ]
  },
  {
   "cell_type": "markdown",
   "metadata": {},
   "source": [
    "## since p value < alpha ( 0.025 < 0.05 ) hence we rejec the null hypothesis "
   ]
  },
  {
   "cell_type": "markdown",
   "metadata": {},
   "source": [
    "### Conclusion : true mean is less the assumed mean \n",
    "### Actual content is less than the claim"
   ]
  },
  {
   "cell_type": "raw",
   "metadata": {},
   "source": [
    "In a study entitled How Undergraduate Students Use Credit Cards, it was reported that undergraduate students have a mean credit card balance of $3173 (Sallie Mae, April 2009).  This figure was an all-time high and had increased 44% over the previous five years. Assume that a current study is being conducted to determine if it can be concluded that the mean credit card balance for undergraduate students has continued to increase compared to the April 2009 report. Based on previous studies, use a population standard deviation σ = $1000.\n",
    "a.\tState the null and alternative hypotheses.\n",
    "b.\tWhat is the p-value for a sample of 180 undergraduate students with a sample mean credit card balance of $3325?\n"
   ]
  },
  {
   "cell_type": "markdown",
   "metadata": {},
   "source": [
    "- Ha : mu > 3173\n",
    "- H0 : mu <= 3173"
   ]
  },
  {
   "cell_type": "markdown",
   "metadata": {},
   "source": [
    "### this is a right tail test "
   ]
  },
  {
   "cell_type": "code",
   "execution_count": 7,
   "metadata": {},
   "outputs": [
    {
     "data": {
      "text/plain": [
       "0.02071034728127641"
      ]
     },
     "execution_count": 7,
     "metadata": {},
     "output_type": "execute_result"
    }
   ],
   "source": [
    "# sample mean or evidence\n",
    "xbar = 3325\n",
    "\n",
    "# sample size | n\n",
    "n = 180\n",
    "\n",
    "# Assumed pop mean : \n",
    "mu0 = 3173\n",
    "\n",
    "# givenb pop standard deviation \n",
    "sigma = 1000\n",
    "\n",
    "z = (xbar - mu0 )/ (sigma/sqrt(n))\n",
    "\n",
    "p_value = 1 - stats.norm.cdf(z)\n",
    "\n",
    "p_value"
   ]
  },
  {
   "cell_type": "markdown",
   "metadata": {},
   "source": [
    "## Conclusions\n",
    "    - p value < alpha | 0.02 < 0.05 \n",
    "    - Reject null \n",
    "    - mean credit card balance is still increasing "
   ]
  },
  {
   "cell_type": "raw",
   "metadata": {},
   "source": [
    "3. Wall Street securities firms paid out record year-end bonuses of $125,500 per employee for 2005 (Fortune, February 6, 2006). Suppose we would like to take a sample of employees at the Jones & Ryan securities firm to see whether the mean year-end bonus is different from the reported mean of $125,500 for the population.\n",
    "a.\tState the null and alternative hypotheses you would use to test whether the year-end bonuses paid by Jones & Ryan were different from the population mean.\n",
    "b.\tSuppose a sample of 40 Jones & Ryan employees showed a sample mean year-end bonus of $118,000. Assume a population standard deviation of  $30,000 and compute the p-value.\n",
    "c.\tWith α = .05 as the level of significance, what is your conclusion?\n"
   ]
  },
  {
   "cell_type": "raw",
   "metadata": {},
   "source": [
    "H0 : mu == 125K\n",
    "Ha : mu != 125K"
   ]
  },
  {
   "cell_type": "code",
   "execution_count": 9,
   "metadata": {},
   "outputs": [
    {
     "data": {
      "text/plain": [
       "0.140016503197169"
      ]
     },
     "execution_count": 9,
     "metadata": {},
     "output_type": "execute_result"
    }
   ],
   "source": [
    "# sample mean or evidence\n",
    "xbar = 118\n",
    "\n",
    "# sample size | n\n",
    "n = 40\n",
    "\n",
    "# Assumed pop mean : \n",
    "mu0 = 125\n",
    "\n",
    "# givenb pop standard deviation \n",
    "sigma = 30\n",
    "\n",
    "z = (xbar - mu0 )/ (sigma/sqrt(n))\n",
    "\n",
    "z\n",
    "if z <0 :\n",
    "    p_value = stats.norm.cdf(z) * 2\n",
    "else :\n",
    "    p_value = (1 - stats.norm.cdf(z)) * 2\n",
    "    \n",
    "p_value"
   ]
  },
  {
   "cell_type": "markdown",
   "metadata": {},
   "source": [
    "## Conclusion :\n",
    "    - pvalue > alpha | 0.14 >0.05 \n",
    "    - we fail tio reject null\n",
    "    - there is no significant difference between the overall mean & meann bonuses & jones& ryans"
   ]
  },
  {
   "cell_type": "code",
   "execution_count": 10,
   "metadata": {},
   "outputs": [],
   "source": [
    "import pandas as pd"
   ]
  },
  {
   "cell_type": "code",
   "execution_count": 11,
   "metadata": {},
   "outputs": [],
   "source": [
    "cars = pd.read_csv('~/Desktop/Purdue/Python/Batch_2/Data/cars.csv') "
   ]
  },
  {
   "cell_type": "markdown",
   "metadata": {},
   "source": [
    "# T test : one sample t test "
   ]
  },
  {
   "cell_type": "raw",
   "metadata": {},
   "source": [
    "Ha : mu price of Sedan is not greater than 35000 | mu < 35000\n",
    "H0 : mu price if sedan is 35000 or more | mu >= 35000"
   ]
  },
  {
   "cell_type": "code",
   "execution_count": 21,
   "metadata": {},
   "outputs": [
    {
     "name": "stdout",
     "output_type": "stream",
     "text": [
      "Results : (statistic=-5.4282, pvalue=6.505141122517643e-08)\n"
     ]
    }
   ],
   "source": [
    "sample = cars.loc[cars.Type == 'Sedan', 'MSRP']\n",
    "\n",
    "# sample mean :\n",
    "xbar = sample.mean()\n",
    "\n",
    "# sample size \n",
    "n = sample.size\n",
    "\n",
    "# Assumed mean : \n",
    "mu0 = 35000\n",
    "\n",
    "# sample std\n",
    "s = sample.std()\n",
    "\n",
    "# t stats\n",
    "t_stats = (xbar - mu0) / (s / sqrt(n))\n",
    "\n",
    "# p_value: left tail test \n",
    "\n",
    "p_value = stats.t.cdf(t_stats, n-1)\n",
    "\n",
    "print('Results : (statistic={:.4f}, pvalue={})'.format(t_stats,p_value))"
   ]
  },
  {
   "cell_type": "markdown",
   "metadata": {},
   "source": [
    "## Conclusion :\n",
    "    - p value < alpha | 6.5 * 10 ^-08 <<<< 5 * 10 ^-02 \n",
    "    - We reject the null\n",
    "    - price of Sedan is not greater than 35000\n"
   ]
  },
  {
   "cell_type": "code",
   "execution_count": 35,
   "metadata": {},
   "outputs": [
    {
     "name": "stdout",
     "output_type": "stream",
     "text": [
      "Results : (statistic=-5.4282, pvalue=1.3010282245035238e-07)\n"
     ]
    }
   ],
   "source": [
    "sample = cars.loc[cars.Type == 'Sedan', 'MSRP']\n",
    "mu0 = 35000\n",
    "t, p = stats.ttest_1samp(sample,mu0)\n",
    "\n",
    "# p value\n",
    "print('Results : (statistic={:.4f}, pvalue={})'.format(t,p))"
   ]
  },
  {
   "cell_type": "markdown",
   "metadata": {},
   "source": [
    "    - the resulting p value in stats.ttest_1samp is for a two tail test always \n",
    " we need to cconvert oit to 1 tail test as per requirements"
   ]
  },
  {
   "cell_type": "raw",
   "metadata": {},
   "source": [
    "if t <0 : p value for two tail = p for left tail test * 2\n",
    "    implies :::>> p for left tail test = p value for two tail/2\n",
    "if t > 0 : p value for two tail = p for right tail test * 2\n",
    "    implies :::>> p for right tail test = p value for two tail/2"
   ]
  },
  {
   "cell_type": "code",
   "execution_count": 36,
   "metadata": {},
   "outputs": [],
   "source": [
    "def p_results(t,p):\n",
    "    global p_left , p_right\n",
    "    if t <0 :\n",
    "        p_left = p/2\n",
    "        p_right = 1 - p_left # or 1 - p/2\n",
    "    else :\n",
    "        p_right = p/2\n",
    "        p_left = 1 - p_right # or 1 - p/2\n",
    "    "
   ]
  },
  {
   "cell_type": "code",
   "execution_count": 38,
   "metadata": {},
   "outputs": [
    {
     "name": "stdout",
     "output_type": "stream",
     "text": [
      "Results : statistic=-5.4282, pvalue=6.505141122517619e-08\n"
     ]
    }
   ],
   "source": [
    "sample = cars.loc[cars.Type == 'Sedan', 'MSRP']\n",
    "mu0 = 35000\n",
    "t, p = stats.ttest_1samp(sample,mu0)\n",
    "\n",
    "p_results(t,p)\n",
    "# p value\n",
    "print('Results : statistic={:.4f}, pvalue={}'.format(t,p_left))"
   ]
  },
  {
   "cell_type": "markdown",
   "metadata": {},
   "source": [
    "## Independent t test `"
   ]
  },
  {
   "cell_type": "markdown",
   "metadata": {},
   "source": [
    "- Ha : MPG_Highways for Sedans is not better than SUVs | MPG_Highway(Sedan) < MPG_Highway(SUVs)\n",
    "- H0 : MPG_Highways for Sedans is better than SUVs | MPG_Highway(Sedan) >= MPG_Highway(SUVs)"
   ]
  },
  {
   "cell_type": "code",
   "execution_count": 39,
   "metadata": {},
   "outputs": [],
   "source": [
    "sample1 = cars.loc[cars.Type== 'Sedan','MPG_Highway']\n",
    "sample2 = cars.loc[cars.Type== 'SUV','MPG_Highway']"
   ]
  },
  {
   "cell_type": "code",
   "execution_count": 40,
   "metadata": {},
   "outputs": [
    {
     "name": "stdout",
     "output_type": "stream",
     "text": [
      "Results : statistic=13.2671, pvalue=1.0\n"
     ]
    }
   ],
   "source": [
    "t, p = stats.ttest_ind(sample1, sample2)\n",
    "p_results(t,p)\n",
    "# p value\n",
    "print('Results : statistic={:.4f}, pvalue={}'.format(t,p_left))"
   ]
  },
  {
   "cell_type": "markdown",
   "metadata": {},
   "source": [
    "## Conclusion\n",
    "    - p > alpha : 1 > 0.05\n",
    "    - we fail to reject null\n",
    "    - Sedan have better or similar mpg on highways as suvs"
   ]
  },
  {
   "cell_type": "markdown",
   "metadata": {},
   "source": [
    "- Ha : MPG_Highways for Sedans is better than SUVs | MPG_Highway(Sedan) > MPG_Highway(SUVs)\n",
    "- H0 : MPG_Highways for Sedans is not better than SUVs | MPG_Highway(Sedan) <= MPG_Highway(SUVs)"
   ]
  },
  {
   "cell_type": "code",
   "execution_count": 42,
   "metadata": {},
   "outputs": [
    {
     "name": "stdout",
     "output_type": "stream",
     "text": [
      "Results : statistic=13.2671, pvalue=1.3034344540849366e-32\n"
     ]
    }
   ],
   "source": [
    "t, p = stats.ttest_ind(sample1, sample2)\n",
    "p_results(t,p)\n",
    "# p value\n",
    "print('Results : statistic={:.4f}, pvalue={}'.format(t,p_right))"
   ]
  },
  {
   "cell_type": "markdown",
   "metadata": {},
   "source": [
    "## Conclusion\n",
    "    - p > alpha : 1.3* 10 -32 <<<< 0.05\n",
    "    - we reject null\n",
    "    - Sedan have better mpg on highways as suvs"
   ]
  },
  {
   "cell_type": "markdown",
   "metadata": {},
   "source": [
    "## Paired  t Test "
   ]
  },
  {
   "cell_type": "code",
   "execution_count": 43,
   "metadata": {},
   "outputs": [],
   "source": [
    "sample_data = pd.read_csv('/Users/nimisha/Desktop/Purdue/Python/DA/Sample_data.csv')"
   ]
  },
  {
   "cell_type": "code",
   "execution_count": 44,
   "metadata": {},
   "outputs": [
    {
     "data": {
      "text/html": [
       "<div>\n",
       "<style scoped>\n",
       "    .dataframe tbody tr th:only-of-type {\n",
       "        vertical-align: middle;\n",
       "    }\n",
       "\n",
       "    .dataframe tbody tr th {\n",
       "        vertical-align: top;\n",
       "    }\n",
       "\n",
       "    .dataframe thead th {\n",
       "        text-align: right;\n",
       "    }\n",
       "</style>\n",
       "<table border=\"1\" class=\"dataframe\">\n",
       "  <thead>\n",
       "    <tr style=\"text-align: right;\">\n",
       "      <th></th>\n",
       "      <th>ID</th>\n",
       "      <th>Gender</th>\n",
       "      <th>Race</th>\n",
       "      <th>SEB</th>\n",
       "      <th>School</th>\n",
       "      <th>Prog</th>\n",
       "      <th>Read</th>\n",
       "      <th>Write</th>\n",
       "      <th>Math1</th>\n",
       "      <th>Math2</th>\n",
       "      <th>SST</th>\n",
       "    </tr>\n",
       "  </thead>\n",
       "  <tbody>\n",
       "    <tr>\n",
       "      <th>0</th>\n",
       "      <td>70</td>\n",
       "      <td>0</td>\n",
       "      <td>4</td>\n",
       "      <td>1</td>\n",
       "      <td>1</td>\n",
       "      <td>1</td>\n",
       "      <td>57</td>\n",
       "      <td>52</td>\n",
       "      <td>41</td>\n",
       "      <td>47</td>\n",
       "      <td>57</td>\n",
       "    </tr>\n",
       "    <tr>\n",
       "      <th>1</th>\n",
       "      <td>121</td>\n",
       "      <td>1</td>\n",
       "      <td>4</td>\n",
       "      <td>2</td>\n",
       "      <td>1</td>\n",
       "      <td>3</td>\n",
       "      <td>68</td>\n",
       "      <td>59</td>\n",
       "      <td>53</td>\n",
       "      <td>63</td>\n",
       "      <td>61</td>\n",
       "    </tr>\n",
       "    <tr>\n",
       "      <th>2</th>\n",
       "      <td>86</td>\n",
       "      <td>0</td>\n",
       "      <td>4</td>\n",
       "      <td>3</td>\n",
       "      <td>1</td>\n",
       "      <td>1</td>\n",
       "      <td>44</td>\n",
       "      <td>33</td>\n",
       "      <td>54</td>\n",
       "      <td>58</td>\n",
       "      <td>31</td>\n",
       "    </tr>\n",
       "    <tr>\n",
       "      <th>3</th>\n",
       "      <td>141</td>\n",
       "      <td>0</td>\n",
       "      <td>4</td>\n",
       "      <td>3</td>\n",
       "      <td>1</td>\n",
       "      <td>3</td>\n",
       "      <td>63</td>\n",
       "      <td>44</td>\n",
       "      <td>47</td>\n",
       "      <td>53</td>\n",
       "      <td>56</td>\n",
       "    </tr>\n",
       "    <tr>\n",
       "      <th>4</th>\n",
       "      <td>172</td>\n",
       "      <td>0</td>\n",
       "      <td>4</td>\n",
       "      <td>2</td>\n",
       "      <td>1</td>\n",
       "      <td>2</td>\n",
       "      <td>47</td>\n",
       "      <td>52</td>\n",
       "      <td>57</td>\n",
       "      <td>53</td>\n",
       "      <td>61</td>\n",
       "    </tr>\n",
       "  </tbody>\n",
       "</table>\n",
       "</div>"
      ],
      "text/plain": [
       "    ID  Gender  Race  SEB  School  Prog  Read  Write  Math1  Math2  SST\n",
       "0   70       0     4    1       1     1    57     52     41     47   57\n",
       "1  121       1     4    2       1     3    68     59     53     63   61\n",
       "2   86       0     4    3       1     1    44     33     54     58   31\n",
       "3  141       0     4    3       1     3    63     44     47     53   56\n",
       "4  172       0     4    2       1     2    47     52     57     53   61"
      ]
     },
     "execution_count": 44,
     "metadata": {},
     "output_type": "execute_result"
    }
   ],
   "source": [
    "sample_data.head()"
   ]
  },
  {
   "cell_type": "markdown",
   "metadata": {},
   "source": [
    "## H0 : is there a difference"
   ]
  },
  {
   "cell_type": "code",
   "execution_count": 45,
   "metadata": {},
   "outputs": [
    {
     "data": {
      "text/plain": [
       "Ttest_relResult(statistic=1.3555927189268235, pvalue=0.17676525605507354)"
      ]
     },
     "execution_count": 45,
     "metadata": {},
     "output_type": "execute_result"
    }
   ],
   "source": [
    "stats.ttest_rel(sample_data.Math1, sample_data.Math2)"
   ]
  },
  {
   "cell_type": "markdown",
   "metadata": {},
   "source": [
    "# ANOVA"
   ]
  },
  {
   "cell_type": "markdown",
   "metadata": {},
   "source": [
    "## H0 : all have not significantly diff means"
   ]
  },
  {
   "cell_type": "code",
   "execution_count": 48,
   "metadata": {},
   "outputs": [
    {
     "data": {
      "text/plain": [
       "Index(['Toyota', 'Chevrolet', 'Mercedes-Benz', 'Ford', 'BMW'], dtype='object')"
      ]
     },
     "execution_count": 48,
     "metadata": {},
     "output_type": "execute_result"
    }
   ],
   "source": [
    "top5 = cars.Make.value_counts()[:5].index\n",
    "top5"
   ]
  },
  {
   "cell_type": "markdown",
   "metadata": {},
   "source": [
    "### stats.f_oneway(sample1, sample2, ....)"
   ]
  },
  {
   "cell_type": "code",
   "execution_count": 66,
   "metadata": {},
   "outputs": [],
   "source": [
    "for i in range(len(top5)):\n",
    "    exec(\"sample{} = cars.loc[(cars.Make == '{}') &(cars.Type =='Sedan'), 'MPG_Highway']\".format(i+1,top5[i]))"
   ]
  },
  {
   "cell_type": "code",
   "execution_count": 67,
   "metadata": {},
   "outputs": [
    {
     "data": {
      "text/plain": [
       "F_onewayResult(statistic=9.603240282504226, pvalue=3.5048290312157933e-06)"
      ]
     },
     "execution_count": 67,
     "metadata": {},
     "output_type": "execute_result"
    }
   ],
   "source": [
    "stats.f_oneway(sample1, sample2, sample3, sample4, sample5)"
   ]
  },
  {
   "cell_type": "markdown",
   "metadata": {},
   "source": [
    "## statsmodels `"
   ]
  },
  {
   "cell_type": "code",
   "execution_count": 68,
   "metadata": {},
   "outputs": [],
   "source": [
    "from statsmodels.formula.api import ols\n",
    "import statsmodels.api as sm"
   ]
  },
  {
   "cell_type": "code",
   "execution_count": 72,
   "metadata": {},
   "outputs": [
    {
     "data": {
      "text/html": [
       "<div>\n",
       "<style scoped>\n",
       "    .dataframe tbody tr th:only-of-type {\n",
       "        vertical-align: middle;\n",
       "    }\n",
       "\n",
       "    .dataframe tbody tr th {\n",
       "        vertical-align: top;\n",
       "    }\n",
       "\n",
       "    .dataframe thead th {\n",
       "        text-align: right;\n",
       "    }\n",
       "</style>\n",
       "<table border=\"1\" class=\"dataframe\">\n",
       "  <thead>\n",
       "    <tr style=\"text-align: right;\">\n",
       "      <th></th>\n",
       "      <th>df</th>\n",
       "      <th>sum_sq</th>\n",
       "      <th>mean_sq</th>\n",
       "      <th>F</th>\n",
       "      <th>PR(&gt;F)</th>\n",
       "    </tr>\n",
       "  </thead>\n",
       "  <tbody>\n",
       "    <tr>\n",
       "      <th>Make</th>\n",
       "      <td>4.0</td>\n",
       "      <td>737.550883</td>\n",
       "      <td>184.387721</td>\n",
       "      <td>9.60324</td>\n",
       "      <td>0.000004</td>\n",
       "    </tr>\n",
       "    <tr>\n",
       "      <th>Residual</th>\n",
       "      <td>66.0</td>\n",
       "      <td>1267.237850</td>\n",
       "      <td>19.200573</td>\n",
       "      <td>NaN</td>\n",
       "      <td>NaN</td>\n",
       "    </tr>\n",
       "  </tbody>\n",
       "</table>\n",
       "</div>"
      ],
      "text/plain": [
       "            df       sum_sq     mean_sq        F    PR(>F)\n",
       "Make       4.0   737.550883  184.387721  9.60324  0.000004\n",
       "Residual  66.0  1267.237850   19.200573      NaN       NaN"
      ]
     },
     "execution_count": 72,
     "metadata": {},
     "output_type": "execute_result"
    }
   ],
   "source": [
    "sample = cars[(cars.Make.isin(top5))&(cars.Type =='Sedan')]\n",
    "mod = ols('MPG_Highway ~ Make', data = sample).fit()\n",
    "sm.stats.anova_lm(mod)"
   ]
  },
  {
   "cell_type": "markdown",
   "metadata": {},
   "source": [
    "### Conclusion :\n",
    "    - p < alpha | 0.000004 <<<< 0.05\n",
    "    - reject Null\n",
    "    - there is atleast one make which has significantly different data from others"
   ]
  },
  {
   "cell_type": "markdown",
   "metadata": {},
   "source": [
    "#### post hoc test : tukey hsd : pairwise test "
   ]
  },
  {
   "cell_type": "code",
   "execution_count": 71,
   "metadata": {},
   "outputs": [],
   "source": [
    "from statsmodels.stats.multicomp import pairwise_tukeyhsd as tukeyHSD"
   ]
  },
  {
   "cell_type": "code",
   "execution_count": 74,
   "metadata": {},
   "outputs": [
    {
     "data": {
      "text/html": [
       "<table class=\"simpletable\">\n",
       "<caption>Multiple Comparison of Means - Tukey HSD, FWER=0.05</caption>\n",
       "<tr>\n",
       "     <th>group1</th>        <th>group2</th>     <th>meandiff</th>  <th>p-adj</th>   <th>lower</th>   <th>upper</th>  <th>reject</th>\n",
       "</tr>\n",
       "<tr>\n",
       "       <td>BMW</td>        <td>Chevrolet</td>    <td>3.1231</td>  <td>0.3378</td>  <td>-1.5338</td> <td>7.7799</td>   <td>False</td>\n",
       "</tr>\n",
       "<tr>\n",
       "       <td>BMW</td>          <td>Ford</td>       <td>0.4685</td>    <td>0.9</td>   <td>-4.5661</td> <td>5.5031</td>   <td>False</td>\n",
       "</tr>\n",
       "<tr>\n",
       "       <td>BMW</td>      <td>Mercedes-Benz</td>  <td>-3.4519</td> <td>0.2283</td>  <td>-8.0407</td> <td>1.1368</td>   <td>False</td>\n",
       "</tr>\n",
       "<tr>\n",
       "       <td>BMW</td>         <td>Toyota</td>      <td>5.6106</td>   <td>0.009</td>  <td>1.0218</td>  <td>10.1993</td>  <td>True</td> \n",
       "</tr>\n",
       "<tr>\n",
       "    <td>Chevrolet</td>       <td>Ford</td>       <td>-2.6545</td> <td>0.5433</td>  <td>-7.5329</td> <td>2.2238</td>   <td>False</td>\n",
       "</tr>\n",
       "<tr>\n",
       "    <td>Chevrolet</td>   <td>Mercedes-Benz</td>  <td>-6.575</td>   <td>0.001</td> <td>-10.9918</td> <td>-2.1582</td>  <td>True</td> \n",
       "</tr>\n",
       "<tr>\n",
       "    <td>Chevrolet</td>      <td>Toyota</td>      <td>2.4875</td>  <td>0.5135</td>  <td>-1.9293</td> <td>6.9043</td>   <td>False</td>\n",
       "</tr>\n",
       "<tr>\n",
       "      <td>Ford</td>      <td>Mercedes-Benz</td>  <td>-3.9205</td> <td>0.1631</td>  <td>-8.7339</td>  <td>0.893</td>   <td>False</td>\n",
       "</tr>\n",
       "<tr>\n",
       "      <td>Ford</td>         <td>Toyota</td>       <td>5.142</td>  <td>0.0305</td>  <td>0.3286</td>  <td>9.9555</td>   <td>True</td> \n",
       "</tr>\n",
       "<tr>\n",
       "  <td>Mercedes-Benz</td>    <td>Toyota</td>      <td>9.0625</td>   <td>0.001</td>  <td>4.7176</td>  <td>13.4074</td>  <td>True</td> \n",
       "</tr>\n",
       "</table>"
      ],
      "text/plain": [
       "<class 'statsmodels.iolib.table.SimpleTable'>"
      ]
     },
     "execution_count": 74,
     "metadata": {},
     "output_type": "execute_result"
    }
   ],
   "source": [
    "res = tukeyHSD(sample.MPG_Highway, sample.Make)\n",
    "res.summary()"
   ]
  },
  {
   "cell_type": "code",
   "execution_count": null,
   "metadata": {},
   "outputs": [],
   "source": [
    "# Null hyypothesis being : sample1 == sample2\n",
    "# reject = false | we failed to reject the null "
   ]
  },
  {
   "cell_type": "code",
   "execution_count": 75,
   "metadata": {},
   "outputs": [
    {
     "data": {
      "image/png": "[encoded data removed]",
      "text/plain": [
       "<Figure size 720x432 with 1 Axes>"
      ]
     },
     "execution_count": 75,
     "metadata": {},
     "output_type": "execute_result"
    },
    {
     "data": {
      "image/png": "[encoded data removed]",
      "text/plain": [
       "<Figure size 720x432 with 1 Axes>"
      ]
     },
     "metadata": {
      "needs_background": "light"
     },
     "output_type": "display_data"
    }
   ],
   "source": [
    "res.plot_simultaneous()"
   ]
  },
  {
   "cell_type": "markdown",
   "metadata": {},
   "source": [
    "## Chi Square test of Independence"
   ]
  },
  {
   "cell_type": "markdown",
   "metadata": {},
   "source": [
    "### is the drive train dependent of the typr of car??"
   ]
  },
  {
   "cell_type": "markdown",
   "metadata": {},
   "source": [
    "- H0 : Drive train & type independent\n",
    "- Ha : Drive train & type not independent"
   ]
  },
  {
   "cell_type": "code",
   "execution_count": 80,
   "metadata": {},
   "outputs": [
    {
     "data": {
      "text/html": [
       "<div>\n",
       "<style scoped>\n",
       "    .dataframe tbody tr th:only-of-type {\n",
       "        vertical-align: middle;\n",
       "    }\n",
       "\n",
       "    .dataframe tbody tr th {\n",
       "        vertical-align: top;\n",
       "    }\n",
       "\n",
       "    .dataframe thead th {\n",
       "        text-align: right;\n",
       "    }\n",
       "</style>\n",
       "<table border=\"1\" class=\"dataframe\">\n",
       "  <thead>\n",
       "    <tr style=\"text-align: right;\">\n",
       "      <th>DriveTrain</th>\n",
       "      <th>All</th>\n",
       "      <th>Front</th>\n",
       "      <th>Rear</th>\n",
       "    </tr>\n",
       "    <tr>\n",
       "      <th>Type</th>\n",
       "      <th></th>\n",
       "      <th></th>\n",
       "      <th></th>\n",
       "    </tr>\n",
       "  </thead>\n",
       "  <tbody>\n",
       "    <tr>\n",
       "      <th>SUV</th>\n",
       "      <td>38</td>\n",
       "      <td>22</td>\n",
       "      <td>0</td>\n",
       "    </tr>\n",
       "    <tr>\n",
       "      <th>Sedan</th>\n",
       "      <td>28</td>\n",
       "      <td>179</td>\n",
       "      <td>55</td>\n",
       "    </tr>\n",
       "    <tr>\n",
       "      <th>Sports</th>\n",
       "      <td>5</td>\n",
       "      <td>8</td>\n",
       "      <td>36</td>\n",
       "    </tr>\n",
       "  </tbody>\n",
       "</table>\n",
       "</div>"
      ],
      "text/plain": [
       "DriveTrain  All  Front  Rear\n",
       "Type                        \n",
       "SUV          38     22     0\n",
       "Sedan        28    179    55\n",
       "Sports        5      8    36"
      ]
     },
     "execution_count": 80,
     "metadata": {},
     "output_type": "execute_result"
    }
   ],
   "source": [
    "top3 = cars.Type.value_counts()[:3].index\n",
    "sample = cars[cars.Type.isin(top3)]\n",
    "ct = pd.crosstab(sample.Type, sample.DriveTrain)\n",
    "ct"
   ]
  },
  {
   "cell_type": "code",
   "execution_count": 82,
   "metadata": {},
   "outputs": [],
   "source": [
    "chisquare , p , df, et = stats.chi2_contingency(ct)"
   ]
  },
  {
   "cell_type": "code",
   "execution_count": 83,
   "metadata": {},
   "outputs": [
    {
     "name": "stdout",
     "output_type": "stream",
     "text": [
      "Results : statistic=161.6849, pvalue=6.361397099525641e-34\n"
     ]
    }
   ],
   "source": [
    "print('Results : statistic={:.4f}, pvalue={}'.format(chisquare,p))"
   ]
  },
  {
   "cell_type": "markdown",
   "metadata": {},
   "source": [
    "## Conclusions :\n",
    "    - p value < alpha | 6.36 * 10 ^-34 <<<<<<<< 0.05\n",
    "    - We reject the null hyypothesis \n",
    "    - Driove train is dependent of Type"
   ]
  },
  {
   "cell_type": "code",
   "execution_count": null,
   "metadata": {},
   "outputs": [],
   "source": []
  }
 ],
 "metadata": {
  "kernelspec": {
   "display_name": "Python 3",
   "language": "python",
   "name": "python3"
  },
  "language_info": {
   "codemirror_mode": {
    "name": "ipython",
    "version": 3
   },
   "file_extension": ".py",
   "mimetype": "text/x-python",
   "name": "python",
   "nbconvert_exporter": "python",
   "pygments_lexer": "ipython3",
   "version": "3.7.6"
  }
 },
 "nbformat": 4,
 "nbformat_minor": 4
}
