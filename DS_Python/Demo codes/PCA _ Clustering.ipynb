{
 "cells": [
  {
   "cell_type": "markdown",
   "metadata": {},
   "source": [
    "leaf, inde# Clustering "
   ]
  },
  {
   "cell_type": "code",
   "execution_count": null,
   "metadata": {},
   "outputs": [],
   "source": [
    "import pandas as pd"
   ]
  },
  {
   "cell_type": "code",
   "execution_count": null,
   "metadata": {},
   "outputs": [],
   "source": [
    "cardio = pd.read_csv('Desktop/Purdue/Python/Deviare/Cardiotocography Dataset.csv')"
   ]
  },
  {
   "cell_type": "markdown",
   "metadata": {},
   "source": [
    "# Principal Component Analysis"
   ]
  },
  {
   "cell_type": "markdown",
   "metadata": {},
   "source": [
    "### Reducing the no. of variables by extracting Principal Components "
   ]
  },
  {
   "cell_type": "markdown",
   "metadata": {},
   "source": [
    "## Step 1 : We need to separate X and Y"
   ]
  },
  {
   "cell_type": "code",
   "execution_count": 155,
   "metadata": {},
   "outputs": [],
   "source": [
    "X = cardio.drop('NSP', axis = 1)\n",
    "Y = cardio.NSP"
   ]
  },
  {
   "cell_type": "markdown",
   "metadata": {},
   "source": [
    "## Step 2 : Standardise the data"
   ]
  },
  {
   "cell_type": "code",
   "execution_count": 156,
   "metadata": {},
   "outputs": [],
   "source": [
    "sc = StandardScaler()\n",
    "X_std = sc.fit_transform(X)"
   ]
  },
  {
   "cell_type": "markdown",
   "metadata": {},
   "source": [
    "## Step 3 : Correlation matrix for X"
   ]
  },
  {
   "cell_type": "code",
   "execution_count": 157,
   "metadata": {},
   "outputs": [],
   "source": [
    "corr_mat = np.corrcoef(X_std, rowvar = False)"
   ]
  },
  {
   "cell_type": "markdown",
   "metadata": {},
   "source": [
    "## Step 4 : Eigen value and Vector"
   ]
  },
  {
   "cell_type": "code",
   "execution_count": 159,
   "metadata": {},
   "outputs": [],
   "source": [
    "eig_values, eig_vectors = np.linalg.eig(corr_mat)"
   ]
  },
  {
   "cell_type": "markdown",
   "metadata": {},
   "source": [
    "### PC1 = phi1 * X1 + phi2 * X2...."
   ]
  },
  {
   "cell_type": "code",
   "execution_count": 168,
   "metadata": {},
   "outputs": [
    {
     "data": {
      "text/plain": [
       "array([28.86, 16.71,  8.71,  7.14,  5.81,  4.86,  4.67,  4.38,  3.62,\n",
       "        3.05,  2.76,  2.38,  1.86,  1.57,  1.29,  0.86,  0.62,  0.57,\n",
       "        0.14,  0.24,  0.  ])"
      ]
     },
     "execution_count": 168,
     "metadata": {},
     "output_type": "execute_result"
    }
   ],
   "source": [
    "var_cap = eig_values.round(2)/eig_values.sum() * 100\n",
    "var_cap.round(2)"
   ]
  },
  {
   "cell_type": "code",
   "execution_count": 170,
   "metadata": {},
   "outputs": [],
   "source": [
    "cum_var = np.cumsum(var_cap).round(2)"
   ]
  },
  {
   "cell_type": "code",
   "execution_count": 175,
   "metadata": {},
   "outputs": [],
   "source": [
    "coef = pd.DataFrame({'Eigen_values' : eig_values.round(2), \n",
    "                     'Variance_Captured' : var_cap.round(2),\n",
    "                     'Cumulative_Variance' : cum_var.round(2),},\n",
    "                      index = ['PC'+str(i) for i in range(1,cardio.shape[1])])"
   ]
  },
  {
   "cell_type": "code",
   "execution_count": 182,
   "metadata": {},
   "outputs": [
    {
     "data": {
      "image/png": "[encoded data removed]",
      "text/plain": [
       "<Figure size 1080x360 with 1 Axes>"
      ]
     },
     "metadata": {
      "needs_background": "light"
     },
     "output_type": "display_data"
    }
   ],
   "source": [
    "plt.figure(figsize= (15,5))\n",
    "plt.bar(coef.index,coef.Variance_Captured)\n",
    "plt.step(coef.index,coef.Cumulative_Variance )\n",
    "plt.show()"
   ]
  },
  {
   "cell_type": "code",
   "execution_count": 197,
   "metadata": {
    "collapsed": true,
    "jupyter": {
     "outputs_hidden": true
    }
   },
   "outputs": [
    {
     "data": {
      "text/plain": [
       "array([[ 2.24080402e-01, -2.76301759e-01,  3.41892638e-01,\n",
       "        -6.02257046e-02, -8.20451186e-02,  4.16842383e-02,\n",
       "         2.49338515e-01,  1.77115109e-01,  9.82578150e-02,\n",
       "        -6.79909875e-02, -1.89521219e-01,  1.17873171e-01,\n",
       "         1.08527977e-01, -1.22990426e-01, -7.35241241e-02,\n",
       "         2.37668610e-01, -3.62850820e-01, -4.63523699e-01,\n",
       "         9.46016761e-02, -3.77581607e-01,  5.97495652e-17],\n",
       "       [-4.28073957e-02, -2.78880548e-01, -1.86734931e-01,\n",
       "         4.36411990e-01,  1.01723907e-01, -1.29806313e-01,\n",
       "        -4.30658463e-01, -9.42582902e-02, -2.60871474e-01,\n",
       "        -1.52873219e-01,  4.63891865e-02, -9.96559011e-02,\n",
       "        -2.12365429e-01, -1.38244474e-01,  4.11988306e-02,\n",
       "         5.02431655e-01, -1.34309371e-01,  6.16869322e-02,\n",
       "         6.74292741e-03, -1.72558284e-01,  3.60251598e-16],\n",
       "       [-8.05028195e-02, -3.86689632e-02,  9.99216251e-02,\n",
       "         1.82804263e-03,  6.34791461e-01,  1.74239491e-01,\n",
       "         2.98492191e-02,  4.94805995e-01, -2.49110470e-01,\n",
       "         3.59782565e-01,  2.60980562e-01,  1.69052112e-01,\n",
       "        -1.14190839e-01, -1.82975664e-02, -2.20984308e-03,\n",
       "        -2.46316228e-02, -1.94354137e-02, -2.00400652e-02,\n",
       "         6.09992762e-03, -1.13966635e-03, -1.30315839e-16],\n",
       "       [-1.27582101e-01, -2.45882645e-02, -1.12905545e-01,\n",
       "         3.00865515e-01, -4.58866489e-01,  3.65968637e-01,\n",
       "         2.28007485e-01,  2.59254670e-01,  8.91708391e-02,\n",
       "        -5.63426295e-02,  6.00070833e-01, -1.67430455e-01,\n",
       "        -3.81107479e-02, -4.94494259e-02, -8.45041954e-02,\n",
       "         3.31375783e-02, -8.82157844e-03, -6.63018088e-02,\n",
       "         2.67887992e-03,  1.72353745e-02, -3.90016679e-17],\n",
       "       [-2.79362023e-01, -1.95937671e-02,  2.03469039e-01,\n",
       "        -7.82293276e-02, -3.49803387e-01,  1.76466603e-01,\n",
       "        -4.62927504e-02,  8.88732140e-02,  9.09244081e-03,\n",
       "         4.06564007e-01, -2.50084783e-01,  2.94778499e-01,\n",
       "         1.00917123e-02,  1.68969816e-01, -5.07597253e-02,\n",
       "         4.95339688e-01,  3.80271740e-02,  3.02953818e-01,\n",
       "         4.54740931e-03,  1.60801253e-01,  1.73614950e-16],\n",
       "       [-5.85172850e-02,  8.00607814e-02,  7.37362798e-02,\n",
       "        -3.74976010e-02, -2.15362192e-01, -6.93112012e-01,\n",
       "        -1.56634608e-01,  6.19114404e-01,  5.50786428e-02,\n",
       "        -6.24292094e-02,  4.40001647e-02, -7.59663069e-02,\n",
       "         1.24565577e-01, -7.71116875e-02, -2.46434800e-02,\n",
       "        -6.59294633e-03,  9.06273376e-02,  5.80422063e-02,\n",
       "        -3.20958340e-03,  1.88858495e-02, -1.29783102e-16],\n",
       "       [-2.03981757e-01,  1.14197853e-01,  3.35489754e-01,\n",
       "         9.61184845e-02,  2.80583728e-01,  1.75387025e-01,\n",
       "         2.14503673e-01,  9.13698749e-02, -1.92832698e-02,\n",
       "        -5.96233884e-01, -1.32248563e-01, -1.33958293e-01,\n",
       "         2.45289095e-01, -1.42032148e-01, -1.46542856e-01,\n",
       "         2.22061644e-01,  1.68805905e-01,  2.41033333e-01,\n",
       "        -4.18442867e-02,  1.70115677e-01,  9.36759686e-17],\n",
       "       [ 1.44880209e-01,  1.22996528e-01,  4.92094714e-01,\n",
       "        -9.42525114e-02, -4.86789151e-02, -9.33118406e-02,\n",
       "        -1.46603877e-01, -2.01938965e-01,  1.58404121e-01,\n",
       "        -1.54048008e-01,  4.00533725e-01,  3.91437487e-01,\n",
       "        -3.74407396e-01, -2.47774544e-01,  2.33344856e-01,\n",
       "         4.13149910e-02,  1.01623774e-01,  4.72865839e-02,\n",
       "         4.90833707e-02,  6.56990841e-02, -2.41736023e-16],\n",
       "       [-3.15953481e-01, -1.35755651e-01, -7.43054297e-02,\n",
       "         4.31319536e-02, -6.90939678e-02,  5.25402361e-02,\n",
       "         1.00891885e-01,  5.99456918e-03,  2.87491545e-02,\n",
       "         1.97312064e-01, -2.75672929e-01, -7.89204930e-02,\n",
       "        -7.61211847e-02, -7.82119154e-01,  2.52188545e-01,\n",
       "        -1.71483206e-01,  6.35927762e-02, -6.16078496e-02,\n",
       "         5.13179788e-02,  1.16818427e-01, -8.75950238e-16],\n",
       "       [ 2.16821986e-01,  1.41384048e-01,  3.19839491e-01,\n",
       "        -2.14613522e-01,  1.16467111e-02, -3.25787708e-02,\n",
       "        -2.34078892e-04, -1.40706678e-01, -7.38781100e-02,\n",
       "         3.44380468e-01,  1.04068946e-01, -7.15583291e-01,\n",
       "        -1.24165467e-01, -1.40768706e-01, -1.95302425e-01,\n",
       "         1.92705652e-01,  2.30482221e-03,  7.50734256e-02,\n",
       "        -2.10605999e-02, -1.02526371e-02, -9.13573344e-17],\n",
       "       [ 8.38810306e-03, -9.65562327e-02, -4.32830979e-01,\n",
       "        -3.77710121e-01,  1.84223713e-01, -1.40539491e-01,\n",
       "         4.12456235e-01,  5.02751940e-02,  3.69960911e-01,\n",
       "        -8.99887389e-02,  8.32501201e-02, -2.83504593e-02,\n",
       "        -2.82351199e-01, -1.08671188e-02,  1.34546725e-01,\n",
       "         3.83487932e-01,  4.57078535e-03,  1.81536879e-01,\n",
       "        -3.08776585e-02, -5.12057300e-02,  3.97302508e-16],\n",
       "       [-3.13019694e-01, -2.83681104e-01,  6.27210370e-02,\n",
       "        -1.05487188e-01,  5.88669612e-02, -9.22844665e-02,\n",
       "        -8.09705035e-02, -1.21305211e-01,  1.43115917e-01,\n",
       "        -9.04975951e-03,  8.57191185e-02,  8.52555036e-03,\n",
       "        -9.30215179e-02,  3.65159459e-02, -3.84125429e-01,\n",
       "        -8.66977071e-02,  7.08517037e-02, -1.23406074e-01,\n",
       "        -3.62251476e-04,  2.55112830e-02, -7.47856643e-01],\n",
       "       [ 3.31688721e-01,  1.43480921e-01,  3.10037880e-02,\n",
       "         2.82165040e-01, -3.82498097e-02, -2.26214613e-02,\n",
       "         2.40877037e-01,  6.04373828e-02, -8.36885414e-02,\n",
       "         7.83873605e-02, -6.93399196e-02,  7.69360375e-03,\n",
       "         8.98742665e-02, -2.35393903e-02,  3.36685167e-01,\n",
       "        -6.32536644e-02, -2.51926932e-01,  4.33028869e-01,\n",
       "         3.51584657e-02, -8.31017537e-02, -5.67485762e-01],\n",
       "       [-1.33141201e-01, -3.79491642e-01,  1.87237279e-01,\n",
       "         2.35816362e-01,  6.47859402e-02, -2.37609063e-01,\n",
       "         2.21025067e-01, -1.63784924e-01,  1.72831978e-01,\n",
       "         1.09484358e-01,  7.18642311e-02,  3.11824327e-02,\n",
       "        -5.38901821e-02,  4.04963881e-02, -2.79276423e-01,\n",
       "        -2.92415708e-01, -2.61195305e-01,  4.45439956e-01,\n",
       "         5.71316034e-02, -8.15136450e-02,  3.44485633e-01],\n",
       "       [-2.50604850e-01, -2.40663394e-01,  1.05525971e-01,\n",
       "        -1.58197085e-01,  9.89211975e-02, -7.51312778e-02,\n",
       "        -8.46859943e-02, -1.98175620e-01,  7.77420620e-02,\n",
       "         9.76167878e-02,  3.41664414e-01, -1.27171934e-01,\n",
       "         6.05536220e-01,  8.87879931e-02,  4.89356577e-01,\n",
       "         1.06762706e-01, -7.91547267e-02, -3.20310054e-02,\n",
       "         3.11412233e-03, -5.83409426e-03, -1.04065214e-15],\n",
       "       [-1.23059030e-01, -1.27159311e-01, -3.48761692e-03,\n",
       "        -2.94938166e-01, -2.09239828e-01, -1.80690241e-01,\n",
       "         3.57827511e-01, -1.23410902e-01, -7.83822072e-01,\n",
       "        -1.35227147e-01,  1.13559378e-01,  9.11084927e-02,\n",
       "        -8.08561764e-02,  8.37607890e-03,  9.15306602e-03,\n",
       "        -2.54338376e-02,  1.13508276e-02,  1.83358403e-02,\n",
       "        -1.40765799e-03, -1.78822888e-02,  1.60005911e-16],\n",
       "       [ 2.62861840e-01, -3.66374550e-01,  2.49312773e-02,\n",
       "         1.82331930e-02, -4.43802455e-02,  1.09088599e-01,\n",
       "         2.04074001e-03,  5.74143160e-02, -7.92054010e-03,\n",
       "         4.88210734e-02, -3.11890884e-02, -4.49528109e-03,\n",
       "         9.00103429e-02,  7.96250371e-03,  3.82940500e-02,\n",
       "        -4.53801471e-02,  7.39396218e-01,  1.69231673e-01,\n",
       "         2.03627023e-01, -3.82894870e-01, -1.20293904e-15],\n",
       "       [ 3.09207985e-01, -3.24903340e-01, -2.12198859e-02,\n",
       "         5.30745432e-02,  1.86548928e-02, -4.22422187e-02,\n",
       "         4.29613376e-02,  4.82428994e-02, -2.38869879e-02,\n",
       "        -2.52440066e-02, -1.92122341e-02, -5.84547847e-02,\n",
       "        -8.11196883e-03,  8.52106983e-02,  2.16557358e-02,\n",
       "         5.72680589e-02, -1.44507400e-02, -1.11961398e-01,\n",
       "         5.10936724e-01,  7.06672402e-01, -2.99879535e-15],\n",
       "       [ 2.76380821e-01, -3.75392488e-01,  6.68194831e-02,\n",
       "         4.34479719e-02, -4.01799037e-02,  1.44328898e-02,\n",
       "         2.11790661e-02,  6.35540301e-02, -4.57626649e-06,\n",
       "         1.07853226e-02, -3.52163501e-02,  9.94221800e-03,\n",
       "        -1.17447691e-02, -4.14283177e-03,  6.12181206e-02,\n",
       "        -2.18402796e-02,  8.13009913e-02, -3.04300967e-02,\n",
       "        -8.19586362e-01,  2.91441905e-01,  3.71533491e-15],\n",
       "       [-2.90630523e-01, -1.00759954e-01,  2.65618630e-01,\n",
       "         9.44915148e-02, -2.52493974e-02,  3.38610179e-02,\n",
       "         5.11640359e-02,  1.34476439e-01,  3.80851873e-02,\n",
       "        -1.13079893e-01, -2.18472648e-01, -3.16656570e-01,\n",
       "        -4.57068870e-01,  4.35313188e-01,  4.50080904e-01,\n",
       "        -1.44988653e-01,  3.26140437e-02, -1.20075137e-01,\n",
       "         2.18209719e-02, -5.66789855e-02, -3.91826976e-16],\n",
       "       [ 7.06583892e-02, -2.25941200e-01, -4.01019141e-02,\n",
       "        -4.76263578e-01, -1.15983545e-01,  3.51731678e-01,\n",
       "        -4.14059707e-01,  2.39927272e-01, -2.62088465e-02,\n",
       "        -2.51775486e-01, -1.78638901e-02, -8.51642556e-02,\n",
       "        -4.08281056e-02, -8.33976786e-02,  9.13922754e-03,\n",
       "        -2.08412580e-01, -3.15592630e-01,  3.45878643e-01,\n",
       "         5.92355108e-02, -5.30473459e-02, -2.22461147e-16]])"
      ]
     },
     "execution_count": 197,
     "metadata": {},
     "output_type": "execute_result"
    }
   ],
   "source": [
    "eig_vectors"
   ]
  },
  {
   "cell_type": "code",
   "execution_count": 184,
   "metadata": {},
   "outputs": [],
   "source": [
    "from sklearn.decomposition import PCA"
   ]
  },
  {
   "cell_type": "code",
   "execution_count": 185,
   "metadata": {},
   "outputs": [],
   "source": [
    "pca = PCA(n_components = 6)"
   ]
  },
  {
   "cell_type": "code",
   "execution_count": 186,
   "metadata": {},
   "outputs": [
    {
     "data": {
      "text/plain": [
       "PCA(copy=True, iterated_power='auto', n_components=6, random_state=None,\n",
       "    svd_solver='auto', tol=0.0, whiten=False)"
      ]
     },
     "execution_count": 186,
     "metadata": {},
     "output_type": "execute_result"
    }
   ],
   "source": [
    "pca.fit(X_std)"
   ]
  },
  {
   "cell_type": "code",
   "execution_count": 187,
   "metadata": {
    "collapsed": true,
    "jupyter": {
     "outputs_hidden": true
    }
   },
   "outputs": [
    {
     "data": {
      "text/plain": [
       "array([[-0.22408041,  0.04280739,  0.08050282,  0.1275821 ,  0.27936202,\n",
       "         0.05851729,  0.20398176, -0.14488021,  0.31595348, -0.21682199,\n",
       "        -0.00838811,  0.3130197 , -0.33168872,  0.13314121,  0.25060485,\n",
       "         0.12305903, -0.26286184, -0.30920799, -0.27638082,  0.29063052,\n",
       "        -0.07065839],\n",
       "       [ 0.2763018 ,  0.27888061,  0.03866896,  0.02458826,  0.01959382,\n",
       "        -0.08006079, -0.11419784, -0.12299652,  0.13575563, -0.14138403,\n",
       "         0.09655628,  0.28368108, -0.1434809 ,  0.37949162,  0.24066342,\n",
       "         0.12715931,  0.36637451,  0.32490335,  0.37539248,  0.10075995,\n",
       "         0.2259412 ],\n",
       "       [ 0.34189194, -0.18673597,  0.09992166, -0.11290557,  0.2034682 ,\n",
       "         0.07373637,  0.33548957,  0.49209455, -0.07430521,  0.31983924,\n",
       "        -0.43283176,  0.06272138,  0.03100382,  0.18723807,  0.10552554,\n",
       "        -0.00348757,  0.02493166, -0.02122007,  0.0668195 ,  0.26561857,\n",
       "        -0.04010149],\n",
       "       [ 0.06022117, -0.43641869, -0.00182784, -0.3008657 ,  0.07822394,\n",
       "         0.0374982 , -0.09611964,  0.09425144, -0.04313057,  0.21461189,\n",
       "         0.3777051 ,  0.10548939, -0.28216479, -0.23581116,  0.15819431,\n",
       "         0.29493849, -0.01823087, -0.05307564, -0.04344782, -0.09449199,\n",
       "         0.47626639],\n",
       "       [-0.08203361,  0.10174336,  0.63479102, -0.45886658, -0.34978696,\n",
       "        -0.21536428,  0.28058702, -0.0486769 , -0.06909904,  0.01165166,\n",
       "         0.18423838,  0.05885949, -0.03824399,  0.06477931,  0.09892859,\n",
       "        -0.20924065, -0.04439277,  0.01865694, -0.04018144, -0.02524937,\n",
       "        -0.11598437],\n",
       "       [-0.04167067,  0.12982904, -0.17423993, -0.36596882, -0.17644755,\n",
       "         0.69310974, -0.17538327,  0.09331436, -0.05254593,  0.03258447,\n",
       "         0.14055659,  0.09227583,  0.02262737,  0.23760005,  0.07513992,\n",
       "         0.18068921, -0.10910225,  0.04224473, -0.0144345 , -0.03386053,\n",
       "        -0.35173362]])"
      ]
     },
     "execution_count": 187,
     "metadata": {},
     "output_type": "execute_result"
    }
   ],
   "source": [
    "pca.components_ # vector"
   ]
  },
  {
   "cell_type": "code",
   "execution_count": 188,
   "metadata": {},
   "outputs": [
    {
     "data": {
      "text/plain": [
       "array([6.06613694, 3.51059685, 1.82624718, 1.4986969 , 1.21825699,\n",
       "       1.02438604])"
      ]
     },
     "execution_count": 188,
     "metadata": {},
     "output_type": "execute_result"
    }
   ],
   "source": [
    "pca.explained_variance_ # value"
   ]
  },
  {
   "cell_type": "code",
   "execution_count": 189,
   "metadata": {},
   "outputs": [
    {
     "data": {
      "text/plain": [
       "array([0.28872779, 0.16709265, 0.08692325, 0.07133295, 0.05798495,\n",
       "       0.04875734])"
      ]
     },
     "execution_count": 189,
     "metadata": {},
     "output_type": "execute_result"
    }
   ],
   "source": [
    "pca.explained_variance_ratio_ # %age variance captured"
   ]
  },
  {
   "cell_type": "code",
   "execution_count": 194,
   "metadata": {},
   "outputs": [],
   "source": [
    "final_data = pd.DataFrame(pca.fit_transform(X_std), \n",
    "                          columns=['PC'+str(i) for i in range(1,7)])\n",
    "final_data['NSP'] = Y"
   ]
  },
  {
   "cell_type": "code",
   "execution_count": 198,
   "metadata": {},
   "outputs": [
    {
     "data": {
      "text/html": [
       "<div>\n",
       "<style scoped>\n",
       "    .dataframe tbody tr th:only-of-type {\n",
       "        vertical-align: middle;\n",
       "    }\n",
       "\n",
       "    .dataframe tbody tr th {\n",
       "        vertical-align: top;\n",
       "    }\n",
       "\n",
       "    .dataframe thead th {\n",
       "        text-align: right;\n",
       "    }\n",
       "</style>\n",
       "<table border=\"1\" class=\"dataframe\">\n",
       "  <thead>\n",
       "    <tr style=\"text-align: right;\">\n",
       "      <th></th>\n",
       "      <th>PC1</th>\n",
       "      <th>PC2</th>\n",
       "      <th>PC3</th>\n",
       "      <th>PC4</th>\n",
       "      <th>PC5</th>\n",
       "      <th>PC6</th>\n",
       "      <th>NSP</th>\n",
       "    </tr>\n",
       "  </thead>\n",
       "  <tbody>\n",
       "    <tr>\n",
       "      <th>0</th>\n",
       "      <td>-0.260678</td>\n",
       "      <td>-2.561701</td>\n",
       "      <td>1.280899</td>\n",
       "      <td>1.832781</td>\n",
       "      <td>0.402492</td>\n",
       "      <td>-0.241200</td>\n",
       "      <td>2</td>\n",
       "    </tr>\n",
       "    <tr>\n",
       "      <th>1</th>\n",
       "      <td>1.989242</td>\n",
       "      <td>2.266550</td>\n",
       "      <td>-1.107935</td>\n",
       "      <td>-0.584506</td>\n",
       "      <td>-0.312136</td>\n",
       "      <td>0.621104</td>\n",
       "      <td>1</td>\n",
       "    </tr>\n",
       "    <tr>\n",
       "      <th>2</th>\n",
       "      <td>2.015691</td>\n",
       "      <td>1.998412</td>\n",
       "      <td>-1.284000</td>\n",
       "      <td>-0.277832</td>\n",
       "      <td>-0.646341</td>\n",
       "      <td>0.308454</td>\n",
       "      <td>1</td>\n",
       "    </tr>\n",
       "    <tr>\n",
       "      <th>3</th>\n",
       "      <td>2.157733</td>\n",
       "      <td>2.101173</td>\n",
       "      <td>-2.188742</td>\n",
       "      <td>1.658587</td>\n",
       "      <td>0.021991</td>\n",
       "      <td>-0.443665</td>\n",
       "      <td>1</td>\n",
       "    </tr>\n",
       "    <tr>\n",
       "      <th>4</th>\n",
       "      <td>1.781391</td>\n",
       "      <td>2.161913</td>\n",
       "      <td>-2.492769</td>\n",
       "      <td>0.765705</td>\n",
       "      <td>0.206212</td>\n",
       "      <td>-0.328622</td>\n",
       "      <td>1</td>\n",
       "    </tr>\n",
       "  </tbody>\n",
       "</table>\n",
       "</div>"
      ],
      "text/plain": [
       "        PC1       PC2       PC3       PC4       PC5       PC6  NSP\n",
       "0 -0.260678 -2.561701  1.280899  1.832781  0.402492 -0.241200    2\n",
       "1  1.989242  2.266550 -1.107935 -0.584506 -0.312136  0.621104    1\n",
       "2  2.015691  1.998412 -1.284000 -0.277832 -0.646341  0.308454    1\n",
       "3  2.157733  2.101173 -2.188742  1.658587  0.021991 -0.443665    1\n",
       "4  1.781391  2.161913 -2.492769  0.765705  0.206212 -0.328622    1"
      ]
     },
     "execution_count": 198,
     "metadata": {},
     "output_type": "execute_result"
    }
   ],
   "source": [
    "final_data.head()"
   ]
  },
  {
   "cell_type": "code",
   "execution_count": null,
   "metadata": {},
   "outputs": [],
   "source": []
  },
  {
   "cell_type": "markdown",
   "metadata": {},
   "source": [
    "    - Hierarchical\n",
    "    - K means "
   ]
  },
  {
   "cell_type": "markdown",
   "metadata": {},
   "source": [
    "## Hierarchical Clustering"
   ]
  },
  {
   "cell_type": "code",
   "execution_count": 1,
   "metadata": {},
   "outputs": [],
   "source": [
    "import pandas as pd\n",
    "import matplotlib.pyplot as plt"
   ]
  },
  {
   "cell_type": "code",
   "execution_count": 2,
   "metadata": {},
   "outputs": [
    {
     "data": {
      "text/html": [
       "<div>\n",
       "<style scoped>\n",
       "    .dataframe tbody tr th:only-of-type {\n",
       "        vertical-align: middle;\n",
       "    }\n",
       "\n",
       "    .dataframe tbody tr th {\n",
       "        vertical-align: top;\n",
       "    }\n",
       "\n",
       "    .dataframe thead th {\n",
       "        text-align: right;\n",
       "    }\n",
       "</style>\n",
       "<table border=\"1\" class=\"dataframe\">\n",
       "  <thead>\n",
       "    <tr style=\"text-align: right;\">\n",
       "      <th></th>\n",
       "      <th>Univ</th>\n",
       "      <th>SAT</th>\n",
       "      <th>Top10</th>\n",
       "      <th>Accept</th>\n",
       "      <th>SFRatio</th>\n",
       "      <th>Expenses</th>\n",
       "      <th>GradRate</th>\n",
       "    </tr>\n",
       "  </thead>\n",
       "  <tbody>\n",
       "    <tr>\n",
       "      <th>0</th>\n",
       "      <td>Brown</td>\n",
       "      <td>1310</td>\n",
       "      <td>89</td>\n",
       "      <td>22</td>\n",
       "      <td>13</td>\n",
       "      <td>22704</td>\n",
       "      <td>94</td>\n",
       "    </tr>\n",
       "    <tr>\n",
       "      <th>1</th>\n",
       "      <td>CalTech</td>\n",
       "      <td>1415</td>\n",
       "      <td>100</td>\n",
       "      <td>25</td>\n",
       "      <td>6</td>\n",
       "      <td>63575</td>\n",
       "      <td>81</td>\n",
       "    </tr>\n",
       "    <tr>\n",
       "      <th>2</th>\n",
       "      <td>CMU</td>\n",
       "      <td>1260</td>\n",
       "      <td>62</td>\n",
       "      <td>59</td>\n",
       "      <td>9</td>\n",
       "      <td>25026</td>\n",
       "      <td>72</td>\n",
       "    </tr>\n",
       "    <tr>\n",
       "      <th>3</th>\n",
       "      <td>Columbia</td>\n",
       "      <td>1310</td>\n",
       "      <td>76</td>\n",
       "      <td>24</td>\n",
       "      <td>12</td>\n",
       "      <td>31510</td>\n",
       "      <td>88</td>\n",
       "    </tr>\n",
       "    <tr>\n",
       "      <th>4</th>\n",
       "      <td>Cornell</td>\n",
       "      <td>1280</td>\n",
       "      <td>83</td>\n",
       "      <td>33</td>\n",
       "      <td>13</td>\n",
       "      <td>21864</td>\n",
       "      <td>90</td>\n",
       "    </tr>\n",
       "  </tbody>\n",
       "</table>\n",
       "</div>"
      ],
      "text/plain": [
       "       Univ   SAT  Top10  Accept  SFRatio  Expenses  GradRate\n",
       "0     Brown  1310     89      22       13     22704        94\n",
       "1   CalTech  1415    100      25        6     63575        81\n",
       "2       CMU  1260     62      59        9     25026        72\n",
       "3  Columbia  1310     76      24       12     31510        88\n",
       "4   Cornell  1280     83      33       13     21864        90"
      ]
     },
     "execution_count": 2,
     "metadata": {},
     "output_type": "execute_result"
    }
   ],
   "source": [
    "univ = pd.read_csv('/Users/nimisha/Desktop/Purdue/Python/Deviare/University.csv')\n",
    "univ.head()"
   ]
  },
  {
   "cell_type": "markdown",
   "metadata": {},
   "source": [
    "# Step 1: Standardisation of data"
   ]
  },
  {
   "cell_type": "code",
   "execution_count": 3,
   "metadata": {},
   "outputs": [],
   "source": [
    "from sklearn.preprocessing import StandardScaler\n",
    "sc = StandardScaler()\n",
    "univ_std = sc.fit_transform(univ.drop('Univ', axis =1))"
   ]
  },
  {
   "cell_type": "code",
   "execution_count": 4,
   "metadata": {},
   "outputs": [
    {
     "data": {
      "text/plain": [
       "array([[ 0.41028362,  0.6575195 , -0.88986682,  0.07026045, -0.33141256,\n",
       "         0.82030265],\n",
       "       [ 1.39925928,  1.23521235, -0.73465749, -1.68625071,  2.56038138,\n",
       "        -0.64452351],\n",
       "       [-0.06065717, -0.76045386,  1.02438157, -0.93346022, -0.16712136,\n",
       "        -1.65863393],\n",
       "       [ 0.41028362, -0.02520842, -0.78639393, -0.18066972,  0.29164871,\n",
       "         0.14422904],\n",
       "       [ 0.12771914,  0.34241431, -0.32076595,  0.07026045, -0.39084607,\n",
       "         0.36958691],\n",
       "       [ 0.69284809,  0.6575195 , -0.83813038, -0.68253005,  0.33778044,\n",
       "         0.93298158],\n",
       "       [ 0.4573777 ,  0.71003703, -0.47597528, -0.18066972,  0.29695528,\n",
       "         0.93298158],\n",
       "       [-0.10775125, -0.13024348, -0.78639393, -0.18066972, -0.51381683,\n",
       "         0.59494478],\n",
       "       [ 1.25797704,  0.76255456, -1.30375836, -0.43159988,  0.85874344,\n",
       "         1.15833946],\n",
       "       [ 0.36318954, -0.07772595,  0.24833493, -1.43532055,  2.21481798,\n",
       "         0.0315501 ],\n",
       "       [ 1.06960072,  0.92010716, -0.47597528, -0.68253005,  0.52938275,\n",
       "         0.48226584],\n",
       "       [-0.06065717,  0.44744937, -0.01034729, -0.43159988,  0.04698077,\n",
       "         0.25690797],\n",
       "       [-0.10775125,  0.23737924,  0.14486204,  0.07026045, -0.86787073,\n",
       "         0.82030265],\n",
       "       [-1.7466252 , -2.02087462,  0.76569936,  1.32491127, -1.21718409,\n",
       "        -0.75720245],\n",
       "       [ 1.02250664,  0.76255456, -1.30375836, -1.18439038,  0.20037583,\n",
       "         0.93298158],\n",
       "       [-2.46245521, -2.54604994,  2.6282113 ,  1.57584144, -1.29635802,\n",
       "        -1.99667073],\n",
       "       [ 0.88122441,  0.71003703, -0.9933397 , -0.18066972,  0.64117435,\n",
       "         0.70762371],\n",
       "       [-1.8031381 , -1.44318177,  1.43827311,  3.08142243, -1.32197103,\n",
       "        -2.22202861],\n",
       "       [-0.24903349,  0.97262469,  0.04138915,  1.07398111, -0.86659715,\n",
       "        -0.98256032],\n",
       "       [ 0.2219073 , -0.07772595,  0.55875358,  0.07026045,  0.77772991,\n",
       "         0.0315501 ],\n",
       "       [-0.81416244, -0.60290126,  1.49000956,  0.82305094, -0.84324827,\n",
       "        -0.19380777],\n",
       "       [ 0.17481322,  0.18486171, -0.16555662, -0.43159988,  0.01167444,\n",
       "         0.36958691],\n",
       "       [-0.39031573,  0.02730912,  0.24833493,  0.32119061, -0.99331788,\n",
       "         0.59494478],\n",
       "       [-1.70894994, -1.91583956,  1.541746  ,  0.57212078, -1.09888311,\n",
       "        -1.77131286],\n",
       "       [ 1.02250664,  0.97262469, -1.04507615, -0.43159988,  1.14098185,\n",
       "         1.04566052]])"
      ]
     },
     "execution_count": 4,
     "metadata": {},
     "output_type": "execute_result"
    }
   ],
   "source": [
    "univ_std"
   ]
  },
  {
   "cell_type": "markdown",
   "metadata": {},
   "source": [
    "# Visualize "
   ]
  },
  {
   "cell_type": "code",
   "execution_count": 5,
   "metadata": {},
   "outputs": [
    {
     "data": {
      "image/png": "[encoded data removed]",
      "text/plain": [
       "<Figure size 576x360 with 1 Axes>"
      ]
     },
     "metadata": {
      "needs_background": "light"
     },
     "output_type": "display_data"
    }
   ],
   "source": [
    "# create PCA\n",
    "from sklearn.decomposition import PCA\n",
    "pca = PCA(n_components=2)\n",
    "pca.fit(univ_std)\n",
    "pca.explained_variance_ratio_.sum()\n",
    "\n",
    "univ_pca = pd.DataFrame(pca.fit_transform(univ_std), columns = ['Pc1','Pc2'])\n",
    "univ_pca['Univ'] = univ.Univ\n",
    "\n",
    "plt.figure(figsize = (8,5))\n",
    "plt.scatter(univ_pca.Pc1, univ_pca.Pc2)\n",
    "plt.xlabel('PC1')\n",
    "plt.ylabel('PC2')\n",
    "plt.show()"
   ]
  },
  {
   "cell_type": "markdown",
   "metadata": {},
   "source": [
    "# Hieracrhical CLustering"
   ]
  },
  {
   "cell_type": "markdown",
   "metadata": {},
   "source": [
    "# 1. Distance matrix"
   ]
  },
  {
   "cell_type": "code",
   "execution_count": 29,
   "metadata": {},
   "outputs": [],
   "source": [
    "from scipy.cluster.hierarchy import linkage, dendrogram\n",
    "from scipy.spatial.distance import pdist"
   ]
  },
  {
   "cell_type": "code",
   "execution_count": 32,
   "metadata": {
    "collapsed": true,
    "jupyter": {
     "outputs_hidden": true
    }
   },
   "outputs": [
    {
     "data": {
      "text/plain": [
       "array([3.78541202, 3.43076493, 1.05670674, 0.81929797, 0.99500732,\n",
       "       0.62035981, 0.72686177, 1.52335856, 3.2080376 , 1.35696271,\n",
       "       1.19234268, 1.05155743, 4.29929155, 1.40840786, 6.4520543 ,\n",
       "       1.0253906 , 5.63379602, 1.86855391, 1.94225057, 3.08932016,\n",
       "       1.09009689, 1.54281578, 4.91694787, 1.60491267, 3.98447863,\n",
       "       3.10227901, 3.83127124, 2.83629836, 3.1693207 , 3.92873346,\n",
       "       2.6832619 , 1.42580405, 2.43185441, 3.28285709, 4.34456211,\n",
       "       6.60384216, 2.69530555, 8.1308994 , 2.79957249, 7.84603286,\n",
       "       4.69407477, 3.16391461, 5.39162047, 3.26609448, 4.68891853,\n",
       "       6.54071339, 2.43218826, 2.4976667 , 2.67687485, 3.43427526,\n",
       "       3.17331608, 2.81867109, 4.02837393, 2.56269518, 3.23082596,\n",
       "       2.26743606, 2.84981654, 2.91940994, 3.90205275, 4.14880403,\n",
       "       3.41455398, 3.99081318, 2.34807505, 1.55773763, 2.04165807,\n",
       "       2.38013487, 2.7111953 , 2.58116227, 3.83978178, 0.7324402 ,\n",
       "       1.00161824, 0.67566526, 0.84523549, 1.66833352, 2.26066092,\n",
       "       0.99296491, 0.29253672, 1.24362914, 3.98934321, 1.5304383 ,\n",
       "       5.97159305, 0.99345968, 5.32864632, 1.69660031, 0.9457541 ,\n",
       "       2.71107882, 0.20292874, 1.60423346, 4.36821726, 1.565981  ,\n",
       "       1.41499956, 0.94597331, 0.15230815, 2.07718075, 2.96306821,\n",
       "       1.58850911, 0.63939026, 0.5136696 , 3.55521101, 1.94230285,\n",
       "       5.66452546, 1.42634703, 4.89851117, 1.13629997, 1.30340287,\n",
       "       2.31182748, 0.60151948, 0.9265129 , 4.11130905, 2.06005729,\n",
       "       0.47316014, 1.42769513, 0.6787708 , 2.48128753, 0.43359912,\n",
       "       1.28962915, 1.85982154, 4.93051383, 0.5402709 , 6.96107371,\n",
       "       0.03887813, 6.27483773, 2.54411929, 1.88314088, 3.66182702,\n",
       "       1.18437721, 2.32824247, 5.36421721, 0.65000801, 0.95453548,\n",
       "       1.13215716, 2.61518298, 0.75180338, 0.92941623, 1.38747028,\n",
       "       4.48206307, 0.99659718, 6.54440096, 0.48930213, 5.8267316 ,\n",
       "       2.07984318, 1.61962923, 3.2210237 , 0.81584988, 1.85522479,\n",
       "       4.96069352, 1.1229366 , 2.07406851, 3.09360727, 1.63938627,\n",
       "       0.78211208, 0.44025434, 3.59599733, 1.94202039, 5.72964105,\n",
       "       1.44292097, 4.93632839, 1.16455218, 1.45570107, 2.36916484,\n",
       "       0.73435071, 0.90133974, 4.19012879, 2.07730349, 2.68754536,\n",
       "       0.80335354, 1.95958777, 2.49338786, 5.60789322, 0.13867132,\n",
       "       7.63675138, 0.67934552, 6.95240522, 3.2119783 , 2.50145575,\n",
       "       4.34034851, 1.85739973, 2.97400147, 6.03633499, 0.27736269,\n",
       "       2.0567709 , 2.33383043, 3.44566717, 5.2652021 , 2.62687752,\n",
       "       6.71132237, 2.44315443, 6.47024264, 3.5913844 , 1.96533268,\n",
       "       4.10228153, 2.36164327, 3.68577388, 5.13034803, 2.41244244,\n",
       "       1.27911155, 2.07950475, 4.98138034, 0.68694464, 6.93368132,\n",
       "       0.3947224 , 6.31929632, 2.66748927, 1.7226649 , 3.70254001,\n",
       "       1.1956513 , 2.51434824, 5.31976734, 0.61528565, 1.11234954,\n",
       "       3.70246965, 1.82147082, 5.67921137, 1.28303412, 5.04024606,\n",
       "       1.44731954, 0.74990908, 2.42347463, 0.11421874, 1.40660871,\n",
       "       4.07675028, 1.85810155, 3.25593918, 2.36405574, 5.43563362,\n",
       "       1.87676631, 4.58588482, 0.84165311, 1.66537833, 2.07678996,\n",
       "       1.0970519 , 0.49204721, 3.93764282, 2.50980837, 5.46999607,\n",
       "       2.25689984, 4.93385638, 1.34468654, 2.43284229, 3.48561649,\n",
       "       1.27934963, 3.78752448, 2.77688149, 1.19528657, 5.54558322,\n",
       "       7.49823474, 0.54068868, 6.814454  , 3.076309  , 2.37026764,\n",
       "       4.20202057, 1.71899343, 2.84271382, 5.89820887, 0.26345831,\n",
       "       6.95783459, 1.27479931, 4.59486643, 5.27234413, 3.36337106,\n",
       "       5.77954886, 4.97657141, 1.62429613, 7.53256617, 6.27793023,\n",
       "       2.55272817, 1.8654878 , 3.66371813, 1.17921589, 2.34255235,\n",
       "       5.35912878, 0.63470531, 3.77193908, 4.78123377, 2.6178463 ,\n",
       "       5.12744374, 4.10095618, 1.5257003 , 6.8878837 , 1.63334768,\n",
       "       1.23520402, 1.49882763, 0.43082702, 3.1006776 , 3.18203226,\n",
       "       2.23908302, 0.85472546, 1.78264241, 3.64870518, 2.33793282,\n",
       "       2.50967418, 1.6357104 , 1.87625255, 4.27042522, 1.42605211,\n",
       "       4.18000164, 1.76402321, 3.51047131, 2.97724128, 5.92278811])"
      ]
     },
     "execution_count": 32,
     "metadata": {},
     "output_type": "execute_result"
    }
   ],
   "source": [
    "pdist(univ_pca.drop('Univ', axis = 1))"
   ]
  },
  {
   "cell_type": "code",
   "execution_count": 54,
   "metadata": {},
   "outputs": [
    {
     "data": {
      "image/png": "[encoded data removed]",
      "text/plain": [
       "<Figure size 1440x360 with 1 Axes>"
      ]
     },
     "metadata": {
      "needs_background": "light"
     },
     "output_type": "display_data"
    }
   ],
   "source": [
    "Z = linkage(univ_pca.drop('Univ', axis = 1), metric = 'euclidean', method = 'ward')\n",
    "plt.figure(figsize = (20,5))\n",
    "dendrogram(Z, \n",
    "           labels= univ_pca.Univ.values,leaf_font_size = 12)\n",
    "plt.title('Dendrogram : Wards Method', size = 25)\n",
    "plt.show()"
   ]
  },
  {
   "cell_type": "markdown",
   "metadata": {},
   "source": [
    "# We nneed 3 Clusters "
   ]
  },
  {
   "cell_type": "code",
   "execution_count": 55,
   "metadata": {},
   "outputs": [],
   "source": [
    "from scipy.cluster.hierarchy import fcluster"
   ]
  },
  {
   "cell_type": "code",
   "execution_count": 78,
   "metadata": {},
   "outputs": [],
   "source": [
    "clus_labels = fcluster(Z, criterion= 'maxclust', t = 3)"
   ]
  },
  {
   "cell_type": "code",
   "execution_count": 84,
   "metadata": {},
   "outputs": [],
   "source": [
    "univ_h = univ_pca.copy()\n",
    "univ_h['Clus_label'] = clus_labels\n",
    "univ_h.Clus_label.replace([1,2,3],['Clus1','Clus2','Clus3'],inplace = True)"
   ]
  },
  {
   "cell_type": "code",
   "execution_count": 76,
   "metadata": {},
   "outputs": [],
   "source": [
    "import seaborn as sns"
   ]
  },
  {
   "cell_type": "code",
   "execution_count": 105,
   "metadata": {},
   "outputs": [
    {
     "data": {
      "image/png": "[encoded data removed]",
      "text/plain": [
       "<Figure size 576x360 with 1 Axes>"
      ]
     },
     "metadata": {
      "needs_background": "light"
     },
     "output_type": "display_data"
    }
   ],
   "source": [
    "plt.figure(figsize = (8,5))\n",
    "sns.scatterplot('Pc1', 'Pc2', hue = 'Clus_label',data = univ_h, palette = 'summer_r')\n",
    "#plt.legend(['CLus1', 'CLus2','CLus3'])\n",
    "plt.xlabel('PC1', size = 15)\n",
    "plt.ylabel('PC2', size = 15)\n",
    "plt.title('Cluster Results', size = 25 )\n",
    "plt.show()"
   ]
  },
  {
   "cell_type": "code",
   "execution_count": 98,
   "metadata": {},
   "outputs": [
    {
     "data": {
      "image/png": "[encoded data removed]",
      "text/plain": [
       "<Figure size 1440x360 with 1 Axes>"
      ]
     },
     "metadata": {
      "needs_background": "light"
     },
     "output_type": "display_data"
    }
   ],
   "source": [
    "Z = linkage(univ_std, metric = 'euclidean', method = 'ward')\n",
    "plt.figure(figsize = (20,5))\n",
    "dendrogram(Z, \n",
    "           labels= univ.Univ.values,leaf_font_size = 12)\n",
    "plt.title('Dendrogram : Wards Method', size = 25)\n",
    "plt.show()"
   ]
  },
  {
   "cell_type": "code",
   "execution_count": 99,
   "metadata": {},
   "outputs": [
    {
     "data": {
      "text/html": [
       "<div>\n",
       "<style scoped>\n",
       "    .dataframe tbody tr th:only-of-type {\n",
       "        vertical-align: middle;\n",
       "    }\n",
       "\n",
       "    .dataframe tbody tr th {\n",
       "        vertical-align: top;\n",
       "    }\n",
       "\n",
       "    .dataframe thead th {\n",
       "        text-align: right;\n",
       "    }\n",
       "</style>\n",
       "<table border=\"1\" class=\"dataframe\">\n",
       "  <thead>\n",
       "    <tr style=\"text-align: right;\">\n",
       "      <th></th>\n",
       "      <th>Univ</th>\n",
       "      <th>SAT</th>\n",
       "      <th>Top10</th>\n",
       "      <th>Accept</th>\n",
       "      <th>SFRatio</th>\n",
       "      <th>Expenses</th>\n",
       "      <th>GradRate</th>\n",
       "      <th>Clus_label</th>\n",
       "    </tr>\n",
       "  </thead>\n",
       "  <tbody>\n",
       "    <tr>\n",
       "      <th>0</th>\n",
       "      <td>Brown</td>\n",
       "      <td>1310</td>\n",
       "      <td>89</td>\n",
       "      <td>22</td>\n",
       "      <td>13</td>\n",
       "      <td>22704</td>\n",
       "      <td>94</td>\n",
       "      <td>Clus2</td>\n",
       "    </tr>\n",
       "    <tr>\n",
       "      <th>1</th>\n",
       "      <td>CalTech</td>\n",
       "      <td>1415</td>\n",
       "      <td>100</td>\n",
       "      <td>25</td>\n",
       "      <td>6</td>\n",
       "      <td>63575</td>\n",
       "      <td>81</td>\n",
       "      <td>Clus3</td>\n",
       "    </tr>\n",
       "    <tr>\n",
       "      <th>2</th>\n",
       "      <td>CMU</td>\n",
       "      <td>1260</td>\n",
       "      <td>62</td>\n",
       "      <td>59</td>\n",
       "      <td>9</td>\n",
       "      <td>25026</td>\n",
       "      <td>72</td>\n",
       "      <td>Clus2</td>\n",
       "    </tr>\n",
       "    <tr>\n",
       "      <th>3</th>\n",
       "      <td>Columbia</td>\n",
       "      <td>1310</td>\n",
       "      <td>76</td>\n",
       "      <td>24</td>\n",
       "      <td>12</td>\n",
       "      <td>31510</td>\n",
       "      <td>88</td>\n",
       "      <td>Clus2</td>\n",
       "    </tr>\n",
       "    <tr>\n",
       "      <th>4</th>\n",
       "      <td>Cornell</td>\n",
       "      <td>1280</td>\n",
       "      <td>83</td>\n",
       "      <td>33</td>\n",
       "      <td>13</td>\n",
       "      <td>21864</td>\n",
       "      <td>90</td>\n",
       "      <td>Clus2</td>\n",
       "    </tr>\n",
       "  </tbody>\n",
       "</table>\n",
       "</div>"
      ],
      "text/plain": [
       "       Univ   SAT  Top10  Accept  SFRatio  Expenses  GradRate Clus_label\n",
       "0     Brown  1310     89      22       13     22704        94      Clus2\n",
       "1   CalTech  1415    100      25        6     63575        81      Clus3\n",
       "2       CMU  1260     62      59        9     25026        72      Clus2\n",
       "3  Columbia  1310     76      24       12     31510        88      Clus2\n",
       "4   Cornell  1280     83      33       13     21864        90      Clus2"
      ]
     },
     "execution_count": 99,
     "metadata": {},
     "output_type": "execute_result"
    }
   ],
   "source": [
    "clus_labels = fcluster(Z, criterion= 'maxclust', t = 3)\n",
    "univ_h_d = univ.copy()\n",
    "univ_h_d['Clus_label'] = clus_labels\n",
    "univ_h_d.Clus_label.replace([1,2,3],['Clus1','Clus2','Clus3'],inplace = True)\n",
    "univ_h_d.head()"
   ]
  },
  {
   "cell_type": "code",
   "execution_count": 104,
   "metadata": {},
   "outputs": [
    {
     "data": {
      "image/png": "[encoded data removed]",
      "text/plain": [
       "<Figure size 576x360 with 1 Axes>"
      ]
     },
     "metadata": {
      "needs_background": "light"
     },
     "output_type": "display_data"
    }
   ],
   "source": [
    "plt.figure(figsize = (8,5))\n",
    "sns.scatterplot(univ_h.Pc1, univ_h.Pc2 , hue = univ_h_d.Clus_label, cmap = 'summer_r')\n",
    "#plt.legend(['CLus1', 'CLus2','CLus3'])\n",
    "plt.xlabel('PC1', size = 15)\n",
    "plt.ylabel('PC2', size = 15)\n",
    "plt.title('Cluster Results', size = 25 )\n",
    "plt.show()"
   ]
  },
  {
   "cell_type": "markdown",
   "metadata": {},
   "source": [
    "# K Means "
   ]
  },
  {
   "cell_type": "code",
   "execution_count": 106,
   "metadata": {},
   "outputs": [],
   "source": [
    "# Find Out optimized number of Clusters "
   ]
  },
  {
   "cell_type": "code",
   "execution_count": 107,
   "metadata": {},
   "outputs": [],
   "source": [
    "from sklearn.cluster import KMeans"
   ]
  },
  {
   "cell_type": "code",
   "execution_count": 126,
   "metadata": {},
   "outputs": [
    {
     "data": {
      "text/html": [
       "<div>\n",
       "<style scoped>\n",
       "    .dataframe tbody tr th:only-of-type {\n",
       "        vertical-align: middle;\n",
       "    }\n",
       "\n",
       "    .dataframe tbody tr th {\n",
       "        vertical-align: top;\n",
       "    }\n",
       "\n",
       "    .dataframe thead th {\n",
       "        text-align: right;\n",
       "    }\n",
       "</style>\n",
       "<table border=\"1\" class=\"dataframe\">\n",
       "  <thead>\n",
       "    <tr style=\"text-align: right;\">\n",
       "      <th></th>\n",
       "      <th>errors</th>\n",
       "    </tr>\n",
       "  </thead>\n",
       "  <tbody>\n",
       "    <tr>\n",
       "      <th># CLusters = 1</th>\n",
       "      <td>134.972530</td>\n",
       "    </tr>\n",
       "    <tr>\n",
       "      <th># CLusters = 2</th>\n",
       "      <td>49.346647</td>\n",
       "    </tr>\n",
       "    <tr>\n",
       "      <th># CLusters = 3</th>\n",
       "      <td>30.740808</td>\n",
       "    </tr>\n",
       "    <tr>\n",
       "      <th># CLusters = 4</th>\n",
       "      <td>20.577040</td>\n",
       "    </tr>\n",
       "    <tr>\n",
       "      <th># CLusters = 5</th>\n",
       "      <td>14.215341</td>\n",
       "    </tr>\n",
       "    <tr>\n",
       "      <th># CLusters = 6</th>\n",
       "      <td>10.667550</td>\n",
       "    </tr>\n",
       "    <tr>\n",
       "      <th># CLusters = 7</th>\n",
       "      <td>8.229981</td>\n",
       "    </tr>\n",
       "    <tr>\n",
       "      <th># CLusters = 8</th>\n",
       "      <td>6.561269</td>\n",
       "    </tr>\n",
       "    <tr>\n",
       "      <th># CLusters = 9</th>\n",
       "      <td>5.080367</td>\n",
       "    </tr>\n",
       "    <tr>\n",
       "      <th># CLusters = 10</th>\n",
       "      <td>4.166863</td>\n",
       "    </tr>\n",
       "    <tr>\n",
       "      <th># CLusters = 11</th>\n",
       "      <td>3.296716</td>\n",
       "    </tr>\n",
       "    <tr>\n",
       "      <th># CLusters = 12</th>\n",
       "      <td>2.484159</td>\n",
       "    </tr>\n",
       "    <tr>\n",
       "      <th># CLusters = 13</th>\n",
       "      <td>1.766734</td>\n",
       "    </tr>\n",
       "    <tr>\n",
       "      <th># CLusters = 14</th>\n",
       "      <td>1.197614</td>\n",
       "    </tr>\n",
       "    <tr>\n",
       "      <th># CLusters = 15</th>\n",
       "      <td>0.662422</td>\n",
       "    </tr>\n",
       "    <tr>\n",
       "      <th># CLusters = 16</th>\n",
       "      <td>0.469998</td>\n",
       "    </tr>\n",
       "    <tr>\n",
       "      <th># CLusters = 17</th>\n",
       "      <td>0.321305</td>\n",
       "    </tr>\n",
       "    <tr>\n",
       "      <th># CLusters = 18</th>\n",
       "      <td>0.206952</td>\n",
       "    </tr>\n",
       "    <tr>\n",
       "      <th># CLusters = 19</th>\n",
       "      <td>0.114146</td>\n",
       "    </tr>\n",
       "    <tr>\n",
       "      <th># CLusters = 20</th>\n",
       "      <td>0.068571</td>\n",
       "    </tr>\n",
       "    <tr>\n",
       "      <th># CLusters = 21</th>\n",
       "      <td>0.028492</td>\n",
       "    </tr>\n",
       "    <tr>\n",
       "      <th># CLusters = 22</th>\n",
       "      <td>0.016894</td>\n",
       "    </tr>\n",
       "    <tr>\n",
       "      <th># CLusters = 23</th>\n",
       "      <td>0.007279</td>\n",
       "    </tr>\n",
       "    <tr>\n",
       "      <th># CLusters = 24</th>\n",
       "      <td>0.000756</td>\n",
       "    </tr>\n",
       "  </tbody>\n",
       "</table>\n",
       "</div>"
      ],
      "text/plain": [
       "                     errors\n",
       "# CLusters = 1   134.972530\n",
       "# CLusters = 2    49.346647\n",
       "# CLusters = 3    30.740808\n",
       "# CLusters = 4    20.577040\n",
       "# CLusters = 5    14.215341\n",
       "# CLusters = 6    10.667550\n",
       "# CLusters = 7     8.229981\n",
       "# CLusters = 8     6.561269\n",
       "# CLusters = 9     5.080367\n",
       "# CLusters = 10    4.166863\n",
       "# CLusters = 11    3.296716\n",
       "# CLusters = 12    2.484159\n",
       "# CLusters = 13    1.766734\n",
       "# CLusters = 14    1.197614\n",
       "# CLusters = 15    0.662422\n",
       "# CLusters = 16    0.469998\n",
       "# CLusters = 17    0.321305\n",
       "# CLusters = 18    0.206952\n",
       "# CLusters = 19    0.114146\n",
       "# CLusters = 20    0.068571\n",
       "# CLusters = 21    0.028492\n",
       "# CLusters = 22    0.016894\n",
       "# CLusters = 23    0.007279\n",
       "# CLusters = 24    0.000756"
      ]
     },
     "execution_count": 126,
     "metadata": {},
     "output_type": "execute_result"
    }
   ],
   "source": [
    "errors = {}\n",
    "for i in range(1, len(univ)):\n",
    "    kmeans = KMeans(n_clusters= i)\n",
    "    kmeans.fit(univ_pca.drop('Univ', axis = 1))\n",
    "    errors['# CLusters = '+str(i)] = [kmeans.inertia_]  # total within ss\n",
    "clust_error = pd.DataFrame(errors, index = ['errors']).T\n",
    "clust_error"
   ]
  },
  {
   "cell_type": "markdown",
   "metadata": {},
   "source": [
    "## plot this data to find optimised clusters"
   ]
  },
  {
   "cell_type": "code",
   "execution_count": 135,
   "metadata": {},
   "outputs": [
    {
     "data": {
      "image/png": "[encoded data removed]",
      "text/plain": [
       "<Figure size 1080x360 with 1 Axes>"
      ]
     },
     "metadata": {
      "needs_background": "light"
     },
     "output_type": "display_data"
    }
   ],
   "source": [
    "plt.figure(figsize = (15,5))\n",
    "plt.plot(range(1,len(clust_error.index)+1), clust_error)\n",
    "plt.scatter(range(1,len(clust_error.index)+1), clust_error, )\n",
    "plt.xticks(range(1,len(clust_error.index)+1))\n",
    "plt.show()"
   ]
  },
  {
   "cell_type": "code",
   "execution_count": 136,
   "metadata": {},
   "outputs": [
    {
     "data": {
      "text/plain": [
       "KMeans(algorithm='auto', copy_x=True, init='k-means++', max_iter=300,\n",
       "       n_clusters=4, n_init=10, n_jobs=None, precompute_distances='auto',\n",
       "       random_state=None, tol=0.0001, verbose=0)"
      ]
     },
     "execution_count": 136,
     "metadata": {},
     "output_type": "execute_result"
    }
   ],
   "source": [
    "kmeans = KMeans(n_clusters= 4)\n",
    "kmeans.fit(univ_pca.drop('Univ', axis = 1))"
   ]
  },
  {
   "cell_type": "code",
   "execution_count": 141,
   "metadata": {},
   "outputs": [],
   "source": [
    "clus_labels = kmeans.labels_\n",
    "\n",
    "univ_km = univ_pca.copy()\n",
    "univ_km['CLus_labels'] = clus_labels\n",
    "univ_km['CLus_labels'].replace([0,1,2,3],['Clus1','Clus2','Clus3', 'Clus4'],inplace = True)\n",
    "univ_km.head()"
   ]
  },
  {
   "cell_type": "code",
   "execution_count": 149,
   "metadata": {},
   "outputs": [
    {
     "data": {
      "text/plain": [
       "array([[ 4.13339128,  0.20905129],\n",
       "       [ 0.18067263, -0.20197376],\n",
       "       [-1.7869311 , -0.37413168],\n",
       "       [-2.1127576 ,  2.1892798 ]])"
      ]
     },
     "execution_count": 149,
     "metadata": {},
     "output_type": "execute_result"
    }
   ],
   "source": [
    "kmeans.cluster_centers_"
   ]
  },
  {
   "cell_type": "code",
   "execution_count": 162,
   "metadata": {},
   "outputs": [
    {
     "data": {
      "image/png": "[encoded data removed]",
      "text/plain": [
       "<Figure size 576x360 with 1 Axes>"
      ]
     },
     "metadata": {
      "needs_background": "light"
     },
     "output_type": "display_data"
    }
   ],
   "source": [
    "plt.figure(figsize = (8,5))\n",
    "sns.scatterplot(univ_km.Pc1, univ_km.Pc2 , hue = univ_km.CLus_labels, cmap = 'viridis',marker = 'o', s = 75 )\n",
    "plt.scatter(kmeans.cluster_centers_[:,0], kmeans.cluster_centers_[:,1], marker = '+', c= 'black', s = 200)\n",
    "plt.xlabel('PC1', size = 15)\n",
    "plt.ylabel('PC2', size = 15)\n",
    "plt.title('Cluster Results', size = 25 )\n",
    "plt.show()"
   ]
  },
  {
   "cell_type": "code",
   "execution_count": 164,
   "metadata": {},
   "outputs": [
    {
     "data": {
      "text/html": [
       "<div>\n",
       "<style scoped>\n",
       "    .dataframe tbody tr th:only-of-type {\n",
       "        vertical-align: middle;\n",
       "    }\n",
       "\n",
       "    .dataframe tbody tr th {\n",
       "        vertical-align: top;\n",
       "    }\n",
       "\n",
       "    .dataframe thead th {\n",
       "        text-align: right;\n",
       "    }\n",
       "</style>\n",
       "<table border=\"1\" class=\"dataframe\">\n",
       "  <thead>\n",
       "    <tr style=\"text-align: right;\">\n",
       "      <th></th>\n",
       "      <th>Univ</th>\n",
       "      <th>SAT</th>\n",
       "      <th>Top10</th>\n",
       "      <th>Accept</th>\n",
       "      <th>SFRatio</th>\n",
       "      <th>Expenses</th>\n",
       "      <th>GradRate</th>\n",
       "      <th>CLus_labels</th>\n",
       "    </tr>\n",
       "  </thead>\n",
       "  <tbody>\n",
       "    <tr>\n",
       "      <th>0</th>\n",
       "      <td>Brown</td>\n",
       "      <td>1310</td>\n",
       "      <td>89</td>\n",
       "      <td>22</td>\n",
       "      <td>13</td>\n",
       "      <td>22704</td>\n",
       "      <td>94</td>\n",
       "      <td>Clus1</td>\n",
       "    </tr>\n",
       "    <tr>\n",
       "      <th>1</th>\n",
       "      <td>CalTech</td>\n",
       "      <td>1415</td>\n",
       "      <td>100</td>\n",
       "      <td>25</td>\n",
       "      <td>6</td>\n",
       "      <td>63575</td>\n",
       "      <td>81</td>\n",
       "      <td>Clus4</td>\n",
       "    </tr>\n",
       "    <tr>\n",
       "      <th>2</th>\n",
       "      <td>CMU</td>\n",
       "      <td>1260</td>\n",
       "      <td>62</td>\n",
       "      <td>59</td>\n",
       "      <td>9</td>\n",
       "      <td>25026</td>\n",
       "      <td>72</td>\n",
       "      <td>Clus2</td>\n",
       "    </tr>\n",
       "    <tr>\n",
       "      <th>3</th>\n",
       "      <td>Columbia</td>\n",
       "      <td>1310</td>\n",
       "      <td>76</td>\n",
       "      <td>24</td>\n",
       "      <td>12</td>\n",
       "      <td>31510</td>\n",
       "      <td>88</td>\n",
       "      <td>Clus2</td>\n",
       "    </tr>\n",
       "    <tr>\n",
       "      <th>4</th>\n",
       "      <td>Cornell</td>\n",
       "      <td>1280</td>\n",
       "      <td>83</td>\n",
       "      <td>33</td>\n",
       "      <td>13</td>\n",
       "      <td>21864</td>\n",
       "      <td>90</td>\n",
       "      <td>Clus2</td>\n",
       "    </tr>\n",
       "  </tbody>\n",
       "</table>\n",
       "</div>"
      ],
      "text/plain": [
       "       Univ   SAT  Top10  Accept  SFRatio  Expenses  GradRate CLus_labels\n",
       "0     Brown  1310     89      22       13     22704        94       Clus1\n",
       "1   CalTech  1415    100      25        6     63575        81       Clus4\n",
       "2       CMU  1260     62      59        9     25026        72       Clus2\n",
       "3  Columbia  1310     76      24       12     31510        88       Clus2\n",
       "4   Cornell  1280     83      33       13     21864        90       Clus2"
      ]
     },
     "execution_count": 164,
     "metadata": {},
     "output_type": "execute_result"
    }
   ],
   "source": [
    "kmeans = KMeans(n_clusters= 4)\n",
    "kmeans.fit(univ_std)\n",
    "clus_labels = kmeans.labels_\n",
    "univ_km_d = univ.copy()\n",
    "univ_km_d['CLus_labels'] = clus_labels\n",
    "univ_km_d['CLus_labels'].replace([0,1,2,3],['Clus1','Clus2','Clus3', 'Clus4'],inplace = True)\n",
    "univ_km_d.head()"
   ]
  },
  {
   "cell_type": "code",
   "execution_count": 167,
   "metadata": {},
   "outputs": [
    {
     "data": {
      "image/png": "[encoded data removed]",
      "text/plain": [
       "<Figure size 576x360 with 1 Axes>"
      ]
     },
     "metadata": {
      "needs_background": "light"
     },
     "output_type": "display_data"
    }
   ],
   "source": [
    "plt.figure(figsize = (8,5))\n",
    "sns.scatterplot(univ_km.Pc1, univ_km.Pc2 , hue = univ_km_d.CLus_labels, cmap = 'viridis',marker = 'o', s = 75 )\n",
    "#plt.scatter(kmeans.cluster_centers_[:,0], kmeans.cluster_centers_[:,1], marker = '+', c= 'black', s = 200)\n",
    "plt.xlabel('PC1', size = 15)\n",
    "plt.ylabel('PC2', size = 15)\n",
    "plt.title('Cluster Results', size = 25 )\n",
    "plt.show()\n"
   ]
  },
  {
   "cell_type": "markdown",
   "metadata": {},
   "source": [
    "# Cluster Profiling "
   ]
  },
  {
   "cell_type": "code",
   "execution_count": 178,
   "metadata": {},
   "outputs": [
    {
     "data": {
      "text/html": [
       "<div>\n",
       "<style scoped>\n",
       "    .dataframe tbody tr th:only-of-type {\n",
       "        vertical-align: middle;\n",
       "    }\n",
       "\n",
       "    .dataframe tbody tr th {\n",
       "        vertical-align: top;\n",
       "    }\n",
       "\n",
       "    .dataframe thead th {\n",
       "        text-align: right;\n",
       "    }\n",
       "</style>\n",
       "<table border=\"1\" class=\"dataframe\">\n",
       "  <thead>\n",
       "    <tr style=\"text-align: right;\">\n",
       "      <th></th>\n",
       "      <th>size</th>\n",
       "      <th>SAT</th>\n",
       "      <th>Top10</th>\n",
       "      <th>Accept</th>\n",
       "      <th>SFRatio</th>\n",
       "      <th>Expenses</th>\n",
       "      <th>GradRate</th>\n",
       "    </tr>\n",
       "    <tr>\n",
       "      <th>Clus_label</th>\n",
       "      <th></th>\n",
       "      <th></th>\n",
       "      <th></th>\n",
       "      <th></th>\n",
       "      <th></th>\n",
       "      <th></th>\n",
       "      <th></th>\n",
       "    </tr>\n",
       "  </thead>\n",
       "  <tbody>\n",
       "    <tr>\n",
       "      <th>Clus1</th>\n",
       "      <td>4</td>\n",
       "      <td>1061.5</td>\n",
       "      <td>38.8</td>\n",
       "      <td>70.0</td>\n",
       "      <td>19.2</td>\n",
       "      <td>9953.0</td>\n",
       "      <td>71.8</td>\n",
       "    </tr>\n",
       "    <tr>\n",
       "      <th>Clus2</th>\n",
       "      <td>12</td>\n",
       "      <td>1262.5</td>\n",
       "      <td>78.5</td>\n",
       "      <td>40.1</td>\n",
       "      <td>12.8</td>\n",
       "      <td>22858.0</td>\n",
       "      <td>87.6</td>\n",
       "    </tr>\n",
       "    <tr>\n",
       "      <th>Clus3</th>\n",
       "      <td>9</td>\n",
       "      <td>1362.8</td>\n",
       "      <td>90.6</td>\n",
       "      <td>24.3</td>\n",
       "      <td>9.7</td>\n",
       "      <td>41176.9</td>\n",
       "      <td>92.2</td>\n",
       "    </tr>\n",
       "  </tbody>\n",
       "</table>\n",
       "</div>"
      ],
      "text/plain": [
       "            size     SAT  Top10  Accept  SFRatio  Expenses  GradRate\n",
       "Clus_label                                                          \n",
       "Clus1          4  1061.5   38.8    70.0     19.2    9953.0      71.8\n",
       "Clus2         12  1262.5   78.5    40.1     12.8   22858.0      87.6\n",
       "Clus3          9  1362.8   90.6    24.3      9.7   41176.9      92.2"
      ]
     },
     "execution_count": 178,
     "metadata": {},
     "output_type": "execute_result"
    }
   ],
   "source": [
    "clus_prof1 = univ_h_d.groupby('Clus_label').mean().round(1)\n",
    "clus_prof1.insert(0, 'size',univ_h_d.groupby('Clus_label').size() )\n",
    "\n",
    "clus_prof1"
   ]
  },
  {
   "cell_type": "code",
   "execution_count": 181,
   "metadata": {},
   "outputs": [
    {
     "data": {
      "text/html": [
       "<div>\n",
       "<style scoped>\n",
       "    .dataframe tbody tr th:only-of-type {\n",
       "        vertical-align: middle;\n",
       "    }\n",
       "\n",
       "    .dataframe tbody tr th {\n",
       "        vertical-align: top;\n",
       "    }\n",
       "\n",
       "    .dataframe thead th {\n",
       "        text-align: right;\n",
       "    }\n",
       "</style>\n",
       "<table border=\"1\" class=\"dataframe\">\n",
       "  <thead>\n",
       "    <tr style=\"text-align: right;\">\n",
       "      <th></th>\n",
       "      <th>size</th>\n",
       "      <th>SAT</th>\n",
       "      <th>Top10</th>\n",
       "      <th>Accept</th>\n",
       "      <th>SFRatio</th>\n",
       "      <th>Expenses</th>\n",
       "      <th>GradRate</th>\n",
       "    </tr>\n",
       "    <tr>\n",
       "      <th>CLus_labels</th>\n",
       "      <th></th>\n",
       "      <th></th>\n",
       "      <th></th>\n",
       "      <th></th>\n",
       "      <th></th>\n",
       "      <th></th>\n",
       "      <th></th>\n",
       "    </tr>\n",
       "  </thead>\n",
       "  <tbody>\n",
       "    <tr>\n",
       "      <th>Clus1</th>\n",
       "      <td>8</td>\n",
       "      <td>1356.9</td>\n",
       "      <td>91.1</td>\n",
       "      <td>21.5</td>\n",
       "      <td>10.9</td>\n",
       "      <td>33878.8</td>\n",
       "      <td>94.5</td>\n",
       "    </tr>\n",
       "    <tr>\n",
       "      <th>Clus2</th>\n",
       "      <td>10</td>\n",
       "      <td>1266.0</td>\n",
       "      <td>78.8</td>\n",
       "      <td>39.1</td>\n",
       "      <td>12.5</td>\n",
       "      <td>23612.2</td>\n",
       "      <td>87.2</td>\n",
       "    </tr>\n",
       "    <tr>\n",
       "      <th>Clus3</th>\n",
       "      <td>5</td>\n",
       "      <td>1085.2</td>\n",
       "      <td>44.0</td>\n",
       "      <td>69.6</td>\n",
       "      <td>18.6</td>\n",
       "      <td>11056.4</td>\n",
       "      <td>74.4</td>\n",
       "    </tr>\n",
       "    <tr>\n",
       "      <th>Clus4</th>\n",
       "      <td>2</td>\n",
       "      <td>1360.0</td>\n",
       "      <td>87.5</td>\n",
       "      <td>34.5</td>\n",
       "      <td>6.5</td>\n",
       "      <td>61133.0</td>\n",
       "      <td>84.0</td>\n",
       "    </tr>\n",
       "  </tbody>\n",
       "</table>\n",
       "</div>"
      ],
      "text/plain": [
       "             size     SAT  Top10  Accept  SFRatio  Expenses  GradRate\n",
       "CLus_labels                                                          \n",
       "Clus1           8  1356.9   91.1    21.5     10.9   33878.8      94.5\n",
       "Clus2          10  1266.0   78.8    39.1     12.5   23612.2      87.2\n",
       "Clus3           5  1085.2   44.0    69.6     18.6   11056.4      74.4\n",
       "Clus4           2  1360.0   87.5    34.5      6.5   61133.0      84.0"
      ]
     },
     "execution_count": 181,
     "metadata": {},
     "output_type": "execute_result"
    }
   ],
   "source": [
    "clus_prof2 = univ_km_d.groupby('CLus_labels').mean().round(1)\n",
    "clus_prof2.insert(0, 'size',univ_km_d.groupby('CLus_labels').size() )\n",
    "clus_prof2"
   ]
  },
  {
   "cell_type": "code",
   "execution_count": null,
   "metadata": {},
   "outputs": [],
   "source": []
  }
 ],
 "metadata": {
  "kernelspec": {
   "display_name": "Python 3",
   "language": "python",
   "name": "python3"
  },
  "language_info": {
   "codemirror_mode": {
    "name": "ipython",
    "version": 3
   },
   "file_extension": ".py",
   "mimetype": "text/x-python",
   "name": "python",
   "nbconvert_exporter": "python",
   "pygments_lexer": "ipython3",
   "version": "3.7.6"
  }
 },
 "nbformat": 4,
 "nbformat_minor": 4
}
