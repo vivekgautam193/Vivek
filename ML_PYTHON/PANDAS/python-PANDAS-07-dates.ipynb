{
 "cells": [
  {
   "cell_type": "code",
   "execution_count": 1,
   "metadata": {
    "collapsed": true
   },
   "outputs": [],
   "source": [
    "import pandas as pd\n",
    "import numpy as np\n",
    "import datetime\n",
    "from dateutil.relativedelta import relativedelta\n",
    "from datetime import date"
   ]
  },
  {
   "cell_type": "markdown",
   "metadata": {},
   "source": [
    "# Example 1"
   ]
  },
  {
   "cell_type": "code",
   "execution_count": 2,
   "metadata": {
    "collapsed": true
   },
   "outputs": [],
   "source": [
    "date1 = pd.Series(pd.date_range('2012-1-1  12:00:00', periods=7, freq='M'))\n",
    "date2 = pd.Series(pd.date_range('2013-3-11 21:45:00', periods=7, freq='W'))"
   ]
  },
  {
   "cell_type": "code",
   "execution_count": 4,
   "metadata": {},
   "outputs": [
    {
     "data": {
      "text/html": [
       "<div>\n",
       "<style>\n",
       "    .dataframe thead tr:only-child th {\n",
       "        text-align: right;\n",
       "    }\n",
       "\n",
       "    .dataframe thead th {\n",
       "        text-align: left;\n",
       "    }\n",
       "\n",
       "    .dataframe tbody tr th {\n",
       "        vertical-align: top;\n",
       "    }\n",
       "</style>\n",
       "<table border=\"1\" class=\"dataframe\">\n",
       "  <thead>\n",
       "    <tr style=\"text-align: right;\">\n",
       "      <th></th>\n",
       "      <th>End_date</th>\n",
       "      <th>Start_date</th>\n",
       "    </tr>\n",
       "  </thead>\n",
       "  <tbody>\n",
       "    <tr>\n",
       "      <th>0</th>\n",
       "      <td>2013-03-17 21:45:00</td>\n",
       "      <td>2012-01-31 12:00:00</td>\n",
       "    </tr>\n",
       "    <tr>\n",
       "      <th>1</th>\n",
       "      <td>2013-03-24 21:45:00</td>\n",
       "      <td>2012-02-29 12:00:00</td>\n",
       "    </tr>\n",
       "    <tr>\n",
       "      <th>2</th>\n",
       "      <td>2013-03-31 21:45:00</td>\n",
       "      <td>2012-03-31 12:00:00</td>\n",
       "    </tr>\n",
       "    <tr>\n",
       "      <th>3</th>\n",
       "      <td>2013-04-07 21:45:00</td>\n",
       "      <td>2012-04-30 12:00:00</td>\n",
       "    </tr>\n",
       "    <tr>\n",
       "      <th>4</th>\n",
       "      <td>2013-04-14 21:45:00</td>\n",
       "      <td>2012-05-31 12:00:00</td>\n",
       "    </tr>\n",
       "    <tr>\n",
       "      <th>5</th>\n",
       "      <td>2013-04-21 21:45:00</td>\n",
       "      <td>2012-06-30 12:00:00</td>\n",
       "    </tr>\n",
       "    <tr>\n",
       "      <th>6</th>\n",
       "      <td>2013-04-28 21:45:00</td>\n",
       "      <td>2012-07-31 12:00:00</td>\n",
       "    </tr>\n",
       "  </tbody>\n",
       "</table>\n",
       "</div>"
      ],
      "text/plain": [
       "             End_date          Start_date\n",
       "0 2013-03-17 21:45:00 2012-01-31 12:00:00\n",
       "1 2013-03-24 21:45:00 2012-02-29 12:00:00\n",
       "2 2013-03-31 21:45:00 2012-03-31 12:00:00\n",
       "3 2013-04-07 21:45:00 2012-04-30 12:00:00\n",
       "4 2013-04-14 21:45:00 2012-05-31 12:00:00\n",
       "5 2013-04-21 21:45:00 2012-06-30 12:00:00\n",
       "6 2013-04-28 21:45:00 2012-07-31 12:00:00"
      ]
     },
     "execution_count": 4,
     "metadata": {},
     "output_type": "execute_result"
    }
   ],
   "source": [
    "df = pd.DataFrame(dict(Start_date = date1, End_date = date2))\n",
    "df"
   ]
  },
  {
   "cell_type": "markdown",
   "metadata": {},
   "source": [
    "## Difference between two timestamps in seconds –\n",
    "\n",
    "- First line calculates the difference between two timestamps\n",
    "- Second line converts the difference in terms of seconds (timedelta64(1,’s’)- small s indicates seconds)"
   ]
  },
  {
   "cell_type": "code",
   "execution_count": 5,
   "metadata": {},
   "outputs": [
    {
     "data": {
      "text/html": [
       "<div>\n",
       "<style>\n",
       "    .dataframe thead tr:only-child th {\n",
       "        text-align: right;\n",
       "    }\n",
       "\n",
       "    .dataframe thead th {\n",
       "        text-align: left;\n",
       "    }\n",
       "\n",
       "    .dataframe tbody tr th {\n",
       "        vertical-align: top;\n",
       "    }\n",
       "</style>\n",
       "<table border=\"1\" class=\"dataframe\">\n",
       "  <thead>\n",
       "    <tr style=\"text-align: right;\">\n",
       "      <th></th>\n",
       "      <th>End_date</th>\n",
       "      <th>Start_date</th>\n",
       "      <th>diff_seconds</th>\n",
       "    </tr>\n",
       "  </thead>\n",
       "  <tbody>\n",
       "    <tr>\n",
       "      <th>0</th>\n",
       "      <td>2013-03-17 21:45:00</td>\n",
       "      <td>2012-01-31 12:00:00</td>\n",
       "      <td>35545500.0</td>\n",
       "    </tr>\n",
       "    <tr>\n",
       "      <th>1</th>\n",
       "      <td>2013-03-24 21:45:00</td>\n",
       "      <td>2012-02-29 12:00:00</td>\n",
       "      <td>33644700.0</td>\n",
       "    </tr>\n",
       "    <tr>\n",
       "      <th>2</th>\n",
       "      <td>2013-03-31 21:45:00</td>\n",
       "      <td>2012-03-31 12:00:00</td>\n",
       "      <td>31571100.0</td>\n",
       "    </tr>\n",
       "    <tr>\n",
       "      <th>3</th>\n",
       "      <td>2013-04-07 21:45:00</td>\n",
       "      <td>2012-04-30 12:00:00</td>\n",
       "      <td>29583900.0</td>\n",
       "    </tr>\n",
       "    <tr>\n",
       "      <th>4</th>\n",
       "      <td>2013-04-14 21:45:00</td>\n",
       "      <td>2012-05-31 12:00:00</td>\n",
       "      <td>27510300.0</td>\n",
       "    </tr>\n",
       "    <tr>\n",
       "      <th>5</th>\n",
       "      <td>2013-04-21 21:45:00</td>\n",
       "      <td>2012-06-30 12:00:00</td>\n",
       "      <td>25523100.0</td>\n",
       "    </tr>\n",
       "    <tr>\n",
       "      <th>6</th>\n",
       "      <td>2013-04-28 21:45:00</td>\n",
       "      <td>2012-07-31 12:00:00</td>\n",
       "      <td>23449500.0</td>\n",
       "    </tr>\n",
       "  </tbody>\n",
       "</table>\n",
       "</div>"
      ],
      "text/plain": [
       "             End_date          Start_date  diff_seconds\n",
       "0 2013-03-17 21:45:00 2012-01-31 12:00:00    35545500.0\n",
       "1 2013-03-24 21:45:00 2012-02-29 12:00:00    33644700.0\n",
       "2 2013-03-31 21:45:00 2012-03-31 12:00:00    31571100.0\n",
       "3 2013-04-07 21:45:00 2012-04-30 12:00:00    29583900.0\n",
       "4 2013-04-14 21:45:00 2012-05-31 12:00:00    27510300.0\n",
       "5 2013-04-21 21:45:00 2012-06-30 12:00:00    25523100.0\n",
       "6 2013-04-28 21:45:00 2012-07-31 12:00:00    23449500.0"
      ]
     },
     "execution_count": 5,
     "metadata": {},
     "output_type": "execute_result"
    }
   ],
   "source": [
    "df['diff_seconds'] = df['End_date'] - df['Start_date']\n",
    "\n",
    "df['diff_seconds'] = df['diff_seconds']/np.timedelta64(1,'s')\n",
    "\n",
    "df"
   ]
  },
  {
   "cell_type": "markdown",
   "metadata": {},
   "source": [
    "## Difference between two timestamps in Minutes –"
   ]
  },
  {
   "cell_type": "code",
   "execution_count": 7,
   "metadata": {},
   "outputs": [
    {
     "data": {
      "text/html": [
       "<div>\n",
       "<style>\n",
       "    .dataframe thead tr:only-child th {\n",
       "        text-align: right;\n",
       "    }\n",
       "\n",
       "    .dataframe thead th {\n",
       "        text-align: left;\n",
       "    }\n",
       "\n",
       "    .dataframe tbody tr th {\n",
       "        vertical-align: top;\n",
       "    }\n",
       "</style>\n",
       "<table border=\"1\" class=\"dataframe\">\n",
       "  <thead>\n",
       "    <tr style=\"text-align: right;\">\n",
       "      <th></th>\n",
       "      <th>End_date</th>\n",
       "      <th>Start_date</th>\n",
       "      <th>diff_seconds</th>\n",
       "      <th>diff_minutes</th>\n",
       "    </tr>\n",
       "  </thead>\n",
       "  <tbody>\n",
       "    <tr>\n",
       "      <th>0</th>\n",
       "      <td>2013-03-17 21:45:00</td>\n",
       "      <td>2012-01-31 12:00:00</td>\n",
       "      <td>35545500.0</td>\n",
       "      <td>592425.0</td>\n",
       "    </tr>\n",
       "    <tr>\n",
       "      <th>1</th>\n",
       "      <td>2013-03-24 21:45:00</td>\n",
       "      <td>2012-02-29 12:00:00</td>\n",
       "      <td>33644700.0</td>\n",
       "      <td>560745.0</td>\n",
       "    </tr>\n",
       "    <tr>\n",
       "      <th>2</th>\n",
       "      <td>2013-03-31 21:45:00</td>\n",
       "      <td>2012-03-31 12:00:00</td>\n",
       "      <td>31571100.0</td>\n",
       "      <td>526185.0</td>\n",
       "    </tr>\n",
       "    <tr>\n",
       "      <th>3</th>\n",
       "      <td>2013-04-07 21:45:00</td>\n",
       "      <td>2012-04-30 12:00:00</td>\n",
       "      <td>29583900.0</td>\n",
       "      <td>493065.0</td>\n",
       "    </tr>\n",
       "    <tr>\n",
       "      <th>4</th>\n",
       "      <td>2013-04-14 21:45:00</td>\n",
       "      <td>2012-05-31 12:00:00</td>\n",
       "      <td>27510300.0</td>\n",
       "      <td>458505.0</td>\n",
       "    </tr>\n",
       "    <tr>\n",
       "      <th>5</th>\n",
       "      <td>2013-04-21 21:45:00</td>\n",
       "      <td>2012-06-30 12:00:00</td>\n",
       "      <td>25523100.0</td>\n",
       "      <td>425385.0</td>\n",
       "    </tr>\n",
       "    <tr>\n",
       "      <th>6</th>\n",
       "      <td>2013-04-28 21:45:00</td>\n",
       "      <td>2012-07-31 12:00:00</td>\n",
       "      <td>23449500.0</td>\n",
       "      <td>390825.0</td>\n",
       "    </tr>\n",
       "  </tbody>\n",
       "</table>\n",
       "</div>"
      ],
      "text/plain": [
       "             End_date          Start_date  diff_seconds  diff_minutes\n",
       "0 2013-03-17 21:45:00 2012-01-31 12:00:00    35545500.0      592425.0\n",
       "1 2013-03-24 21:45:00 2012-02-29 12:00:00    33644700.0      560745.0\n",
       "2 2013-03-31 21:45:00 2012-03-31 12:00:00    31571100.0      526185.0\n",
       "3 2013-04-07 21:45:00 2012-04-30 12:00:00    29583900.0      493065.0\n",
       "4 2013-04-14 21:45:00 2012-05-31 12:00:00    27510300.0      458505.0\n",
       "5 2013-04-21 21:45:00 2012-06-30 12:00:00    25523100.0      425385.0\n",
       "6 2013-04-28 21:45:00 2012-07-31 12:00:00    23449500.0      390825.0"
      ]
     },
     "execution_count": 7,
     "metadata": {},
     "output_type": "execute_result"
    }
   ],
   "source": [
    "df['diff_minutes'] = df['End_date'] - df['Start_date']\n",
    "df['diff_minutes']=df['diff_minutes']/np.timedelta64(1,'m')\n",
    " \n",
    "df"
   ]
  },
  {
   "cell_type": "markdown",
   "metadata": {},
   "source": [
    "## Difference between two timestamps in Hours –"
   ]
  },
  {
   "cell_type": "code",
   "execution_count": 9,
   "metadata": {},
   "outputs": [
    {
     "data": {
      "text/html": [
       "<div>\n",
       "<style>\n",
       "    .dataframe thead tr:only-child th {\n",
       "        text-align: right;\n",
       "    }\n",
       "\n",
       "    .dataframe thead th {\n",
       "        text-align: left;\n",
       "    }\n",
       "\n",
       "    .dataframe tbody tr th {\n",
       "        vertical-align: top;\n",
       "    }\n",
       "</style>\n",
       "<table border=\"1\" class=\"dataframe\">\n",
       "  <thead>\n",
       "    <tr style=\"text-align: right;\">\n",
       "      <th></th>\n",
       "      <th>End_date</th>\n",
       "      <th>Start_date</th>\n",
       "      <th>diff_seconds</th>\n",
       "      <th>diff_minutes</th>\n",
       "      <th>diff_hours</th>\n",
       "    </tr>\n",
       "  </thead>\n",
       "  <tbody>\n",
       "    <tr>\n",
       "      <th>0</th>\n",
       "      <td>2013-03-17 21:45:00</td>\n",
       "      <td>2012-01-31 12:00:00</td>\n",
       "      <td>35545500.0</td>\n",
       "      <td>592425.0</td>\n",
       "      <td>9873.75</td>\n",
       "    </tr>\n",
       "    <tr>\n",
       "      <th>1</th>\n",
       "      <td>2013-03-24 21:45:00</td>\n",
       "      <td>2012-02-29 12:00:00</td>\n",
       "      <td>33644700.0</td>\n",
       "      <td>560745.0</td>\n",
       "      <td>9345.75</td>\n",
       "    </tr>\n",
       "    <tr>\n",
       "      <th>2</th>\n",
       "      <td>2013-03-31 21:45:00</td>\n",
       "      <td>2012-03-31 12:00:00</td>\n",
       "      <td>31571100.0</td>\n",
       "      <td>526185.0</td>\n",
       "      <td>8769.75</td>\n",
       "    </tr>\n",
       "    <tr>\n",
       "      <th>3</th>\n",
       "      <td>2013-04-07 21:45:00</td>\n",
       "      <td>2012-04-30 12:00:00</td>\n",
       "      <td>29583900.0</td>\n",
       "      <td>493065.0</td>\n",
       "      <td>8217.75</td>\n",
       "    </tr>\n",
       "    <tr>\n",
       "      <th>4</th>\n",
       "      <td>2013-04-14 21:45:00</td>\n",
       "      <td>2012-05-31 12:00:00</td>\n",
       "      <td>27510300.0</td>\n",
       "      <td>458505.0</td>\n",
       "      <td>7641.75</td>\n",
       "    </tr>\n",
       "    <tr>\n",
       "      <th>5</th>\n",
       "      <td>2013-04-21 21:45:00</td>\n",
       "      <td>2012-06-30 12:00:00</td>\n",
       "      <td>25523100.0</td>\n",
       "      <td>425385.0</td>\n",
       "      <td>7089.75</td>\n",
       "    </tr>\n",
       "    <tr>\n",
       "      <th>6</th>\n",
       "      <td>2013-04-28 21:45:00</td>\n",
       "      <td>2012-07-31 12:00:00</td>\n",
       "      <td>23449500.0</td>\n",
       "      <td>390825.0</td>\n",
       "      <td>6513.75</td>\n",
       "    </tr>\n",
       "  </tbody>\n",
       "</table>\n",
       "</div>"
      ],
      "text/plain": [
       "             End_date          Start_date  diff_seconds  diff_minutes  \\\n",
       "0 2013-03-17 21:45:00 2012-01-31 12:00:00    35545500.0      592425.0   \n",
       "1 2013-03-24 21:45:00 2012-02-29 12:00:00    33644700.0      560745.0   \n",
       "2 2013-03-31 21:45:00 2012-03-31 12:00:00    31571100.0      526185.0   \n",
       "3 2013-04-07 21:45:00 2012-04-30 12:00:00    29583900.0      493065.0   \n",
       "4 2013-04-14 21:45:00 2012-05-31 12:00:00    27510300.0      458505.0   \n",
       "5 2013-04-21 21:45:00 2012-06-30 12:00:00    25523100.0      425385.0   \n",
       "6 2013-04-28 21:45:00 2012-07-31 12:00:00    23449500.0      390825.0   \n",
       "\n",
       "   diff_hours  \n",
       "0     9873.75  \n",
       "1     9345.75  \n",
       "2     8769.75  \n",
       "3     8217.75  \n",
       "4     7641.75  \n",
       "5     7089.75  \n",
       "6     6513.75  "
      ]
     },
     "execution_count": 9,
     "metadata": {},
     "output_type": "execute_result"
    }
   ],
   "source": [
    "df['diff_hours'] = df['End_date'] - df['Start_date']\n",
    "df['diff_hours']=df['diff_hours']/np.timedelta64(1,'h')\n",
    " \n",
    "df"
   ]
  },
  {
   "cell_type": "markdown",
   "metadata": {},
   "source": [
    "# Example 2"
   ]
  },
  {
   "cell_type": "code",
   "execution_count": 10,
   "metadata": {},
   "outputs": [
    {
     "data": {
      "text/html": [
       "<div>\n",
       "<style>\n",
       "    .dataframe thead tr:only-child th {\n",
       "        text-align: right;\n",
       "    }\n",
       "\n",
       "    .dataframe thead th {\n",
       "        text-align: left;\n",
       "    }\n",
       "\n",
       "    .dataframe tbody tr th {\n",
       "        vertical-align: top;\n",
       "    }\n",
       "</style>\n",
       "<table border=\"1\" class=\"dataframe\">\n",
       "  <thead>\n",
       "    <tr style=\"text-align: right;\">\n",
       "      <th></th>\n",
       "      <th>Arrived</th>\n",
       "      <th>Left</th>\n",
       "    </tr>\n",
       "  </thead>\n",
       "  <tbody>\n",
       "    <tr>\n",
       "      <th>0</th>\n",
       "      <td>2017-01-01</td>\n",
       "      <td>2017-01-01</td>\n",
       "    </tr>\n",
       "    <tr>\n",
       "      <th>1</th>\n",
       "      <td>2017-01-04</td>\n",
       "      <td>2017-01-06</td>\n",
       "    </tr>\n",
       "  </tbody>\n",
       "</table>\n",
       "</div>"
      ],
      "text/plain": [
       "     Arrived       Left\n",
       "0 2017-01-01 2017-01-01\n",
       "1 2017-01-04 2017-01-06"
      ]
     },
     "execution_count": 10,
     "metadata": {},
     "output_type": "execute_result"
    }
   ],
   "source": [
    "# Create data frame\n",
    "df = pd.DataFrame()\n",
    "\n",
    "# Create two datetime features\n",
    "df['Arrived'] = [pd.Timestamp('01-01-2017'), pd.Timestamp('01-04-2017')]\n",
    "df['Left']    = [pd.Timestamp('01-01-2017'), pd.Timestamp('01-06-2017')]\n",
    "\n",
    "df"
   ]
  },
  {
   "cell_type": "code",
   "execution_count": null,
   "metadata": {
    "collapsed": true
   },
   "outputs": [],
   "source": []
  }
 ],
 "metadata": {
  "kernelspec": {
   "display_name": "Python 3",
   "language": "python",
   "name": "python3"
  },
  "language_info": {
   "codemirror_mode": {
    "name": "ipython",
    "version": 3
   },
   "file_extension": ".py",
   "mimetype": "text/x-python",
   "name": "python",
   "nbconvert_exporter": "python",
   "pygments_lexer": "ipython3",
   "version": "3.6.3"
  }
 },
 "nbformat": 4,
 "nbformat_minor": 2
}
