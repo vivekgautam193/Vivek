{
 "cells": [
  {
   "cell_type": "code",
   "execution_count": null,
   "metadata": {
    "collapsed": true
   },
   "outputs": [],
   "source": [
    "import sys\n",
    "import platform\n",
    "import operator\n",
    "from math import *\n",
    "import string"
   ]
  },
  {
   "cell_type": "code",
   "execution_count": null,
   "metadata": {
    "collapsed": true
   },
   "outputs": [],
   "source": [
    "# An exception is an error that happens during execution of a program. \n",
    "# When that error occurs, Python generate an exception that can be handled, \n",
    "# which avoids your program to crash."
   ]
  },
  {
   "cell_type": "code",
   "execution_count": null,
   "metadata": {
    "collapsed": true
   },
   "outputs": [],
   "source": [
    "# Exception Errors\n",
    "\n",
    "# IOError\n",
    "# If the file cannot be opened.\n",
    "\n",
    "# ImportError\n",
    "# If python cannot find the module\n",
    "\n",
    "# ValueError\n",
    "# Raised when a built-in operation or function receives an argument that \n",
    "# has the right type but an inappropriate value\n",
    "\n",
    "# KeyboardInterrupt\n",
    "# Raised when the user hits the interrupt key (normally Control-C or Delete)\n",
    "\n",
    "# EOFError\n",
    "# Raised when one of the built-in functions (input() or raw_input()) hits \n",
    "# an end-of-file condition (EOF) without reading any data"
   ]
  },
  {
   "cell_type": "code",
   "execution_count": null,
   "metadata": {
    "collapsed": true
   },
   "outputs": [],
   "source": [
    "# The try and except Block: Handling Exceptions\n",
    "\n",
    "try:\n",
    "    pass\n",
    "except:\n",
    "    exception handling"
   ]
  },
  {
   "cell_type": "code",
   "execution_count": null,
   "metadata": {
    "collapsed": true
   },
   "outputs": [],
   "source": [
    "# How does it work?\n",
    "\n",
    "# The error handling is done through the use of exceptions that are caught \n",
    "# in try blocks and handled in except blocks. If an error is encountered, \n",
    "# a try block code execution is stopped and transferred down to the except \n",
    "# block. \n",
    "\n",
    "# In addition to using an except block after the try block, you can also \n",
    "# use the finally block. \n",
    "\n",
    "# The code in the finally block will be executed regardless of whether an \n",
    "# exception occurs."
   ]
  },
  {
   "cell_type": "code",
   "execution_count": null,
   "metadata": {
    "collapsed": true
   },
   "outputs": [],
   "source": [
    "# Ex 1"
   ]
  },
  {
   "cell_type": "code",
   "execution_count": 2,
   "metadata": {},
   "outputs": [
    {
     "name": "stdout",
     "output_type": "stream",
     "text": [
      "Enter a number between 1 - 10 hfhffhhf\n"
     ]
    },
    {
     "ename": "ValueError",
     "evalue": "invalid literal for int() with base 10: 'hfhffhhf'",
     "output_type": "error",
     "traceback": [
      "\u001b[1;31m---------------------------------------------------------------------------\u001b[0m",
      "\u001b[1;31mValueError\u001b[0m                                Traceback (most recent call last)",
      "\u001b[1;32m<ipython-input-2-2a5733bcc558>\u001b[0m in \u001b[0;36m<module>\u001b[1;34m()\u001b[0m\n\u001b[0;32m      4\u001b[0m \u001b[1;31m# program throws us an error when we enter a string.\u001b[0m\u001b[1;33m\u001b[0m\u001b[1;33m\u001b[0m\u001b[0m\n\u001b[0;32m      5\u001b[0m \u001b[1;33m\u001b[0m\u001b[0m\n\u001b[1;32m----> 6\u001b[1;33m \u001b[0mnumber\u001b[0m \u001b[1;33m=\u001b[0m \u001b[0mint\u001b[0m\u001b[1;33m(\u001b[0m\u001b[0minput\u001b[0m\u001b[1;33m(\u001b[0m\u001b[1;34m\"Enter a number between 1 - 10 \"\u001b[0m\u001b[1;33m)\u001b[0m\u001b[1;33m)\u001b[0m\u001b[1;33m\u001b[0m\u001b[0m\n\u001b[0m\u001b[0;32m      7\u001b[0m \u001b[1;33m\u001b[0m\u001b[0m\n\u001b[0;32m      8\u001b[0m \u001b[0mprint\u001b[0m \u001b[1;33m(\u001b[0m\u001b[1;34m\"you entered number\"\u001b[0m\u001b[1;33m,\u001b[0m \u001b[0mnumber\u001b[0m\u001b[1;33m)\u001b[0m\u001b[1;33m\u001b[0m\u001b[0m\n",
      "\u001b[1;31mValueError\u001b[0m: invalid literal for int() with base 10: 'hfhffhhf'"
     ]
    }
   ],
   "source": [
    "# This program works perfectly fine as long as the user enters a number, \n",
    "# but what happens if the user puts in something else (like a string)?\n",
    "\n",
    "# program throws us an error when we enter a string.\n",
    "\n",
    "number = int(input(\"Enter a number between 1 - 10 \"))\n",
    "\n",
    "print (\"you entered number\", number)"
   ]
  },
  {
   "cell_type": "code",
   "execution_count": 4,
   "metadata": {},
   "outputs": [
    {
     "name": "stdout",
     "output_type": "stream",
     "text": [
      "Hello ...\n",
      "Enter a number : fjkfkffk\n",
      "Err.. numbers only\n"
     ]
    }
   ],
   "source": [
    "import sys\n",
    "\n",
    "print (\"Hello ...\")\n",
    "\n",
    "try:\n",
    "    number = int(input(\"Enter a number : \"))\n",
    "    print(\"you entered number\", number)\n",
    "except ValueError:\n",
    "    print (\"Err.. numbers only\")\n",
    "#    raise SystemExit\n",
    "#    sys.exit(0)\n",
    "\n"
   ]
  },
  {
   "cell_type": "code",
   "execution_count": null,
   "metadata": {
    "collapsed": true
   },
   "outputs": [],
   "source": [
    "# Ex 2\n",
    "\n",
    "print( 0 / 0 )"
   ]
  },
  {
   "cell_type": "code",
   "execution_count": null,
   "metadata": {
    "collapsed": true
   },
   "outputs": [],
   "source": [
    "# Ex 3\n",
    "\n",
    "# Raising an Exception"
   ]
  },
  {
   "cell_type": "code",
   "execution_count": null,
   "metadata": {
    "collapsed": true
   },
   "outputs": [],
   "source": [
    "x = 10\n",
    "if x > 5:\n",
    "    raise Exception('x should not exceed 5. The value of x was: {}'.format(x))"
   ]
  },
  {
   "cell_type": "code",
   "execution_count": 19,
   "metadata": {},
   "outputs": [
    {
     "name": "stdout",
     "output_type": "stream",
     "text": [
      "An exception occured ... \n"
     ]
    }
   ],
   "source": [
    "# Program to depict Raising Exception \n",
    "  \n",
    "try:  \n",
    "    raise NameError(\"Hi there\")  # Raise Error \n",
    "except NameError: \n",
    "    print (\"An exception occured ... \")\n",
    "    #raise  # To determine whether the exception was raised or not "
   ]
  },
  {
   "cell_type": "code",
   "execution_count": null,
   "metadata": {
    "collapsed": true
   },
   "outputs": [],
   "source": [
    "# Ex\n",
    "while True:\n",
    "    try:\n",
    "        n = input(\"Please enter an integer: \")\n",
    "        n = int(n)\n",
    "        break\n",
    "    except ValueError:\n",
    "        print(\"No valid integer! Please try again ...\")\n",
    "        \n",
    "print(\"Great, you successfully entered an integer!\")"
   ]
  },
  {
   "cell_type": "code",
   "execution_count": 13,
   "metadata": {},
   "outputs": [
    {
     "name": "stdout",
     "output_type": "stream",
     "text": [
      "Second element = 2\n",
      "An error occurred\n"
     ]
    }
   ],
   "source": [
    "# Python program to handle simple runtime error \n",
    "  \n",
    "a = [1, 2, 3] \n",
    "try:  \n",
    "    print( \"Second element = %d\" %(a[1]) )\n",
    "  \n",
    "    # Throws error since there are only 3 elements in array \n",
    "    print( \"Fourth element = %d\" %(a[3]) )\n",
    "  \n",
    "except IndexError: \n",
    "    print (\"An error occurred\")"
   ]
  },
  {
   "cell_type": "code",
   "execution_count": 5,
   "metadata": {},
   "outputs": [
    {
     "name": "stdout",
     "output_type": "stream",
     "text": [
      "The entry is a\n",
      "Oops! <class 'ValueError'> occured.\n",
      "Next entry.\n",
      "\n",
      "The entry is 0\n",
      "Oops! <class 'ZeroDivisionError'> occured.\n",
      "Next entry.\n",
      "\n",
      "The entry is 2\n"
     ]
    }
   ],
   "source": [
    "import sys\n",
    "\n",
    "randomList = ['a', 0, 2]\n",
    "\n",
    "for entry in randomList:\n",
    "    try:\n",
    "        print(\"The entry is\", entry)\n",
    "        r = 1/int(entry)\n",
    "        break\n",
    "    except:\n",
    "        print(\"Oops!\",sys.exc_info()[0],\"occured.\")\n",
    "        print(\"Next entry.\")\n",
    "        print()"
   ]
  },
  {
   "cell_type": "code",
   "execution_count": null,
   "metadata": {
    "collapsed": true
   },
   "outputs": [],
   "source": [
    "# Multiple Except Clauses\n",
    "\n",
    "# A try statement may have more than one except clause for different \n",
    "# exceptions. But at most one except clause will be executed.\n",
    "\n",
    "# Our next example shows a try clause, in which we open a file for reading, \n",
    "# read a line from this file and convert this line into an integer. \n",
    "# There are at least two possible exceptions:\n",
    "\n",
    "# an IOError\n",
    "# ValueError\n",
    "\n",
    "# Just in case we have an additional unnamed except clause for an \n",
    "# unexpected error"
   ]
  },
  {
   "cell_type": "code",
   "execution_count": 11,
   "metadata": {},
   "outputs": [
    {
     "name": "stdout",
     "output_type": "stream",
     "text": [
      "I/O error 2 : No such file or directory\n"
     ]
    }
   ],
   "source": [
    "import sys\n",
    "\n",
    "try:\n",
    "    f = open(\"integers.txt\")\n",
    "    s = f.readline()\n",
    "    i = int(s.strip())\n",
    "except IOError as e:\n",
    "    errno, strerror = e.args\n",
    "    print (\"I/O error {0} : {1}\".format(errno, strerror))\n",
    "except ValueError:\n",
    "    print (\"No valid integer in line.\")\n",
    "except:\n",
    "    print (\"Unexpected error:\", sys.exc_info()[0])\n",
    "    raise"
   ]
  },
  {
   "cell_type": "code",
   "execution_count": null,
   "metadata": {
    "collapsed": true
   },
   "outputs": [],
   "source": []
  },
  {
   "cell_type": "code",
   "execution_count": null,
   "metadata": {
    "collapsed": true
   },
   "outputs": [],
   "source": [
    "# AssertionError\tRaised when assert statement fails.\n",
    "# AttributeError\tRaised when attribute assignment or reference fails.\n",
    "# EOFError\tRaised when the input() functions hits end-of-file condition.\n",
    "# FloatingPointError\tRaised when a floating point operation fails.\n",
    "# GeneratorExit\tRaise when a generator's close() method is called.\n",
    "# ImportError\tRaised when the imported module is not found.\n",
    "# IndexError\tRaised when index of a sequence is out of range.\n",
    "# KeyError\tRaised when a key is not found in a dictionary.\n",
    "# KeyboardInterrupt\tRaised when the user hits interrupt key (Ctrl+c or delete).\n",
    "# MemoryError\tRaised when an operation runs out of memory.\n",
    "# NameError\tRaised when a variable is not found in local or global scope.\n",
    "# NotImplementedError\tRaised by abstract methods.\n",
    "# OSError\tRaised when system operation causes system related error.\n",
    "# OverflowError\tRaised when result of an arithmetic operation is too large to be represented.\n",
    "# ReferenceError\tRaised when a weak reference proxy is used to access a garbage collected referent.\n",
    "# RuntimeError\tRaised when an error does not fall under any other category.\n",
    "# StopIteration\tRaised by next() function to indicate that there is no further item to be returned by iterator.\n",
    "# SyntaxError\tRaised by parser when syntax error is encountered.\n",
    "# IndentationError\tRaised when there is incorrect indentation.\n",
    "# TabError\tRaised when indentation consists of inconsistent tabs and spaces.\n",
    "# SystemError\tRaised when interpreter detects internal error.\n",
    "# SystemExit\tRaised by sys.exit() function.\n",
    "# TypeError\tRaised when a function or operation is applied to an object of incorrect type.\n",
    "# UnboundLocalError\tRaised when a reference is made to a local variable in a function or method, but no value has been bound to that variable.\n",
    "# UnicodeError\tRaised when a Unicode-related encoding or decoding error occurs.\n",
    "# UnicodeEncodeError\tRaised when a Unicode-related error occurs during encoding.\n",
    "# UnicodeDecodeError\tRaised when a Unicode-related error occurs during decoding.\n",
    "# UnicodeTranslateError\tRaised when a Unicode-related error occurs during translating.\n",
    "# ValueError\tRaised when a function gets argument of correct type but improper value.\n",
    "# ZeroDivisionError\tRaised when second operand of division or modulo operation is zero."
   ]
  }
 ],
 "metadata": {
  "kernelspec": {
   "display_name": "Python 3",
   "language": "python",
   "name": "python3"
  },
  "language_info": {
   "codemirror_mode": {
    "name": "ipython",
    "version": 3
   },
   "file_extension": ".py",
   "mimetype": "text/x-python",
   "name": "python",
   "nbconvert_exporter": "python",
   "pygments_lexer": "ipython3",
   "version": "3.6.3"
  }
 },
 "nbformat": 4,
 "nbformat_minor": 2
}
