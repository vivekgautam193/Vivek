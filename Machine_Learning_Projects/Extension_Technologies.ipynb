{
 "cells": [
  {
   "cell_type": "markdown",
   "metadata": {},
   "source": [
    "# <center>Python_Task"
   ]
  },
  {
   "cell_type": "markdown",
   "metadata": {},
   "source": [
    "1) Take two numbers from user as a and b , where a smaller than b\n",
    "   Then find the prime number between them. Explain the logic as well. \n",
    "    \n",
    "   Suppose a=1 and b=1000 then loop will cover all numbers from 2 to 999. But how much this can be optimized ? Is it necessary\n",
    "   for the code to run upto 999. Explain the algorithm.Explain the logic as well in seperate doc.\n",
    "\n"
   ]
  },
  {
   "cell_type": "code",
   "execution_count": null,
   "metadata": {},
   "outputs": [],
   "source": [
    "a = 1\n",
    "b = 1000\n",
    "  \n",
    "for i in range(a, b): \n",
    "  if i>1: \n",
    "    for j in range(2,i): \n",
    "        if(i % j==0): # if value comes 0 then break it\n",
    "            break \n",
    "    else: \n",
    "        print(i) "
   ]
  },
  {
   "cell_type": "markdown",
   "metadata": {},
   "source": [
    "2) Write a python code to check if given series is monovalent \n",
    "   or not. \n",
    "\n",
    "    a = 45 , 3 , 67 , 8 , 9 , 10 , 30 , 38\n",
    "    b = 3 , 4 , 4 , 6 , 9 , 10 , 12    \n",
    "   \n",
    "    Explain the logic in both cases in seperate doc.\n"
   ]
  },
  {
   "cell_type": "code",
   "execution_count": null,
   "metadata": {},
   "outputs": [],
   "source": [
    "# Check if given array is Monotonic \n",
    " \n",
    "a = [45 , 3 , 67 , 8 , 9 , 10 , 30 , 38] \n",
    "\n",
    "def isMonotonic(a): \n",
    "    \n",
    "    return (all(a[i] <= a[i + 1] for i in range(len(a) - 1)) or\n",
    "        all(a[i] >= a[i + 1] for i in range(len(a) - 1))) \n",
    "\n",
    "# Print required result \n",
    "\n",
    "print(isMonotonic(a)) "
   ]
  },
  {
   "cell_type": "code",
   "execution_count": null,
   "metadata": {},
   "outputs": [],
   "source": [
    "# Check if given array is Monotonic \n",
    "\n",
    "def isMonotonic(b): \n",
    "    return (all(b[i] <= b[i + 1] for i in range(len(b) - 1)) or\n",
    "        all(b[i] >= b[i + 1] for i in range(len(b) - 1))) \n",
    "\n",
    " \n",
    "b = [3 , 4 , 4 , 6 , 9 , 10 , 12] \n",
    "\n",
    "# Print required result \n",
    "\n",
    "print(isMonotonic(b)) "
   ]
  },
  {
   "cell_type": "markdown",
   "metadata": {},
   "source": [
    "3)\n",
    "\n",
    "start_character = \"A\"\n",
    "end_character = \"Z\"\n",
    "\n",
    "You may modify the lines of code above, but do not move them! When you Submit your code, we'll change these lines to assign different values to the variables.\n",
    "\n",
    "Print all the letters from start_character to end_character,each on their own line. Include start_character and end_character themselves.\n",
    "\n",
    "Remember, you can convert a letter to its underlying ASCII number using the ord() function. ord(\"A\") would give 65.ord(\"Z\") would give 90. You can use these values to write your loop.\n",
    "\n",
    "You can also convert an integer into its corresponding ASCII character using the chr() function. chr(65) would give \"A\". chr(90) would give \"Z\". So, for this problem, you'll need to convert back and forth between ordinal values and characters based on whether you're trying to loop over numbers or print letters.\n",
    "\n",
    "#You may assume that both start_character and end_character are uppercase letters (although you might find it fun to play around and see what happens if you put other characters in instead!)."
   ]
  },
  {
   "cell_type": "code",
   "execution_count": null,
   "metadata": {},
   "outputs": [],
   "source": [
    "import string\n",
    "\n",
    "for i in string.ascii_uppercase:\n",
    "    print(i, end=\" \") "
   ]
  },
  {
   "cell_type": "code",
   "execution_count": null,
   "metadata": {},
   "outputs": [],
   "source": [
    "i = 'A'\n",
    "    \n",
    "# print the ASCII value of assigned character in i \n",
    "\n",
    "print(\"The ASCII value of '\" + i + \"' is\", ord(i)) "
   ]
  },
  {
   "cell_type": "code",
   "execution_count": null,
   "metadata": {},
   "outputs": [],
   "source": [
    "j = 'Z'\n",
    "    \n",
    "# print the ASCII value of assigned character in j \n",
    "\n",
    "print(\"The ASCII value of '\" + j + \"' is\", ord(j)) "
   ]
  },
  {
   "cell_type": "code",
   "execution_count": null,
   "metadata": {},
   "outputs": [],
   "source": [
    "print(\"\\t\\t\\t\\t\\tASCII CHART\\n\")\n",
    "\n",
    "for i in range(0,257):\n",
    "    print(i, end = \"\\t\")\n",
    "print(\"\\n\")    "
   ]
  },
  {
   "cell_type": "code",
   "execution_count": null,
   "metadata": {},
   "outputs": [],
   "source": [
    "print(\"\\t\\t\\t\\t\\tASCII CHART\\n\")\n",
    "\n",
    "for i in range(0,257):\n",
    "    print(chr(i), end = \"\\t\")\n",
    "print(\"\\n\") "
   ]
  },
  {
   "cell_type": "code",
   "execution_count": null,
   "metadata": {},
   "outputs": [],
   "source": [
    "string = input(\"Please Enter your own String:\")\n",
    "\n",
    "for i in range(len(string)):\n",
    "    print(\"The ASCII value of Character %c = %d\" %(string[i],ord(string[i]))) # excute to find the ASCII value"
   ]
  },
  {
   "cell_type": "markdown",
   "metadata": {},
   "source": [
    "4)\n",
    "\n",
    "lyrics = [\"I wanna be your endgame\", \"I wanna be your first string\",\n",
    "          \"I wanna be your A-Team\", \"I wanna be your endgame, endgame\"]\n",
    "\n",
    "lines_of_sanity = 6\n",
    "\n",
    "You may modify the lines of code above, but don't move them! When you Submit your code, we'll change these lines to assign \n",
    "different values to the variables.\n",
    "\n",
    "Recall the Earworm problem.The first time, you would still finish printing the entire list of lyrics after \n",
    "lines_of_sanity was exceeded.\n",
    "\n",
    "\n",
    "\n",
    "For example, with the values above, you'd print:\n",
    "I wanna be your endgame\n",
    "I wanna be your first string\n",
    "I wanna be your A-Team\n",
    "I wanna be your endgame, endgame\n",
    "I wanna be your endgame\n",
    "I wanna be your first string\n",
    "MAKE IT STOP\n",
    "\n",
    "\n",
    "That's 6 lines: the entire list once, then the first two lines again to reach 6. As before, print MAKE IT STOP when you're done.\n",
    "\n",
    "\n",
    "HINT: There are multiple ways to do this: some involve a small change to our earlier answer, others involve a more wholesale \n",
    "rewrite. If you're stuck on one, try to think of a totally different way!\n",
    "\n",
    "\n",
    "Add your code here! Using the initial inputs from above, this should print 7 lines: all 4 lines of the list, then the first\n",
    "two lines again, then MAKE IT STOP\n"
   ]
  },
  {
   "cell_type": "code",
   "execution_count": null,
   "metadata": {},
   "outputs": [],
   "source": [
    "lyrics = [\"I wanna be your endgame\", \"I wanna be your first string\",\n",
    "          \"I wanna be your A-Team\", \"I wanna be your endgame, endgame\"]\n",
    "\n",
    "lines_of_sanity = 6\n",
    "\n",
    "#You may modify the lines of code above, but don't move them!\n",
    "#When you Submit your code, we'll change these lines to\n",
    "#assign different values to the variables.\n",
    "\n",
    "#Recall the Earworm problem.The\n",
    "#first time, you would still finish printing the entire list\n",
    "#of lyrics after lines_of_sanity was exceeded.\n",
    "\n",
    "\n",
    "#\n",
    "#For example, with the values above, you'd print:\n",
    "#I wanna be your endgame\n",
    "#I wanna be your first string\n",
    "#I wanna be your A-Team\n",
    "#I wanna be your endgame, endgame\n",
    "#I wanna be your endgame\n",
    "#I wanna be your first string\n",
    "#MAKE IT STOP\n",
    "#\n",
    "#That's 6 lines: the entire list once, then the first two lines\n",
    "#again to reach 6. As before, print MAKE IT STOP when you're\n",
    "#done.\n",
    "#\n",
    "#HINT: There are multiple ways to do this: some involve a small\n",
    "#change to our earlier answer, others involve a more wholesale\n",
    "#rewrite. If you're stuck on one, try to think of a totally\n",
    "#different way!\n",
    "\n",
    "\n",
    "#Add your code here! Using the initial inputs from above, this\n",
    "#should print 7 lines: all 4 lines of the list, then the first\n",
    "#two lines again, then MAKE IT STOP\n",
    "\n",
    "lines = 0\n",
    "\n",
    "for lyric in lyrics:\n",
    "    lines += 1\n",
    "    while lines < lines_of_sanity:\n",
    "        print(str(lyric))\n",
    "        if lines == lines_of_sanity:\n",
    "            print(lyric)\n",
    "            print('MAKE IT STOP')"
   ]
  },
  {
   "cell_type": "code",
   "execution_count": null,
   "metadata": {},
   "outputs": [],
   "source": []
  },
  {
   "cell_type": "code",
   "execution_count": null,
   "metadata": {},
   "outputs": [],
   "source": []
  },
  {
   "cell_type": "code",
   "execution_count": null,
   "metadata": {},
   "outputs": [],
   "source": []
  },
  {
   "cell_type": "code",
   "execution_count": null,
   "metadata": {},
   "outputs": [],
   "source": []
  },
  {
   "cell_type": "code",
   "execution_count": null,
   "metadata": {},
   "outputs": [],
   "source": []
  },
  {
   "cell_type": "code",
   "execution_count": null,
   "metadata": {},
   "outputs": [],
   "source": []
  },
  {
   "cell_type": "code",
   "execution_count": null,
   "metadata": {},
   "outputs": [],
   "source": []
  },
  {
   "cell_type": "code",
   "execution_count": null,
   "metadata": {},
   "outputs": [],
   "source": []
  }
 ],
 "metadata": {
  "kernelspec": {
   "display_name": "Python 3",
   "language": "python",
   "name": "python3"
  },
  "language_info": {
   "codemirror_mode": {
    "name": "ipython",
    "version": 3
   },
   "file_extension": ".py",
   "mimetype": "text/x-python",
   "name": "python",
   "nbconvert_exporter": "python",
   "pygments_lexer": "ipython3",
   "version": "3.8.3"
  }
 },
 "nbformat": 4,
 "nbformat_minor": 4
}
