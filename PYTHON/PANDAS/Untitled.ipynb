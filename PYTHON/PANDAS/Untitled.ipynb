{
 "cells": [
  {
   "cell_type": "code",
   "execution_count": 7,
   "metadata": {},
   "outputs": [
    {
     "name": "stdout",
     "output_type": "stream",
     "text": [
      "Father\n",
      "Mother\n",
      "Sun\n",
      "Daughter\n",
      "Grandmother\n",
      "Grandfather\n"
     ]
    }
   ],
   "source": [
    "fam_list = [\"Father\", 'Mother', \"Sun\", 'Daughter', None, 'Grandmother', \"Grandfather\"] \n",
    "\n",
    "for fam in (fam_list): \n",
    "\n",
    "    if fam is None: \n",
    "        continue \n",
    "        \n",
    "    print(fam) "
   ]
  },
  {
   "cell_type": "code",
   "execution_count": null,
   "metadata": {
    "collapsed": true
   },
   "outputs": [],
   "source": []
  }
 ],
 "metadata": {
  "kernelspec": {
   "display_name": "Python 3",
   "language": "python",
   "name": "python3"
  },
  "language_info": {
   "codemirror_mode": {
    "name": "ipython",
    "version": 3
   },
   "file_extension": ".py",
   "mimetype": "text/x-python",
   "name": "python",
   "nbconvert_exporter": "python",
   "pygments_lexer": "ipython3",
   "version": "3.6.3"
  }
 },
 "nbformat": 4,
 "nbformat_minor": 2
}
