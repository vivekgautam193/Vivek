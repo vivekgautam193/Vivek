{
 "cells": [
  {
   "cell_type": "code",
   "execution_count": 1,
   "metadata": {},
   "outputs": [],
   "source": [
    "import numpy as np"
   ]
  },
  {
   "cell_type": "code",
   "execution_count": 2,
   "metadata": {},
   "outputs": [
    {
     "name": "stdout",
     "output_type": "stream",
     "text": [
      "1.16.6\n"
     ]
    }
   ],
   "source": [
    "import numpy as np\n",
    "print(np.__version__)"
   ]
  },
  {
   "cell_type": "markdown",
   "metadata": {},
   "source": [
    "#### Differences between Flatten() and Ravel() \n",
    "\n",
    "two similar kind of ways to convert a ndarray to 1D array : Flatten() and Ravel()"
   ]
  },
  {
   "cell_type": "code",
   "execution_count": 3,
   "metadata": {},
   "outputs": [
    {
     "data": {
      "text/plain": [
       "array([[1, 7, 3, 4],\n",
       "       [3, 2, 4, 1]])"
      ]
     },
     "execution_count": 3,
     "metadata": {},
     "output_type": "execute_result"
    }
   ],
   "source": [
    "a = np.array( [\n",
    "                (1,7,3,4), \n",
    "                (3,2,4,1) \n",
    "              ] )\n",
    "a"
   ]
  },
  {
   "cell_type": "code",
   "execution_count": 4,
   "metadata": {},
   "outputs": [
    {
     "data": {
      "text/plain": [
       "array([1, 7, 3, 4, 3, 2, 4, 1])"
      ]
     },
     "execution_count": 4,
     "metadata": {},
     "output_type": "execute_result"
    }
   ],
   "source": [
    "a.flatten()"
   ]
  },
  {
   "cell_type": "code",
   "execution_count": 5,
   "metadata": {},
   "outputs": [
    {
     "data": {
      "text/plain": [
       "array([1, 7, 3, 4, 3, 2, 4, 1])"
      ]
     },
     "execution_count": 5,
     "metadata": {},
     "output_type": "execute_result"
    }
   ],
   "source": [
    "a.ravel()"
   ]
  },
  {
   "cell_type": "markdown",
   "metadata": {},
   "source": [
    "#### why are there two numpy functions to do the same task ?\n",
    "Differences between Flatten() and Ravel()\n",
    "\n",
    "__a.ravel():__\n",
    "\n",
    "(i)  Return only reference/view of original array\n",
    "\n",
    "(ii) If you modify the array you would notice that the value of original array also changes.\n",
    "\n",
    "(iii) Ravel is faster than flatten() as it does not occupy any memory.\n",
    "\n",
    "(iv)  Ravel is a library-level function.\n",
    "\n",
    "__a.flatten() :__\n",
    "\n",
    "(i)  Return copy of original array\n",
    "\n",
    "(ii) If you modify any value of this array value of original array is not affected.\n",
    "\n",
    "(iii) Flatten() is comparatively slower than ravel() as it occupies memory.\n",
    "\n",
    "(iv)  Flatten is a method of an ndarray object."
   ]
  },
  {
   "cell_type": "markdown",
   "metadata": {},
   "source": [
    "#### ravel()"
   ]
  },
  {
   "cell_type": "code",
   "execution_count": 6,
   "metadata": {},
   "outputs": [],
   "source": [
    "# Create a numpy array \n",
    "a = np.array([(1,2,3,4),(3,1,4,2)]) "
   ]
  },
  {
   "cell_type": "code",
   "execution_count": 7,
   "metadata": {},
   "outputs": [
    {
     "name": "stdout",
     "output_type": "stream",
     "text": [
      "Original array:\n",
      " \n",
      "[[1 2 3 4]\n",
      " [3 1 4 2]]\n"
     ]
    }
   ],
   "source": [
    "# Let's print the array a \n",
    "print (\"Original array:\\n \")  \n",
    "print(a) "
   ]
  },
  {
   "cell_type": "code",
   "execution_count": 8,
   "metadata": {},
   "outputs": [
    {
     "name": "stdout",
     "output_type": "stream",
     "text": [
      "\n",
      "Output for RAVEL \n",
      "\n",
      "[1 2 3 4 3 1 4 2]\n"
     ]
    }
   ],
   "source": [
    "print(\"\\nOutput for RAVEL \\n\")  \n",
    "# Convert nd array to 1D array \n",
    "b = a.ravel() \n",
    "  \n",
    "# Ravel only passes a view of original array to array 'b' \n",
    "print(b) "
   ]
  },
  {
   "cell_type": "code",
   "execution_count": 9,
   "metadata": {},
   "outputs": [
    {
     "name": "stdout",
     "output_type": "stream",
     "text": [
      "[1000    2    3    4    3    1    4    2]\n"
     ]
    }
   ],
   "source": [
    "b[0]=1000\n",
    "print(b)"
   ]
  },
  {
   "cell_type": "code",
   "execution_count": 10,
   "metadata": {},
   "outputs": [
    {
     "name": "stdout",
     "output_type": "stream",
     "text": [
      "[[1000    2    3    4]\n",
      " [   3    1    4    2]]\n"
     ]
    }
   ],
   "source": [
    "# Note here that value of original array 'a' at also a[0][0] becomes 1000 \n",
    "print(a) "
   ]
  },
  {
   "cell_type": "code",
   "execution_count": 12,
   "metadata": {},
   "outputs": [
    {
     "name": "stdout",
     "output_type": "stream",
     "text": [
      "Dimension of array-> 1\n"
     ]
    }
   ],
   "source": [
    "# Just to check the dimension i.e. 1 (and type is same numpy.ndarray ) \n",
    "print (\"Dimension of array->\" ,(b.ndim)) "
   ]
  },
  {
   "cell_type": "markdown",
   "metadata": {},
   "source": [
    "#### flatten()"
   ]
  },
  {
   "cell_type": "code",
   "execution_count": 11,
   "metadata": {},
   "outputs": [
    {
     "name": "stdout",
     "output_type": "stream",
     "text": [
      "\n",
      "Output for FLATTEN \n",
      "\n",
      "[1000    2    3    4    3    1    4    2]\n"
     ]
    }
   ],
   "source": [
    "print(\"\\nOutput for FLATTEN \\n\")  \n",
    "  \n",
    "# Convert nd array to 1D array \n",
    "c = a.flatten() \n",
    "  \n",
    "# Flatten passes copy of original array to 'c' \n",
    "print(c) \n"
   ]
  },
  {
   "cell_type": "code",
   "execution_count": 13,
   "metadata": {},
   "outputs": [
    {
     "name": "stdout",
     "output_type": "stream",
     "text": [
      "[99999     2     3     4     3     1     4     2]\n"
     ]
    }
   ],
   "source": [
    "c[0]=99999\n",
    "\n",
    "print(c) \n",
    "  "
   ]
  },
  {
   "cell_type": "code",
   "execution_count": 14,
   "metadata": {},
   "outputs": [
    {
     "name": "stdout",
     "output_type": "stream",
     "text": [
      "[[1000    2    3    4]\n",
      " [   3    1    4    2]]\n",
      "Dimension of array->  1\n"
     ]
    }
   ],
   "source": [
    "# Note that by changing value of c there is no affect on value of original array 'a' \n",
    "print(a) \n",
    "  \n",
    "print (\"Dimension of array-> \" , (c.ndim)) "
   ]
  },
  {
   "cell_type": "code",
   "execution_count": null,
   "metadata": {
    "collapsed": true,
    "jupyter": {
     "outputs_hidden": true
    }
   },
   "outputs": [],
   "source": []
  }
 ],
 "metadata": {
  "kernelspec": {
   "display_name": "Python 3",
   "language": "python",
   "name": "python3"
  },
  "language_info": {
   "codemirror_mode": {
    "name": "ipython",
    "version": 3
   },
   "file_extension": ".py",
   "mimetype": "text/x-python",
   "name": "python",
   "nbconvert_exporter": "python",
   "pygments_lexer": "ipython3",
   "version": "3.7.3"
  }
 },
 "nbformat": 4,
 "nbformat_minor": 4
}
