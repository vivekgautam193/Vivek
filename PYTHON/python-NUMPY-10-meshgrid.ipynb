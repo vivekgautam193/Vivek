{
 "cells": [
  {
   "cell_type": "markdown",
   "metadata": {},
   "source": [
    "# Numpy Meshgrid function\n",
    "\n",
    "The numpy.meshgrid function is used to create a __rectangular grid__ out of 2 given one-dimensional arrays representing the Cartesian indexing or Matrix indexing. \n",
    "\n",
    "Meshgrid function is somewhat inspired from MATLAB."
   ]
  },
  {
   "cell_type": "code",
   "execution_count": 1,
   "metadata": {},
   "outputs": [],
   "source": [
    "import numpy as np \n",
    "\n",
    "from matplotlib import pyplot as plt \n",
    "%matplotlib inline"
   ]
  },
  {
   "cell_type": "code",
   "execution_count": 2,
   "metadata": {},
   "outputs": [],
   "source": [
    "x_left,  x_right = -2, 2\n",
    "y_bottom, y_top  = -2, 2"
   ]
  },
  {
   "cell_type": "code",
   "execution_count": 3,
   "metadata": {},
   "outputs": [
    {
     "data": {
      "image/png": "[encoded data removed]",
      "text/plain": [
       "<Figure size 432x288 with 1 Axes>"
      ]
     },
     "metadata": {
      "needs_background": "light"
     },
     "output_type": "display_data"
    }
   ],
   "source": [
    "bottom_left_corner = (min(x_left, x_right), min(y_bottom, y_top))\n",
    "top_right_corner   = (max(x_left, x_right), max(y_bottom, y_top))\n",
    "\n",
    "plt.scatter(bottom_left_corner[0], bottom_left_corner[1] )\n",
    "plt.scatter(top_right_corner[0],   top_right_corner[1])\n",
    "\n",
    "plt.grid()"
   ]
  },
  {
   "cell_type": "code",
   "execution_count": 4,
   "metadata": {},
   "outputs": [],
   "source": [
    "inc = 1"
   ]
  },
  {
   "cell_type": "code",
   "execution_count": 5,
   "metadata": {},
   "outputs": [],
   "source": [
    "x = np.arange(x_left,   x_right, inc) \n",
    "y = np.arange(y_bottom, y_top,   inc) "
   ]
  },
  {
   "cell_type": "code",
   "execution_count": 7,
   "metadata": {},
   "outputs": [
    {
     "data": {
      "text/plain": [
       "array([-2, -1,  0,  1])"
      ]
     },
     "execution_count": 7,
     "metadata": {},
     "output_type": "execute_result"
    }
   ],
   "source": [
    "x"
   ]
  },
  {
   "cell_type": "code",
   "execution_count": 8,
   "metadata": {},
   "outputs": [
    {
     "data": {
      "text/plain": [
       "array([-2, -1,  0,  1])"
      ]
     },
     "execution_count": 8,
     "metadata": {},
     "output_type": "execute_result"
    }
   ],
   "source": [
    "y"
   ]
  },
  {
   "cell_type": "code",
   "execution_count": 10,
   "metadata": {},
   "outputs": [],
   "source": [
    "xx1, yy1 = np.meshgrid(x, y)"
   ]
  },
  {
   "cell_type": "code",
   "execution_count": 11,
   "metadata": {},
   "outputs": [
    {
     "data": {
      "text/plain": [
       "array([[-2, -1,  0,  1],\n",
       "       [-2, -1,  0,  1],\n",
       "       [-2, -1,  0,  1],\n",
       "       [-2, -1,  0,  1]])"
      ]
     },
     "execution_count": 11,
     "metadata": {},
     "output_type": "execute_result"
    }
   ],
   "source": [
    "xx1"
   ]
  },
  {
   "cell_type": "code",
   "execution_count": 44,
   "metadata": {},
   "outputs": [
    {
     "data": {
      "text/plain": [
       "array([[-2.  , -2.  , -2.  , ..., -2.  , -2.  , -2.  ],\n",
       "       [-1.99, -1.99, -1.99, ..., -1.99, -1.99, -1.99],\n",
       "       [-1.98, -1.98, -1.98, ..., -1.98, -1.98, -1.98],\n",
       "       ...,\n",
       "       [ 1.97,  1.97,  1.97, ...,  1.97,  1.97,  1.97],\n",
       "       [ 1.98,  1.98,  1.98, ...,  1.98,  1.98,  1.98],\n",
       "       [ 1.99,  1.99,  1.99, ...,  1.99,  1.99,  1.99]])"
      ]
     },
     "execution_count": 44,
     "metadata": {},
     "output_type": "execute_result"
    }
   ],
   "source": [
    "yy1"
   ]
  },
  {
   "cell_type": "code",
   "execution_count": 45,
   "metadata": {},
   "outputs": [
    {
     "data": {
      "image/png": "[encoded data removed]",
      "text/plain": [
       "<Figure size 432x288 with 1 Axes>"
      ]
     },
     "metadata": {
      "needs_background": "light"
     },
     "output_type": "display_data"
    }
   ],
   "source": [
    "plt.scatter(xx1, yy1)\n",
    "plt.grid()"
   ]
  },
  {
   "cell_type": "code",
   "execution_count": 46,
   "metadata": {},
   "outputs": [
    {
     "data": {
      "text/plain": [
       "array([[-2.  , -1.99, -1.98, ...,  1.97,  1.98,  1.99],\n",
       "       [-2.  , -1.99, -1.98, ...,  1.97,  1.98,  1.99],\n",
       "       [-2.  , -1.99, -1.98, ...,  1.97,  1.98,  1.99],\n",
       "       ...,\n",
       "       [-2.  , -1.99, -1.98, ...,  1.97,  1.98,  1.99],\n",
       "       [-2.  , -1.99, -1.98, ...,  1.97,  1.98,  1.99],\n",
       "       [-2.  , -1.99, -1.98, ...,  1.97,  1.98,  1.99]])"
      ]
     },
     "execution_count": 46,
     "metadata": {},
     "output_type": "execute_result"
    }
   ],
   "source": [
    "xx1"
   ]
  },
  {
   "cell_type": "code",
   "execution_count": 14,
   "metadata": {},
   "outputs": [
    {
     "data": {
      "text/plain": [
       "array([[-2, -2, -2, -2],\n",
       "       [-1, -1, -1, -1],\n",
       "       [ 0,  0,  0,  0],\n",
       "       [ 1,  1,  1,  1]])"
      ]
     },
     "execution_count": 14,
     "metadata": {},
     "output_type": "execute_result"
    }
   ],
   "source": [
    "yy1"
   ]
  },
  {
   "cell_type": "code",
   "execution_count": null,
   "metadata": {},
   "outputs": [],
   "source": []
  }
 ],
 "metadata": {
  "kernelspec": {
   "display_name": "Python 3",
   "language": "python",
   "name": "python3"
  },
  "language_info": {
   "codemirror_mode": {
    "name": "ipython",
    "version": 3
   },
   "file_extension": ".py",
   "mimetype": "text/x-python",
   "name": "python",
   "nbconvert_exporter": "python",
   "pygments_lexer": "ipython3",
   "version": "3.7.3"
  }
 },
 "nbformat": 4,
 "nbformat_minor": 4
}
