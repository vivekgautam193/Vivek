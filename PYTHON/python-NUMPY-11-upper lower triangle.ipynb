{
 "cells": [
  {
   "cell_type": "code",
   "execution_count": 1,
   "metadata": {},
   "outputs": [],
   "source": [
    "import numpy as np"
   ]
  },
  {
   "cell_type": "code",
   "execution_count": 4,
   "metadata": {},
   "outputs": [
    {
     "data": {
      "text/plain": [
       "array([[13, 18, 12, 17, 18, 16],\n",
       "       [11, 10, 13, 16, 10, 12],\n",
       "       [15, 12, 12, 19, 10, 14],\n",
       "       [12, 12, 17, 17, 12, 12],\n",
       "       [18, 10, 16, 15, 17, 18],\n",
       "       [11, 16, 16, 19, 10, 18]])"
      ]
     },
     "execution_count": 4,
     "metadata": {},
     "output_type": "execute_result"
    }
   ],
   "source": [
    "arr = np.random.randint(10, 20, size=(6, 6))\n",
    "arr"
   ]
  },
  {
   "cell_type": "code",
   "execution_count": 5,
   "metadata": {},
   "outputs": [
    {
     "data": {
      "text/plain": [
       "array([[13, 18, 12, 17, 18, 16],\n",
       "       [ 0, 10, 13, 16, 10, 12],\n",
       "       [ 0,  0, 12, 19, 10, 14],\n",
       "       [ 0,  0,  0, 17, 12, 12],\n",
       "       [ 0,  0,  0,  0, 17, 18],\n",
       "       [ 0,  0,  0,  0,  0, 18]])"
      ]
     },
     "execution_count": 5,
     "metadata": {},
     "output_type": "execute_result"
    }
   ],
   "source": [
    "np.triu(arr)"
   ]
  },
  {
   "cell_type": "code",
   "execution_count": 6,
   "metadata": {},
   "outputs": [
    {
     "data": {
      "text/plain": [
       "array([[13,  0,  0,  0,  0,  0],\n",
       "       [11, 10,  0,  0,  0,  0],\n",
       "       [15, 12, 12,  0,  0,  0],\n",
       "       [12, 12, 17, 17,  0,  0],\n",
       "       [18, 10, 16, 15, 17,  0],\n",
       "       [11, 16, 16, 19, 10, 18]])"
      ]
     },
     "execution_count": 6,
     "metadata": {},
     "output_type": "execute_result"
    }
   ],
   "source": [
    "np.tril(arr)"
   ]
  },
  {
   "cell_type": "code",
   "execution_count": 7,
   "metadata": {},
   "outputs": [
    {
     "data": {
      "text/plain": [
       "array([[ 0, 18, 12, 17, 18, 16],\n",
       "       [ 0,  0, 13, 16, 10, 12],\n",
       "       [ 0,  0,  0, 19, 10, 14],\n",
       "       [ 0,  0,  0,  0, 12, 12],\n",
       "       [ 0,  0,  0,  0,  0, 18],\n",
       "       [ 0,  0,  0,  0,  0,  0]])"
      ]
     },
     "execution_count": 7,
     "metadata": {},
     "output_type": "execute_result"
    }
   ],
   "source": [
    "np.triu(arr, k=1)"
   ]
  },
  {
   "cell_type": "code",
   "execution_count": null,
   "metadata": {},
   "outputs": [],
   "source": []
  }
 ],
 "metadata": {
  "kernelspec": {
   "display_name": "Python 3",
   "language": "python",
   "name": "python3"
  },
  "language_info": {
   "codemirror_mode": {
    "name": "ipython",
    "version": 3
   },
   "file_extension": ".py",
   "mimetype": "text/x-python",
   "name": "python",
   "nbconvert_exporter": "python",
   "pygments_lexer": "ipython3",
   "version": "3.7.3"
  }
 },
 "nbformat": 4,
 "nbformat_minor": 4
}
