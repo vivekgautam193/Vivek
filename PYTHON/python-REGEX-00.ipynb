{
 "cells": [
  {
   "cell_type": "code",
   "execution_count": 2,
   "metadata": {
    "collapsed": true
   },
   "outputs": [],
   "source": [
    "import re"
   ]
  },
  {
   "cell_type": "markdown",
   "metadata": {},
   "source": [
    "- What are various methods of Regular Expressions?\n",
    "\n",
    "The ‘re’ package provides multiple methods to perform queries on an input string. \n",
    "\n",
    "    - re.match()\n",
    "    - re.search()\n",
    "    - re.findall()\n",
    "    - re.split()\n",
    "    - re.sub()"
   ]
  },
  {
   "cell_type": "code",
   "execution_count": 24,
   "metadata": {
    "collapsed": true
   },
   "outputs": [],
   "source": [
    "# Create some data\n",
    "text = 'A flock of 120 quick brown foxes jumped over 30 lazy brown, bears.'"
   ]
  },
  {
   "cell_type": "code",
   "execution_count": 25,
   "metadata": {},
   "outputs": [
    {
     "data": {
      "text/plain": [
       "['A']"
      ]
     },
     "execution_count": 25,
     "metadata": {},
     "output_type": "execute_result"
    }
   ],
   "source": [
    "# ^ Matches beginning of line.\n",
    "re.findall('^A', text)"
   ]
  },
  {
   "cell_type": "code",
   "execution_count": 26,
   "metadata": {},
   "outputs": [
    {
     "data": {
      "text/plain": [
       "['bears.']"
      ]
     },
     "execution_count": 26,
     "metadata": {},
     "output_type": "execute_result"
    }
   ],
   "source": [
    "# $ Matches end of line.\n",
    "re.findall('bears.$', text)"
   ]
  },
  {
   "cell_type": "code",
   "execution_count": 27,
   "metadata": {},
   "outputs": [
    {
     "data": {
      "text/plain": [
       "['foxes']"
      ]
     },
     "execution_count": 27,
     "metadata": {},
     "output_type": "execute_result"
    }
   ],
   "source": [
    "# . Matches any single character except newline.\n",
    "re.findall('f..es', text)"
   ]
  },
  {
   "cell_type": "code",
   "execution_count": 28,
   "metadata": {},
   "outputs": [
    {
     "data": {
      "text/plain": [
       "['o', 'o', 'u', 'i', 'o', 'o', 'e', 'u', 'e', 'o', 'e', 'a', 'o', 'e', 'a']"
      ]
     },
     "execution_count": 28,
     "metadata": {},
     "output_type": "execute_result"
    }
   ],
   "source": [
    "# Find all vowels\n",
    "re.findall('[aeiou]', text)"
   ]
  },
  {
   "cell_type": "code",
   "execution_count": 29,
   "metadata": {},
   "outputs": [
    {
     "data": {
      "text/plain": [
       "['A',\n",
       " ' ',\n",
       " 'f',\n",
       " 'l',\n",
       " 'c',\n",
       " 'k',\n",
       " ' ',\n",
       " 'f',\n",
       " ' ',\n",
       " '1',\n",
       " '2',\n",
       " '0',\n",
       " ' ',\n",
       " 'q',\n",
       " 'c',\n",
       " 'k',\n",
       " ' ',\n",
       " 'b',\n",
       " 'r',\n",
       " 'w',\n",
       " 'n',\n",
       " ' ',\n",
       " 'f',\n",
       " 'x',\n",
       " 's',\n",
       " ' ',\n",
       " 'j',\n",
       " 'm',\n",
       " 'p',\n",
       " 'd',\n",
       " ' ',\n",
       " 'v',\n",
       " 'r',\n",
       " ' ',\n",
       " '3',\n",
       " '0',\n",
       " ' ',\n",
       " 'l',\n",
       " 'z',\n",
       " 'y',\n",
       " ' ',\n",
       " 'b',\n",
       " 'r',\n",
       " 'w',\n",
       " 'n',\n",
       " ',',\n",
       " ' ',\n",
       " 'b',\n",
       " 'r',\n",
       " 's',\n",
       " '.']"
      ]
     },
     "execution_count": 29,
     "metadata": {},
     "output_type": "execute_result"
    }
   ],
   "source": [
    "# Find all characters that are not lower-case vowels\n",
    "re.findall('[^aeiou]', text)"
   ]
  },
  {
   "cell_type": "code",
   "execution_count": 30,
   "metadata": {},
   "outputs": [
    {
     "data": {
      "text/plain": [
       "['A', 'a', 'a']"
      ]
     },
     "execution_count": 30,
     "metadata": {},
     "output_type": "execute_result"
    }
   ],
   "source": [
    "# a | b Matches either a or b.\n",
    "re.findall('a|A', text)"
   ]
  },
  {
   "cell_type": "code",
   "execution_count": 31,
   "metadata": {},
   "outputs": [
    {
     "data": {
      "text/plain": [
       "['foxes']"
      ]
     },
     "execution_count": 31,
     "metadata": {},
     "output_type": "execute_result"
    }
   ],
   "source": [
    "# Find any instance of 'fox'\n",
    "re.findall('(foxes)', text)"
   ]
  },
  {
   "cell_type": "code",
   "execution_count": 33,
   "metadata": {},
   "outputs": [
    {
     "data": {
      "text/plain": [
       "['jumped']"
      ]
     },
     "execution_count": 33,
     "metadata": {},
     "output_type": "execute_result"
    }
   ],
   "source": [
    "# \\w Matches word characters.\n",
    "# Break up string into five character blocks\n",
    "re.findall('\\w\\w\\w\\w\\w\\w', text)"
   ]
  },
  {
   "cell_type": "code",
   "execution_count": 34,
   "metadata": {},
   "outputs": [
    {
     "data": {
      "text/plain": [
       "[', ']"
      ]
     },
     "execution_count": 34,
     "metadata": {},
     "output_type": "execute_result"
    }
   ],
   "source": [
    "# \\W Matches nonword characters.\n",
    "re.findall('\\W\\W', text)"
   ]
  },
  {
   "cell_type": "code",
   "execution_count": 35,
   "metadata": {},
   "outputs": [
    {
     "data": {
      "text/plain": [
       "[' ', ' ', ' ', ' ', ' ', ' ', ' ', ' ', ' ', ' ', ' ', ' ']"
      ]
     },
     "execution_count": 35,
     "metadata": {},
     "output_type": "execute_result"
    }
   ],
   "source": [
    "# \\s Matches whitespace. Equivalent to [\\t\\n\\r\\f].\n",
    "re.findall('\\s', text)"
   ]
  },
  {
   "cell_type": "code",
   "execution_count": 37,
   "metadata": {},
   "outputs": [
    {
     "data": {
      "text/plain": [
       "['flo',\n",
       " '120',\n",
       " 'qui',\n",
       " 'bro',\n",
       " 'fox',\n",
       " 'jum',\n",
       " 'ped',\n",
       " 'ove',\n",
       " 'laz',\n",
       " 'bro',\n",
       " 'wn,',\n",
       " 'bea',\n",
       " 'rs.']"
      ]
     },
     "execution_count": 37,
     "metadata": {},
     "output_type": "execute_result"
    }
   ],
   "source": [
    "# \\S Matches nonwhitespace.\n",
    "re.findall('\\S\\S\\S', text)"
   ]
  },
  {
   "cell_type": "code",
   "execution_count": 39,
   "metadata": {},
   "outputs": [
    {
     "data": {
      "text/plain": [
       "['12', '30']"
      ]
     },
     "execution_count": 39,
     "metadata": {},
     "output_type": "execute_result"
    }
   ],
   "source": [
    "# \\d Matches digits. Equivalent to [0-9].\n",
    "re.findall('\\d\\d', text)"
   ]
  },
  {
   "cell_type": "code",
   "execution_count": 40,
   "metadata": {},
   "outputs": [
    {
     "data": {
      "text/plain": [
       "['foxes', 'Foxes']"
      ]
     },
     "execution_count": 40,
     "metadata": {},
     "output_type": "execute_result"
    }
   ],
   "source": [
    "# [Pp]ython Match “Python” or “python”\n",
    "re.findall('[Ff]oxes', 'foxes Foxes Doxes')"
   ]
  },
  {
   "cell_type": "code",
   "execution_count": 41,
   "metadata": {},
   "outputs": [
    {
     "data": {
      "text/plain": [
       "['1', '2', '0', '3', '0']"
      ]
     },
     "execution_count": 41,
     "metadata": {},
     "output_type": "execute_result"
    }
   ],
   "source": [
    "# [0-9] Match any digit; same as [0123456789]\n",
    "re.findall('[0-9]', text)"
   ]
  },
  {
   "cell_type": "code",
   "execution_count": 42,
   "metadata": {},
   "outputs": [
    {
     "data": {
      "text/plain": [
       "['F']"
      ]
     },
     "execution_count": 42,
     "metadata": {},
     "output_type": "execute_result"
    }
   ],
   "source": [
    "# [A-Z] Match any uppercase ASCII letter\n",
    "re.findall('[A-Z]', 'foxes Foxes')"
   ]
  },
  {
   "cell_type": "code",
   "execution_count": 43,
   "metadata": {},
   "outputs": [
    {
     "data": {
      "text/plain": [
       "['f', 'o', 'x', 'e', 's', 'F', 'o', 'x', 'e', 's']"
      ]
     },
     "execution_count": 43,
     "metadata": {},
     "output_type": "execute_result"
    }
   ],
   "source": [
    "# [a-zA-Z0-9] Match any of the above\n",
    "re.findall('[a-zA-Z0-9]', 'foxes Foxes')"
   ]
  },
  {
   "cell_type": "code",
   "execution_count": 44,
   "metadata": {},
   "outputs": [
    {
     "data": {
      "text/plain": [
       "['f', 'x', 's', ' ', 'F', 'x', 's']"
      ]
     },
     "execution_count": 44,
     "metadata": {},
     "output_type": "execute_result"
    }
   ],
   "source": [
    "# [^aeiou] Match anything other than a lowercase vowel\n",
    "re.findall('[^aeiou]', 'foxes Foxes')"
   ]
  },
  {
   "cell_type": "code",
   "execution_count": 45,
   "metadata": {},
   "outputs": [
    {
     "data": {
      "text/plain": [
       "['f', 'o', 'x', 'e', 's', ' ', 'F', 'o', 'x', 'e', 's']"
      ]
     },
     "execution_count": 45,
     "metadata": {},
     "output_type": "execute_result"
    }
   ],
   "source": [
    "# [^0-9] Match anything other than a digit\n",
    "re.findall('[^0-9]', 'foxes Foxes')"
   ]
  },
  {
   "cell_type": "code",
   "execution_count": 46,
   "metadata": {},
   "outputs": [
    {
     "data": {
      "text/plain": [
       "['120']"
      ]
     },
     "execution_count": 46,
     "metadata": {},
     "output_type": "execute_result"
    }
   ],
   "source": [
    "# \\d{3} Match exactly 3 digits\n",
    "re.findall('\\d{3}', text)"
   ]
  },
  {
   "cell_type": "code",
   "execution_count": 47,
   "metadata": {},
   "outputs": [
    {
     "data": {
      "text/plain": [
       "['120', '30']"
      ]
     },
     "execution_count": 47,
     "metadata": {},
     "output_type": "execute_result"
    }
   ],
   "source": [
    "# \\d{3,} Match 3 or more digits\n",
    "re.findall('\\d{2,}', text)"
   ]
  },
  {
   "cell_type": "code",
   "execution_count": 48,
   "metadata": {},
   "outputs": [
    {
     "data": {
      "text/plain": [
       "['120', '30']"
      ]
     },
     "execution_count": 48,
     "metadata": {},
     "output_type": "execute_result"
    }
   ],
   "source": [
    "# \\d{3,5} Match 3, 4, or 5 digits\n",
    "re.findall('\\d{2,3}', text)"
   ]
  },
  {
   "cell_type": "markdown",
   "metadata": {},
   "source": [
    "# More examples"
   ]
  },
  {
   "cell_type": "markdown",
   "metadata": {},
   "source": [
    "The __match()__ function returns a match object if the text matches the pattern. Otherwise it returns None."
   ]
  },
  {
   "cell_type": "code",
   "execution_count": 17,
   "metadata": {},
   "outputs": [
    {
     "name": "stdout",
     "output_type": "stream",
     "text": [
      "Match!\n",
      "Cookie\n"
     ]
    }
   ],
   "source": [
    "pattern  = r\"Cookie\"\n",
    "sequence = \"Cookie is great\"\n",
    "\n",
    "result = re.match(pattern, sequence)\n",
    "\n",
    "if result:\n",
    "    print(\"Match!\")\n",
    "else: \n",
    "    print(\"Not a match!\")\n",
    "\n",
    "print(result.group(0))"
   ]
  },
  {
   "cell_type": "markdown",
   "metadata": {},
   "source": [
    "#### Multiple Matches\n",
    "\n",
    "The findall() function returns all of the substrings of the input that match the pattern without overlapping."
   ]
  },
  {
   "cell_type": "code",
   "execution_count": 21,
   "metadata": {},
   "outputs": [
    {
     "name": "stdout",
     "output_type": "stream",
     "text": [
      "Found \"ab\"\n",
      "Found \"ab\"\n"
     ]
    }
   ],
   "source": [
    "import re\n",
    "\n",
    "text = 'abbaaabbbbaaaaa'\n",
    "\n",
    "pattern = 'ab'\n",
    "\n",
    "for match in re.findall(pattern, text):\n",
    "    print ('Found \"%s\"' % match)"
   ]
  },
  {
   "cell_type": "markdown",
   "metadata": {},
   "source": [
    "finditer() returns an iterator that produces Match instances instead of the strings returned by findall()."
   ]
  },
  {
   "cell_type": "code",
   "execution_count": 22,
   "metadata": {},
   "outputs": [
    {
     "name": "stdout",
     "output_type": "stream",
     "text": [
      "Found \"ab\" at 0:2\n",
      "Found \"ab\" at 5:7\n"
     ]
    }
   ],
   "source": [
    "text = 'abbaaabbbbaaaaa'\n",
    "\n",
    "pattern = 'ab'\n",
    "\n",
    "for match in re.finditer(pattern, text):\n",
    "    s = match.start()\n",
    "    e = match.end()\n",
    "    print ('Found \"%s\" at %d:%d' % (text[s:e], s, e))"
   ]
  },
  {
   "cell_type": "markdown",
   "metadata": {},
   "source": [
    "# Finding Patterns in Text\n",
    "\n",
    "The most common use for re is to search for patterns in text. This example looks for two literal strings, 'this' and 'that', in a text string."
   ]
  },
  {
   "cell_type": "code",
   "execution_count": 15,
   "metadata": {},
   "outputs": [
    {
     "name": "stdout",
     "output_type": "stream",
     "text": [
      "Looking for \"this\" in \"Does this text match the pattern?\" ->\n",
      "found a match!\n",
      "Looking for \"that\" in \"Does this text match the pattern?\" ->\n",
      "no match\n"
     ]
    }
   ],
   "source": [
    "patterns = [ 'this', 'that' ]\n",
    "text     = 'Does this text match the pattern?'\n",
    "\n",
    "for pattern in patterns:\n",
    "    print ('Looking for \"%s\" in \"%s\" ->' % (pattern, text))\n",
    "\n",
    "    if re.search(pattern,  text):\n",
    "        print ('found a match!')\n",
    "    else:\n",
    "        print ('no match')"
   ]
  },
  {
   "cell_type": "markdown",
   "metadata": {},
   "source": [
    "search() takes the pattern and text to scan, and returns a Match object when the pattern is found. If the pattern is not found, search() returns None."
   ]
  },
  {
   "cell_type": "code",
   "execution_count": 16,
   "metadata": {},
   "outputs": [
    {
     "name": "stdout",
     "output_type": "stream",
     "text": [
      "Found \"this\" in \"Does this text match the pattern?\" from 5 to 9 (\"this\")\n"
     ]
    }
   ],
   "source": [
    "pattern = 'this'\n",
    "text    = 'Does this text match the pattern?'\n",
    "\n",
    "match = re.search(pattern, text)\n",
    "\n",
    "s = match.start()\n",
    "e = match.end()\n",
    "\n",
    "print ('Found \"%s\" in \"%s\" from %d to %d (\"%s\")' % (match.re.pattern, match.string, s, e, text[s:e]))"
   ]
  },
  {
   "cell_type": "markdown",
   "metadata": {},
   "source": [
    "The start() and end() methods give the integer indexes into the string showing where the text matched by the pattern occurs."
   ]
  },
  {
   "cell_type": "markdown",
   "metadata": {},
   "source": [
    "# Compiling Expressions"
   ]
  },
  {
   "cell_type": "code",
   "execution_count": 20,
   "metadata": {},
   "outputs": [
    {
     "name": "stdout",
     "output_type": "stream",
     "text": [
      "Looking for \"this\" in \"Does this text match the pattern?\" ->\n",
      "found a match!\n",
      "Looking for \"that\" in \"Does this text match the pattern?\" ->\n",
      "no match\n"
     ]
    }
   ],
   "source": [
    "# Pre-compile the patterns\n",
    "regexes = [ re.compile(p) for p in [ 'this', 'that', ]]\n",
    "text    = 'Does this text match the pattern?'\n",
    "\n",
    "for regex in regexes:\n",
    "    print ('Looking for \"%s\" in \"%s\" ->' % (regex.pattern, text))\n",
    "\n",
    "    if regex.search(text):\n",
    "        print ('found a match!')\n",
    "    else:\n",
    "        print ('no match')"
   ]
  },
  {
   "cell_type": "markdown",
   "metadata": {},
   "source": [
    "# Repetition\n",
    "\n",
    "There are 5 ways to express repetition in a pattern. \n",
    "\n",
    "- A pattern followed by the metacharacter * is repeated zero or more times (allowing a pattern to repeat zero times means it does not need to appear at all to match). \n",
    "\n",
    "- Replace the * with + and the pattern must appear at least once. \n",
    "\n",
    "- Using ? means the pattern appears zero or one time. For a specific number of occurrences, use {m} after the pattern, where m is replaced with the number of times the pattern should repeat. \n",
    "\n",
    "- And finally, to allow a variable but limited number of repetitions, use {m,n} where m is the minimum number of repetitions and n is the maximum. Leaving out n ({m,}) means the value appears at least m times, with no maximum."
   ]
  },
  {
   "cell_type": "code",
   "execution_count": 49,
   "metadata": {},
   "outputs": [
    {
     "name": "stdout",
     "output_type": "stream",
     "text": [
      "Search successful.\n"
     ]
    }
   ],
   "source": [
    "pattern     = '^a...s$'\n",
    "test_string = 'abyss'\n",
    "result = re.match(pattern, test_string)\n",
    "\n",
    "if result:\n",
    "  print(\"Search successful.\")\n",
    "else:\n",
    "  print(\"Search unsuccessful.\")"
   ]
  },
  {
   "cell_type": "code",
   "execution_count": 50,
   "metadata": {},
   "outputs": [
    {
     "name": "stdout",
     "output_type": "stream",
     "text": [
      "['12', '89', '34']\n"
     ]
    }
   ],
   "source": [
    "# Program to extract numbers from a string\n",
    "\n",
    "import re\n",
    "\n",
    "string = 'hello 12 hi 89. Howdy 34'\n",
    "pattern = '\\d+'\n",
    "\n",
    "result = re.findall(pattern, string) \n",
    "print(result)"
   ]
  },
  {
   "cell_type": "code",
   "execution_count": null,
   "metadata": {
    "collapsed": true
   },
   "outputs": [],
   "source": []
  }
 ],
 "metadata": {
  "kernelspec": {
   "display_name": "Python 3",
   "language": "python",
   "name": "python3"
  },
  "language_info": {
   "codemirror_mode": {
    "name": "ipython",
    "version": 3
   },
   "file_extension": ".py",
   "mimetype": "text/x-python",
   "name": "python",
   "nbconvert_exporter": "python",
   "pygments_lexer": "ipython3",
   "version": "3.6.3"
  }
 },
 "nbformat": 4,
 "nbformat_minor": 2
}
