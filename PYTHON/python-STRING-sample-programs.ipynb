{
 "cells": [
  {
   "cell_type": "code",
   "execution_count": 2,
   "metadata": {},
   "outputs": [],
   "source": [
    "import string"
   ]
  },
  {
   "cell_type": "markdown",
   "metadata": {},
   "source": [
    "## Display punctuation."
   ]
  },
  {
   "cell_type": "code",
   "execution_count": 6,
   "metadata": {},
   "outputs": [
    {
     "name": "stdout",
     "output_type": "stream",
     "text": [
      "[!, \", #, $, %, &, ', (, ), *, +, ,, -, ., /, :, ;, <, =, >, ?, @, [, \\, ], ^, _, `, {, |, }, ~, ]\n"
     ]
    }
   ],
   "source": [
    "\n",
    "print(\"[\", end='')\n",
    "\n",
    "for c in string.punctuation:\n",
    "    print( c, end=', ')\n",
    "    \n",
    "print(\"]\")"
   ]
  },
  {
   "cell_type": "markdown",
   "metadata": {},
   "source": [
    "## test for punctuation"
   ]
  },
  {
   "cell_type": "code",
   "execution_count": 7,
   "metadata": {},
   "outputs": [
    {
     "name": "stdout",
     "output_type": "stream",
     "text": [
      "Punctuation: ,\n",
      "Punctuation: !\n"
     ]
    }
   ],
   "source": [
    "# An input string.\n",
    "name = \"hey, my friend!\"\n",
    "\n",
    "for c in name:\n",
    "    # See if the char is punctuation.\n",
    "    if c in string.punctuation:\n",
    "        print(\"Punctuation: \" + c)\n"
   ]
  },
  {
   "cell_type": "markdown",
   "metadata": {},
   "source": [
    "## remove punctuation from string"
   ]
  },
  {
   "cell_type": "code",
   "execution_count": 9,
   "metadata": {},
   "outputs": [],
   "source": [
    "def remove_punctuation(value):\n",
    "    result = \"\"\n",
    "    for c in value:\n",
    "        # If char is not punctuation, add it to the result.\n",
    "        if c not in string.punctuation:\n",
    "            result += c\n",
    "    return result"
   ]
  },
  {
   "cell_type": "code",
   "execution_count": 10,
   "metadata": {},
   "outputs": [
    {
     "name": "stdout",
     "output_type": "stream",
     "text": [
      "hello, friend!... welcome.\n",
      "hello friend welcome\n"
     ]
    }
   ],
   "source": [
    "# Test our method.\n",
    "temp = \"hello, friend!... welcome.\"\n",
    "print(temp)\n",
    "print(remove_punctuation(temp))"
   ]
  },
  {
   "cell_type": "markdown",
   "metadata": {},
   "source": [
    "Ex : on string translate\n",
    "\n",
    "__maketrans()__ function is used to construct the transition table i.e specify the list of characters that need to be replaced in the whole string or the characters that need to be deleted from the string\n",
    "\n",
    "- str1 : Specifies the list of characters that need to be replaced.\n",
    "- str2 : Specifies the list of characters with which the characters need to be replaced.\n",
    "- str3 : Specifies the list of characters that needs to be deleted."
   ]
  },
  {
   "cell_type": "code",
   "execution_count": 14,
   "metadata": {},
   "outputs": [
    {
     "name": "stdout",
     "output_type": "stream",
     "text": [
      "!\"#$%&'()*+,-./:;<=>?@[\\]^_`{|}~\n"
     ]
    }
   ],
   "source": [
    "print(string.punctuation)"
   ]
  },
  {
   "cell_type": "code",
   "execution_count": 17,
   "metadata": {},
   "outputs": [
    {
     "name": "stdout",
     "output_type": "stream",
     "text": [
      "The string before translating is :  popcorn-ai.com @@!!\n",
      "The string after translating is  :  popcorn-AI.com \n"
     ]
    }
   ],
   "source": [
    "# specify to translate chars \n",
    "str1 = \"ai\"\n",
    "  \n",
    "# specify to replace with \n",
    "str2 = \"AI\"\n",
    "  \n",
    "# delete chars \n",
    "str3 = '!@'\n",
    "  \n",
    "# target string  \n",
    "trg = \"popcorn-ai.com @@!!\"\n",
    "  \n",
    "# using maketrans() to construct translate table \n",
    "table = trg.maketrans(str1, str2, str3) \n",
    "  \n",
    "# Printing original string  \n",
    "print (\"The string before translating is : \", trg) \n",
    "  \n",
    "# using translate() to make translations. \n",
    "print (\"The string after translating is  : \", trg.translate(table)) "
   ]
  },
  {
   "cell_type": "code",
   "execution_count": null,
   "metadata": {},
   "outputs": [],
   "source": []
  }
 ],
 "metadata": {
  "kernelspec": {
   "display_name": "Python 3",
   "language": "python",
   "name": "python3"
  },
  "language_info": {
   "codemirror_mode": {
    "name": "ipython",
    "version": 3
   },
   "file_extension": ".py",
   "mimetype": "text/x-python",
   "name": "python",
   "nbconvert_exporter": "python",
   "pygments_lexer": "ipython3",
   "version": "3.7.3"
  }
 },
 "nbformat": 4,
 "nbformat_minor": 4
}
