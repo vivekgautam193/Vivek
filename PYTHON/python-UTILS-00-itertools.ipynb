{
 "cells": [
  {
   "cell_type": "markdown",
   "metadata": {},
   "source": [
    "# What Is Itertools and Why Should You Use It?\n",
    "\n",
    "According to the itertools docs, it is a “module which implements a number of iterator building blocks inspired by constructs from APL, Haskell, and SML… Together, they form an ‘iterator algebra’ making it possible to construct specialized tools succinctly and efficiently in pure Python.”\n",
    "\n",
    "Loosely speaking, this means that the functions in itertools “operate” on iterators to produce more complex iterators. Consider, for example, the built-in zip() function, which takes any number of iterables as arguments and returns an iterator over tuples of their corresponding elements:"
   ]
  },
  {
   "cell_type": "code",
   "execution_count": 2,
   "metadata": {},
   "outputs": [],
   "source": [
    "import itertools\n",
    "import operator"
   ]
  },
  {
   "cell_type": "code",
   "execution_count": 4,
   "metadata": {},
   "outputs": [],
   "source": [
    "data = [1, 2, 3, 4, 5]"
   ]
  },
  {
   "cell_type": "code",
   "execution_count": 5,
   "metadata": {},
   "outputs": [
    {
     "data": {
      "text/plain": [
       "<itertools.accumulate at 0x21fb4957148>"
      ]
     },
     "execution_count": 5,
     "metadata": {},
     "output_type": "execute_result"
    }
   ],
   "source": [
    "result = itertools.accumulate(data, operator.mul)\n",
    "result"
   ]
  },
  {
   "cell_type": "code",
   "execution_count": 7,
   "metadata": {},
   "outputs": [
    {
     "name": "stdout",
     "output_type": "stream",
     "text": [
      "1\n",
      "2\n",
      "6\n",
      "24\n",
      "120\n"
     ]
    }
   ],
   "source": [
    "for each in result:\n",
    "    print(each)"
   ]
  },
  {
   "cell_type": "code",
   "execution_count": 8,
   "metadata": {},
   "outputs": [
    {
     "name": "stdout",
     "output_type": "stream",
     "text": [
      "5\n",
      "7\n",
      "13\n",
      "17\n",
      "22\n",
      "31\n",
      "32\n"
     ]
    }
   ],
   "source": [
    "# sum\n",
    "data = [5, 2, 6, 4, 5, 9, 1]\n",
    "result = itertools.accumulate(data)\n",
    "for each in result:\n",
    "    print(each)"
   ]
  },
  {
   "cell_type": "code",
   "execution_count": 10,
   "metadata": {},
   "outputs": [
    {
     "name": "stdout",
     "output_type": "stream",
     "text": [
      "('circle', 'triangle')\n",
      "('circle', 'square')\n",
      "('circle', 'rectangle')\n",
      "('triangle', 'square')\n",
      "('triangle', 'rectangle')\n",
      "('square', 'rectangle')\n"
     ]
    }
   ],
   "source": [
    "# combinations()\n",
    "shapes = ['circle', 'triangle', 'square', 'rectangle']\n",
    "\n",
    "result = itertools.combinations(shapes, 2)\n",
    "for each in result:\n",
    "    print(each)"
   ]
  },
  {
   "cell_type": "code",
   "execution_count": 11,
   "metadata": {},
   "outputs": [
    {
     "name": "stdout",
     "output_type": "stream",
     "text": [
      "('circle', 'circle')\n",
      "('circle', 'triangle')\n",
      "('circle', 'square')\n",
      "('triangle', 'triangle')\n",
      "('triangle', 'square')\n",
      "('square', 'square')\n"
     ]
    }
   ],
   "source": [
    "# combinations_with_replacement()\n",
    "shapes = ['circle', 'triangle', 'square',]\n",
    "\n",
    "result = itertools.combinations_with_replacement(shapes, 2)\n",
    "for each in result:\n",
    "    print(each)"
   ]
  },
  {
   "cell_type": "code",
   "execution_count": 13,
   "metadata": {},
   "outputs": [
    {
     "name": "stdout",
     "output_type": "stream",
     "text": [
      "10\n",
      "13\n",
      "16\n",
      "19\n",
      "22\n"
     ]
    }
   ],
   "source": [
    "# count()\n",
    "# itertools.count(start=0, step=1)\n",
    "\n",
    "for i in itertools.count(10, 3):\n",
    "    print(i)\n",
    "    if i > 20:\n",
    "        break"
   ]
  },
  {
   "cell_type": "code",
   "execution_count": 14,
   "metadata": {},
   "outputs": [
    {
     "name": "stdout",
     "output_type": "stream",
     "text": [
      "red\n",
      "orange\n",
      "yellow\n",
      "green\n",
      "blue\n",
      "circle\n",
      "triangle\n",
      "square\n",
      "pentagon\n"
     ]
    }
   ],
   "source": [
    "# chain()\n",
    "# itertools.chain(*iterables)\n",
    "colors = ['red', 'orange', 'yellow', 'green', 'blue']\n",
    "shapes = ['circle', 'triangle', 'square', 'pentagon']\n",
    "\n",
    "result = itertools.chain(colors, shapes)\n",
    "for each in result:\n",
    "    print(each)"
   ]
  },
  {
   "cell_type": "code",
   "execution_count": 15,
   "metadata": {},
   "outputs": [
    {
     "name": "stdout",
     "output_type": "stream",
     "text": [
      "circle\n",
      "square\n"
     ]
    }
   ],
   "source": [
    "# compress()\n",
    "# itertools.compress(data, selectors)\n",
    "\n",
    "# This function filters one iterable with another.\n",
    "\n",
    "shapes     = ['circle', 'triangle', 'square', 'pentagon']\n",
    "selections = [True, False, True, False]\n",
    "\n",
    "result = itertools.compress(shapes, selections)\n",
    "for each in result:\n",
    "    print(each)"
   ]
  },
  {
   "cell_type": "code",
   "execution_count": 18,
   "metadata": {},
   "outputs": [
    {
     "name": "stdout",
     "output_type": "stream",
     "text": [
      "red\n",
      "orange\n",
      "yellow\n"
     ]
    }
   ],
   "source": [
    "# islice()\n",
    "# itertools.islice(iterable, start, stop[, step])\n",
    "# This function is very much like slices. This function allows you to cut out a piece of an iterable.\n",
    "\n",
    "colors = ['red', 'orange', 'yellow', 'green', 'blue',]\n",
    "few_colors = itertools.islice(colors, 3)\n",
    "\n",
    "for each in few_colors:\n",
    "    print(each)"
   ]
  },
  {
   "cell_type": "code",
   "execution_count": 19,
   "metadata": {},
   "outputs": [
    {
     "name": "stdout",
     "output_type": "stream",
     "text": [
      "('a', 'b', 'c')\n",
      "('a', 'c', 'b')\n",
      "('b', 'a', 'c')\n",
      "('b', 'c', 'a')\n",
      "('c', 'a', 'b')\n",
      "('c', 'b', 'a')\n"
     ]
    }
   ],
   "source": [
    "# permutations()\n",
    "# itertools.permutations(iterable, r=None)\n",
    "\n",
    "alpha_data = ['a', 'b', 'c']\n",
    "\n",
    "result = itertools.permutations(alpha_data)\n",
    "\n",
    "for each in result:\n",
    "    print(each)"
   ]
  },
  {
   "cell_type": "code",
   "execution_count": 21,
   "metadata": {},
   "outputs": [
    {
     "name": "stdout",
     "output_type": "stream",
     "text": [
      "(1, '1')\n",
      "(1, '1')\n",
      "(1, '1')\n",
      "(2, '1')\n",
      "(2, '1')\n",
      "(2, '1')\n",
      "(3, '1')\n",
      "(3, '1')\n",
      "(3, '1')\n"
     ]
    }
   ],
   "source": [
    "# product()\n",
    "# This function creates the cartesian products from a series of iterables.\n",
    "\n",
    "num_data   = [1, 2, 3]\n",
    "alpha_data = ['1', '1', '1']\n",
    "\n",
    "result = itertools.product(num_data, alpha_data)\n",
    "\n",
    "for each in result:\n",
    "    print(each)"
   ]
  },
  {
   "cell_type": "code",
   "execution_count": 22,
   "metadata": {},
   "outputs": [
    {
     "name": "stdout",
     "output_type": "stream",
     "text": [
      "spam\n",
      "spam\n",
      "spam\n"
     ]
    }
   ],
   "source": [
    "for i in itertools.repeat(\"spam\", 3):\n",
    "    print(i)"
   ]
  },
  {
   "cell_type": "code",
   "execution_count": 23,
   "metadata": {},
   "outputs": [
    {
     "name": "stdout",
     "output_type": "stream",
     "text": [
      "12\n",
      "32\n",
      "21\n"
     ]
    }
   ],
   "source": [
    "data = [(2, 6), (8, 4), (7, 3)]\n",
    "\n",
    "result = itertools.starmap(operator.mul, data)\n",
    "\n",
    "for each in result:\n",
    "    print(each)"
   ]
  },
  {
   "cell_type": "code",
   "execution_count": 29,
   "metadata": {},
   "outputs": [
    {
     "name": "stdout",
     "output_type": "stream",
     "text": [
      "red\n",
      "orange\n",
      "yellow\n",
      "green\n",
      "blue\n",
      "..\n",
      "red\n",
      "orange\n",
      "yellow\n",
      "green\n",
      "blue\n",
      "..\n",
      "red\n",
      "orange\n",
      "yellow\n",
      "green\n",
      "blue\n"
     ]
    }
   ],
   "source": [
    "# tee()\n",
    "# itertools.tee(iterable, n=2)\n",
    "# Return n independent iterators from a single iterable.\n",
    "\n",
    "colors = ['red', 'orange', 'yellow', 'green', 'blue']\n",
    "\n",
    "alpha_colors, beta_colors, gamma_colors = itertools.tee(colors, 3)\n",
    "\n",
    "for each in alpha_colors:\n",
    "    print(each)\n",
    "print('..')\n",
    "\n",
    "for each in beta_colors:\n",
    "     print(each)\n",
    "print('..')\n",
    "        \n",
    "for each in gamma_colors:\n",
    "     print(each)"
   ]
  },
  {
   "cell_type": "code",
   "execution_count": null,
   "metadata": {},
   "outputs": [],
   "source": []
  }
 ],
 "metadata": {
  "kernelspec": {
   "display_name": "Python 3",
   "language": "python",
   "name": "python3"
  },
  "language_info": {
   "codemirror_mode": {
    "name": "ipython",
    "version": 3
   },
   "file_extension": ".py",
   "mimetype": "text/x-python",
   "name": "python",
   "nbconvert_exporter": "python",
   "pygments_lexer": "ipython3",
   "version": "3.7.3"
  }
 },
 "nbformat": 4,
 "nbformat_minor": 4
}
