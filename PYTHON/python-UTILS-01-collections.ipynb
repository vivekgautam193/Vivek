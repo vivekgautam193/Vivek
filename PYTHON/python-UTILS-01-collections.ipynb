{
 "cells": [
  {
   "cell_type": "code",
   "execution_count": 1,
   "metadata": {},
   "outputs": [],
   "source": [
    "from collections import OrderedDict"
   ]
  },
  {
   "cell_type": "markdown",
   "metadata": {},
   "source": [
    "# OrderedDict\n",
    "\n",
    "the order of insertion is maintained when key and values are inserted into the dictionary. \n",
    "\n",
    "If we try to insert a key again, this will overwrite the previous value for that key. (NO DUPLICATE)"
   ]
  },
  {
   "cell_type": "code",
   "execution_count": 2,
   "metadata": {},
   "outputs": [],
   "source": [
    "roll_no = OrderedDict([\n",
    "    (11, 'Shubham'),\n",
    "    (9,  'Pankaj'),\n",
    "    (17, 'JournalDev')\n",
    "])"
   ]
  },
  {
   "cell_type": "code",
   "execution_count": 3,
   "metadata": {},
   "outputs": [
    {
     "name": "stdout",
     "output_type": "stream",
     "text": [
      "11 Shubham\n",
      "9 Pankaj\n",
      "17 JournalDev\n"
     ]
    }
   ],
   "source": [
    "for key, value in roll_no.items():\n",
    "    print(key, value)"
   ]
  },
  {
   "cell_type": "code",
   "execution_count": 4,
   "metadata": {},
   "outputs": [],
   "source": [
    "roll_no[11] = 'Bhupen'"
   ]
  },
  {
   "cell_type": "markdown",
   "metadata": {},
   "source": [
    "# Default Dict\n",
    "\n",
    "The default dictionary can contain duplicate keys. \n",
    "\n",
    "The advantage of using the default dictionary is that we can collect items which belong to the same key. "
   ]
  },
  {
   "cell_type": "code",
   "execution_count": 5,
   "metadata": {},
   "outputs": [],
   "source": [
    "from collections import defaultdict"
   ]
  },
  {
   "cell_type": "code",
   "execution_count": 6,
   "metadata": {},
   "outputs": [],
   "source": [
    "marks = [\n",
    "    ('Shubham', 89),\n",
    "    ('Pankaj', 92),\n",
    "    ('JournalDev', 99),\n",
    "    ('JournalDev', 98),\n",
    "    ('Shubham', 89),\n",
    "    ('Pankaj', 92),\n",
    "]"
   ]
  },
  {
   "cell_type": "code",
   "execution_count": 7,
   "metadata": {},
   "outputs": [],
   "source": [
    "dict_marks = defaultdict(list)"
   ]
  },
  {
   "cell_type": "code",
   "execution_count": 8,
   "metadata": {},
   "outputs": [
    {
     "name": "stdout",
     "output_type": "stream",
     "text": [
      "[]\n"
     ]
    }
   ],
   "source": [
    "print(list(dict_marks.items()))"
   ]
  },
  {
   "cell_type": "code",
   "execution_count": 9,
   "metadata": {},
   "outputs": [],
   "source": [
    "for key, value in dict_marks:\n",
    "    print(key, value)"
   ]
  },
  {
   "cell_type": "code",
   "execution_count": 10,
   "metadata": {},
   "outputs": [],
   "source": [
    "for key, value in marks:\n",
    "    dict_marks[key].append(value)"
   ]
  },
  {
   "cell_type": "code",
   "execution_count": 11,
   "metadata": {},
   "outputs": [
    {
     "name": "stdout",
     "output_type": "stream",
     "text": [
      "[('Shubham', [89, 89]), ('Pankaj', [92, 92]), ('JournalDev', [99, 98])]\n"
     ]
    }
   ],
   "source": [
    "print(list(dict_marks.items()))"
   ]
  },
  {
   "cell_type": "markdown",
   "metadata": {},
   "source": [
    "# Counter\n",
    "The Counter collections allow us to keep a count of all the items which are inserted into the collection with the keys. "
   ]
  },
  {
   "cell_type": "code",
   "execution_count": 4,
   "metadata": {},
   "outputs": [],
   "source": [
    "from collections import Counter"
   ]
  },
  {
   "cell_type": "code",
   "execution_count": 5,
   "metadata": {},
   "outputs": [],
   "source": [
    "marks_list = [\n",
    "    ('Shubham', 89),\n",
    "    ('Pankaj', 92),\n",
    "    ('JournalDev', 99),\n",
    "    ('JournalDev', 98)\n",
    "]"
   ]
  },
  {
   "cell_type": "code",
   "execution_count": 6,
   "metadata": {},
   "outputs": [
    {
     "data": {
      "text/plain": [
       "Counter({'Shubham': 1, 'Pankaj': 1, 'JournalDev': 2})"
      ]
     },
     "execution_count": 6,
     "metadata": {},
     "output_type": "execute_result"
    }
   ],
   "source": [
    "count = Counter(name for name, marks in marks_list)\n",
    "count"
   ]
  },
  {
   "cell_type": "markdown",
   "metadata": {},
   "source": [
    "#### more example"
   ]
  },
  {
   "cell_type": "code",
   "execution_count": 7,
   "metadata": {},
   "outputs": [
    {
     "data": {
      "text/plain": [
       "Counter({'a': 2, 'b': 3, 'c': 1})"
      ]
     },
     "execution_count": 7,
     "metadata": {},
     "output_type": "execute_result"
    }
   ],
   "source": [
    "Counter(['a', 'b', 'c', 'a', 'b', 'b'])"
   ]
  },
  {
   "cell_type": "code",
   "execution_count": 16,
   "metadata": {},
   "outputs": [
    {
     "data": {
      "text/plain": [
       "Counter({'a': 2, 'b': 3, 'c': 1})"
      ]
     },
     "execution_count": 16,
     "metadata": {},
     "output_type": "execute_result"
    }
   ],
   "source": [
    "Counter({'a':2, 'b':3, 'c':1})"
   ]
  },
  {
   "cell_type": "code",
   "execution_count": 17,
   "metadata": {},
   "outputs": [
    {
     "data": {
      "text/plain": [
       "Counter({'a': 2, 'b': 3, 'c': 1})"
      ]
     },
     "execution_count": 17,
     "metadata": {},
     "output_type": "execute_result"
    }
   ],
   "source": [
    "Counter(a=2, b=3, c=1)"
   ]
  },
  {
   "cell_type": "code",
   "execution_count": 8,
   "metadata": {},
   "outputs": [
    {
     "data": {
      "text/plain": [
       "Counter({'f': 9, 'j': 1, 'k': 4, 'i': 1, 'o': 1, 'r': 1, 'l': 4})"
      ]
     },
     "execution_count": 8,
     "metadata": {},
     "output_type": "execute_result"
    }
   ],
   "source": [
    "Counter('fjkfkfkkfiorflflfllff')"
   ]
  },
  {
   "cell_type": "markdown",
   "metadata": {},
   "source": [
    "#### another example"
   ]
  },
  {
   "cell_type": "code",
   "execution_count": 19,
   "metadata": {},
   "outputs": [
    {
     "name": "stdout",
     "output_type": "stream",
     "text": [
      "Initial : Counter()\n"
     ]
    }
   ],
   "source": [
    "c = Counter()\n",
    "print ('Initial :', c)"
   ]
  },
  {
   "cell_type": "code",
   "execution_count": 20,
   "metadata": {},
   "outputs": [
    {
     "name": "stdout",
     "output_type": "stream",
     "text": [
      "Seq : Counter({'a': 3, 'b': 2, 'c': 1, 'd': 1})\n"
     ]
    }
   ],
   "source": [
    "c.update('abcdaab')\n",
    "print ('Seq :', c)"
   ]
  },
  {
   "cell_type": "code",
   "execution_count": 21,
   "metadata": {},
   "outputs": [
    {
     "name": "stdout",
     "output_type": "stream",
     "text": [
      "Dict    : Counter({'p': 5, 'a': 3, 'b': 2, 'c': 1, 'd': 1, 'o': 1})\n"
     ]
    }
   ],
   "source": [
    "c.update({'o':1, 'p':5})\n",
    "print ('Dict    :', c)"
   ]
  },
  {
   "cell_type": "code",
   "execution_count": 22,
   "metadata": {},
   "outputs": [
    {
     "name": "stdout",
     "output_type": "stream",
     "text": [
      "Dict    : Counter({'p': 20, 'a': 3, 'b': 2, 'o': 2, 'c': 1, 'd': 1})\n"
     ]
    }
   ],
   "source": [
    "c.update({'o':1, 'p':15})\n",
    "print ('Dict    :', c)"
   ]
  },
  {
   "cell_type": "code",
   "execution_count": 23,
   "metadata": {},
   "outputs": [
    {
     "name": "stdout",
     "output_type": "stream",
     "text": [
      "a 3\n",
      "b 2\n",
      "c 1\n",
      "d 1\n",
      "o 2\n",
      "p 20\n"
     ]
    }
   ],
   "source": [
    "for k, v in c.items():\n",
    "    print(k, v)"
   ]
  },
  {
   "cell_type": "code",
   "execution_count": 24,
   "metadata": {},
   "outputs": [
    {
     "data": {
      "text/plain": [
       "20"
      ]
     },
     "execution_count": 24,
     "metadata": {},
     "output_type": "execute_result"
    }
   ],
   "source": [
    "c['p']"
   ]
  },
  {
   "cell_type": "code",
   "execution_count": 25,
   "metadata": {},
   "outputs": [],
   "source": [
    "line = 'kffkfk fkfkfk fkfkfkfk '"
   ]
  },
  {
   "cell_type": "code",
   "execution_count": 26,
   "metadata": {},
   "outputs": [
    {
     "data": {
      "text/plain": [
       "Counter({'kffkfk': 1, 'fkfkfk': 1, 'fkfkfkfk': 1, '': 1})"
      ]
     },
     "execution_count": 26,
     "metadata": {},
     "output_type": "execute_result"
    }
   ],
   "source": [
    "Counter(line.split(' '))"
   ]
  },
  {
   "cell_type": "markdown",
   "metadata": {},
   "source": [
    "## Accessing Counters"
   ]
  },
  {
   "cell_type": "code",
   "execution_count": 27,
   "metadata": {},
   "outputs": [
    {
     "name": "stdout",
     "output_type": "stream",
     "text": [
      "a : 3\n",
      "b : 2\n",
      "c : 1\n",
      "d : 1\n",
      "e : 0\n"
     ]
    }
   ],
   "source": [
    "c = Counter('abcdaab')\n",
    "\n",
    "for letter in 'abcde':\n",
    "    print ('%s : %d' % (letter, c[letter]))"
   ]
  },
  {
   "cell_type": "markdown",
   "metadata": {},
   "source": [
    "# Elements"
   ]
  },
  {
   "cell_type": "code",
   "execution_count": 28,
   "metadata": {},
   "outputs": [
    {
     "name": "stdout",
     "output_type": "stream",
     "text": [
      "Counter({'e': 3, 'x': 1, 't': 1, 'r': 1, 'm': 1, 'l': 1, 'y': 1})\n"
     ]
    }
   ],
   "source": [
    "c = Counter('extremely')\n",
    "\n",
    "print(c)"
   ]
  },
  {
   "cell_type": "code",
   "execution_count": 53,
   "metadata": {},
   "outputs": [],
   "source": [
    "c['z'] = 0"
   ]
  },
  {
   "cell_type": "code",
   "execution_count": 54,
   "metadata": {},
   "outputs": [
    {
     "name": "stdout",
     "output_type": "stream",
     "text": [
      "Counter({'e': 3, 'x': 1, 't': 1, 'r': 1, 'm': 1, 'l': 1, 'y': 1, 'z': 0})\n"
     ]
    }
   ],
   "source": [
    "print(c)"
   ]
  },
  {
   "cell_type": "markdown",
   "metadata": {},
   "source": [
    "# Most_Common"
   ]
  },
  {
   "cell_type": "code",
   "execution_count": 29,
   "metadata": {},
   "outputs": [],
   "source": [
    "c = Counter()"
   ]
  },
  {
   "cell_type": "code",
   "execution_count": 30,
   "metadata": {},
   "outputs": [],
   "source": [
    "with open(r'E:\\MYLEARN\\2-ANALYTICS-DataScience\\datasets\\spacy-ex1.txt', 'rt') as f:\n",
    "    for line in f:\n",
    "        c.update(line.lower().split(' '))"
   ]
  },
  {
   "cell_type": "code",
   "execution_count": 31,
   "metadata": {},
   "outputs": [
    {
     "data": {
      "text/plain": [
       "Counter({'the': 12,\n",
       "         'history': 1,\n",
       "         'of': 4,\n",
       "         'natural': 3,\n",
       "         'language': 3,\n",
       "         'processing': 2,\n",
       "         '(nlp)': 1,\n",
       "         'generally': 1,\n",
       "         'started': 1,\n",
       "         'in': 7,\n",
       "         '1950s,': 1,\n",
       "         'although': 1,\n",
       "         'work': 1,\n",
       "         'can': 1,\n",
       "         'be': 2,\n",
       "         'found': 2,\n",
       "         'from': 1,\n",
       "         'earlier': 1,\n",
       "         'periods.': 1,\n",
       "         '1950,': 1,\n",
       "         'alan': 1,\n",
       "         'turing': 2,\n",
       "         'published': 1,\n",
       "         'an': 1,\n",
       "         'article': 1,\n",
       "         'titled': 1,\n",
       "         '\"computing': 1,\n",
       "         'machinery': 1,\n",
       "         'and': 4,\n",
       "         'intelligence\"': 1,\n",
       "         'which': 2,\n",
       "         'proposed': 1,\n",
       "         'what': 1,\n",
       "         'is': 1,\n",
       "         'now': 1,\n",
       "         'called': 1,\n",
       "         'test': 1,\n",
       "         'as': 1,\n",
       "         'a': 7,\n",
       "         'criterion': 1,\n",
       "         'intelligence[clarification': 1,\n",
       "         'needed].\\n': 1,\n",
       "         '\\n': 2,\n",
       "         'georgetown': 1,\n",
       "         'experiment': 1,\n",
       "         '1954': 1,\n",
       "         'involved': 1,\n",
       "         'fully': 1,\n",
       "         'automatic': 1,\n",
       "         'translation': 5,\n",
       "         'more': 1,\n",
       "         'than': 1,\n",
       "         'sixty': 1,\n",
       "         'russian': 1,\n",
       "         'sentences': 1,\n",
       "         'into': 1,\n",
       "         'english.': 1,\n",
       "         'authors': 1,\n",
       "         'claimed': 1,\n",
       "         'that': 2,\n",
       "         'within': 1,\n",
       "         'three': 1,\n",
       "         'or': 2,\n",
       "         'five': 1,\n",
       "         'years,': 1,\n",
       "         'machine': 4,\n",
       "         'would': 1,\n",
       "         'solved': 1,\n",
       "         'problem.[2]': 1,\n",
       "         'however,': 1,\n",
       "         'real': 1,\n",
       "         'progress': 1,\n",
       "         'was': 3,\n",
       "         'much': 1,\n",
       "         'slower,': 1,\n",
       "         'after': 1,\n",
       "         'alpac': 1,\n",
       "         'report': 1,\n",
       "         '1966,': 1,\n",
       "         'ten-year-long': 1,\n",
       "         'research': 2,\n",
       "         'had': 1,\n",
       "         'failed': 1,\n",
       "         'to': 2,\n",
       "         'fulfill': 1,\n",
       "         'expectations,': 1,\n",
       "         'funding': 1,\n",
       "         'for': 2,\n",
       "         'dramatically': 1,\n",
       "         'reduced.': 1,\n",
       "         'little': 1,\n",
       "         'further': 1,\n",
       "         'conducted': 1,\n",
       "         'until': 1,\n",
       "         'late': 1,\n",
       "         '1980s,': 1,\n",
       "         'when': 2,\n",
       "         'first': 1,\n",
       "         'statistical': 1,\n",
       "         'systems': 2,\n",
       "         'were': 2,\n",
       "         'developed.\\n': 1,\n",
       "         'some': 1,\n",
       "         'notably': 1,\n",
       "         'successful': 1,\n",
       "         'developed': 1,\n",
       "         '1960s': 1,\n",
       "         'shrdlu,': 1,\n",
       "         'system': 1,\n",
       "         'working': 1,\n",
       "         'restricted': 2,\n",
       "         '\"blocks': 1,\n",
       "         'worlds\"': 1,\n",
       "         'with': 2,\n",
       "         'vocabularies,': 1,\n",
       "         'eliza,': 1,\n",
       "         'simulation': 1,\n",
       "         'rogerian': 1,\n",
       "         'psychotherapist,': 1,\n",
       "         'written': 1,\n",
       "         'by': 1,\n",
       "         'joseph': 1,\n",
       "         'weizenbaum': 1,\n",
       "         'between': 1,\n",
       "         '1964': 1,\n",
       "         '1966.': 1,\n",
       "         'using': 1,\n",
       "         'almost': 1,\n",
       "         'no': 1,\n",
       "         'information': 1,\n",
       "         'about': 1,\n",
       "         'human': 1,\n",
       "         'thought': 1,\n",
       "         'emotion,': 1,\n",
       "         'eliza': 2,\n",
       "         'sometimes': 1,\n",
       "         'provided': 1,\n",
       "         'startlingly': 1,\n",
       "         'human-like': 1,\n",
       "         'interaction.': 1,\n",
       "         '\"patient\"': 1,\n",
       "         'exceeded': 1,\n",
       "         'very': 1,\n",
       "         'small': 1,\n",
       "         'knowledge': 1,\n",
       "         'base,': 1,\n",
       "         'might': 1,\n",
       "         'provide': 1,\n",
       "         'generic': 1,\n",
       "         'response,': 1,\n",
       "         'example,': 1,\n",
       "         'responding': 1,\n",
       "         '\"my': 1,\n",
       "         'head': 2,\n",
       "         'hurts\"': 1,\n",
       "         '\"why': 1,\n",
       "         'do': 1,\n",
       "         'you': 1,\n",
       "         'say': 1,\n",
       "         'your': 1,\n",
       "         'hurts?\".': 1})"
      ]
     },
     "execution_count": 31,
     "metadata": {},
     "output_type": "execute_result"
    }
   ],
   "source": [
    "c"
   ]
  },
  {
   "cell_type": "code",
   "execution_count": 27,
   "metadata": {},
   "outputs": [
    {
     "data": {
      "text/plain": [
       "[('the', 12), ('in', 7), ('a', 7)]"
      ]
     },
     "execution_count": 27,
     "metadata": {},
     "output_type": "execute_result"
    }
   ],
   "source": [
    "c.most_common(3)"
   ]
  },
  {
   "cell_type": "markdown",
   "metadata": {},
   "source": [
    "# arithmetic"
   ]
  },
  {
   "cell_type": "code",
   "execution_count": 96,
   "metadata": {},
   "outputs": [],
   "source": [
    "c1 = Counter(['a', 'b', 'c', 'a', 'b', 'b'])\n",
    "c2 = Counter('aaaaaabbbbbbb')"
   ]
  },
  {
   "cell_type": "code",
   "execution_count": 97,
   "metadata": {},
   "outputs": [
    {
     "data": {
      "text/plain": [
       "Counter({'a': 2, 'b': 3, 'c': 1})"
      ]
     },
     "execution_count": 97,
     "metadata": {},
     "output_type": "execute_result"
    }
   ],
   "source": [
    "c1"
   ]
  },
  {
   "cell_type": "code",
   "execution_count": 98,
   "metadata": {},
   "outputs": [
    {
     "data": {
      "text/plain": [
       "Counter({'a': 6, 'b': 7})"
      ]
     },
     "execution_count": 98,
     "metadata": {},
     "output_type": "execute_result"
    }
   ],
   "source": [
    "c2"
   ]
  },
  {
   "cell_type": "code",
   "execution_count": 102,
   "metadata": {},
   "outputs": [
    {
     "data": {
      "text/plain": [
       "Counter({'a': 8, 'b': 10, 'c': 1})"
      ]
     },
     "execution_count": 102,
     "metadata": {},
     "output_type": "execute_result"
    }
   ],
   "source": [
    "c1 + c2"
   ]
  },
  {
   "cell_type": "code",
   "execution_count": 103,
   "metadata": {},
   "outputs": [
    {
     "data": {
      "text/plain": [
       "Counter({'c': 1})"
      ]
     },
     "execution_count": 103,
     "metadata": {},
     "output_type": "execute_result"
    }
   ],
   "source": [
    "c1 - c2"
   ]
  },
  {
   "cell_type": "code",
   "execution_count": 104,
   "metadata": {},
   "outputs": [
    {
     "data": {
      "text/plain": [
       "Counter({'a': 2, 'b': 3})"
      ]
     },
     "execution_count": 104,
     "metadata": {},
     "output_type": "execute_result"
    }
   ],
   "source": [
    "c1 & c2"
   ]
  },
  {
   "cell_type": "code",
   "execution_count": 105,
   "metadata": {},
   "outputs": [
    {
     "data": {
      "text/plain": [
       "Counter({'a': 2, 'b': 3})"
      ]
     },
     "execution_count": 105,
     "metadata": {},
     "output_type": "execute_result"
    }
   ],
   "source": [
    "c2 & c1"
   ]
  },
  {
   "cell_type": "code",
   "execution_count": 107,
   "metadata": {},
   "outputs": [
    {
     "data": {
      "text/plain": [
       "Counter({'a': 6, 'b': 7, 'c': 1})"
      ]
     },
     "execution_count": 107,
     "metadata": {},
     "output_type": "execute_result"
    }
   ],
   "source": [
    "# maximum\n",
    "c1 | c2"
   ]
  },
  {
   "cell_type": "markdown",
   "metadata": {},
   "source": [
    "# Counting words"
   ]
  },
  {
   "cell_type": "code",
   "execution_count": 32,
   "metadata": {},
   "outputs": [
    {
     "name": "stdout",
     "output_type": "stream",
     "text": [
      "Counter({'blue': 3, 'red': 2, 'green': 1})\n"
     ]
    }
   ],
   "source": [
    "cnt = Counter()\n",
    "\n",
    "for word in ['red', 'blue', 'red', 'green', 'blue', 'blue']:\n",
    "    cnt[word] += 1\n",
    "\n",
    "print (cnt)\n"
   ]
  },
  {
   "cell_type": "markdown",
   "metadata": {},
   "source": [
    "OR"
   ]
  },
  {
   "cell_type": "code",
   "execution_count": 33,
   "metadata": {},
   "outputs": [
    {
     "name": "stdout",
     "output_type": "stream",
     "text": [
      "Counter({'blue': 3, 'red': 2, 'green': 1})\n"
     ]
    }
   ],
   "source": [
    "mywords = ['red', 'blue', 'red', 'green', 'blue', 'blue']\n",
    "\n",
    "cnt = Counter(mywords)\n",
    "\n",
    "print (cnt)"
   ]
  },
  {
   "cell_type": "code",
   "execution_count": null,
   "metadata": {},
   "outputs": [],
   "source": []
  }
 ],
 "metadata": {
  "kernelspec": {
   "display_name": "Python 3",
   "language": "python",
   "name": "python3"
  },
  "language_info": {
   "codemirror_mode": {
    "name": "ipython",
    "version": 3
   },
   "file_extension": ".py",
   "mimetype": "text/x-python",
   "name": "python",
   "nbconvert_exporter": "python",
   "pygments_lexer": "ipython3",
   "version": "3.7.3"
  },
  "latex_envs": {
   "LaTeX_envs_menu_present": true,
   "autoclose": false,
   "autocomplete": true,
   "bibliofile": "biblio.bib",
   "cite_by": "apalike",
   "current_citInitial": 1,
   "eqLabelWithNumbers": true,
   "eqNumInitial": 1,
   "hotkeys": {
    "equation": "Ctrl-E",
    "itemize": "Ctrl-I"
   },
   "labels_anchors": false,
   "latex_user_defs": false,
   "report_style_numbering": false,
   "user_envs_cfg": false
  },
  "toc": {
   "base_numbering": 1,
   "nav_menu": {},
   "number_sections": true,
   "sideBar": true,
   "skip_h1_title": false,
   "title_cell": "Table of Contents",
   "title_sidebar": "Contents",
   "toc_cell": false,
   "toc_position": {},
   "toc_section_display": true,
   "toc_window_display": false
  }
 },
 "nbformat": 4,
 "nbformat_minor": 4
}
