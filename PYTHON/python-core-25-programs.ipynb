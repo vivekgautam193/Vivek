{
 "cells": [
  {
   "cell_type": "code",
   "execution_count": 1,
   "metadata": {},
   "outputs": [
    {
     "name": "stdout",
     "output_type": "stream",
     "text": [
      "[7, 14]\n"
     ]
    }
   ],
   "source": [
    "# Qs 1\n",
    "# Write a program which will find all such numbers which are divisible by 7 \n",
    "# but are not a multiple of 5,\n",
    "# between 2000 and 3200 (both included).\n",
    "# The numbers obtained should be printed in a comma-separated sequence on a \n",
    "# single line.\n",
    "\n",
    "# Consider use range(#begin, #end) method\n",
    "\n",
    "num_array = []\n",
    "\n",
    "start_range  = 7\n",
    "finish_range = 20\n",
    "\n",
    "for num in range(start_range, finish_range):\n",
    "    if (num % 7 == 0) and (num % 5 != 0):\n",
    "        num_array.append(num)\n",
    "\n",
    "print(num_array)\n",
    "# print(','.join(num_array))"
   ]
  },
  {
   "cell_type": "code",
   "execution_count": 1,
   "metadata": {},
   "outputs": [
    {
     "data": {
      "text/plain": [
       "1"
      ]
     },
     "execution_count": 1,
     "metadata": {},
     "output_type": "execute_result"
    }
   ],
   "source": [
    "10 % 3"
   ]
  },
  {
   "cell_type": "code",
   "execution_count": 2,
   "metadata": {},
   "outputs": [
    {
     "name": "stdout",
     "output_type": "stream",
     "text": [
      "1\n",
      "2\n",
      "3\n",
      "4\n",
      "5\n",
      "6\n",
      "7\n",
      "8\n",
      "9\n"
     ]
    }
   ],
   "source": [
    "for i in range(1, 10):\n",
    "    print(i)"
   ]
  },
  {
   "cell_type": "code",
   "execution_count": 4,
   "metadata": {},
   "outputs": [
    {
     "name": "stdout",
     "output_type": "stream",
     "text": [
      "5\n",
      "6\n",
      "7\n",
      "8\n",
      "9\n",
      "10\n",
      "11\n",
      "12\n",
      "13\n",
      "14\n"
     ]
    }
   ],
   "source": [
    "for i in range(5, 15):\n",
    "    print(i)\n"
   ]
  },
  {
   "cell_type": "code",
   "execution_count": 6,
   "metadata": {
    "collapsed": true,
    "jupyter": {
     "outputs_hidden": true
    }
   },
   "outputs": [],
   "source": [
    "x = []"
   ]
  },
  {
   "cell_type": "code",
   "execution_count": 7,
   "metadata": {},
   "outputs": [
    {
     "name": "stdout",
     "output_type": "stream",
     "text": [
      "[10, 10, 10, 10, 10, 10]\n"
     ]
    }
   ],
   "source": [
    "x.append(10)\n",
    "x.append(10)\n",
    "x.append(10)\n",
    "x.append(10)\n",
    "x.append(10)\n",
    "x.append(10)\n",
    "print(x)"
   ]
  },
  {
   "cell_type": "code",
   "execution_count": 8,
   "metadata": {},
   "outputs": [
    {
     "data": {
      "text/plain": [
       "'B,C,D'"
      ]
     },
     "execution_count": 8,
     "metadata": {},
     "output_type": "execute_result"
    }
   ],
   "source": [
    "','.join(['B', 'C', 'D'])"
   ]
  },
  {
   "cell_type": "code",
   "execution_count": 5,
   "metadata": {},
   "outputs": [
    {
     "data": {
      "text/plain": [
       "['2002',\n",
       " '2009',\n",
       " '2016',\n",
       " '2023',\n",
       " '2037',\n",
       " '2044',\n",
       " '2051',\n",
       " '2058',\n",
       " '2072',\n",
       " '2079',\n",
       " '2086',\n",
       " '2093']"
      ]
     },
     "execution_count": 5,
     "metadata": {},
     "output_type": "execute_result"
    }
   ],
   "source": [
    "num_array"
   ]
  },
  {
   "cell_type": "code",
   "execution_count": 6,
   "metadata": {},
   "outputs": [
    {
     "data": {
      "text/plain": [
       "'2002,2009,2016,2023,2037,2044,2051,2058,2072,2079,2086,2093'"
      ]
     },
     "execution_count": 6,
     "metadata": {},
     "output_type": "execute_result"
    }
   ],
   "source": [
    "','.join(num_array)"
   ]
  },
  {
   "cell_type": "code",
   "execution_count": 3,
   "metadata": {},
   "outputs": [
    {
     "name": "stdout",
     "output_type": "stream",
     "text": [
      "Enter a number : 5\n",
      "120\n"
     ]
    }
   ],
   "source": [
    "# Qs 2\n",
    "# Write a program which can compute the factorial of a given numbers.\n",
    "# The results should be printed in a comma-separated sequence on a single line.\n",
    "\n",
    "# define a function\n",
    "def fact(x):\n",
    "    if x == 0:\n",
    "        return 1\n",
    "    return x * fact(x - 1)\n",
    "\n",
    "# call the above function\n",
    "x = int(input('Enter a number : '))\n",
    "\n",
    "print (fact(x))"
   ]
  },
  {
   "cell_type": "code",
   "execution_count": 12,
   "metadata": {},
   "outputs": [
    {
     "name": "stdout",
     "output_type": "stream",
     "text": [
      "Enter a number : 4\n",
      "{1: 1, 2: 4, 3: 9}\n"
     ]
    }
   ],
   "source": [
    "# Qs 3\n",
    "# With a given integral number n, write a program to generate a dictionary \n",
    "# that contains (i, i*i) such that is an integral number between 1 and n \n",
    "# (both included). and then the program should print the dictionary.\n",
    "# Suppose the following input is supplied to the program:\n",
    "# 8\n",
    "# Then, the output should be:\n",
    "# {1: 1, 2: 4, 3: 9, 4: 16, 5: 25, 6: 36, 7: 49, 8: 64}\n",
    "\n",
    "num = int(input('Enter a number : '))\n",
    "\n",
    "result_dict = dict()\n",
    "\n",
    "for index in range(1, num):\n",
    "    result_dict[index]= index * index\n",
    "\n",
    "print (result_dict)"
   ]
  },
  {
   "cell_type": "code",
   "execution_count": null,
   "metadata": {
    "collapsed": true,
    "jupyter": {
     "outputs_hidden": true
    }
   },
   "outputs": [],
   "source": [
    "# Qs 4\n",
    "# Write a program which accepts a sequence of comma-separated numbers from \n",
    "# console and generate a list and a tuple which contains every number.\n",
    "# Suppose the following input is supplied to the program:\n",
    "# 34,67,55,33,12,98\n",
    "# Then, the output should be:\n",
    "# ['34', '67', '55', '33', '12', '98']\n",
    "# ('34', '67', '55', '33', '12', '98')\n",
    "\n",
    "num_values_str = input('Enter comma separated series of numbers : ')\n",
    "\n",
    "num_array = num_values_str.split(\",\")\n",
    "\n",
    "num_tuple = tuple(num_array)\n",
    "\n",
    "print(num_values_str)\n",
    "print (num_array)\n",
    "print (num_array)"
   ]
  },
  {
   "cell_type": "code",
   "execution_count": null,
   "metadata": {
    "collapsed": true,
    "jupyter": {
     "outputs_hidden": true
    }
   },
   "outputs": [],
   "source": [
    "# Qs 5\n",
    "# Define a class which has at least two methods:\n",
    "# getString: to get a string from console input\n",
    "# printString: to print the string in upper case.\n",
    "# Also please include simple test function to test the class methods.\n",
    "\n",
    "# Hints:\n",
    "# Use __init__ method to construct some parameters\n",
    "\n",
    "# Solution:\n",
    "# class InputOutString(object):\n",
    "#     def __init__(self):\n",
    "#         self.s = \"\"\n",
    "\n",
    "#     def getString(self):\n",
    "#         self.s = raw_input()\n",
    "\n",
    "#     def printString(self):\n",
    "#         print self.s.upper()\n",
    "\n",
    "# strObj = InputOutString()\n",
    "# strObj.getString()\n",
    "# strObj.printString()"
   ]
  },
  {
   "cell_type": "code",
   "execution_count": null,
   "metadata": {
    "collapsed": true,
    "jupyter": {
     "outputs_hidden": true
    }
   },
   "outputs": [],
   "source": [
    "# Qs 6\n",
    "# Write a program that calculates and prints the value according to the given \n",
    "# formula:\n",
    "# Q = Square root of [(2 * C * D)/H]\n",
    "# Following are the fixed values of C and H:\n",
    "# C is 50. H is 30.\n",
    "\n",
    "# D is the variable whose values should be input to your program in a \n",
    "# comma-separated sequence.\n",
    "\n",
    "# Let us assume the following comma separated input sequence is given to \n",
    "# the program:\n",
    "# 100,150,180\n",
    "# The output of the program should be:\n",
    "# 18,22,24\n",
    "\n",
    "import math\n",
    "c = 50\n",
    "h = 30\n",
    "\n",
    "value_array = []\n",
    "\n",
    "num_array = input(\"Enter comma separated numbers: \")\n",
    "\n",
    "items = [x for x in num_array.split(',')]\n",
    "\n",
    "for d in items:\n",
    "    value_array.append(str(int(round(math.sqrt(2*c*float(d)/h)))))\n",
    "    \n",
    "\n",
    "print(num_array)\n",
    "print (','.join(value_array))"
   ]
  },
  {
   "cell_type": "code",
   "execution_count": null,
   "metadata": {
    "collapsed": true,
    "jupyter": {
     "outputs_hidden": true
    }
   },
   "outputs": [],
   "source": []
  },
  {
   "cell_type": "code",
   "execution_count": null,
   "metadata": {
    "collapsed": true,
    "jupyter": {
     "outputs_hidden": true
    }
   },
   "outputs": [],
   "source": [
    "# Qs 7\n",
    "# Write a program which takes 2 digits, X,Y as input and generates a \n",
    "# 2-dimensional array. The element value in the i-th row and j-th column of the \n",
    "# array should be i*j.\n",
    "# Note: i=0,1.., X-1; j=0,1,¡­Y-1.\n",
    "\n",
    "# Suppose the following inputs are given to the program:\n",
    "# 3,5\n",
    "# Then, the output of the program should be:\n",
    "# [[0, 0, 0, 0, 0], [0, 1, 2, 3, 4], [0, 2, 4, 6, 8]] \n",
    "\n",
    "input_str = input('Enter array dimension (m , n e.g. 3 , 5) : ')\n",
    "\n",
    "print(input_str)\n",
    "\n",
    "dimensions=[int(x) for x in input_str.split(',')]\n",
    "\n",
    "rowNum=dimensions[0]\n",
    "colNum=dimensions[1]\n",
    "\n",
    "multilist = [[0 for col in range(colNum)] for row in range(rowNum)]\n",
    "\n",
    "for row in range(rowNum):\n",
    "    for col in range(colNum):\n",
    "        multilist[row][col]= row*col\n",
    "\n",
    "print (multilist)"
   ]
  },
  {
   "cell_type": "code",
   "execution_count": null,
   "metadata": {
    "collapsed": true,
    "jupyter": {
     "outputs_hidden": true
    }
   },
   "outputs": [],
   "source": [
    "# Qs 8\n",
    "# Write a program that accepts a comma separated sequence of words as input \n",
    "# and prints the words in a comma-separated sequence after sorting them \n",
    "# alphabetically.\n",
    "# Suppose the following input is supplied to the program:\n",
    "# without,hello,bag,world\n",
    "# Then, the output should be:\n",
    "# bag,hello,without,world\n",
    "\n",
    "\n",
    "items=[x for x in input('Enter comma separated list of words: ').split(',')]\n",
    "\n",
    "items.sort()\n",
    "\n",
    "print (','.join(items))\n",
    "len(items)"
   ]
  },
  {
   "cell_type": "code",
   "execution_count": null,
   "metadata": {
    "collapsed": true,
    "jupyter": {
     "outputs_hidden": true
    }
   },
   "outputs": [],
   "source": [
    "# Qs 9\n",
    "# Write a program that accepts sequence of lines as input and prints the lines \n",
    "# after making all characters in the sentence capitalized.\n",
    "# Suppose the following input is supplied to the program:\n",
    "# Hello world\n",
    "# Practice makes perfect\n",
    "# Then, the output should be:\n",
    "# HELLO WORLD\n",
    "# PRACTICE MAKES PERFECT\n",
    "\n",
    "lines_array = []\n",
    "\n",
    "while True:\n",
    "    line = input('Enter a line of text : ')\n",
    "    if line:\n",
    "        lines_array.append(line.upper())\n",
    "    else:\n",
    "        break;\n",
    "\n",
    "for line in lines_array:\n",
    "    print (line)"
   ]
  },
  {
   "cell_type": "code",
   "execution_count": 10,
   "metadata": {},
   "outputs": [
    {
     "name": "stdout",
     "output_type": "stream",
     "text": [
      "hello are hello fine great hello\n",
      "are fine great hello\n"
     ]
    }
   ],
   "source": [
    "# Qs 10\n",
    "# Write a program that accepts a sequence of whitespace separated words \n",
    "# as input and prints the words after removing all duplicate words and sorting \n",
    "# them alphanumerically.\n",
    "# Suppose the following input is supplied to the program:\n",
    "# hello world and practice makes perfect and hello world again\n",
    "# Then, the output should be:\n",
    "# again and hello makes perfect practice world\n",
    "\n",
    "words_str = input()\n",
    "\n",
    "words_array = [word for word in words_str.split(\" \")]\n",
    "\n",
    "print (\" \".join(sorted(list(set(words_array)))))"
   ]
  },
  {
   "cell_type": "code",
   "execution_count": 13,
   "metadata": {},
   "outputs": [
    {
     "name": "stdout",
     "output_type": "stream",
     "text": [
      "jjfjfjiejf9844ijgig9gg9900gor\n",
      "LETTERS :  20\n",
      "DIGITS :  9\n"
     ]
    }
   ],
   "source": [
    "# Qs 11\n",
    "# Write a program that accepts a sentence and calculate the number of letters \n",
    "# and digits.\n",
    "# Suppose the following input is supplied to the program:\n",
    "# hello world! 123\n",
    "# Then, the output should be:\n",
    "# LETTERS 10\n",
    "# DIGITS 3\n",
    "\n",
    "line_str = input()\n",
    "\n",
    "result_dict = {\"DIGITS\":0, \"LETTERS\":0}\n",
    "\n",
    "for char in line_str:\n",
    "    if char.isdigit():\n",
    "        result_dict[\"DIGITS\"]+=1\n",
    "    elif char.isalpha():\n",
    "        result_dict[\"LETTERS\"]+=1\n",
    "    else:\n",
    "        pass\n",
    "    \n",
    "print (\"LETTERS : \", result_dict[\"LETTERS\"])\n",
    "print (\"DIGITS : \", result_dict[\"DIGITS\"])"
   ]
  },
  {
   "cell_type": "code",
   "execution_count": 17,
   "metadata": {},
   "outputs": [
    {
     "name": "stdout",
     "output_type": "stream",
     "text": [
      "JJjJJjJJjKKjIf0orrrjlrlEKKEKE\n",
      "UPPER CASE 15\n",
      "LOWER CASE 13\n"
     ]
    }
   ],
   "source": [
    "# Qs 12\n",
    "# Write a program that accepts a sentence and calculate the number of upper case letters \n",
    "# and lower case letters.\n",
    "# Suppose the following input is supplied to the program:\n",
    "# Hello world!\n",
    "# Then, the output should be:\n",
    "# UPPER CASE 1\n",
    "# LOWER CASE 9\n",
    "\n",
    "line_str = input()\n",
    "\n",
    "result_dict = {\"UPPER CASE\":0, \"LOWER CASE\":0}\n",
    "\n",
    "for char in line_str:\n",
    "    if char.isupper():\n",
    "        result_dict[\"UPPER CASE\"]+=1\n",
    "    elif char.islower():\n",
    "        result_dict[\"LOWER CASE\"]+=1\n",
    "    else:\n",
    "        pass\n",
    "    \n",
    "print (\"UPPER CASE\", result_dict[\"UPPER CASE\"])\n",
    "print (\"LOWER CASE\", result_dict[\"LOWER CASE\"])\n"
   ]
  },
  {
   "cell_type": "code",
   "execution_count": 1,
   "metadata": {},
   "outputs": [
    {
     "name": "stdout",
     "output_type": "stream",
     "text": [
      "The sum of 1 and 6 is 7.0\n",
      "7.0\n",
      "the sum is  7.0\n"
     ]
    }
   ],
   "source": [
    "# This program adds two numbers\n",
    "\n",
    "num1 = 1\n",
    "num2 = 6\n",
    "\n",
    "# Add two numbers\n",
    "sum = float(num1) + float(num2)\n",
    "\n",
    "# Display the sum\n",
    "print('The sum of {} and {} is {}'.format(num1, num2, sum))\n",
    "print(sum)\n",
    "print(\"the sum is \", sum)"
   ]
  },
  {
   "cell_type": "code",
   "execution_count": null,
   "metadata": {},
   "outputs": [],
   "source": [
    "# Store input numbers\n",
    "num1 = input('Enter first number: ')\n",
    "num2 = input('Enter second number: ')\n",
    "\n",
    "# Add two numbers\n",
    "sum = float(num1) + float(num2)\n",
    "\n",
    "# Display the sum\n",
    "print('The sum of {0} and {1} is {2}'.format(num1, num2, sum))"
   ]
  },
  {
   "cell_type": "code",
   "execution_count": null,
   "metadata": {},
   "outputs": [],
   "source": [
    "# Python program to find the largest number among the three input numbers\n",
    "# change the values of num1, num2 and num3\n",
    "# for a different result\n",
    "num1 = 10\n",
    "num2 = 14\n",
    "num3 = 12\n",
    "\n",
    "# uncomment following lines to take three numbers from user\n",
    "#num1 = float(input(\"Enter first number: \"))\n",
    "#num2 = float(input(\"Enter second number: \"))\n",
    "#num3 = float(input(\"Enter third number: \"))\n",
    "\n",
    "if (num1 >= num2) and (num1 >= num3):\n",
    "    largest = num1\n",
    "elif (num2 >= num1) and (num2 >= num3):\n",
    "    largest = num2\n",
    "else:\n",
    "    largest = num3\n",
    "\n",
    "     \n",
    "print(\"The largest number between\",num1,\",\",num2,\"and\",num3,\"is\",largest)"
   ]
  },
  {
   "cell_type": "code",
   "execution_count": null,
   "metadata": {},
   "outputs": [],
   "source": [
    "# Python program to find the factorial of a number provided by the user.\n",
    "# uncomment to take input from the user\n",
    "num = int(input(\"Enter a number: \"))\n",
    "\n",
    "factorial = 1\n",
    "\n",
    "# check if the number is negative, positive or zero\n",
    "if num < 0:\n",
    "    print(\"Sorry, factorial does not exist for negative numbers\")\n",
    "elif num == 0:\n",
    "    print(\"The factorial of 0 is 1\")\n",
    "else:\n",
    "    for i in range(1, num + 1):\n",
    "        factorial = factorial * i\n",
    "        \n",
    "    print(\"The factorial of\",num,\"is\",factorial)"
   ]
  },
  {
   "cell_type": "markdown",
   "metadata": {},
   "source": [
    "## Transpose of a matrix"
   ]
  },
  {
   "cell_type": "code",
   "execution_count": null,
   "metadata": {},
   "outputs": [],
   "source": [
    "def transpose(A): \n",
    "    \n",
    "    B = []\n",
    "  \n",
    "    # iterate over list A to the length of an item  \n",
    "    for i in range(len(A[0])): \n",
    "        \n",
    "        row =[] \n",
    "        for item in A: \n",
    "            \n",
    "            # appending to new list with values and index positions \n",
    "            # i contains index position and item contains values \n",
    "            row.append(item[i]) \n",
    "            \n",
    "        B.append(row) \n",
    "        \n",
    "    return B "
   ]
  },
  {
   "cell_type": "code",
   "execution_count": null,
   "metadata": {},
   "outputs": [],
   "source": [
    "A = [[4, 5, 3, 9], [7, 1, 8, 2], [5, 6, 4, 7]] \n",
    "A"
   ]
  },
  {
   "cell_type": "code",
   "execution_count": null,
   "metadata": {},
   "outputs": [],
   "source": []
  }
 ],
 "metadata": {
  "kernelspec": {
   "display_name": "Python 3",
   "language": "python",
   "name": "python3"
  },
  "language_info": {
   "codemirror_mode": {
    "name": "ipython",
    "version": 3
   },
   "file_extension": ".py",
   "mimetype": "text/x-python",
   "name": "python",
   "nbconvert_exporter": "python",
   "pygments_lexer": "ipython3",
   "version": "3.7.3"
  },
  "latex_envs": {
   "LaTeX_envs_menu_present": true,
   "autoclose": false,
   "autocomplete": true,
   "bibliofile": "biblio.bib",
   "cite_by": "apalike",
   "current_citInitial": 1,
   "eqLabelWithNumbers": true,
   "eqNumInitial": 1,
   "hotkeys": {
    "equation": "Ctrl-E",
    "itemize": "Ctrl-I"
   },
   "labels_anchors": false,
   "latex_user_defs": false,
   "report_style_numbering": false,
   "user_envs_cfg": false
  },
  "toc": {
   "base_numbering": 1,
   "nav_menu": {},
   "number_sections": true,
   "sideBar": true,
   "skip_h1_title": false,
   "title_cell": "Table of Contents",
   "title_sidebar": "Contents",
   "toc_cell": false,
   "toc_position": {},
   "toc_section_display": true,
   "toc_window_display": false
  }
 },
 "nbformat": 4,
 "nbformat_minor": 4
}
