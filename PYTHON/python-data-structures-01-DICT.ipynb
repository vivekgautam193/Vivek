{
 "cells": [
  {
   "cell_type": "code",
   "execution_count": 1,
   "metadata": {},
   "outputs": [],
   "source": [
    "# empty dictionary\n",
    "my_dict = {}\n",
    "\n",
    "# dictionary with integer keys\n",
    "my_dict = {1: 'apple', 2: 'ball'}\n",
    "\n",
    "# dictionary with mixed keys\n",
    "my_dict = {'name': 'John', 1: [2, 4, 3]}\n",
    "\n",
    "# using dict()\n",
    "my_dict = dict({1:'apple', 2:'ball'})\n",
    "\n",
    "# from sequence having each item as a pair\n",
    "my_dict = dict([(1,'apple'), (2,'ball')])"
   ]
  },
  {
   "cell_type": "code",
   "execution_count": null,
   "metadata": {
    "collapsed": true,
    "jupyter": {
     "outputs_hidden": true
    }
   },
   "outputs": [],
   "source": []
  },
  {
   "cell_type": "code",
   "execution_count": 2,
   "metadata": {},
   "outputs": [
    {
     "name": "stdout",
     "output_type": "stream",
     "text": [
      "Jack\n",
      "29\n"
     ]
    }
   ],
   "source": [
    "# access elements from a dictionary\n",
    "# dictionary uses keys. Key can be used either inside square brackets \n",
    "# or with the get() method.\n",
    "\n",
    "my_dict = {'name1':'Jack', 'age': 26, 'name2':'bhupen', 'age': 29,}\n",
    "\n",
    "print(my_dict['name1'])\n",
    "# Trying to access keys which doesn't exist throws error\n",
    "#print(my_dict['name1'])\n",
    "\n",
    "print(my_dict.get('age'))\n",
    "\n",
    "my_dict.get('address')"
   ]
  },
  {
   "cell_type": "code",
   "execution_count": 2,
   "metadata": {},
   "outputs": [
    {
     "name": "stdout",
     "output_type": "stream",
     "text": [
      "{'name': 'Jack', 'age': 27}\n",
      "{'name': 'Jack', 'age': 27, 'address': 'Downtown'}\n"
     ]
    }
   ],
   "source": [
    "# change or add elements in a dictionary\n",
    "# If the key is already present, value gets updated, else a new \n",
    "# key: value pair is added to the dictionary.\n",
    "my_dict = {'name':'Jack', 'age': 26}\n",
    "\n",
    "# update value\n",
    "my_dict['age'] = 27\n",
    "\n",
    "print(my_dict)\n",
    "\n",
    "# add item\n",
    "my_dict['address'] = 'Downtown'  \n",
    "\n",
    "print(my_dict)"
   ]
  },
  {
   "cell_type": "code",
   "execution_count": 8,
   "metadata": {},
   "outputs": [
    {
     "name": "stdout",
     "output_type": "stream",
     "text": [
      "16\n",
      "(5, 25)\n"
     ]
    }
   ],
   "source": [
    "# delete or remove elements from a dictionary\n",
    "# create a dictionary\n",
    "squares = {1: 1,  2: 4, 3: 9, 4: 16, 5:25}  \n",
    "\n",
    "# remove a particular item\n",
    "print(squares.pop(4))  \n",
    "\n",
    "# remove an arbitrary item\n",
    "print(squares.popitem())\n",
    "\n",
    "# remove all items\n",
    "squares.clear()\n",
    "\n",
    "# delete the dictionary itself\n",
    "del squares"
   ]
  },
  {
   "cell_type": "code",
   "execution_count": 1,
   "metadata": {},
   "outputs": [],
   "source": [
    "# iterating\n",
    "stocks = {\n",
    "        'IBM': 146.48,\n",
    "        'MSFT': 44.11,\n",
    "        'CSCO': 25.54\n",
    "    }\n",
    "    \n",
    "# # print out all the keys\n",
    "# for c in stocks:\n",
    "#     print(c, stocks[c])\n"
   ]
  },
  {
   "cell_type": "code",
   "execution_count": null,
   "metadata": {},
   "outputs": [],
   "source": [
    "stocks"
   ]
  },
  {
   "cell_type": "code",
   "execution_count": 3,
   "metadata": {},
   "outputs": [
    {
     "data": {
      "text/plain": [
       "dict_items([('IBM', 146.48), ('MSFT', 44.11), ('CSCO', 25.54)])"
      ]
     },
     "execution_count": 3,
     "metadata": {},
     "output_type": "execute_result"
    }
   ],
   "source": [
    "stocks.items()"
   ]
  },
  {
   "cell_type": "code",
   "execution_count": 4,
   "metadata": {},
   "outputs": [
    {
     "data": {
      "text/plain": [
       "(dict_keys(['IBM', 'MSFT', 'CSCO']), dict_values([146.48, 44.11, 25.54]))"
      ]
     },
     "execution_count": 4,
     "metadata": {},
     "output_type": "execute_result"
    }
   ],
   "source": [
    "stocks.keys(), stocks.values()"
   ]
  },
  {
   "cell_type": "code",
   "execution_count": 5,
   "metadata": {},
   "outputs": [
    {
     "name": "stdout",
     "output_type": "stream",
     "text": [
      "IBM-->146.48\n",
      "MSFT-->44.11\n",
      "CSCO-->25.54\n"
     ]
    }
   ],
   "source": [
    "for key in stocks:\n",
    "    print(key, end= '-->')\n",
    "    print(stocks[key])"
   ]
  },
  {
   "cell_type": "code",
   "execution_count": 4,
   "metadata": {},
   "outputs": [
    {
     "name": "stdout",
     "output_type": "stream",
     "text": [
      "IBM 146.48\n",
      "MSFT 44.11\n",
      "CSCO 25.54\n"
     ]
    }
   ],
   "source": [
    "for dict_key in stocks:\n",
    "    print(dict_key, stocks[dict_key])"
   ]
  },
  {
   "cell_type": "code",
   "execution_count": null,
   "metadata": {},
   "outputs": [],
   "source": [
    "karr = stocks.keys()\n",
    "karr[0]"
   ]
  },
  {
   "cell_type": "code",
   "execution_count": 7,
   "metadata": {
    "collapsed": true,
    "jupyter": {
     "outputs_hidden": true
    }
   },
   "outputs": [],
   "source": [
    "profiles = {\n",
    "        'ID': 1000,\n",
    "        'IP': ['10.10.10.10', '10.10.10.10', '10.10.10.10']\n",
    "    }"
   ]
  },
  {
   "cell_type": "code",
   "execution_count": 8,
   "metadata": {},
   "outputs": [
    {
     "name": "stdout",
     "output_type": "stream",
     "text": [
      "10.10.10.10\n",
      "10.10.10.10\n",
      "10.10.10.10\n"
     ]
    }
   ],
   "source": [
    "for profile in profiles:\n",
    "    if profile == 'IP':\n",
    "        for each_IP in profiles[profile]:\n",
    "            print(each_IP)"
   ]
  },
  {
   "cell_type": "code",
   "execution_count": 4,
   "metadata": {
    "collapsed": true,
    "jupyter": {
     "outputs_hidden": true
    }
   },
   "outputs": [],
   "source": [
    "# nested dictionary\n",
    "users = {'user1': {'name': 'John',  'age': '27', 'sex': 'Male'},\n",
    "         'user2': {'name': 'Marie', 'age': '22', 'sex': 'Female'}}"
   ]
  },
  {
   "cell_type": "code",
   "execution_count": 8,
   "metadata": {},
   "outputs": [
    {
     "data": {
      "text/plain": [
       "{'user1': {'age': '27', 'name': 'John', 'sex': 'Male'},\n",
       " 'user2': {'age': '22', 'name': 'Marie', 'sex': 'Female'}}"
      ]
     },
     "execution_count": 8,
     "metadata": {},
     "output_type": "execute_result"
    }
   ],
   "source": [
    "users"
   ]
  },
  {
   "cell_type": "code",
   "execution_count": 9,
   "metadata": {},
   "outputs": [
    {
     "name": "stdout",
     "output_type": "stream",
     "text": [
      "John\n",
      "27\n",
      "Male\n"
     ]
    }
   ],
   "source": [
    "print(users['user1']['name'])\n",
    "print(users['user1']['age'])\n",
    "print(users['user1']['sex'])"
   ]
  },
  {
   "cell_type": "code",
   "execution_count": 10,
   "metadata": {},
   "outputs": [
    {
     "name": "stdout",
     "output_type": "stream",
     "text": [
      "Original List: \n",
      "[{'key': {'subkey': 1}}, {'key': {'subkey': 10}}, {'key': {'subkey': 5}}]\n"
     ]
    }
   ],
   "source": [
    "my_list = [{'key': {'subkey': 1}}, {'key': {'subkey': 10}}, {'key': {'subkey': 5}}]\n",
    "print(\"Original List: \")\n",
    "print(my_list)\n"
   ]
  },
  {
   "cell_type": "code",
   "execution_count": 11,
   "metadata": {},
   "outputs": [
    {
     "name": "stdout",
     "output_type": "stream",
     "text": [
      "Sorted List: \n",
      "[{'key': {'subkey': 10}}, {'key': {'subkey': 5}}, {'key': {'subkey': 1}}]\n"
     ]
    }
   ],
   "source": [
    "my_list.sort(key=lambda e: e['key']['subkey'], reverse=True)\n",
    "print(\"Sorted List: \")\n",
    "print(my_list)"
   ]
  },
  {
   "cell_type": "markdown",
   "metadata": {
    "jupyter": {
     "outputs_hidden": true
    }
   },
   "source": [
    "## default dict\n",
    "\n",
    "Using defaultdict in Python\n",
    "\n",
    "Dictionaries are a convenient way to store data for later retrieval by name (key). Keys must be unique, immutable objects, and are typically strings. The values in a dictionary can be anything. For many applications the values are simple types such as integers and strings.\n",
    "\n",
    "It gets more interesting when the values in a dictionary are collections (lists, dicts, etc.) In this case, the value (an empty list or dict) must be initialized the first time a given key is used. While this is relatively easy to do manually, the defaultdict type automates and simplifies these kinds of operations.\n",
    "\n",
    "A defaultdict works exactly like a normal dict, but it is initialized with a function (“default factory”) that takes no arguments and provides the default value for a nonexistent key.\n",
    "\n",
    "A defaultdict will never raise a KeyError. Any key that does not exist gets the value returned by the default factory."
   ]
  },
  {
   "cell_type": "code",
   "execution_count": 1,
   "metadata": {},
   "outputs": [],
   "source": [
    "from collections import defaultdict"
   ]
  },
  {
   "cell_type": "code",
   "execution_count": 2,
   "metadata": {},
   "outputs": [],
   "source": [
    "ice_cream = defaultdict(lambda: 'Vanilla')"
   ]
  },
  {
   "cell_type": "code",
   "execution_count": 3,
   "metadata": {},
   "outputs": [
    {
     "data": {
      "text/plain": [
       "defaultdict(<function __main__.<lambda>()>, {})"
      ]
     },
     "execution_count": 3,
     "metadata": {},
     "output_type": "execute_result"
    }
   ],
   "source": [
    "ice_cream"
   ]
  },
  {
   "cell_type": "code",
   "execution_count": 4,
   "metadata": {},
   "outputs": [],
   "source": [
    "ice_cream['Bharti'] = 'Chunky Monkey'\n",
    "ice_cream['Imran']  = 'Butter Pecan'\n",
    "ice_cream['Steve']  = 'Chocolate'"
   ]
  },
  {
   "cell_type": "code",
   "execution_count": 5,
   "metadata": {},
   "outputs": [
    {
     "data": {
      "text/plain": [
       "defaultdict(<function __main__.<lambda>()>,\n",
       "            {'Bharti': 'Chunky Monkey',\n",
       "             'Imran': 'Butter Pecan',\n",
       "             'Steve': 'Chocolate'})"
      ]
     },
     "execution_count": 5,
     "metadata": {},
     "output_type": "execute_result"
    }
   ],
   "source": [
    "ice_cream"
   ]
  },
  {
   "cell_type": "markdown",
   "metadata": {},
   "source": [
    "In the next example, we start with a list of states and cities. We want to build a dictionary where the keys are the state abbreviations and the values are lists of all cities for that state. To build this dictionary of lists, we use a defaultdict with a default factory of list. A new list is created for each new key."
   ]
  },
  {
   "cell_type": "code",
   "execution_count": 6,
   "metadata": {},
   "outputs": [],
   "source": [
    "city_list = [('WB', 'Kolkata'),   ('WB','Durgapur'),   ('WB','Asansol'), \n",
    "             ('KA', 'Bangalore'), ('KA', 'Mangalore'), ('KA', 'Hasan'), \n",
    "             ('KL', 'Palam'), \n",
    "             ('MH', 'Mumbai'),    ('MH', 'Nasik'),     ('MH', 'Nagpur')]"
   ]
  },
  {
   "cell_type": "code",
   "execution_count": 24,
   "metadata": {},
   "outputs": [],
   "source": [
    "cities_by_state = defaultdict(list)"
   ]
  },
  {
   "cell_type": "code",
   "execution_count": 25,
   "metadata": {},
   "outputs": [],
   "source": [
    "for state, city in city_list:\n",
    "    cities_by_state[state].append(city)"
   ]
  },
  {
   "cell_type": "code",
   "execution_count": 26,
   "metadata": {},
   "outputs": [],
   "source": [
    "from lolviz import *"
   ]
  },
  {
   "cell_type": "code",
   "execution_count": 27,
   "metadata": {},
   "outputs": [
    {
     "data": {
      "image/svg+xml": [
       "<?xml version=\"1.0\" encoding=\"UTF-8\" standalone=\"no\"?>\r\n",
       "<!DOCTYPE svg PUBLIC \"-//W3C//DTD SVG 1.1//EN\"\r\n",
       " \"http://www.w3.org/Graphics/SVG/1.1/DTD/svg11.dtd\">\r\n",
       "<!-- Generated by graphviz version 2.38.0 (20140413.2041)\r\n",
       " -->\r\n",
       "<!-- Title: G Pages: 1 -->\r\n",
       "<svg width=\"131pt\" height=\"391pt\"\r\n",
       " viewBox=\"0.00 0.00 131.00 391.00\" xmlns=\"http://www.w3.org/2000/svg\" xmlns:xlink=\"http://www.w3.org/1999/xlink\">\r\n",
       "<g id=\"graph0\" class=\"graph\" transform=\"scale(1 1) rotate(0) translate(4 387)\">\r\n",
       "<title>G</title>\r\n",
       "<polygon fill=\"white\" stroke=\"none\" points=\"-4,4 -4,-387 127,-387 127,4 -4,4\"/>\r\n",
       "<!-- node1445673073672 -->\r\n",
       "<g id=\"node1\" class=\"node\"><title>node1445673073672</title>\r\n",
       "<polygon fill=\"#cfe2d4\" stroke=\"#444443\" stroke-width=\"0.5\" points=\"14,-272 8.88178e-016,-272 8.88178e-016,-110 14,-110 14,-272\"/>\r\n",
       "<polygon fill=\"#cfe2d4\" stroke=\"none\" points=\"1,-255 1,-271 13,-271 13,-255 1,-255\"/>\r\n",
       "<polyline fill=\"none\" stroke=\"#444443\" points=\"1,-255 13,-255 \"/>\r\n",
       "<text text-anchor=\"start\" x=\"4\" y=\"-260.8\" font-family=\"Helvetica,sans-Serif\" font-size=\"9.00\" fill=\"#444443\">0</text>\r\n",
       "<polygon fill=\"#cfe2d4\" stroke=\"none\" points=\"1,-239 1,-255 13,-255 13,-239 1,-239\"/>\r\n",
       "<polyline fill=\"none\" stroke=\"#444443\" points=\"1,-239 13,-239 \"/>\r\n",
       "<text text-anchor=\"start\" x=\"4\" y=\"-244.8\" font-family=\"Helvetica,sans-Serif\" font-size=\"9.00\" fill=\"#444443\">1</text>\r\n",
       "<polygon fill=\"#cfe2d4\" stroke=\"none\" points=\"1,-223 1,-239 13,-239 13,-223 1,-223\"/>\r\n",
       "<polyline fill=\"none\" stroke=\"#444443\" points=\"1,-223 13,-223 \"/>\r\n",
       "<text text-anchor=\"start\" x=\"4\" y=\"-228.8\" font-family=\"Helvetica,sans-Serif\" font-size=\"9.00\" fill=\"#444443\">2</text>\r\n",
       "<polygon fill=\"#cfe2d4\" stroke=\"none\" points=\"1,-207 1,-223 13,-223 13,-207 1,-207\"/>\r\n",
       "<polyline fill=\"none\" stroke=\"#444443\" points=\"1,-207 13,-207 \"/>\r\n",
       "<text text-anchor=\"start\" x=\"4\" y=\"-212.8\" font-family=\"Helvetica,sans-Serif\" font-size=\"9.00\" fill=\"#444443\">3</text>\r\n",
       "<polygon fill=\"#cfe2d4\" stroke=\"none\" points=\"1,-191 1,-207 13,-207 13,-191 1,-191\"/>\r\n",
       "<polyline fill=\"none\" stroke=\"#444443\" points=\"1,-191 13,-191 \"/>\r\n",
       "<text text-anchor=\"start\" x=\"4\" y=\"-196.8\" font-family=\"Helvetica,sans-Serif\" font-size=\"9.00\" fill=\"#444443\">4</text>\r\n",
       "<polygon fill=\"#cfe2d4\" stroke=\"none\" points=\"1,-175 1,-191 13,-191 13,-175 1,-175\"/>\r\n",
       "<polyline fill=\"none\" stroke=\"#444443\" points=\"1,-175 13,-175 \"/>\r\n",
       "<text text-anchor=\"start\" x=\"4\" y=\"-180.8\" font-family=\"Helvetica,sans-Serif\" font-size=\"9.00\" fill=\"#444443\">5</text>\r\n",
       "<polygon fill=\"#cfe2d4\" stroke=\"none\" points=\"1,-159 1,-175 13,-175 13,-159 1,-159\"/>\r\n",
       "<polyline fill=\"none\" stroke=\"#444443\" points=\"1,-159 13,-159 \"/>\r\n",
       "<text text-anchor=\"start\" x=\"4\" y=\"-164.8\" font-family=\"Helvetica,sans-Serif\" font-size=\"9.00\" fill=\"#444443\">6</text>\r\n",
       "<polygon fill=\"#cfe2d4\" stroke=\"none\" points=\"1,-143 1,-159 13,-159 13,-143 1,-143\"/>\r\n",
       "<polyline fill=\"none\" stroke=\"#444443\" points=\"1,-143 13,-143 \"/>\r\n",
       "<text text-anchor=\"start\" x=\"4\" y=\"-148.8\" font-family=\"Helvetica,sans-Serif\" font-size=\"9.00\" fill=\"#444443\">7</text>\r\n",
       "<polygon fill=\"#cfe2d4\" stroke=\"none\" points=\"1,-127 1,-143 13,-143 13,-127 1,-127\"/>\r\n",
       "<polyline fill=\"none\" stroke=\"#444443\" points=\"1,-127 13,-127 \"/>\r\n",
       "<text text-anchor=\"start\" x=\"4\" y=\"-132.8\" font-family=\"Helvetica,sans-Serif\" font-size=\"9.00\" fill=\"#444443\">8</text>\r\n",
       "<polygon fill=\"#cfe2d4\" stroke=\"none\" points=\"1,-111 1,-127 13,-127 13,-111 1,-111\"/>\r\n",
       "<text text-anchor=\"start\" x=\"4\" y=\"-116.8\" font-family=\"Helvetica,sans-Serif\" font-size=\"9.00\" fill=\"#444443\">9</text>\r\n",
       "</g>\r\n",
       "<!-- node1445672712328 -->\r\n",
       "<g id=\"node2\" class=\"node\"><title>node1445672712328</title>\r\n",
       "<polygon fill=\"none\" stroke=\"black\" stroke-width=\"0.5\" points=\"118,-383 41,-383 41,-351 118,-351 118,-383\"/>\r\n",
       "<polygon fill=\"#fefecd\" stroke=\"none\" points=\"42.5,-370 42.5,-382 72.5,-382 72.5,-370 42.5,-370\"/>\r\n",
       "<polyline fill=\"none\" stroke=\"black\" points=\"42.5,-370 72.5,-370 72.5,-382 \"/>\r\n",
       "<text text-anchor=\"start\" x=\"54.5\" y=\"-373.8\" font-family=\"Helvetica,sans-Serif\" font-size=\"9.00\" fill=\"#444443\">0</text>\r\n",
       "<polygon fill=\"#fefecd\" stroke=\"none\" points=\"72.5,-370 72.5,-382 117.5,-382 117.5,-370 72.5,-370\"/>\r\n",
       "<polyline fill=\"none\" stroke=\"black\" points=\"72.5,-370 117.5,-370 \"/>\r\n",
       "<text text-anchor=\"start\" x=\"92\" y=\"-373.8\" font-family=\"Helvetica,sans-Serif\" font-size=\"9.00\" fill=\"#444443\">1</text>\r\n",
       "<polygon fill=\"#fefecd\" stroke=\"none\" points=\"42.5,-352 42.5,-370 72.5,-370 72.5,-352 42.5,-352\"/>\r\n",
       "<polyline fill=\"none\" stroke=\"black\" points=\"72.5,-352 72.5,-370 \"/>\r\n",
       "<text text-anchor=\"start\" x=\"45.5\" y=\"-358.2\" font-family=\"Helvetica,sans-Serif\" font-size=\"11.00\" fill=\"#444443\">&#39;WB&#39;</text>\r\n",
       "<polygon fill=\"#fefecd\" stroke=\"none\" points=\"72.5,-352 72.5,-370 117.5,-370 117.5,-352 72.5,-352\"/>\r\n",
       "<text text-anchor=\"start\" x=\"74.5\" y=\"-358.2\" font-family=\"Helvetica,sans-Serif\" font-size=\"11.00\" fill=\"#444443\">&#39;Kolkata&#39;</text>\r\n",
       "</g>\r\n",
       "<!-- node1445673073672&#45;&gt;node1445672712328 -->\r\n",
       "<g id=\"edge1\" class=\"edge\"><title>node1445673073672:0&#45;&gt;node1445672712328:w</title>\r\n",
       "<path fill=\"none\" stroke=\"#444443\" stroke-width=\"0.5\" d=\"M7,-272C7,-292.918 15.954,-358.111 35.4581,-366.178\"/>\r\n",
       "<polygon fill=\"#444443\" stroke=\"#444443\" stroke-width=\"0.5\" points=\"35.3012,-367.575 39.5,-367 35.8591,-364.831 35.3012,-367.575\"/>\r\n",
       "</g>\r\n",
       "<!-- node1445672726664 -->\r\n",
       "<g id=\"node3\" class=\"node\"><title>node1445672726664</title>\r\n",
       "<polygon fill=\"none\" stroke=\"black\" stroke-width=\"0.5\" points=\"123,-344 36,-344 36,-312 123,-312 123,-344\"/>\r\n",
       "<polygon fill=\"#fefecd\" stroke=\"none\" points=\"37.5,-331 37.5,-343 67.5,-343 67.5,-331 37.5,-331\"/>\r\n",
       "<polyline fill=\"none\" stroke=\"black\" points=\"37.5,-331 67.5,-331 67.5,-343 \"/>\r\n",
       "<text text-anchor=\"start\" x=\"49.5\" y=\"-334.8\" font-family=\"Helvetica,sans-Serif\" font-size=\"9.00\" fill=\"#444443\">0</text>\r\n",
       "<polygon fill=\"#fefecd\" stroke=\"none\" points=\"67.5,-331 67.5,-343 122.5,-343 122.5,-331 67.5,-331\"/>\r\n",
       "<polyline fill=\"none\" stroke=\"black\" points=\"67.5,-331 122.5,-331 \"/>\r\n",
       "<text text-anchor=\"start\" x=\"92\" y=\"-334.8\" font-family=\"Helvetica,sans-Serif\" font-size=\"9.00\" fill=\"#444443\">1</text>\r\n",
       "<polygon fill=\"#fefecd\" stroke=\"none\" points=\"37.5,-313 37.5,-331 67.5,-331 67.5,-313 37.5,-313\"/>\r\n",
       "<polyline fill=\"none\" stroke=\"black\" points=\"67.5,-313 67.5,-331 \"/>\r\n",
       "<text text-anchor=\"start\" x=\"40.5\" y=\"-319.2\" font-family=\"Helvetica,sans-Serif\" font-size=\"11.00\" fill=\"#444443\">&#39;WB&#39;</text>\r\n",
       "<polygon fill=\"#fefecd\" stroke=\"none\" points=\"67.5,-313 67.5,-331 122.5,-331 122.5,-313 67.5,-313\"/>\r\n",
       "<text text-anchor=\"start\" x=\"69.5\" y=\"-319.2\" font-family=\"Helvetica,sans-Serif\" font-size=\"11.00\" fill=\"#444443\">&#39;Durgapur&#39;</text>\r\n",
       "</g>\r\n",
       "<!-- node1445673073672&#45;&gt;node1445672726664 -->\r\n",
       "<g id=\"edge2\" class=\"edge\"><title>node1445673073672:1&#45;&gt;node1445672726664:w</title>\r\n",
       "<path fill=\"none\" stroke=\"#444443\" stroke-width=\"0.5\" d=\"M14,-247C49.7013,-247 3.05081,-321.189 31.675,-327.564\"/>\r\n",
       "<polygon fill=\"#444443\" stroke=\"#444443\" stroke-width=\"0.5\" points=\"31.8798,-328.992 36,-328 32.1605,-326.206 31.8798,-328.992\"/>\r\n",
       "</g>\r\n",
       "<!-- node1445672682312 -->\r\n",
       "<g id=\"node4\" class=\"node\"><title>node1445672682312</title>\r\n",
       "<polygon fill=\"none\" stroke=\"black\" stroke-width=\"0.5\" points=\"119.5,-305 39.5,-305 39.5,-273 119.5,-273 119.5,-305\"/>\r\n",
       "<polygon fill=\"#fefecd\" stroke=\"none\" points=\"40.5,-292 40.5,-304 70.5,-304 70.5,-292 40.5,-292\"/>\r\n",
       "<polyline fill=\"none\" stroke=\"black\" points=\"40.5,-292 70.5,-292 70.5,-304 \"/>\r\n",
       "<text text-anchor=\"start\" x=\"52.5\" y=\"-295.8\" font-family=\"Helvetica,sans-Serif\" font-size=\"9.00\" fill=\"#444443\">0</text>\r\n",
       "<polygon fill=\"#fefecd\" stroke=\"none\" points=\"70.5,-292 70.5,-304 118.5,-304 118.5,-292 70.5,-292\"/>\r\n",
       "<polyline fill=\"none\" stroke=\"black\" points=\"70.5,-292 118.5,-292 \"/>\r\n",
       "<text text-anchor=\"start\" x=\"91.5\" y=\"-295.8\" font-family=\"Helvetica,sans-Serif\" font-size=\"9.00\" fill=\"#444443\">1</text>\r\n",
       "<polygon fill=\"#fefecd\" stroke=\"none\" points=\"40.5,-274 40.5,-292 70.5,-292 70.5,-274 40.5,-274\"/>\r\n",
       "<polyline fill=\"none\" stroke=\"black\" points=\"70.5,-274 70.5,-292 \"/>\r\n",
       "<text text-anchor=\"start\" x=\"43.5\" y=\"-280.2\" font-family=\"Helvetica,sans-Serif\" font-size=\"11.00\" fill=\"#444443\">&#39;WB&#39;</text>\r\n",
       "<polygon fill=\"#fefecd\" stroke=\"none\" points=\"70.5,-274 70.5,-292 118.5,-292 118.5,-274 70.5,-274\"/>\r\n",
       "<text text-anchor=\"start\" x=\"72.5\" y=\"-280.2\" font-family=\"Helvetica,sans-Serif\" font-size=\"11.00\" fill=\"#444443\">&#39;Asansol&#39;</text>\r\n",
       "</g>\r\n",
       "<!-- node1445673073672&#45;&gt;node1445672682312 -->\r\n",
       "<g id=\"edge3\" class=\"edge\"><title>node1445673073672:2&#45;&gt;node1445672682312:w</title>\r\n",
       "<path fill=\"none\" stroke=\"#444443\" stroke-width=\"0.5\" d=\"M14,-231C40.4529,-231 13.7806,-282.83 34.4229,-288.499\"/>\r\n",
       "<polygon fill=\"#444443\" stroke=\"#444443\" stroke-width=\"0.5\" points=\"34.359,-289.901 38.5,-289 34.7008,-287.122 34.359,-289.901\"/>\r\n",
       "</g>\r\n",
       "<!-- node1445672701128 -->\r\n",
       "<g id=\"node5\" class=\"node\"><title>node1445672701128</title>\r\n",
       "<polygon fill=\"none\" stroke=\"black\" stroke-width=\"0.5\" points=\"122.5,-266 36.5,-266 36.5,-234 122.5,-234 122.5,-266\"/>\r\n",
       "<polygon fill=\"#fefecd\" stroke=\"none\" points=\"37.5,-253 37.5,-265 62.5,-265 62.5,-253 37.5,-253\"/>\r\n",
       "<polyline fill=\"none\" stroke=\"black\" points=\"37.5,-253 62.5,-253 62.5,-265 \"/>\r\n",
       "<text text-anchor=\"start\" x=\"47\" y=\"-256.8\" font-family=\"Helvetica,sans-Serif\" font-size=\"9.00\" fill=\"#444443\">0</text>\r\n",
       "<polygon fill=\"#fefecd\" stroke=\"none\" points=\"62.5,-253 62.5,-265 121.5,-265 121.5,-253 62.5,-253\"/>\r\n",
       "<polyline fill=\"none\" stroke=\"black\" points=\"62.5,-253 121.5,-253 \"/>\r\n",
       "<text text-anchor=\"start\" x=\"89\" y=\"-256.8\" font-family=\"Helvetica,sans-Serif\" font-size=\"9.00\" fill=\"#444443\">1</text>\r\n",
       "<polygon fill=\"#fefecd\" stroke=\"none\" points=\"37.5,-235 37.5,-253 62.5,-253 62.5,-235 37.5,-235\"/>\r\n",
       "<polyline fill=\"none\" stroke=\"black\" points=\"62.5,-235 62.5,-253 \"/>\r\n",
       "<text text-anchor=\"start\" x=\"40.5\" y=\"-241.2\" font-family=\"Helvetica,sans-Serif\" font-size=\"11.00\" fill=\"#444443\">&#39;KA&#39;</text>\r\n",
       "<polygon fill=\"#fefecd\" stroke=\"none\" points=\"62.5,-235 62.5,-253 121.5,-253 121.5,-235 62.5,-235\"/>\r\n",
       "<text text-anchor=\"start\" x=\"64.5\" y=\"-241.2\" font-family=\"Helvetica,sans-Serif\" font-size=\"11.00\" fill=\"#444443\">&#39;Bangalore&#39;</text>\r\n",
       "</g>\r\n",
       "<!-- node1445673073672&#45;&gt;node1445672701128 -->\r\n",
       "<g id=\"edge4\" class=\"edge\"><title>node1445673073672:3&#45;&gt;node1445672701128:w</title>\r\n",
       "<path fill=\"none\" stroke=\"#444443\" stroke-width=\"0.5\" d=\"M14,-215C30.7944,-215 19.9166,-244.243 31.9549,-249.269\"/>\r\n",
       "<polygon fill=\"#444443\" stroke=\"#444443\" stroke-width=\"0.5\" points=\"31.8148,-250.666 36,-250 32.3128,-247.911 31.8148,-250.666\"/>\r\n",
       "</g>\r\n",
       "<!-- node1445672697992 -->\r\n",
       "<g id=\"node6\" class=\"node\"><title>node1445672697992</title>\r\n",
       "<polygon fill=\"none\" stroke=\"black\" stroke-width=\"0.5\" points=\"122.5,-227 36.5,-227 36.5,-195 122.5,-195 122.5,-227\"/>\r\n",
       "<polygon fill=\"#fefecd\" stroke=\"none\" points=\"37.5,-214 37.5,-226 62.5,-226 62.5,-214 37.5,-214\"/>\r\n",
       "<polyline fill=\"none\" stroke=\"black\" points=\"37.5,-214 62.5,-214 62.5,-226 \"/>\r\n",
       "<text text-anchor=\"start\" x=\"47\" y=\"-217.8\" font-family=\"Helvetica,sans-Serif\" font-size=\"9.00\" fill=\"#444443\">0</text>\r\n",
       "<polygon fill=\"#fefecd\" stroke=\"none\" points=\"62.5,-214 62.5,-226 121.5,-226 121.5,-214 62.5,-214\"/>\r\n",
       "<polyline fill=\"none\" stroke=\"black\" points=\"62.5,-214 121.5,-214 \"/>\r\n",
       "<text text-anchor=\"start\" x=\"89\" y=\"-217.8\" font-family=\"Helvetica,sans-Serif\" font-size=\"9.00\" fill=\"#444443\">1</text>\r\n",
       "<polygon fill=\"#fefecd\" stroke=\"none\" points=\"37.5,-196 37.5,-214 62.5,-214 62.5,-196 37.5,-196\"/>\r\n",
       "<polyline fill=\"none\" stroke=\"black\" points=\"62.5,-196 62.5,-214 \"/>\r\n",
       "<text text-anchor=\"start\" x=\"40.5\" y=\"-202.2\" font-family=\"Helvetica,sans-Serif\" font-size=\"11.00\" fill=\"#444443\">&#39;KA&#39;</text>\r\n",
       "<polygon fill=\"#fefecd\" stroke=\"none\" points=\"62.5,-196 62.5,-214 121.5,-214 121.5,-196 62.5,-196\"/>\r\n",
       "<text text-anchor=\"start\" x=\"64.5\" y=\"-202.2\" font-family=\"Helvetica,sans-Serif\" font-size=\"11.00\" fill=\"#444443\">&#39;Mangalore&#39;</text>\r\n",
       "</g>\r\n",
       "<!-- node1445673073672&#45;&gt;node1445672697992 -->\r\n",
       "<g id=\"edge5\" class=\"edge\"><title>node1445673073672:4&#45;&gt;node1445672697992:w</title>\r\n",
       "<path fill=\"none\" stroke=\"#444443\" stroke-width=\"0.5\" d=\"M14,-199C23.5715,-199 24.714,-207.862 31.9149,-210.355\"/>\r\n",
       "<polygon fill=\"#444443\" stroke=\"#444443\" stroke-width=\"0.5\" points=\"31.8305,-211.759 36,-211 32.2674,-208.993 31.8305,-211.759\"/>\r\n",
       "</g>\r\n",
       "<!-- node1445672533640 -->\r\n",
       "<g id=\"node7\" class=\"node\"><title>node1445672533640</title>\r\n",
       "<polygon fill=\"none\" stroke=\"black\" stroke-width=\"0.5\" points=\"113.5,-188 45.5,-188 45.5,-156 113.5,-156 113.5,-188\"/>\r\n",
       "<polygon fill=\"#fefecd\" stroke=\"none\" points=\"46.5,-175 46.5,-187 71.5,-187 71.5,-175 46.5,-175\"/>\r\n",
       "<polyline fill=\"none\" stroke=\"black\" points=\"46.5,-175 71.5,-175 71.5,-187 \"/>\r\n",
       "<text text-anchor=\"start\" x=\"56\" y=\"-178.8\" font-family=\"Helvetica,sans-Serif\" font-size=\"9.00\" fill=\"#444443\">0</text>\r\n",
       "<polygon fill=\"#fefecd\" stroke=\"none\" points=\"71.5,-175 71.5,-187 112.5,-187 112.5,-175 71.5,-175\"/>\r\n",
       "<polyline fill=\"none\" stroke=\"black\" points=\"71.5,-175 112.5,-175 \"/>\r\n",
       "<text text-anchor=\"start\" x=\"89\" y=\"-178.8\" font-family=\"Helvetica,sans-Serif\" font-size=\"9.00\" fill=\"#444443\">1</text>\r\n",
       "<polygon fill=\"#fefecd\" stroke=\"none\" points=\"46.5,-157 46.5,-175 71.5,-175 71.5,-157 46.5,-157\"/>\r\n",
       "<polyline fill=\"none\" stroke=\"black\" points=\"71.5,-157 71.5,-175 \"/>\r\n",
       "<text text-anchor=\"start\" x=\"49.5\" y=\"-163.2\" font-family=\"Helvetica,sans-Serif\" font-size=\"11.00\" fill=\"#444443\">&#39;KA&#39;</text>\r\n",
       "<polygon fill=\"#fefecd\" stroke=\"none\" points=\"71.5,-157 71.5,-175 112.5,-175 112.5,-157 71.5,-157\"/>\r\n",
       "<text text-anchor=\"start\" x=\"73.5\" y=\"-163.2\" font-family=\"Helvetica,sans-Serif\" font-size=\"11.00\" fill=\"#444443\">&#39;Hasan&#39;</text>\r\n",
       "</g>\r\n",
       "<!-- node1445673073672&#45;&gt;node1445672533640 -->\r\n",
       "<g id=\"edge6\" class=\"edge\"><title>node1445673073672:5&#45;&gt;node1445672533640:w</title>\r\n",
       "<path fill=\"none\" stroke=\"#444443\" stroke-width=\"0.5\" d=\"M14,-183C26.9467,-183 29.6173,-174.121 40.4767,-172.317\"/>\r\n",
       "<polygon fill=\"#444443\" stroke=\"#444443\" stroke-width=\"0.5\" points=\"40.6225,-173.71 44.5,-172 40.4023,-170.919 40.6225,-173.71\"/>\r\n",
       "</g>\r\n",
       "<!-- node1445672673864 -->\r\n",
       "<g id=\"node8\" class=\"node\"><title>node1445672673864</title>\r\n",
       "<polygon fill=\"none\" stroke=\"black\" stroke-width=\"0.5\" points=\"113.5,-149 45.5,-149 45.5,-117 113.5,-117 113.5,-149\"/>\r\n",
       "<polygon fill=\"#fefecd\" stroke=\"none\" points=\"46.5,-136 46.5,-148 71.5,-148 71.5,-136 46.5,-136\"/>\r\n",
       "<polyline fill=\"none\" stroke=\"black\" points=\"46.5,-136 71.5,-136 71.5,-148 \"/>\r\n",
       "<text text-anchor=\"start\" x=\"56\" y=\"-139.8\" font-family=\"Helvetica,sans-Serif\" font-size=\"9.00\" fill=\"#444443\">0</text>\r\n",
       "<polygon fill=\"#fefecd\" stroke=\"none\" points=\"71.5,-136 71.5,-148 112.5,-148 112.5,-136 71.5,-136\"/>\r\n",
       "<polyline fill=\"none\" stroke=\"black\" points=\"71.5,-136 112.5,-136 \"/>\r\n",
       "<text text-anchor=\"start\" x=\"89\" y=\"-139.8\" font-family=\"Helvetica,sans-Serif\" font-size=\"9.00\" fill=\"#444443\">1</text>\r\n",
       "<polygon fill=\"#fefecd\" stroke=\"none\" points=\"46.5,-118 46.5,-136 71.5,-136 71.5,-118 46.5,-118\"/>\r\n",
       "<polyline fill=\"none\" stroke=\"black\" points=\"71.5,-118 71.5,-136 \"/>\r\n",
       "<text text-anchor=\"start\" x=\"49.5\" y=\"-124.2\" font-family=\"Helvetica,sans-Serif\" font-size=\"11.00\" fill=\"#444443\">&#39;KL&#39;</text>\r\n",
       "<polygon fill=\"#fefecd\" stroke=\"none\" points=\"71.5,-118 71.5,-136 112.5,-136 112.5,-118 71.5,-118\"/>\r\n",
       "<text text-anchor=\"start\" x=\"73.5\" y=\"-124.2\" font-family=\"Helvetica,sans-Serif\" font-size=\"11.00\" fill=\"#444443\">&#39;Palam&#39;</text>\r\n",
       "</g>\r\n",
       "<!-- node1445673073672&#45;&gt;node1445672673864 -->\r\n",
       "<g id=\"edge7\" class=\"edge\"><title>node1445673073672:6&#45;&gt;node1445672673864:w</title>\r\n",
       "<path fill=\"none\" stroke=\"#444443\" stroke-width=\"0.5\" d=\"M14,-167C32.7143,-167 25.5924,-138.105 40.2698,-133.59\"/>\r\n",
       "<polygon fill=\"#444443\" stroke=\"#444443\" stroke-width=\"0.5\" points=\"40.7318,-134.939 44.5,-133 40.3449,-132.166 40.7318,-134.939\"/>\r\n",
       "</g>\r\n",
       "<!-- node1445672682696 -->\r\n",
       "<g id=\"node9\" class=\"node\"><title>node1445672682696</title>\r\n",
       "<polygon fill=\"none\" stroke=\"black\" stroke-width=\"0.5\" points=\"117.5,-110 41.5,-110 41.5,-78 117.5,-78 117.5,-110\"/>\r\n",
       "<polygon fill=\"#fefecd\" stroke=\"none\" points=\"42.5,-97 42.5,-109 69.5,-109 69.5,-97 42.5,-97\"/>\r\n",
       "<polyline fill=\"none\" stroke=\"black\" points=\"42.5,-97 69.5,-97 69.5,-109 \"/>\r\n",
       "<text text-anchor=\"start\" x=\"53\" y=\"-100.8\" font-family=\"Helvetica,sans-Serif\" font-size=\"9.00\" fill=\"#444443\">0</text>\r\n",
       "<polygon fill=\"#fefecd\" stroke=\"none\" points=\"69.5,-97 69.5,-109 116.5,-109 116.5,-97 69.5,-97\"/>\r\n",
       "<polyline fill=\"none\" stroke=\"black\" points=\"69.5,-97 116.5,-97 \"/>\r\n",
       "<text text-anchor=\"start\" x=\"90\" y=\"-100.8\" font-family=\"Helvetica,sans-Serif\" font-size=\"9.00\" fill=\"#444443\">1</text>\r\n",
       "<polygon fill=\"#fefecd\" stroke=\"none\" points=\"42.5,-79 42.5,-97 69.5,-97 69.5,-79 42.5,-79\"/>\r\n",
       "<polyline fill=\"none\" stroke=\"black\" points=\"69.5,-79 69.5,-97 \"/>\r\n",
       "<text text-anchor=\"start\" x=\"45.5\" y=\"-85.2\" font-family=\"Helvetica,sans-Serif\" font-size=\"11.00\" fill=\"#444443\">&#39;MH&#39;</text>\r\n",
       "<polygon fill=\"#fefecd\" stroke=\"none\" points=\"69.5,-79 69.5,-97 116.5,-97 116.5,-79 69.5,-79\"/>\r\n",
       "<text text-anchor=\"start\" x=\"71.5\" y=\"-85.2\" font-family=\"Helvetica,sans-Serif\" font-size=\"11.00\" fill=\"#444443\">&#39;Mumbai&#39;</text>\r\n",
       "</g>\r\n",
       "<!-- node1445673073672&#45;&gt;node1445672682696 -->\r\n",
       "<g id=\"edge8\" class=\"edge\"><title>node1445673073672:7&#45;&gt;node1445672682696:w</title>\r\n",
       "<path fill=\"none\" stroke=\"#444443\" stroke-width=\"0.5\" d=\"M14,-151C40.4095,-151 15.6041,-100.064 36.412,-94.4928\"/>\r\n",
       "<polygon fill=\"#444443\" stroke=\"#444443\" stroke-width=\"0.5\" points=\"36.6963,-95.8687 40.5,-94 36.3612,-93.0888 36.6963,-95.8687\"/>\r\n",
       "</g>\r\n",
       "<!-- node1445672670280 -->\r\n",
       "<g id=\"node10\" class=\"node\"><title>node1445672670280</title>\r\n",
       "<polygon fill=\"none\" stroke=\"black\" stroke-width=\"0.5\" points=\"112,-71 47,-71 47,-39 112,-39 112,-71\"/>\r\n",
       "<polygon fill=\"#fefecd\" stroke=\"none\" points=\"48.5,-58 48.5,-70 75.5,-70 75.5,-58 48.5,-58\"/>\r\n",
       "<polyline fill=\"none\" stroke=\"black\" points=\"48.5,-58 75.5,-58 75.5,-70 \"/>\r\n",
       "<text text-anchor=\"start\" x=\"59\" y=\"-61.8\" font-family=\"Helvetica,sans-Serif\" font-size=\"9.00\" fill=\"#444443\">0</text>\r\n",
       "<polygon fill=\"#fefecd\" stroke=\"none\" points=\"75.5,-58 75.5,-70 111.5,-70 111.5,-58 75.5,-58\"/>\r\n",
       "<polyline fill=\"none\" stroke=\"black\" points=\"75.5,-58 111.5,-58 \"/>\r\n",
       "<text text-anchor=\"start\" x=\"90.5\" y=\"-61.8\" font-family=\"Helvetica,sans-Serif\" font-size=\"9.00\" fill=\"#444443\">1</text>\r\n",
       "<polygon fill=\"#fefecd\" stroke=\"none\" points=\"48.5,-40 48.5,-58 75.5,-58 75.5,-40 48.5,-40\"/>\r\n",
       "<polyline fill=\"none\" stroke=\"black\" points=\"75.5,-40 75.5,-58 \"/>\r\n",
       "<text text-anchor=\"start\" x=\"51.5\" y=\"-46.2\" font-family=\"Helvetica,sans-Serif\" font-size=\"11.00\" fill=\"#444443\">&#39;MH&#39;</text>\r\n",
       "<polygon fill=\"#fefecd\" stroke=\"none\" points=\"75.5,-40 75.5,-58 111.5,-58 111.5,-40 75.5,-40\"/>\r\n",
       "<text text-anchor=\"start\" x=\"77.5\" y=\"-46.2\" font-family=\"Helvetica,sans-Serif\" font-size=\"11.00\" fill=\"#444443\">&#39;Nasik&#39;</text>\r\n",
       "</g>\r\n",
       "<!-- node1445673073672&#45;&gt;node1445672670280 -->\r\n",
       "<g id=\"edge9\" class=\"edge\"><title>node1445673073672:8&#45;&gt;node1445672670280:w</title>\r\n",
       "<path fill=\"none\" stroke=\"#444443\" stroke-width=\"0.5\" d=\"M14,-135C50.7199,-135 10.6704,-61.1279 41.3926,-55.3567\"/>\r\n",
       "<polygon fill=\"#444443\" stroke=\"#444443\" stroke-width=\"0.5\" points=\"41.6361,-56.7409 45.5,-55 41.3938,-53.9514 41.6361,-56.7409\"/>\r\n",
       "</g>\r\n",
       "<!-- node1445672675528 -->\r\n",
       "<g id=\"node11\" class=\"node\"><title>node1445672675528</title>\r\n",
       "<polygon fill=\"none\" stroke=\"black\" stroke-width=\"0.5\" points=\"116,-32 43,-32 43,-0 116,-0 116,-32\"/>\r\n",
       "<polygon fill=\"#fefecd\" stroke=\"none\" points=\"44.5,-19 44.5,-31 71.5,-31 71.5,-19 44.5,-19\"/>\r\n",
       "<polyline fill=\"none\" stroke=\"black\" points=\"44.5,-19 71.5,-19 71.5,-31 \"/>\r\n",
       "<text text-anchor=\"start\" x=\"55\" y=\"-22.8\" font-family=\"Helvetica,sans-Serif\" font-size=\"9.00\" fill=\"#444443\">0</text>\r\n",
       "<polygon fill=\"#fefecd\" stroke=\"none\" points=\"71.5,-19 71.5,-31 115.5,-31 115.5,-19 71.5,-19\"/>\r\n",
       "<polyline fill=\"none\" stroke=\"black\" points=\"71.5,-19 115.5,-19 \"/>\r\n",
       "<text text-anchor=\"start\" x=\"90.5\" y=\"-22.8\" font-family=\"Helvetica,sans-Serif\" font-size=\"9.00\" fill=\"#444443\">1</text>\r\n",
       "<polygon fill=\"#fefecd\" stroke=\"none\" points=\"44.5,-1 44.5,-19 71.5,-19 71.5,-1 44.5,-1\"/>\r\n",
       "<polyline fill=\"none\" stroke=\"black\" points=\"71.5,-1 71.5,-19 \"/>\r\n",
       "<text text-anchor=\"start\" x=\"47.5\" y=\"-7.2\" font-family=\"Helvetica,sans-Serif\" font-size=\"11.00\" fill=\"#444443\">&#39;MH&#39;</text>\r\n",
       "<polygon fill=\"#fefecd\" stroke=\"none\" points=\"71.5,-1 71.5,-19 115.5,-19 115.5,-1 71.5,-1\"/>\r\n",
       "<text text-anchor=\"start\" x=\"73.5\" y=\"-7.2\" font-family=\"Helvetica,sans-Serif\" font-size=\"11.00\" fill=\"#444443\">&#39;Nagpur&#39;</text>\r\n",
       "</g>\r\n",
       "<!-- node1445673073672&#45;&gt;node1445672675528 -->\r\n",
       "<g id=\"edge10\" class=\"edge\"><title>node1445673073672:9&#45;&gt;node1445672675528:w</title>\r\n",
       "<path fill=\"none\" stroke=\"#444443\" stroke-width=\"0.5\" d=\"M7,-110C7,-89.1393 17.7654,-24.7752 37.4456,-16.8112\"/>\r\n",
       "<polygon fill=\"#444443\" stroke=\"#444443\" stroke-width=\"0.5\" points=\"37.8524,-18.1576 41.5,-16 37.303,-15.4121 37.8524,-18.1576\"/>\r\n",
       "</g>\r\n",
       "</g>\r\n",
       "</svg>\r\n"
      ],
      "text/plain": [
       "<graphviz.files.Source at 0x15098f1c518>"
      ]
     },
     "execution_count": 27,
     "metadata": {},
     "output_type": "execute_result"
    }
   ],
   "source": [
    "objviz(city_list)"
   ]
  },
  {
   "cell_type": "code",
   "execution_count": 30,
   "metadata": {},
   "outputs": [
    {
     "data": {
      "image/svg+xml": [
       "<?xml version=\"1.0\" encoding=\"UTF-8\" standalone=\"no\"?>\r\n",
       "<!DOCTYPE svg PUBLIC \"-//W3C//DTD SVG 1.1//EN\"\r\n",
       " \"http://www.w3.org/Graphics/SVG/1.1/DTD/svg11.dtd\">\r\n",
       "<!-- Generated by graphviz version 2.38.0 (20140413.2041)\r\n",
       " -->\r\n",
       "<!-- Title: G Pages: 1 -->\r\n",
       "<svg width=\"64pt\" height=\"74pt\"\r\n",
       " viewBox=\"0.00 0.00 64.00 74.00\" xmlns=\"http://www.w3.org/2000/svg\" xmlns:xlink=\"http://www.w3.org/1999/xlink\">\r\n",
       "<g id=\"graph0\" class=\"graph\" transform=\"scale(1 1) rotate(0) translate(4 70)\">\r\n",
       "<title>G</title>\r\n",
       "<polygon fill=\"white\" stroke=\"none\" points=\"-4,4 -4,-70 60,-70 60,4 -4,4\"/>\r\n",
       "<!-- node1445674952568 -->\r\n",
       "<g id=\"node1\" class=\"node\"><title>node1445674952568</title>\r\n",
       "<polygon fill=\"#fefecd\" stroke=\"#444443\" stroke-width=\"0.5\" points=\"56,-66 3.55271e-015,-66 3.55271e-015,-0 56,-0 56,-66\"/>\r\n",
       "<polygon fill=\"#fefecd\" stroke=\"none\" points=\"2,-50 2,-64 29,-64 29,-50 2,-50\"/>\r\n",
       "<text text-anchor=\"start\" x=\"2\" y=\"-54.2\" font-family=\"Helvetica,sans-Serif\" font-size=\"11.00\" fill=\"#444443\">&#39;WB&#39; </text>\r\n",
       "<text text-anchor=\"start\" x=\"29\" y=\"-52.8\" font-family=\"Helvetica,sans-Serif\" font-size=\"9.00\" fill=\"#444443\">→</text>\r\n",
       "<polygon fill=\"#fefecd\" stroke=\"none\" points=\"39,-50 39,-64 54,-64 54,-50 39,-50\"/>\r\n",
       "<text text-anchor=\"start\" x=\"40\" y=\"-54.2\" font-family=\"Helvetica,sans-Serif\" font-size=\"11.00\" fill=\"#444443\"> &#160;&#160;&#160;</text>\r\n",
       "<polygon fill=\"#fefecd\" stroke=\"none\" points=\"2,-48 2,-50 54,-50 54,-48 2,-48\"/>\r\n",
       "<polygon fill=\"#fefecd\" stroke=\"none\" points=\"2,-34 2,-48 29,-48 29,-34 2,-34\"/>\r\n",
       "<text text-anchor=\"start\" x=\"7\" y=\"-38.2\" font-family=\"Helvetica,sans-Serif\" font-size=\"11.00\" fill=\"#444443\">&#39;KA&#39; </text>\r\n",
       "<text text-anchor=\"start\" x=\"29\" y=\"-36.8\" font-family=\"Helvetica,sans-Serif\" font-size=\"9.00\" fill=\"#444443\">→</text>\r\n",
       "<polygon fill=\"#fefecd\" stroke=\"none\" points=\"39,-34 39,-48 54,-48 54,-34 39,-34\"/>\r\n",
       "<text text-anchor=\"start\" x=\"40\" y=\"-38.2\" font-family=\"Helvetica,sans-Serif\" font-size=\"11.00\" fill=\"#444443\"> &#160;&#160;&#160;</text>\r\n",
       "<polygon fill=\"#fefecd\" stroke=\"none\" points=\"2,-32 2,-34 54,-34 54,-32 2,-32\"/>\r\n",
       "<polygon fill=\"#fefecd\" stroke=\"none\" points=\"2,-18 2,-32 29,-32 29,-18 2,-18\"/>\r\n",
       "<text text-anchor=\"start\" x=\"7\" y=\"-22.2\" font-family=\"Helvetica,sans-Serif\" font-size=\"11.00\" fill=\"#444443\">&#39;KL&#39; </text>\r\n",
       "<text text-anchor=\"start\" x=\"29\" y=\"-20.8\" font-family=\"Helvetica,sans-Serif\" font-size=\"9.00\" fill=\"#444443\">→</text>\r\n",
       "<polygon fill=\"#fefecd\" stroke=\"none\" points=\"39,-18 39,-32 54,-32 54,-18 39,-18\"/>\r\n",
       "<text text-anchor=\"start\" x=\"40\" y=\"-22.2\" font-family=\"Helvetica,sans-Serif\" font-size=\"11.00\" fill=\"#444443\"> &#160;&#160;&#160;</text>\r\n",
       "<polygon fill=\"#fefecd\" stroke=\"none\" points=\"2,-16 2,-18 54,-18 54,-16 2,-16\"/>\r\n",
       "<polygon fill=\"#fefecd\" stroke=\"none\" points=\"2,-2 2,-16 29,-16 29,-2 2,-2\"/>\r\n",
       "<text text-anchor=\"start\" x=\"5\" y=\"-6.2\" font-family=\"Helvetica,sans-Serif\" font-size=\"11.00\" fill=\"#444443\">&#39;MH&#39; </text>\r\n",
       "<text text-anchor=\"start\" x=\"29\" y=\"-4.8\" font-family=\"Helvetica,sans-Serif\" font-size=\"9.00\" fill=\"#444443\">→</text>\r\n",
       "<polygon fill=\"#fefecd\" stroke=\"none\" points=\"39,-2 39,-16 54,-16 54,-2 39,-2\"/>\r\n",
       "<text text-anchor=\"start\" x=\"40\" y=\"-6.2\" font-family=\"Helvetica,sans-Serif\" font-size=\"11.00\" fill=\"#444443\"> &#160;&#160;&#160;</text>\r\n",
       "</g>\r\n",
       "</g>\r\n",
       "</svg>\r\n"
      ],
      "text/plain": [
       "<graphviz.files.Source at 0x15098f1c438>"
      ]
     },
     "execution_count": 30,
     "metadata": {},
     "output_type": "execute_result"
    }
   ],
   "source": [
    "treeviz(cities_by_state)"
   ]
  },
  {
   "cell_type": "code",
   "execution_count": 32,
   "metadata": {},
   "outputs": [
    {
     "name": "stdout",
     "output_type": "stream",
     "text": [
      "WB Kolkata, Durgapur, Asansol\n",
      "KA Bangalore, Mangalore, Hasan\n",
      "KL Palam\n",
      "MH Mumbai, Nasik, Nagpur\n"
     ]
    }
   ],
   "source": [
    "for state, cities in cities_by_state.items():\n",
    "    print (state, ', '.join(cities))"
   ]
  },
  {
   "cell_type": "code",
   "execution_count": null,
   "metadata": {},
   "outputs": [],
   "source": []
  }
 ],
 "metadata": {
  "kernelspec": {
   "display_name": "Python 3",
   "language": "python",
   "name": "python3"
  },
  "language_info": {
   "codemirror_mode": {
    "name": "ipython",
    "version": 3
   },
   "file_extension": ".py",
   "mimetype": "text/x-python",
   "name": "python",
   "nbconvert_exporter": "python",
   "pygments_lexer": "ipython3",
   "version": "3.8.3"
  }
 },
 "nbformat": 4,
 "nbformat_minor": 4
}
